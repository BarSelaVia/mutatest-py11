{
 "cells": [
  {
   "cell_type": "markdown",
   "metadata": {},
   "source": [
    ".. _API Tutorial:\n",
    "\n",
    "# API Tutorial\n",
    "\n",
    "This is a walkthrough of using the ``mutatest`` API.\n",
    "These are the same method calls used by the CLI and provide additional flexibility for customization.\n",
    "The code and notebook to generate this tutorial is located under the ``docs/api_tutorial`` folder on GitHub."
   ]
  },
  {
   "cell_type": "code",
   "execution_count": 1,
   "metadata": {},
   "outputs": [],
   "source": [
    "import ast\n",
    "\n",
    "from pathlib import Path\n",
    "\n",
    "from mutatest import run\n",
    "from mutatest import transformers\n",
    "from mutatest.api import Genome, GenomeGroup\n",
    "from mutatest.filters import CoverageFilter, CategoryCodeFilter"
   ]
  },
  {
   "cell_type": "markdown",
   "metadata": {},
   "source": [
    "## Setup\n",
    "\n",
    "The ``example/`` folder has two Python files, ``a.py`` and ``b.py``, with a ``test_ab.py`` file that would be automatically detected by ``pytest``."
   ]
  },
  {
   "cell_type": "code",
   "execution_count": 2,
   "metadata": {},
   "outputs": [],
   "source": [
    "src_loc = Path(\"example\")"
   ]
  },
  {
   "cell_type": "code",
   "execution_count": 3,
   "metadata": {},
   "outputs": [
    {
     "name": "stdout",
     "output_type": "stream",
     "text": [
      "example/a.py\n",
      "example/__pycache__\n",
      "example/test_ab.py\n",
      "example/b.py\n"
     ]
    }
   ],
   "source": [
    "print(*src_loc.iterdir(), sep=\"\\n\")"
   ]
  },
  {
   "cell_type": "markdown",
   "metadata": {},
   "source": [
    "## Run a clean trial and generate coverage\n",
    "\n",
    "We can use ``run`` to perform a \"clean trial\" of our test commands based on the source location. \n",
    "This will generate a ``.coverage`` file that will be used by the ``Genome``. \n",
    "A ``.coverage`` file is not required."
   ]
  },
  {
   "cell_type": "code",
   "execution_count": 4,
   "metadata": {},
   "outputs": [
    {
     "data": {
      "text/plain": [
       "datetime.timedelta(microseconds=440740)"
      ]
     },
     "execution_count": 4,
     "metadata": {},
     "output_type": "execute_result"
    }
   ],
   "source": [
    "# The return value of clean_trial is the time to run\n",
    "# this is used in reporting from the CLI\n",
    "\n",
    "run.clean_trial(src_loc, test_cmds=[\"pytest\", \"--cov=example\"])"
   ]
  },
  {
   "cell_type": "code",
   "execution_count": 5,
   "metadata": {},
   "outputs": [
    {
     "data": {
      "text/plain": [
       "True"
      ]
     },
     "execution_count": 5,
     "metadata": {},
     "output_type": "execute_result"
    }
   ],
   "source": [
    "Path(\".coverage\").exists()"
   ]
  },
  {
   "cell_type": "markdown",
   "metadata": {},
   "source": [
    "## Genome Basics\n",
    "\n",
    "``Genomes`` are the basic representation of a source code file in ``mutatest``.\n",
    "They can be initialized by passing in the path to a specific file, or initialized without any arguments and have the source file added later. \n",
    "The basic properties include the Abstract Syntax Tree (AST), the source file, the coverage file, and any category codes for filtering."
   ]
  },
  {
   "cell_type": "code",
   "execution_count": 6,
   "metadata": {},
   "outputs": [],
   "source": [
    "# Initialize with the source file location\n",
    "# By default, the \".coverage\" file is set for the coverage_file property\n",
    "genome = Genome(src_loc / \"a.py\")"
   ]
  },
  {
   "cell_type": "code",
   "execution_count": 7,
   "metadata": {},
   "outputs": [
    {
     "data": {
      "text/plain": [
       "PosixPath('example/a.py')"
      ]
     },
     "execution_count": 7,
     "metadata": {},
     "output_type": "execute_result"
    }
   ],
   "source": [
    "genome.source_file"
   ]
  },
  {
   "cell_type": "code",
   "execution_count": 8,
   "metadata": {},
   "outputs": [
    {
     "data": {
      "text/plain": [
       "PosixPath('.coverage')"
      ]
     },
     "execution_count": 8,
     "metadata": {},
     "output_type": "execute_result"
    }
   ],
   "source": [
    "genome.coverage_file"
   ]
  },
  {
   "cell_type": "code",
   "execution_count": 9,
   "metadata": {},
   "outputs": [
    {
     "data": {
      "text/plain": [
       "set()"
      ]
     },
     "execution_count": 9,
     "metadata": {},
     "output_type": "execute_result"
    }
   ],
   "source": [
    "# By default, no filter codes are set\n",
    "# These are categories of mutations to filter\n",
    "genome.filter_codes"
   ]
  },
  {
   "cell_type": "markdown",
   "metadata": {},
   "source": [
    "### Finding mutation targets\n",
    "\n",
    "The ``Genome`` has two additional properties related to finding mutation locations: ``targets`` and ``covered_targets``.\n",
    "These are sets of ``LocIndex`` objects (defined in ``transformers``) that represent locations in the AST\n",
    "that can be mutated. Covered targets are those that have lines covered by the set ``coverage_file`` property. "
   ]
  },
  {
   "cell_type": "code",
   "execution_count": 10,
   "metadata": {},
   "outputs": [
    {
     "data": {
      "text/plain": [
       "{LocIndex(ast_class='BinOp', lineno=5, col_offset=11, op_type=<class '_ast.Add'>),\n",
       " LocIndex(ast_class='Compare', lineno=8, col_offset=11, op_type=<class '_ast.Gt'>)}"
      ]
     },
     "execution_count": 10,
     "metadata": {},
     "output_type": "execute_result"
    }
   ],
   "source": [
    "genome.targets"
   ]
  },
  {
   "cell_type": "code",
   "execution_count": 11,
   "metadata": {},
   "outputs": [
    {
     "data": {
      "text/plain": [
       "{LocIndex(ast_class='BinOp', lineno=5, col_offset=11, op_type=<class '_ast.Add'>)}"
      ]
     },
     "execution_count": 11,
     "metadata": {},
     "output_type": "execute_result"
    }
   ],
   "source": [
    "genome.covered_targets"
   ]
  },
  {
   "cell_type": "code",
   "execution_count": 12,
   "metadata": {},
   "outputs": [
    {
     "data": {
      "text/plain": [
       "{LocIndex(ast_class='Compare', lineno=8, col_offset=11, op_type=<class '_ast.Gt'>)}"
      ]
     },
     "execution_count": 12,
     "metadata": {},
     "output_type": "execute_result"
    }
   ],
   "source": [
    "genome.targets - genome.covered_targets"
   ]
  },
  {
   "cell_type": "markdown",
   "metadata": {},
   "source": [
    "### Accessing the AST\n",
    "\n",
    "The ``ast`` property is the AST of the source file.\n",
    "You can access the properties directly. \n",
    "This is used to generate the targets and covered targets through ``transformers.MutateAST``."
   ]
  },
  {
   "cell_type": "code",
   "execution_count": 13,
   "metadata": {},
   "outputs": [
    {
     "data": {
      "text/plain": [
       "<_ast.Module at 0x7f8190310358>"
      ]
     },
     "execution_count": 13,
     "metadata": {},
     "output_type": "execute_result"
    }
   ],
   "source": [
    "genome.ast"
   ]
  },
  {
   "cell_type": "code",
   "execution_count": 14,
   "metadata": {},
   "outputs": [
    {
     "data": {
      "text/plain": [
       "[<_ast.Expr at 0x7f8190310390>,\n",
       " <_ast.FunctionDef at 0x7f8190310400>,\n",
       " <_ast.FunctionDef at 0x7f8190310588>,\n",
       " <_ast.Expr at 0x7f8190310748>]"
      ]
     },
     "execution_count": 14,
     "metadata": {},
     "output_type": "execute_result"
    }
   ],
   "source": [
    "genome.ast.body"
   ]
  },
  {
   "cell_type": "code",
   "execution_count": 15,
   "metadata": {},
   "outputs": [
    {
     "data": {
      "text/plain": [
       "{'name': 'add_five',\n",
       " 'args': <_ast.arguments at 0x7f8190310438>,\n",
       " 'body': [<_ast.Return at 0x7f81903104a8>],\n",
       " 'decorator_list': [],\n",
       " 'returns': None,\n",
       " 'lineno': 4,\n",
       " 'col_offset': 0}"
      ]
     },
     "execution_count": 15,
     "metadata": {},
     "output_type": "execute_result"
    }
   ],
   "source": [
    "genome.ast.body[1].__dict__"
   ]
  },
  {
   "cell_type": "markdown",
   "metadata": {},
   "source": [
    "### Filtering mutation targets\n",
    "\n",
    "You can set filters on a ``Genome`` for specific types of targets. \n",
    "For example, setting ``bn`` for ``BinOp`` will filter both targets and covered targets to only ``BinOp`` class operations."
   ]
  },
  {
   "cell_type": "code",
   "execution_count": 16,
   "metadata": {},
   "outputs": [
    {
     "name": "stdout",
     "output_type": "stream",
     "text": [
      "Category:AugAssign, Code: aa\n",
      "Category:BinOp, Code: bn\n",
      "Category:BinOpBC, Code: bc\n",
      "Category:BinOpBS, Code: bs\n",
      "Category:BoolOp, Code: bl\n",
      "Category:Compare, Code: cp\n",
      "Category:CompareIn, Code: cn\n",
      "Category:CompareIs, Code: cs\n",
      "Category:If, Code: if\n",
      "Category:Index, Code: ix\n",
      "Category:NameConstant, Code: nc\n",
      "Category:SliceUS, Code: su\n",
      "Category:SliceRC, Code: sr\n"
     ]
    }
   ],
   "source": [
    "# All available categories are listed in transformers.CATEGORIES\n",
    "print(*[f\"Category:{k}, Code: {v}\"\n",
    "        for k,v in transformers.CATEGORIES.items()],\n",
    "      sep=\"\\n\")"
   ]
  },
  {
   "cell_type": "code",
   "execution_count": 17,
   "metadata": {},
   "outputs": [
    {
     "name": "stdout",
     "output_type": "stream",
     "text": [
      "Invalid category codes: {'asdf'}.\n",
      "Valid codes: {'AugAssign': 'aa', 'BinOp': 'bn', 'BinOpBC': 'bc', 'BinOpBS': 'bs', 'BoolOp': 'bl', 'Compare': 'cp', 'CompareIn': 'cn', 'CompareIs': 'cs', 'If': 'if', 'Index': 'ix', 'NameConstant': 'nc', 'SliceUS': 'su', 'SliceRC': 'sr'}\n"
     ]
    }
   ],
   "source": [
    "# If you attempt to set an invalid code a ValueError is raised\n",
    "# and the valid codes are listed in the message\n",
    "\n",
    "try:\n",
    "    genome.filter_codes = (\"asdf\",)\n",
    "    \n",
    "except ValueError as e:\n",
    "    print(e)"
   ]
  },
  {
   "cell_type": "code",
   "execution_count": 18,
   "metadata": {},
   "outputs": [],
   "source": [
    "# Set the filter using an iterable of the two-letter codes\n",
    "\n",
    "genome.filter_codes = (\"bn\",)"
   ]
  },
  {
   "cell_type": "code",
   "execution_count": 19,
   "metadata": {},
   "outputs": [
    {
     "data": {
      "text/plain": [
       "{LocIndex(ast_class='BinOp', lineno=5, col_offset=11, op_type=<class '_ast.Add'>)}"
      ]
     },
     "execution_count": 19,
     "metadata": {},
     "output_type": "execute_result"
    }
   ],
   "source": [
    "# Targets and covered targets will only show the filtered value\n",
    "\n",
    "genome.targets"
   ]
  },
  {
   "cell_type": "code",
   "execution_count": 20,
   "metadata": {},
   "outputs": [
    {
     "data": {
      "text/plain": [
       "{LocIndex(ast_class='BinOp', lineno=5, col_offset=11, op_type=<class '_ast.Add'>)}"
      ]
     },
     "execution_count": 20,
     "metadata": {},
     "output_type": "execute_result"
    }
   ],
   "source": [
    "genome.covered_targets"
   ]
  },
  {
   "cell_type": "code",
   "execution_count": 21,
   "metadata": {},
   "outputs": [],
   "source": [
    "# Reset the filter_codes to an empty set\n",
    "genome.filter_codes = set()"
   ]
  },
  {
   "cell_type": "code",
   "execution_count": 22,
   "metadata": {},
   "outputs": [
    {
     "data": {
      "text/plain": [
       "{LocIndex(ast_class='BinOp', lineno=5, col_offset=11, op_type=<class '_ast.Add'>),\n",
       " LocIndex(ast_class='Compare', lineno=8, col_offset=11, op_type=<class '_ast.Gt'>)}"
      ]
     },
     "execution_count": 22,
     "metadata": {},
     "output_type": "execute_result"
    }
   ],
   "source": [
    "# All target classes are now listed again\n",
    "\n",
    "genome.targets"
   ]
  },
  {
   "cell_type": "markdown",
   "metadata": {},
   "source": [
    "### Changing the source file in a Genome\n",
    "\n",
    "If you change the source file property of the ``Genome`` all core properties except the coverage file and filters are reset - this includes targets, covered targets, and AST."
   ]
  },
  {
   "cell_type": "code",
   "execution_count": 23,
   "metadata": {},
   "outputs": [],
   "source": [
    "genome.source_file = src_loc / \"b.py\""
   ]
  },
  {
   "cell_type": "code",
   "execution_count": 24,
   "metadata": {},
   "outputs": [
    {
     "data": {
      "text/plain": [
       "{LocIndex(ast_class='CompareIs', lineno=5, col_offset=11, op_type=<class '_ast.Is'>)}"
      ]
     },
     "execution_count": 24,
     "metadata": {},
     "output_type": "execute_result"
    }
   ],
   "source": [
    "genome.targets"
   ]
  },
  {
   "cell_type": "code",
   "execution_count": 25,
   "metadata": {},
   "outputs": [
    {
     "data": {
      "text/plain": [
       "{LocIndex(ast_class='BinOp', lineno=5, col_offset=11, op_type=<class '_ast.Add'>)}"
      ]
     },
     "execution_count": 25,
     "metadata": {},
     "output_type": "execute_result"
    }
   ],
   "source": [
    "genome.covered_targets"
   ]
  },
  {
   "cell_type": "code",
   "execution_count": null,
   "metadata": {},
   "outputs": [],
   "source": []
  }
 ],
 "metadata": {
  "kernelspec": {
   "display_name": "Python 3",
   "language": "python",
   "name": "python3"
  },
  "language_info": {
   "codemirror_mode": {
    "name": "ipython",
    "version": 3
   },
   "file_extension": ".py",
   "mimetype": "text/x-python",
   "name": "python",
   "nbconvert_exporter": "python",
   "pygments_lexer": "ipython3",
   "version": "3.7.2"
  }
 },
 "nbformat": 4,
 "nbformat_minor": 2
}
