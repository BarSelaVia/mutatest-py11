{
 "cells": [
  {
   "cell_type": "markdown",
   "metadata": {},
   "source": [
    "\n",
    "# API Tutorial\n",
    "\n",
    "This is a walkthrough of using the ``mutatest`` API.\n",
    "These are the same method calls used by the CLI and provide additional flexibility for customization.\n",
    "The code and notebook to generate this tutorial is located under the ``docs/api_tutorial`` folder on GitHub."
   ]
  },
  {
   "cell_type": "code",
   "execution_count": 1,
   "metadata": {},
   "outputs": [],
   "source": [
    "# Imports used throughout the tutorial\n",
    "\n",
    "import ast\n",
    "\n",
    "from pathlib import Path\n",
    "\n",
    "from mutatest import run\n",
    "from mutatest import transformers\n",
    "from mutatest.api import Genome, GenomeGroup, MutationException\n",
    "from mutatest.filters import CoverageFilter, CategoryCodeFilter"
   ]
  },
  {
   "cell_type": "markdown",
   "metadata": {},
   "source": [
    "## Tutorial setup\n",
    "\n",
    "The ``example/`` folder has two Python files, ``a.py`` and ``b.py``, with a ``test_ab.py`` file that would be automatically detected by ``pytest``."
   ]
  },
  {
   "cell_type": "code",
   "execution_count": 2,
   "metadata": {},
   "outputs": [],
   "source": [
    "# This folder and included .py files are in docs/api_tutoral/\n",
    "\n",
    "src_loc = Path(\"example\")"
   ]
  },
  {
   "cell_type": "code",
   "execution_count": 3,
   "metadata": {},
   "outputs": [
    {
     "name": "stdout",
     "output_type": "stream",
     "text": [
      "example/a.py\n",
      "example/test_ab.py\n",
      "example/b.py\n"
     ]
    }
   ],
   "source": [
    "print(*[i for i in src_loc.iterdir()\n",
    "        if i.is_file()], sep=\"\\n\")"
   ]
  },
  {
   "cell_type": "markdown",
   "metadata": {},
   "source": [
    "``a.py`` holds two functions: one to add five to an input value, another to return ``True`` if the first input value is greater than the second input value. The add operation is represented in the AST as ``ast.Add``, a ``BinOp`` operation type, and the greater-than operation is represented by ``ast.Gt``, a ``CompareOp`` operation type. If the source code is executed the expected value is to print ``10``. "
   ]
  },
  {
   "cell_type": "code",
   "execution_count": 4,
   "metadata": {},
   "outputs": [
    {
     "name": "stdout",
     "output_type": "stream",
     "text": [
      "\"\"\"Example A.\n",
      "\"\"\"\n",
      "\n",
      "\n",
      "def add_five(a):\n",
      "    return a + 5\n",
      "\n",
      "\n",
      "def greater_than(a, b):\n",
      "    return a > b\n",
      "\n",
      "\n",
      "print(add_five(5))\n",
      "\n"
     ]
    }
   ],
   "source": [
    "def open_print(fn):\n",
    "    \"\"\"Open a print file contents.\"\"\"\n",
    "    with open(fn) as f:\n",
    "        print(f.read())\n",
    "\n",
    "# Contents of a.py example source file\n",
    "open_print(src_loc / \"a.py\")"
   ]
  },
  {
   "cell_type": "markdown",
   "metadata": {},
   "source": [
    "``b.py`` has a single function that returns whether or not the first input ``is`` the second input. ``is`` is represented by ``ast.Is`` and is a ``CompareIs`` operation type. The expected value if this source code is executed is ``True``."
   ]
  },
  {
   "cell_type": "code",
   "execution_count": 5,
   "metadata": {},
   "outputs": [
    {
     "name": "stdout",
     "output_type": "stream",
     "text": [
      "\"\"\"Example B.\n",
      "\"\"\"\n",
      "\n",
      "\n",
      "def is_match(a, b):\n",
      "    return a is b\n",
      "\n",
      "\n",
      "print(is_match(1, 1))\n",
      "\n"
     ]
    }
   ],
   "source": [
    "# Contents of b.py example source file\n",
    "\n",
    "open_print(src_loc / \"b.py\")"
   ]
  },
  {
   "cell_type": "markdown",
   "metadata": {},
   "source": [
    "``test_ab.py`` is the test script for both ``a.py`` and ``b.py``. The ``test_add_five`` function is intentionally broken to demonstrate later mutations. It will pass if the value is greater than 10 in the test using 6 as an input value, and fail otherwise."
   ]
  },
  {
   "cell_type": "code",
   "execution_count": 6,
   "metadata": {},
   "outputs": [
    {
     "name": "stdout",
     "output_type": "stream",
     "text": [
      "from a import add_five\n",
      "from b import is_match\n",
      "\n",
      "\n",
      "def test_add_five():\n",
      "    assert add_five(6) > 10\n",
      "\n",
      "\n",
      "def test_is_match():\n",
      "    assert is_match(\"one\", \"one\")\n",
      "\n"
     ]
    }
   ],
   "source": [
    "# Contents of test_ab.py example test file\n",
    "\n",
    "open_print(src_loc / \"test_ab.py\")"
   ]
  },
  {
   "cell_type": "markdown",
   "metadata": {},
   "source": [
    "## Run a clean trial and generate coverage\n",
    "\n",
    "We can use ``run`` to perform a \"clean trial\" of our test commands based on the source location. \n",
    "This will generate a ``.coverage`` file that will be used by the ``Genome``. \n",
    "A ``.coverage`` file is not required.\n",
    "This run method is useful for doing clean trials before and after mutation trials as a way to reset the ``__pycache__``."
   ]
  },
  {
   "cell_type": "code",
   "execution_count": 7,
   "metadata": {},
   "outputs": [
    {
     "data": {
      "text/plain": [
       "datetime.timedelta(microseconds=500006)"
      ]
     },
     "execution_count": 7,
     "metadata": {},
     "output_type": "execute_result"
    }
   ],
   "source": [
    "# The return value of clean_trial is the time to run\n",
    "# this is used in reporting from the CLI\n",
    "\n",
    "run.clean_trial(\n",
    "    src_loc, test_cmds=[\"pytest\", \"--cov=example\"]\n",
    ")"
   ]
  },
  {
   "cell_type": "code",
   "execution_count": 8,
   "metadata": {},
   "outputs": [
    {
     "data": {
      "text/plain": [
       "True"
      ]
     },
     "execution_count": 8,
     "metadata": {},
     "output_type": "execute_result"
    }
   ],
   "source": [
    "Path(\".coverage\").exists()"
   ]
  },
  {
   "cell_type": "markdown",
   "metadata": {},
   "source": [
    "## Genome Basics\n",
    "\n",
    "``Genomes`` are the basic representation of a source code file in ``mutatest``.\n",
    "They can be initialized by passing in the path to a specific file, or initialized without any arguments and have the source file added later. \n",
    "The basic properties include the Abstract Syntax Tree (AST), the source file, the coverage file, and any category codes for filtering."
   ]
  },
  {
   "cell_type": "code",
   "execution_count": 9,
   "metadata": {},
   "outputs": [],
   "source": [
    "# Initialize with the source file location\n",
    "# By default, the \".coverage\" file is set\n",
    "# for the coverage_file property\n",
    "\n",
    "genome = Genome(src_loc / \"a.py\")"
   ]
  },
  {
   "cell_type": "code",
   "execution_count": 10,
   "metadata": {},
   "outputs": [
    {
     "data": {
      "text/plain": [
       "PosixPath('example/a.py')"
      ]
     },
     "execution_count": 10,
     "metadata": {},
     "output_type": "execute_result"
    }
   ],
   "source": [
    "genome.source_file"
   ]
  },
  {
   "cell_type": "code",
   "execution_count": 11,
   "metadata": {},
   "outputs": [
    {
     "data": {
      "text/plain": [
       "PosixPath('.coverage')"
      ]
     },
     "execution_count": 11,
     "metadata": {},
     "output_type": "execute_result"
    }
   ],
   "source": [
    "genome.coverage_file"
   ]
  },
  {
   "cell_type": "code",
   "execution_count": 12,
   "metadata": {},
   "outputs": [
    {
     "data": {
      "text/plain": [
       "set()"
      ]
     },
     "execution_count": 12,
     "metadata": {},
     "output_type": "execute_result"
    }
   ],
   "source": [
    "# By default, no filter codes are set\n",
    "# These are categories of mutations to filter\n",
    "\n",
    "genome.filter_codes"
   ]
  },
  {
   "cell_type": "markdown",
   "metadata": {},
   "source": [
    "### Finding mutation targets\n",
    "\n",
    "The ``Genome`` has two additional properties related to finding mutation locations: ``targets`` and ``covered_targets``.\n",
    "These are sets of ``LocIndex`` objects (defined in ``transformers``) that represent locations in the AST\n",
    "that can be mutated. Covered targets are those that have lines covered by the set ``coverage_file`` property. "
   ]
  },
  {
   "cell_type": "code",
   "execution_count": 13,
   "metadata": {},
   "outputs": [
    {
     "data": {
      "text/plain": [
       "{LocIndex(ast_class='BinOp', lineno=6, col_offset=11, op_type=<class '_ast.Add'>),\n",
       " LocIndex(ast_class='Compare', lineno=10, col_offset=11, op_type=<class '_ast.Gt'>)}"
      ]
     },
     "execution_count": 13,
     "metadata": {},
     "output_type": "execute_result"
    }
   ],
   "source": [
    "genome.targets"
   ]
  },
  {
   "cell_type": "code",
   "execution_count": 14,
   "metadata": {},
   "outputs": [
    {
     "data": {
      "text/plain": [
       "{LocIndex(ast_class='BinOp', lineno=6, col_offset=11, op_type=<class '_ast.Add'>)}"
      ]
     },
     "execution_count": 14,
     "metadata": {},
     "output_type": "execute_result"
    }
   ],
   "source": [
    "genome.covered_targets"
   ]
  },
  {
   "cell_type": "code",
   "execution_count": 15,
   "metadata": {},
   "outputs": [
    {
     "data": {
      "text/plain": [
       "{LocIndex(ast_class='Compare', lineno=10, col_offset=11, op_type=<class '_ast.Gt'>)}"
      ]
     },
     "execution_count": 15,
     "metadata": {},
     "output_type": "execute_result"
    }
   ],
   "source": [
    "genome.targets - genome.covered_targets"
   ]
  },
  {
   "cell_type": "markdown",
   "metadata": {},
   "source": [
    "### Accessing the AST\n",
    "\n",
    "The ``ast`` property is the AST of the source file.\n",
    "You can access the properties directly. \n",
    "This is used to generate the targets and covered targets.\n",
    "The AST parser is defined in ``transformers`` but is encapsulted in the ``Genome``."
   ]
  },
  {
   "cell_type": "code",
   "execution_count": 16,
   "metadata": {},
   "outputs": [
    {
     "data": {
      "text/plain": [
       "<_ast.Module at 0x7f0d6bd88da0>"
      ]
     },
     "execution_count": 16,
     "metadata": {},
     "output_type": "execute_result"
    }
   ],
   "source": [
    "genome.ast"
   ]
  },
  {
   "cell_type": "code",
   "execution_count": 17,
   "metadata": {},
   "outputs": [
    {
     "data": {
      "text/plain": [
       "[<_ast.Expr at 0x7f0d6bd88dd8>,\n",
       " <_ast.FunctionDef at 0x7f0d6bd88e48>,\n",
       " <_ast.FunctionDef at 0x7f0d6bd88fd0>,\n",
       " <_ast.Expr at 0x7f0d6bd911d0>]"
      ]
     },
     "execution_count": 17,
     "metadata": {},
     "output_type": "execute_result"
    }
   ],
   "source": [
    "genome.ast.body"
   ]
  },
  {
   "cell_type": "code",
   "execution_count": 18,
   "metadata": {},
   "outputs": [
    {
     "data": {
      "text/plain": [
       "{'name': 'add_five',\n",
       " 'args': <_ast.arguments at 0x7f0d6bd88e80>,\n",
       " 'body': [<_ast.Return at 0x7f0d6bd88ef0>],\n",
       " 'decorator_list': [],\n",
       " 'returns': None,\n",
       " 'lineno': 5,\n",
       " 'col_offset': 0}"
      ]
     },
     "execution_count": 18,
     "metadata": {},
     "output_type": "execute_result"
    }
   ],
   "source": [
    "genome.ast.body[1].__dict__"
   ]
  },
  {
   "cell_type": "markdown",
   "metadata": {},
   "source": [
    "### Filtering mutation targets\n",
    "\n",
    "You can set filters on a ``Genome`` for specific types of targets. \n",
    "For example, setting ``bn`` for ``BinOp`` will filter both targets and covered targets to only ``BinOp`` class operations."
   ]
  },
  {
   "cell_type": "code",
   "execution_count": 19,
   "metadata": {},
   "outputs": [
    {
     "name": "stdout",
     "output_type": "stream",
     "text": [
      "Category:AugAssign, Code: aa\n",
      "Category:BinOp, Code: bn\n",
      "Category:BinOpBC, Code: bc\n",
      "Category:BinOpBS, Code: bs\n",
      "Category:BoolOp, Code: bl\n",
      "Category:Compare, Code: cp\n",
      "Category:CompareIn, Code: cn\n",
      "Category:CompareIs, Code: cs\n",
      "Category:If, Code: if\n",
      "Category:Index, Code: ix\n",
      "Category:NameConstant, Code: nc\n",
      "Category:SliceUS, Code: su\n",
      "Category:SliceRC, Code: sr\n"
     ]
    }
   ],
   "source": [
    "# All available categories are listed\n",
    "# in transformers.CATEGORIES\n",
    "\n",
    "print(*[f\"Category:{k}, Code: {v}\"\n",
    "        for k,v in transformers.CATEGORIES.items()],\n",
    "      sep=\"\\n\")"
   ]
  },
  {
   "cell_type": "code",
   "execution_count": 20,
   "metadata": {},
   "outputs": [
    {
     "name": "stdout",
     "output_type": "stream",
     "text": [
      "Invalid category codes: {'asdf'}.\n",
      "Valid codes: {'AugAssign': 'aa', 'BinOp': 'bn', 'BinOpBC': 'bc', 'BinOpBS': 'bs', 'BoolOp': 'bl', 'Compare': 'cp', 'CompareIn': 'cn', 'CompareIs': 'cs', 'If': 'if', 'Index': 'ix', 'NameConstant': 'nc', 'SliceUS': 'su', 'SliceRC': 'sr'}\n"
     ]
    }
   ],
   "source": [
    "# If you attempt to set an invalid code a ValueError is raised\n",
    "# and the valid codes are listed in the message\n",
    "\n",
    "try:\n",
    "    genome.filter_codes = (\"asdf\",)\n",
    "    \n",
    "except ValueError as e:\n",
    "    print(e)"
   ]
  },
  {
   "cell_type": "code",
   "execution_count": 21,
   "metadata": {},
   "outputs": [],
   "source": [
    "# Set the filter using an iterable of the two-letter codes\n",
    "\n",
    "genome.filter_codes = (\"bn\",)"
   ]
  },
  {
   "cell_type": "code",
   "execution_count": 22,
   "metadata": {},
   "outputs": [
    {
     "data": {
      "text/plain": [
       "{LocIndex(ast_class='BinOp', lineno=6, col_offset=11, op_type=<class '_ast.Add'>)}"
      ]
     },
     "execution_count": 22,
     "metadata": {},
     "output_type": "execute_result"
    }
   ],
   "source": [
    "# Targets and covered targets will only show the filtered value\n",
    "\n",
    "genome.targets"
   ]
  },
  {
   "cell_type": "code",
   "execution_count": 23,
   "metadata": {},
   "outputs": [
    {
     "data": {
      "text/plain": [
       "{LocIndex(ast_class='BinOp', lineno=6, col_offset=11, op_type=<class '_ast.Add'>)}"
      ]
     },
     "execution_count": 23,
     "metadata": {},
     "output_type": "execute_result"
    }
   ],
   "source": [
    "genome.covered_targets"
   ]
  },
  {
   "cell_type": "code",
   "execution_count": 24,
   "metadata": {},
   "outputs": [],
   "source": [
    "# Reset the filter_codes to an empty set\n",
    "genome.filter_codes = set()"
   ]
  },
  {
   "cell_type": "code",
   "execution_count": 25,
   "metadata": {},
   "outputs": [
    {
     "data": {
      "text/plain": [
       "{LocIndex(ast_class='BinOp', lineno=6, col_offset=11, op_type=<class '_ast.Add'>),\n",
       " LocIndex(ast_class='Compare', lineno=10, col_offset=11, op_type=<class '_ast.Gt'>)}"
      ]
     },
     "execution_count": 25,
     "metadata": {},
     "output_type": "execute_result"
    }
   ],
   "source": [
    "# All target classes are now listed again\n",
    "\n",
    "genome.targets"
   ]
  },
  {
   "cell_type": "markdown",
   "metadata": {},
   "source": [
    "### Using custom filters\n",
    "\n",
    "If you need more flexibility, the ``filters`` define the two classes of filter used by ``Genome``: the ``CoverageFilter`` and the ``CategoryCodeFilter``. These are encapsultated by ``Genome`` and ``GenomeGroup`` already but can be accessed directly."
   ]
  },
  {
   "cell_type": "markdown",
   "metadata": {},
   "source": [
    "#### Coverage Filter"
   ]
  },
  {
   "cell_type": "code",
   "execution_count": 26,
   "metadata": {},
   "outputs": [],
   "source": [
    "cov_filter = CoverageFilter(coverage_file=Path(\".coverage\"))"
   ]
  },
  {
   "cell_type": "code",
   "execution_count": 27,
   "metadata": {},
   "outputs": [
    {
     "data": {
      "text/plain": [
       "{LocIndex(ast_class='BinOp', lineno=6, col_offset=11, op_type=<class '_ast.Add'>)}"
      ]
     },
     "execution_count": 27,
     "metadata": {},
     "output_type": "execute_result"
    }
   ],
   "source": [
    "# Use the filter method to filter targets based on\n",
    "# a given source file. \n",
    "\n",
    "cov_filter.filter(\n",
    "    genome.targets, genome.source_file\n",
    ")"
   ]
  },
  {
   "cell_type": "code",
   "execution_count": 28,
   "metadata": {},
   "outputs": [
    {
     "data": {
      "text/plain": [
       "{LocIndex(ast_class='Compare', lineno=10, col_offset=11, op_type=<class '_ast.Gt'>)}"
      ]
     },
     "execution_count": 28,
     "metadata": {},
     "output_type": "execute_result"
    }
   ],
   "source": [
    "# You can invert the filtering as well\n",
    "\n",
    "cov_filter.filter(\n",
    "    genome.targets, genome.source_file,\n",
    "    invert=True\n",
    ")"
   ]
  },
  {
   "cell_type": "markdown",
   "metadata": {},
   "source": [
    "#### Category Code Filter"
   ]
  },
  {
   "cell_type": "code",
   "execution_count": 29,
   "metadata": {},
   "outputs": [],
   "source": [
    "# Instantiate using a set of codes\n",
    "# or add them later\n",
    "\n",
    "catcode_filter = CategoryCodeFilter(codes=(\"bn\",))"
   ]
  },
  {
   "cell_type": "code",
   "execution_count": 30,
   "metadata": {},
   "outputs": [
    {
     "data": {
      "text/plain": [
       "dict_values(['aa', 'bn', 'bc', 'bs', 'bl', 'cp', 'cn', 'cs', 'if', 'ix', 'nc', 'su', 'sr'])"
      ]
     },
     "execution_count": 30,
     "metadata": {},
     "output_type": "execute_result"
    }
   ],
   "source": [
    "# Valid codes provide all potential values\n",
    "\n",
    "catcode_filter.valid_codes"
   ]
  },
  {
   "cell_type": "code",
   "execution_count": 31,
   "metadata": {},
   "outputs": [
    {
     "data": {
      "text/plain": [
       "{'AugAssign': 'aa',\n",
       " 'BinOp': 'bn',\n",
       " 'BinOpBC': 'bc',\n",
       " 'BinOpBS': 'bs',\n",
       " 'BoolOp': 'bl',\n",
       " 'Compare': 'cp',\n",
       " 'CompareIn': 'cn',\n",
       " 'CompareIs': 'cs',\n",
       " 'If': 'if',\n",
       " 'Index': 'ix',\n",
       " 'NameConstant': 'nc',\n",
       " 'SliceUS': 'su',\n",
       " 'SliceRC': 'sr'}"
      ]
     },
     "execution_count": 31,
     "metadata": {},
     "output_type": "execute_result"
    }
   ],
   "source": [
    "# Valid categories are also available\n",
    "\n",
    "catcode_filter.valid_categories"
   ]
  },
  {
   "cell_type": "code",
   "execution_count": 32,
   "metadata": {},
   "outputs": [
    {
     "data": {
      "text/plain": [
       "{'aa', 'bn'}"
      ]
     },
     "execution_count": 32,
     "metadata": {},
     "output_type": "execute_result"
    }
   ],
   "source": [
    "# add more codes\n",
    "\n",
    "catcode_filter.add_code(\"aa\")\n",
    "catcode_filter.codes"
   ]
  },
  {
   "cell_type": "code",
   "execution_count": 33,
   "metadata": {},
   "outputs": [
    {
     "data": {
      "text/plain": [
       "{_ast.Add,\n",
       " _ast.Div,\n",
       " _ast.FloorDiv,\n",
       " _ast.Mod,\n",
       " _ast.Mult,\n",
       " _ast.Pow,\n",
       " _ast.Sub,\n",
       " 'AugAssign_Add',\n",
       " 'AugAssign_Div',\n",
       " 'AugAssign_Mult',\n",
       " 'AugAssign_Sub'}"
      ]
     },
     "execution_count": 33,
     "metadata": {},
     "output_type": "execute_result"
    }
   ],
   "source": [
    "# see all validation mutations\n",
    "# based on the set codes\n",
    "\n",
    "catcode_filter.valid_mutations"
   ]
  },
  {
   "cell_type": "code",
   "execution_count": 34,
   "metadata": {},
   "outputs": [
    {
     "data": {
      "text/plain": [
       "{'bn'}"
      ]
     },
     "execution_count": 34,
     "metadata": {},
     "output_type": "execute_result"
    }
   ],
   "source": [
    "# discard codes\n",
    "\n",
    "catcode_filter.discard_code(\"aa\")\n",
    "catcode_filter.codes"
   ]
  },
  {
   "cell_type": "code",
   "execution_count": 35,
   "metadata": {},
   "outputs": [
    {
     "data": {
      "text/plain": [
       "{_ast.Add, _ast.Div, _ast.FloorDiv, _ast.Mod, _ast.Mult, _ast.Pow, _ast.Sub}"
      ]
     },
     "execution_count": 35,
     "metadata": {},
     "output_type": "execute_result"
    }
   ],
   "source": [
    "catcode_filter.valid_mutations"
   ]
  },
  {
   "cell_type": "code",
   "execution_count": 36,
   "metadata": {},
   "outputs": [
    {
     "data": {
      "text/plain": [
       "{LocIndex(ast_class='BinOp', lineno=6, col_offset=11, op_type=<class '_ast.Add'>)}"
      ]
     },
     "execution_count": 36,
     "metadata": {},
     "output_type": "execute_result"
    }
   ],
   "source": [
    "# Filter a set of targets based on codes\n",
    "\n",
    "catcode_filter.filter(genome.targets)"
   ]
  },
  {
   "cell_type": "code",
   "execution_count": 37,
   "metadata": {},
   "outputs": [
    {
     "data": {
      "text/plain": [
       "{LocIndex(ast_class='Compare', lineno=10, col_offset=11, op_type=<class '_ast.Gt'>)}"
      ]
     },
     "execution_count": 37,
     "metadata": {},
     "output_type": "execute_result"
    }
   ],
   "source": [
    "# Optionally, invert the filter\n",
    "\n",
    "catcode_filter.filter(\n",
    "    genome.targets, invert=True\n",
    ")"
   ]
  },
  {
   "cell_type": "markdown",
   "metadata": {},
   "source": [
    "### Changing the source file in a Genome\n",
    "\n",
    "If you change the source file property of the ``Genome`` all core properties except the coverage file and filters are reset - this includes targets, covered targets, and AST."
   ]
  },
  {
   "cell_type": "code",
   "execution_count": 38,
   "metadata": {},
   "outputs": [],
   "source": [
    "genome.source_file = src_loc / \"b.py\""
   ]
  },
  {
   "cell_type": "code",
   "execution_count": 39,
   "metadata": {},
   "outputs": [
    {
     "data": {
      "text/plain": [
       "{LocIndex(ast_class='CompareIs', lineno=6, col_offset=11, op_type=<class '_ast.Is'>)}"
      ]
     },
     "execution_count": 39,
     "metadata": {},
     "output_type": "execute_result"
    }
   ],
   "source": [
    "genome.targets"
   ]
  },
  {
   "cell_type": "code",
   "execution_count": 40,
   "metadata": {},
   "outputs": [
    {
     "data": {
      "text/plain": [
       "{LocIndex(ast_class='BinOp', lineno=6, col_offset=11, op_type=<class '_ast.Add'>)}"
      ]
     },
     "execution_count": 40,
     "metadata": {},
     "output_type": "execute_result"
    }
   ],
   "source": [
    "genome.covered_targets"
   ]
  },
  {
   "cell_type": "markdown",
   "metadata": {},
   "source": [
    "## Creating Mutations\n",
    "\n",
    "Mutations are applied to specific ``LocIndex`` targets in a ``Genome``.\n",
    "You must speicfy a valid operation e.g., \"add\" can be mutated to \"divide\" or \"subtract\", but not \"is\".\n",
    "The ``Genome`` itself is not modified, a returned ``Mutant`` object holds the information required to create a mutated version of the ``__pycache__`` for that source file.\n",
    "For this example, we'll change ``a.py`` to use a multiplication operation instead of an addition operation for the ``add_five`` function.\n",
    "The original expected result of the code was ``10`` from ``5 + 5`` if executed, with the mutation it will be ``25`` since the mutation creates ``5 * 5``."
   ]
  },
  {
   "cell_type": "code",
   "execution_count": 41,
   "metadata": {},
   "outputs": [
    {
     "data": {
      "text/plain": [
       "LocIndex(ast_class='BinOp', lineno=6, col_offset=11, op_type=<class '_ast.Add'>)"
      ]
     },
     "execution_count": 41,
     "metadata": {},
     "output_type": "execute_result"
    }
   ],
   "source": [
    "# Set the Genome back to example a\n",
    "# filter to only the BinOp targets\n",
    "\n",
    "genome.source_file = src_loc / \"a.py\"\n",
    "genome.filter_codes = (\"bn\",)\n",
    "\n",
    "# there is only one Binop target\n",
    "\n",
    "mutation_target = list(genome.targets)[0]\n",
    "mutation_target"
   ]
  },
  {
   "cell_type": "code",
   "execution_count": 42,
   "metadata": {},
   "outputs": [],
   "source": [
    "# The mutate() method applies a mutation operation\n",
    "# and returns a mutant\n",
    "\n",
    "mutant = genome.mutate(mutation_target, ast.Mult)"
   ]
  },
  {
   "cell_type": "code",
   "execution_count": 43,
   "metadata": {},
   "outputs": [
    {
     "name": "stdout",
     "output_type": "stream",
     "text": [
      "<class '_ast.IsNot'> is not a member of mutation category bn.\n",
      "Valid mutations for bn: {<class '_ast.Sub'>, <class '_ast.Add'>, <class '_ast.Pow'>, <class '_ast.FloorDiv'>, <class '_ast.Mod'>, <class '_ast.Div'>, <class '_ast.Mult'>}.\n"
     ]
    }
   ],
   "source": [
    "# applying an invalid mutation\n",
    "# raises a MutationException\n",
    "\n",
    "try:\n",
    "    genome.mutate(mutation_target, ast.IsNot)\n",
    "    \n",
    "except MutationException as e:\n",
    "    print(e)"
   ]
  },
  {
   "cell_type": "code",
   "execution_count": 44,
   "metadata": {},
   "outputs": [
    {
     "data": {
      "text/plain": [
       "Mutant(mutant_code=<code object <module> at 0x7f0d800ceae0, file \"example/a.py\", line 2>, src_file=PosixPath('example/a.py'), cfile=PosixPath('example/__pycache__/a.cpython-37.pyc'), loader=<_frozen_importlib_external.SourceFileLoader object at 0x7f0d6bd3bbe0>, source_stats={'mtime': 1571245955.1276326, 'size': 118}, mode=33204, src_idx=LocIndex(ast_class='BinOp', lineno=6, col_offset=11, op_type=<class '_ast.Add'>), mutation=<class '_ast.Mult'>)"
      ]
     },
     "execution_count": 44,
     "metadata": {},
     "output_type": "execute_result"
    }
   ],
   "source": [
    "# mutants have all of the properties\n",
    "# needed to write mutated __pycache__\n",
    "\n",
    "mutant"
   ]
  },
  {
   "cell_type": "code",
   "execution_count": 45,
   "metadata": {},
   "outputs": [
    {
     "name": "stdout",
     "output_type": "stream",
     "text": [
      "25\n"
     ]
    }
   ],
   "source": [
    "# You can directly execute the mutant_code\n",
    "# This result is with the mutated target being\n",
    "# applied as Mult instead of Add in a.py\n",
    "\n",
    "exec(mutant.mutant_code)"
   ]
  },
  {
   "cell_type": "code",
   "execution_count": 46,
   "metadata": {},
   "outputs": [],
   "source": [
    "# Mutants have a write_cache() method to apply\n",
    "# the change to __pycache__\n",
    "\n",
    "mutant.write_cache()"
   ]
  },
  {
   "cell_type": "code",
   "execution_count": 47,
   "metadata": {},
   "outputs": [],
   "source": [
    "# Alternatively, use run to do a single trial\n",
    "# and return the result\n",
    "\n",
    "mutant_trial_result = run.create_mutation_run_trial(\n",
    "    genome, mutation_target, ast.Mult, [\"pytest\"]\n",
    ")"
   ]
  },
  {
   "cell_type": "code",
   "execution_count": 48,
   "metadata": {},
   "outputs": [
    {
     "data": {
      "text/plain": [
       "'SURVIVED'"
      ]
     },
     "execution_count": 48,
     "metadata": {},
     "output_type": "execute_result"
    }
   ],
   "source": [
    "# In this case the mutation would survive\n",
    "# The test passes if the value is \n",
    "# greater than 10.\n",
    "\n",
    "mutant_trial_result.status"
   ]
  },
  {
   "cell_type": "code",
   "execution_count": 49,
   "metadata": {},
   "outputs": [
    {
     "data": {
      "text/plain": [
       "'DETECTED'"
      ]
     },
     "execution_count": 49,
     "metadata": {},
     "output_type": "execute_result"
    }
   ],
   "source": [
    "# Using a different operation, such as Div\n",
    "# will be a detected mutation\n",
    "# since the test will fail.\n",
    "\n",
    "mutant_trial_result = run.create_mutation_run_trial(\n",
    "    genome, mutation_target, ast.Div, [\"pytest\"]\n",
    ")\n",
    "\n",
    "mutant_trial_result.status"
   ]
  },
  {
   "cell_type": "markdown",
   "metadata": {},
   "source": [
    "## GenomeGroups\n",
    "\n",
    "The ``GenomeGroup`` is a way to interact with multiple ``Genomes``. \n",
    "You can create a ``GenomeGroup`` from a folder of files, add new ``Genomes``, and access shared properties across the ``Genomes``. \n",
    "It is a ``MutableMapping`` and behaves accordingly, though it only accepts ``Path`` keys and ``Genome`` values.\n",
    "You can use the ``GenomeGroup`` to assign common filters, common coverage files, and to get all \n",
    "targets across an entire collection of ``Genomes``."
   ]
  },
  {
   "cell_type": "code",
   "execution_count": 50,
   "metadata": {},
   "outputs": [],
   "source": [
    "ggrp = GenomeGroup(src_loc)"
   ]
  },
  {
   "cell_type": "code",
   "execution_count": 51,
   "metadata": {},
   "outputs": [
    {
     "name": "stdout",
     "output_type": "stream",
     "text": [
      "example/a.py <mutatest.api.Genome object at 0x7f0d6bd4b518>\n",
      "example/b.py <mutatest.api.Genome object at 0x7f0d6bd4b4e0>\n"
     ]
    }
   ],
   "source": [
    "# key-value pairs in the GenomeGroup are\n",
    "# the path to the source file\n",
    "# and the Genome object for that file\n",
    "\n",
    "for k,v in ggrp.items():\n",
    "    print(k, v)"
   ]
  },
  {
   "cell_type": "code",
   "execution_count": 52,
   "metadata": {},
   "outputs": [
    {
     "name": "stdout",
     "output_type": "stream",
     "text": [
      "example/a.py LocIndex(ast_class='Compare', lineno=10, col_offset=11, op_type=<class '_ast.Gt'>)\n",
      "example/b.py LocIndex(ast_class='CompareIs', lineno=6, col_offset=11, op_type=<class '_ast.Is'>)\n",
      "example/a.py LocIndex(ast_class='BinOp', lineno=6, col_offset=11, op_type=<class '_ast.Add'>)\n"
     ]
    }
   ],
   "source": [
    "# targets, and covered_targets produce\n",
    "# GenomeGroupTarget objects that have\n",
    "# attributes for the source path and\n",
    "# LocIdx for the target\n",
    "\n",
    "for t in ggrp.targets:\n",
    "    print(\n",
    "        t.source_path, t.loc_idx\n",
    "    )"
   ]
  },
  {
   "cell_type": "code",
   "execution_count": 53,
   "metadata": {},
   "outputs": [
    {
     "name": "stdout",
     "output_type": "stream",
     "text": [
      "example/a.py LocIndex(ast_class='BinOp', lineno=6, col_offset=11, op_type=<class '_ast.Add'>)\n",
      "example/b.py LocIndex(ast_class='CompareIs', lineno=6, col_offset=11, op_type=<class '_ast.Is'>)\n"
     ]
    }
   ],
   "source": [
    "# You can set a filter or \n",
    "# coverage file for the entire set\n",
    "# of genomes\n",
    "\n",
    "ggrp.set_coverage = Path(\".coverage\")\n",
    "\n",
    "for t in ggrp.covered_targets:\n",
    "    print(\n",
    "        t.source_path, t.loc_idx\n",
    "    )"
   ]
  },
  {
   "cell_type": "code",
   "execution_count": 54,
   "metadata": {},
   "outputs": [
    {
     "data": {
      "text/plain": [
       "{GenomeGroupTarget(source_path=PosixPath('example/b.py'), loc_idx=LocIndex(ast_class='CompareIs', lineno=6, col_offset=11, op_type=<class '_ast.Is'>))}"
      ]
     },
     "execution_count": 54,
     "metadata": {},
     "output_type": "execute_result"
    }
   ],
   "source": [
    "# Setting filter codes on all Genomes\n",
    "# in the group\n",
    "\n",
    "ggrp.set_filter((\"cs\",))\n",
    "ggrp.targets"
   ]
  },
  {
   "cell_type": "code",
   "execution_count": 55,
   "metadata": {},
   "outputs": [
    {
     "name": "stdout",
     "output_type": "stream",
     "text": [
      "example/a.py {'cs'}\n",
      "example/b.py {'cs'}\n"
     ]
    }
   ],
   "source": [
    "for k, v in ggrp.items():\n",
    "    print(k, v.filter_codes)"
   ]
  },
  {
   "cell_type": "code",
   "execution_count": 56,
   "metadata": {},
   "outputs": [
    {
     "data": {
      "text/plain": [
       "dict_values([<mutatest.api.Genome object at 0x7f0d6bd4b518>, <mutatest.api.Genome object at 0x7f0d6bd4b4e0>])"
      ]
     },
     "execution_count": 56,
     "metadata": {},
     "output_type": "execute_result"
    }
   ],
   "source": [
    "# MutableMapping operations are\n",
    "# available as well\n",
    "\n",
    "ggrp.values()"
   ]
  },
  {
   "cell_type": "code",
   "execution_count": 57,
   "metadata": {},
   "outputs": [
    {
     "data": {
      "text/plain": [
       "dict_keys([PosixPath('example/a.py'), PosixPath('example/b.py')])"
      ]
     },
     "execution_count": 57,
     "metadata": {},
     "output_type": "execute_result"
    }
   ],
   "source": [
    "ggrp.keys()"
   ]
  },
  {
   "cell_type": "code",
   "execution_count": 58,
   "metadata": {},
   "outputs": [
    {
     "data": {
      "text/plain": [
       "{PosixPath('example/b.py'): <mutatest.api.Genome object at 0x7f0d6bd4b4e0>}"
      ]
     },
     "execution_count": 58,
     "metadata": {},
     "output_type": "execute_result"
    }
   ],
   "source": [
    "# pop a Genome out of the Group\n",
    "\n",
    "genome_a = ggrp.pop(Path(\"example/a.py\"))\n",
    "ggrp"
   ]
  },
  {
   "cell_type": "code",
   "execution_count": 59,
   "metadata": {},
   "outputs": [
    {
     "data": {
      "text/plain": [
       "{PosixPath('example/b.py'): <mutatest.api.Genome object at 0x7f0d6bd4b4e0>, PosixPath('example/a.py'): <mutatest.api.Genome object at 0x7f0d6bd4b518>}"
      ]
     },
     "execution_count": 59,
     "metadata": {},
     "output_type": "execute_result"
    }
   ],
   "source": [
    "# add a Genome to the group\n",
    "\n",
    "ggrp.add_genome(genome_a)\n",
    "ggrp"
   ]
  },
  {
   "cell_type": "code",
   "execution_count": 60,
   "metadata": {},
   "outputs": [
    {
     "name": "stdout",
     "output_type": "stream",
     "text": [
      "example/a.py <mutatest.api.Genome object at 0x7f0d6bd5e160>\n",
      "example/test_ab.py <mutatest.api.Genome object at 0x7f0d6bd5e198>\n",
      "example/b.py <mutatest.api.Genome object at 0x7f0d6bd5e1d0>\n"
     ]
    }
   ],
   "source": [
    "# the add_folder options provides\n",
    "# more flexibility e.g., to include\n",
    "# the test_ files.\n",
    "\n",
    "ggrp_with_tests = GenomeGroup()\n",
    "ggrp_with_tests.add_folder(\n",
    "    src_loc, ignore_test_files=False\n",
    ")\n",
    "\n",
    "for k, v in ggrp_with_tests.items():\n",
    "    print(k, v)"
   ]
  }
 ],
 "metadata": {
  "kernelspec": {
   "display_name": "Python 3",
   "language": "python",
   "name": "python3"
  },
  "language_info": {
   "codemirror_mode": {
    "name": "ipython",
    "version": 3
   },
   "file_extension": ".py",
   "mimetype": "text/x-python",
   "name": "python",
   "nbconvert_exporter": "python",
   "pygments_lexer": "ipython3",
   "version": "3.7.2"
  }
 },
 "nbformat": 4,
 "nbformat_minor": 2
}
