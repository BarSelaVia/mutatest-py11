{
 "cells": [
  {
   "cell_type": "code",
   "execution_count": 1,
   "metadata": {},
   "outputs": [],
   "source": [
    "import ast\n",
    "from mutation import maker\n",
    "from pathlib import Path"
   ]
  },
  {
   "cell_type": "code",
   "execution_count": 2,
   "metadata": {},
   "outputs": [],
   "source": [
    "mydir = Path(\"firstmodule\")"
   ]
  },
  {
   "cell_type": "code",
   "execution_count": 3,
   "metadata": {},
   "outputs": [],
   "source": [
    "x = maker.get_py_files(mydir)"
   ]
  },
  {
   "cell_type": "code",
   "execution_count": 4,
   "metadata": {},
   "outputs": [
    {
     "data": {
      "text/plain": [
       "[PosixPath('/home/zassoc/Github/m/firstmodule/__init__.py'),\n",
       " PosixPath('/home/zassoc/Github/m/firstmodule/test_run.py'),\n",
       " PosixPath('/home/zassoc/Github/m/firstmodule/run.py')]"
      ]
     },
     "execution_count": 4,
     "metadata": {},
     "output_type": "execute_result"
    }
   ],
   "source": [
    "x"
   ]
  },
  {
   "cell_type": "code",
   "execution_count": 5,
   "metadata": {},
   "outputs": [],
   "source": [
    "muts = maker.mutation_pipeline(mydir)"
   ]
  },
  {
   "cell_type": "code",
   "execution_count": 6,
   "metadata": {},
   "outputs": [
    {
     "data": {
      "text/plain": [
       "Mutant(mutant_code=<code object <module> at 0x7f3e59e6a810, file \"/home/zassoc/Github/m/firstmodule/__init__.py\", line 1>, cfile='/home/zassoc/Github/m/firstmodule/__pycache__/__init__.cpython-37.pyc', loader=<_frozen_importlib_external.SourceFileLoader object at 0x7f3e5416f6d8>, source_stats={'mtime': 1545518466.1081607, 'size': 0}, mode=33204)"
      ]
     },
     "execution_count": 6,
     "metadata": {},
     "output_type": "execute_result"
    }
   ],
   "source": [
    "muts[0]"
   ]
  },
  {
   "cell_type": "code",
   "execution_count": 7,
   "metadata": {},
   "outputs": [
    {
     "name": "stdout",
     "output_type": "stream",
     "text": [
      "hello there\n",
      "20\n",
      "15\n"
     ]
    }
   ],
   "source": [
    "from firstmodule import run"
   ]
  },
  {
   "cell_type": "code",
   "execution_count": 8,
   "metadata": {},
   "outputs": [
    {
     "data": {
      "text/plain": [
       "Mutant(mutant_code=<code object <module> at 0x7f3e541726f0, file \"/home/zassoc/Github/m/firstmodule/run.py\", line 1>, cfile='/home/zassoc/Github/m/firstmodule/__pycache__/run.cpython-37.pyc', loader=<_frozen_importlib_external.SourceFileLoader object at 0x7f3e54192240>, source_stats={'mtime': 1545535274.6873496, 'size': 165}, mode=33204)"
      ]
     },
     "execution_count": 8,
     "metadata": {},
     "output_type": "execute_result"
    }
   ],
   "source": [
    "muts[2]"
   ]
  },
  {
   "cell_type": "code",
   "execution_count": 9,
   "metadata": {},
   "outputs": [],
   "source": [
    "f = Path(\"/home/zassoc/Github/m/firstmodule/run.py\")"
   ]
  },
  {
   "cell_type": "code",
   "execution_count": 10,
   "metadata": {},
   "outputs": [],
   "source": [
    "tree = maker.get_ast_tree(f)"
   ]
  },
  {
   "cell_type": "code",
   "execution_count": 11,
   "metadata": {},
   "outputs": [
    {
     "data": {
      "text/plain": [
       "{'value': <_ast.Call at 0x7f3e5411b5f8>, 'lineno': 13, 'col_offset': 0}"
      ]
     },
     "execution_count": 11,
     "metadata": {},
     "output_type": "execute_result"
    }
   ],
   "source": [
    "tree.body[4].__dict__"
   ]
  },
  {
   "cell_type": "code",
   "execution_count": 12,
   "metadata": {},
   "outputs": [
    {
     "data": {
      "text/plain": [
       "[<_ast.FunctionDef at 0x7f3e541926a0>,\n",
       " <_ast.FunctionDef at 0x7f3e5411b1d0>,\n",
       " <_ast.FunctionDef at 0x7f3e5411b358>,\n",
       " <_ast.Expr at 0x7f3e5411b4e0>,\n",
       " <_ast.Expr at 0x7f3e5411b5c0>,\n",
       " <_ast.Expr at 0x7f3e5411b710>]"
      ]
     },
     "execution_count": 12,
     "metadata": {},
     "output_type": "execute_result"
    }
   ],
   "source": [
    "tree.body"
   ]
  },
  {
   "cell_type": "code",
   "execution_count": 13,
   "metadata": {},
   "outputs": [
    {
     "data": {
      "text/plain": [
       "{'name': 'add_ten',\n",
       " 'args': <_ast.arguments at 0x7f3e5411b208>,\n",
       " 'body': [<_ast.Return at 0x7f3e5411b278>],\n",
       " 'decorator_list': [],\n",
       " 'returns': None,\n",
       " 'lineno': 5,\n",
       " 'col_offset': 0}"
      ]
     },
     "execution_count": 13,
     "metadata": {},
     "output_type": "execute_result"
    }
   ],
   "source": [
    "tree.body[1].__dict__"
   ]
  },
  {
   "cell_type": "code",
   "execution_count": 14,
   "metadata": {},
   "outputs": [
    {
     "data": {
      "text/plain": [
       "{'value': <_ast.Call at 0x7f3e5411b748>, 'lineno': 14, 'col_offset': 0}"
      ]
     },
     "execution_count": 14,
     "metadata": {},
     "output_type": "execute_result"
    }
   ],
   "source": [
    "tree.body[-1].__dict__"
   ]
  },
  {
   "cell_type": "code",
   "execution_count": 15,
   "metadata": {},
   "outputs": [
    {
     "name": "stdout",
     "output_type": "stream",
     "text": [
      "1\n",
      "myfunc\n",
      "5\n",
      "add_ten\n",
      "6\n",
      "{'left': <_ast.Name object at 0x7f3e5411b2e8>, 'op': <_ast.Add object at 0x7f3e585a97f0>, 'right': <_ast.Num object at 0x7f3e5411b320>, 'lineno': 6, 'col_offset': 11}\n",
      "9\n",
      "add_five\n",
      "10\n",
      "{'left': <_ast.Name object at 0x7f3e5411b470>, 'op': <_ast.Add object at 0x7f3e585a97f0>, 'right': <_ast.Num object at 0x7f3e5411b4a8>, 'lineno': 10, 'col_offset': 11}\n"
     ]
    }
   ],
   "source": [
    "class FuncLister(ast.NodeVisitor):\n",
    "    \n",
    "    def __init__(self):\n",
    "        self.counter = 0\n",
    "        super()\n",
    "    \n",
    "    def visit_FunctionDef(self, node):\n",
    "\n",
    "        print(node.lineno)\n",
    "        print(node.name)\n",
    "        self.counter += 1\n",
    "        self.generic_visit(node)\n",
    "        \n",
    "    def visit_BinOp(self,node):\n",
    "        print(node.lineno)\n",
    "        print(node.__dict__)\n",
    "        self.generic_visit(node)\n",
    "\n",
    "FuncLister().visit(tree)"
   ]
  },
  {
   "cell_type": "code",
   "execution_count": 16,
   "metadata": {},
   "outputs": [
    {
     "name": "stdout",
     "output_type": "stream",
     "text": [
      "5\n",
      "add_ten\n",
      "6\n",
      "{'left': <_ast.Name object at 0x7f3e5411b2e8>, 'op': <_ast.Add object at 0x7f3e585a97f0>, 'right': <_ast.Num object at 0x7f3e5411b320>, 'lineno': 6, 'col_offset': 11}\n"
     ]
    }
   ],
   "source": [
    "FuncLister().visit(tree.body[1])"
   ]
  },
  {
   "cell_type": "code",
   "execution_count": null,
   "metadata": {},
   "outputs": [],
   "source": []
  }
 ],
 "metadata": {
  "kernelspec": {
   "display_name": "Python 3",
   "language": "python",
   "name": "python3"
  },
  "language_info": {
   "codemirror_mode": {
    "name": "ipython",
    "version": 3
   },
   "file_extension": ".py",
   "mimetype": "text/x-python",
   "name": "python",
   "nbconvert_exporter": "python",
   "pygments_lexer": "ipython3",
   "version": "3.7.1"
  }
 },
 "nbformat": 4,
 "nbformat_minor": 2
}
