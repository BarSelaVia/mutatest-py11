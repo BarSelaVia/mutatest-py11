{
 "cells": [
  {
   "cell_type": "code",
   "execution_count": 1,
   "metadata": {},
   "outputs": [],
   "source": [
    "from mutation import maker\n",
    "from pathlib import Path"
   ]
  },
  {
   "cell_type": "code",
   "execution_count": 2,
   "metadata": {},
   "outputs": [],
   "source": [
    "mydir = Path(\"firstmodule\")"
   ]
  },
  {
   "cell_type": "code",
   "execution_count": 3,
   "metadata": {},
   "outputs": [],
   "source": [
    "x = maker.get_py_files(mydir)"
   ]
  },
  {
   "cell_type": "code",
   "execution_count": 4,
   "metadata": {},
   "outputs": [
    {
     "data": {
      "text/plain": [
       "[PosixPath('/home/zassoc/Github/m/firstmodule/__init__.py'),\n",
       " PosixPath('/home/zassoc/Github/m/firstmodule/run.py')]"
      ]
     },
     "execution_count": 4,
     "metadata": {},
     "output_type": "execute_result"
    }
   ],
   "source": [
    "x"
   ]
  },
  {
   "cell_type": "code",
   "execution_count": 5,
   "metadata": {},
   "outputs": [],
   "source": [
    "muts = maker.mutation_pipeline(mydir)"
   ]
  },
  {
   "cell_type": "code",
   "execution_count": 6,
   "metadata": {},
   "outputs": [
    {
     "data": {
      "text/plain": [
       "[Mutant(mutant_code=<code object <module> at 0x7fddf8d85660, file \"/home/zassoc/Github/m/firstmodule/__init__.py\", line 1>, cfile='/home/zassoc/Github/m/firstmodule/__pycache__/__init__.cpython-37.pyc', loader=<_frozen_importlib_external.SourceFileLoader object at 0x7fddf84cec50>, source_stats={'mtime': 1545518466.1081607, 'size': 0}, mode=33204),\n",
       " Mutant(mutant_code=<code object <module> at 0x7fddf84d04b0, file \"/home/zassoc/Github/m/firstmodule/run.py\", line 1>, cfile='/home/zassoc/Github/m/firstmodule/__pycache__/run.cpython-37.pyc', loader=<_frozen_importlib_external.SourceFileLoader object at 0x7fddf8d26b38>, source_stats={'mtime': 1545518591.166841, 'size': 114}, mode=33204)]"
      ]
     },
     "execution_count": 6,
     "metadata": {},
     "output_type": "execute_result"
    }
   ],
   "source": [
    "muts"
   ]
  },
  {
   "cell_type": "code",
   "execution_count": 7,
   "metadata": {},
   "outputs": [
    {
     "name": "stdout",
     "output_type": "stream",
     "text": [
      "hello there\n",
      "0\n"
     ]
    }
   ],
   "source": [
    "from firstmodule import run"
   ]
  },
  {
   "cell_type": "code",
   "execution_count": null,
   "metadata": {},
   "outputs": [],
   "source": []
  }
 ],
 "metadata": {
  "kernelspec": {
   "display_name": "Python 3",
   "language": "python",
   "name": "python3"
  },
  "language_info": {
   "codemirror_mode": {
    "name": "ipython",
    "version": 3
   },
   "file_extension": ".py",
   "mimetype": "text/x-python",
   "name": "python",
   "nbconvert_exporter": "python",
   "pygments_lexer": "ipython3",
   "version": "3.7.1"
  }
 },
 "nbformat": 4,
 "nbformat_minor": 2
}
