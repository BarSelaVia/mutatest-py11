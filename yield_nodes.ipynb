{
 "cells": [
  {
   "cell_type": "code",
   "execution_count": 3,
   "metadata": {},
   "outputs": [],
   "source": [
    "import ast\n",
    "from pathlib import Path\n",
    "\n",
    "from mutation import maker"
   ]
  },
  {
   "cell_type": "code",
   "execution_count": 4,
   "metadata": {},
   "outputs": [],
   "source": [
    "pkg_dir = Path(\"firstmodule\")"
   ]
  },
  {
   "cell_type": "code",
   "execution_count": 6,
   "metadata": {},
   "outputs": [
    {
     "name": "stdout",
     "output_type": "stream",
     "text": [
      "/home/zassoc/Github/m/firstmodule/__init__.py\n",
      "/home/zassoc/Github/m/firstmodule/test_run.py\n",
      "/home/zassoc/Github/m/firstmodule/run.py\n"
     ]
    }
   ],
   "source": [
    "src_files = maker.get_py_files(pkg_dir)\n",
    "print(*src_files, sep=\"\\n\")"
   ]
  },
  {
   "cell_type": "code",
   "execution_count": 7,
   "metadata": {},
   "outputs": [],
   "source": [
    "tree = maker.get_ast_tree(src_files[-1])"
   ]
  },
  {
   "cell_type": "code",
   "execution_count": 8,
   "metadata": {},
   "outputs": [
    {
     "data": {
      "text/plain": [
       "[<_ast.FunctionDef at 0x7f7974047d30>,\n",
       " <_ast.FunctionDef at 0x7f7974047e48>,\n",
       " <_ast.FunctionDef at 0x7f7974047fd0>,\n",
       " <_ast.Expr at 0x7f7974055198>,\n",
       " <_ast.Expr at 0x7f7974055278>,\n",
       " <_ast.Expr at 0x7f79740553c8>]"
      ]
     },
     "execution_count": 8,
     "metadata": {},
     "output_type": "execute_result"
    }
   ],
   "source": [
    "tree.body"
   ]
  },
  {
   "cell_type": "code",
   "execution_count": 42,
   "metadata": {},
   "outputs": [],
   "source": [
    "class RewriteAddSub(ast.NodeTransformer):\n",
    "    \n",
    "    def __init__(self, readonly):\n",
    "        self.readonly = readonly\n",
    "        self.locs = []\n",
    "        super()\n",
    "        \n",
    "    def visit_BinOp(self, node):\n",
    "        self.generic_visit(node)\n",
    "        \n",
    "        self.locs.append(node.lineno)\n",
    "        if self.readonly:\n",
    "            print(\"Read only\", node.lineno, node.col_offset, node.op)    \n",
    "            self.locs.append(node.op)\n",
    "            return node\n",
    "        \n",
    "        else:\n",
    "            print(\"Transform to sub\")\n",
    "            return ast.copy_location(\n",
    "                ast.BinOp(left=node.left,\n",
    "                          op=ast.Sub(),\n",
    "                          right=node.right),\n",
    "                node)"
   ]
  },
  {
   "cell_type": "code",
   "execution_count": 43,
   "metadata": {},
   "outputs": [],
   "source": [
    "ronly = RewriteAddSub(readonly=True)"
   ]
  },
  {
   "cell_type": "code",
   "execution_count": 44,
   "metadata": {},
   "outputs": [
    {
     "name": "stdout",
     "output_type": "stream",
     "text": [
      "Read only 6 11 <_ast.Add object at 0x7f797947e860>\n",
      "Read only 10 11 <_ast.Add object at 0x7f797947e860>\n"
     ]
    }
   ],
   "source": [
    "t2 = ronly.visit(tree)"
   ]
  },
  {
   "cell_type": "code",
   "execution_count": 45,
   "metadata": {},
   "outputs": [
    {
     "data": {
      "text/plain": [
       "[6, <_ast.Add at 0x7f797947e860>, 10, <_ast.Add at 0x7f797947e860>]"
      ]
     },
     "execution_count": 45,
     "metadata": {},
     "output_type": "execute_result"
    }
   ],
   "source": [
    "ronly.locs"
   ]
  },
  {
   "cell_type": "code",
   "execution_count": 57,
   "metadata": {},
   "outputs": [
    {
     "data": {
      "text/plain": [
       "_ast.Add"
      ]
     },
     "execution_count": 57,
     "metadata": {},
     "output_type": "execute_result"
    }
   ],
   "source": [
    "type(ronly.locs[1])"
   ]
  },
  {
   "cell_type": "code",
   "execution_count": 59,
   "metadata": {},
   "outputs": [
    {
     "data": {
      "text/plain": [
       "True"
      ]
     },
     "execution_count": 59,
     "metadata": {},
     "output_type": "execute_result"
    }
   ],
   "source": [
    "isinstance(ronly.locs[1], type(ronly.locs[1]))"
   ]
  },
  {
   "cell_type": "code",
   "execution_count": 63,
   "metadata": {},
   "outputs": [
    {
     "ename": "SyntaxError",
     "evalue": "invalid syntax (<string>, line 1)",
     "output_type": "error",
     "traceback": [
      "Traceback \u001b[0;36m(most recent call last)\u001b[0m:\n",
      "  File \u001b[1;32m\"/home/zassoc/anaconda3/envs/m/lib/python3.7/site-packages/IPython/core/interactiveshell.py\"\u001b[0m, line \u001b[1;32m3267\u001b[0m, in \u001b[1;35mrun_code\u001b[0m\n    exec(code_obj, self.user_global_ns, self.user_ns)\n",
      "\u001b[0;36m  File \u001b[0;32m\"<ipython-input-63-79a39258cd85>\"\u001b[0;36m, line \u001b[0;32m1\u001b[0;36m, in \u001b[0;35m<module>\u001b[0;36m\u001b[0m\n\u001b[0;31m    eval(repr(type(ronly.locs[1])))\u001b[0m\n",
      "\u001b[0;36m  File \u001b[0;32m\"<string>\"\u001b[0;36m, line \u001b[0;32m1\u001b[0m\n\u001b[0;31m    <class '_ast.Add'>\u001b[0m\n\u001b[0m    ^\u001b[0m\n\u001b[0;31mSyntaxError\u001b[0m\u001b[0;31m:\u001b[0m invalid syntax\n"
     ]
    }
   ],
   "source": [
    "repr(type(ronly.locs[1]))"
   ]
  },
  {
   "cell_type": "code",
   "execution_count": null,
   "metadata": {},
   "outputs": [],
   "source": []
  }
 ],
 "metadata": {
  "kernelspec": {
   "display_name": "Python 3",
   "language": "python",
   "name": "python3"
  },
  "language_info": {
   "codemirror_mode": {
    "name": "ipython",
    "version": 3
   },
   "file_extension": ".py",
   "mimetype": "text/x-python",
   "name": "python",
   "nbconvert_exporter": "python",
   "pygments_lexer": "ipython3",
   "version": "3.7.1"
  }
 },
 "nbformat": 4,
 "nbformat_minor": 2
}
