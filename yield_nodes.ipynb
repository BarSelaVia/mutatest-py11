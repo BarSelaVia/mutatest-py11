{
 "cells": [
  {
   "cell_type": "code",
   "execution_count": 1,
   "metadata": {},
   "outputs": [],
   "source": [
    "import ast\n",
    "from pathlib import Path\n",
    "from mutation import maker\n",
    "from mutation import controller\n",
    "from mutation import transformers"
   ]
  },
  {
   "cell_type": "code",
   "execution_count": 2,
   "metadata": {},
   "outputs": [],
   "source": [
    "pkg_dir = Path(\"firstmodule\")"
   ]
  },
  {
   "cell_type": "code",
   "execution_count": 3,
   "metadata": {},
   "outputs": [
    {
     "name": "stdout",
     "output_type": "stream",
     "text": [
      "/home/zassoc/Github/m/firstmodule/__init__.py\n",
      "/home/zassoc/Github/m/firstmodule/run.py\n"
     ]
    }
   ],
   "source": [
    "src_files = controller.get_py_files(pkg_dir)\n",
    "print(*src_files, sep=\"\\n\")"
   ]
  },
  {
   "cell_type": "code",
   "execution_count": 4,
   "metadata": {},
   "outputs": [
    {
     "name": "stdout",
     "output_type": "stream",
     "text": [
      "2018-12-26 08:36:53,258 - mutation.controller - INFO - Creating AST from: /home/zassoc/Github/m/firstmodule/__init__.py\n",
      "2018-12-26 08:36:53,260 - mutation.controller - INFO - Get mutation targets from AST.\n",
      "2018-12-26 08:36:53,261 - mutation.controller - INFO - Creating AST from: /home/zassoc/Github/m/firstmodule/run.py\n",
      "2018-12-26 08:36:53,261 - mutation.controller - INFO - Get mutation targets from AST.\n"
     ]
    }
   ],
   "source": [
    "trees, targets = controller.build_src_trees_and_targets(pkg_dir)"
   ]
  },
  {
   "cell_type": "code",
   "execution_count": 5,
   "metadata": {},
   "outputs": [],
   "source": [
    "sample_space = controller.get_sample_space(targets)"
   ]
  },
  {
   "cell_type": "code",
   "execution_count": 6,
   "metadata": {},
   "outputs": [
    {
     "name": "stdout",
     "output_type": "stream",
     "text": [
      "('/home/zassoc/Github/m/firstmodule/run.py', LocIndex(ast_class='BinOp', lineno=10, col_offset=11, op_type=<class '_ast.Add'>))\n",
      "('/home/zassoc/Github/m/firstmodule/run.py', LocIndex(ast_class='BinOp', lineno=6, col_offset=11, op_type=<class '_ast.Add'>))\n"
     ]
    }
   ],
   "source": [
    "print(*sample_space, sep=\"\\n\")"
   ]
  },
  {
   "cell_type": "code",
   "execution_count": 15,
   "metadata": {},
   "outputs": [
    {
     "name": "stdout",
     "output_type": "stream",
     "text": [
      "<class '_ast.Add'>\n",
      "{<class '_ast.Pow'>, <class '_ast.Mult'>, <class '_ast.Sub'>, <class '_ast.Div'>}\n",
      "<class '_ast.Add'>\n",
      "{<class '_ast.Pow'>, <class '_ast.Mult'>, <class '_ast.Sub'>, <class '_ast.Div'>}\n"
     ]
    }
   ],
   "source": [
    "for src, idx in sample_space:\n",
    "    print(idx.op_type)\n",
    "    mutants = transformers.get_mutations_for_target(idx)\n",
    "    print(mutants)"
   ]
  },
  {
   "cell_type": "code",
   "execution_count": 10,
   "metadata": {},
   "outputs": [
    {
     "data": {
      "text/plain": [
       "'BinOp'"
      ]
     },
     "execution_count": 10,
     "metadata": {},
     "output_type": "execute_result"
    }
   ],
   "source": [
    "l.ast_class"
   ]
  },
  {
   "cell_type": "code",
   "execution_count": 11,
   "metadata": {},
   "outputs": [],
   "source": [
    "BINOP_TYPES = {\n",
    "    ast.Add, ast.Sub,\n",
    "    ast.Div, ast.Mult, ast.Pow,\n",
    "}\n",
    "\n",
    "OTHER_TYPES = {\n",
    "    ast.Eq, ast.NotEq, ast.Lt, ast.LtE\n",
    "}"
   ]
  },
  {
   "cell_type": "code",
   "execution_count": 14,
   "metadata": {},
   "outputs": [],
   "source": [
    "op_sets = [BINOP_TYPES, OTHER_TYPES]"
   ]
  },
  {
   "cell_type": "code",
   "execution_count": 15,
   "metadata": {},
   "outputs": [],
   "source": [
    "for opset in op_sets:\n",
    "    if l.op_type in opset:\n",
    "        mutation_ops = opset.copy()\n",
    "        mutation_ops.remove(l.op_type)"
   ]
  },
  {
   "cell_type": "code",
   "execution_count": 16,
   "metadata": {},
   "outputs": [
    {
     "data": {
      "text/plain": [
       "{_ast.Div, _ast.Mult, _ast.Pow, _ast.Sub}"
      ]
     },
     "execution_count": 16,
     "metadata": {},
     "output_type": "execute_result"
    }
   ],
   "source": [
    "mutation_ops"
   ]
  },
  {
   "cell_type": "code",
   "execution_count": null,
   "metadata": {},
   "outputs": [],
   "source": []
  },
  {
   "cell_type": "code",
   "execution_count": null,
   "metadata": {},
   "outputs": [],
   "source": []
  },
  {
   "cell_type": "code",
   "execution_count": null,
   "metadata": {},
   "outputs": [],
   "source": []
  },
  {
   "cell_type": "code",
   "execution_count": 8,
   "metadata": {},
   "outputs": [
    {
     "name": "stdout",
     "output_type": "stream",
     "text": [
      "{'/home/zassoc/Github/m/firstmodule/run.py': [LocIndex(ast_class='BinOp', lineno=10, col_offset=11, op_type=<class '_ast.Add'>),\n",
      "                                              LocIndex(ast_class='BinOp', lineno=6, col_offset=11, op_type=<class '_ast.Add'>)]}\n"
     ]
    }
   ],
   "source": [
    "pprint(targets)"
   ]
  },
  {
   "cell_type": "code",
   "execution_count": 9,
   "metadata": {},
   "outputs": [],
   "source": [
    "sample_space = []\n",
    "\n",
    "for k, v in targets.items():\n",
    "    for tgt in v:\n",
    "        sample_space.append((k, tgt))"
   ]
  },
  {
   "cell_type": "code",
   "execution_count": 10,
   "metadata": {},
   "outputs": [
    {
     "data": {
      "text/plain": [
       "[('/home/zassoc/Github/m/firstmodule/run.py',\n",
       "  LocIndex(ast_class='BinOp', lineno=10, col_offset=11, op_type=<class '_ast.Add'>)),\n",
       " ('/home/zassoc/Github/m/firstmodule/run.py',\n",
       "  LocIndex(ast_class='BinOp', lineno=6, col_offset=11, op_type=<class '_ast.Add'>))]"
      ]
     },
     "execution_count": 10,
     "metadata": {},
     "output_type": "execute_result"
    }
   ],
   "source": [
    "sample_space"
   ]
  },
  {
   "cell_type": "code",
   "execution_count": 40,
   "metadata": {},
   "outputs": [
    {
     "data": {
      "text/plain": [
       "False"
      ]
     },
     "execution_count": 40,
     "metadata": {},
     "output_type": "execute_result"
    }
   ],
   "source": [
    "src_files[-1].stem.startswith(\"test_\")"
   ]
  },
  {
   "cell_type": "code",
   "execution_count": 11,
   "metadata": {},
   "outputs": [],
   "source": [
    "tree = transformers.get_ast_from_src(src_files[-1])"
   ]
  },
  {
   "cell_type": "code",
   "execution_count": 12,
   "metadata": {},
   "outputs": [
    {
     "data": {
      "text/plain": [
       "[<_ast.FunctionDef at 0x7febc4dc0160>,\n",
       " <_ast.FunctionDef at 0x7febc4dc0320>,\n",
       " <_ast.FunctionDef at 0x7febc4dc04a8>,\n",
       " <_ast.Expr at 0x7febc4dc0630>,\n",
       " <_ast.Expr at 0x7febc4dc0710>,\n",
       " <_ast.Expr at 0x7febc4dc0860>]"
      ]
     },
     "execution_count": 12,
     "metadata": {},
     "output_type": "execute_result"
    }
   ],
   "source": [
    "tree.body"
   ]
  },
  {
   "cell_type": "code",
   "execution_count": 13,
   "metadata": {},
   "outputs": [],
   "source": [
    "targets = maker.get_mutation_targets(tree)"
   ]
  },
  {
   "cell_type": "code",
   "execution_count": 14,
   "metadata": {},
   "outputs": [
    {
     "data": {
      "text/plain": [
       "{LocIndex(ast_class='BinOp', lineno=6, col_offset=11, op_type=<class '_ast.Add'>),\n",
       " LocIndex(ast_class='BinOp', lineno=10, col_offset=11, op_type=<class '_ast.Add'>)}"
      ]
     },
     "execution_count": 14,
     "metadata": {},
     "output_type": "execute_result"
    }
   ],
   "source": [
    "targets"
   ]
  },
  {
   "cell_type": "code",
   "execution_count": 16,
   "metadata": {},
   "outputs": [],
   "source": [
    "t1 = targets.pop()"
   ]
  },
  {
   "cell_type": "code",
   "execution_count": 17,
   "metadata": {},
   "outputs": [
    {
     "data": {
      "text/plain": [
       "LocIndex(ast_class='BinOp', lineno=6, col_offset=11, op_type=<class '_ast.Add'>)"
      ]
     },
     "execution_count": 17,
     "metadata": {},
     "output_type": "execute_result"
    }
   ],
   "source": [
    "t1"
   ]
  },
  {
   "cell_type": "code",
   "execution_count": 19,
   "metadata": {},
   "outputs": [
    {
     "data": {
      "text/plain": [
       "{LocIndex(ast_class='BinOp', lineno=10, col_offset=11, op_type=<class '_ast.Add'>)}"
      ]
     },
     "execution_count": 19,
     "metadata": {},
     "output_type": "execute_result"
    }
   ],
   "source": [
    "targets"
   ]
  },
  {
   "cell_type": "code",
   "execution_count": 20,
   "metadata": {},
   "outputs": [
    {
     "data": {
      "text/plain": [
       "_ast.Add"
      ]
     },
     "execution_count": 20,
     "metadata": {},
     "output_type": "execute_result"
    }
   ],
   "source": [
    "t1.op_type"
   ]
  },
  {
   "cell_type": "code",
   "execution_count": 33,
   "metadata": {},
   "outputs": [],
   "source": [
    "# Add | Sub | Mult | MatMult | Div | Mod | Pow | LShift\n",
    "\n",
    "# | RShift | BitOr | BitXor | BitAnd | FloorDiv"
   ]
  },
  {
   "cell_type": "code",
   "execution_count": 22,
   "metadata": {},
   "outputs": [],
   "source": [
    "binop_types = {\n",
    "    ast.Add,\n",
    "    ast.Sub,\n",
    "    ast.Div,\n",
    "    ast.Mult,\n",
    "    ast.Pow,\n",
    "}"
   ]
  },
  {
   "cell_type": "code",
   "execution_count": 36,
   "metadata": {},
   "outputs": [
    {
     "name": "stdout",
     "output_type": "stream",
     "text": [
      "LocIndex(ast_class='BinOp', lineno=10, col_offset=11, op_type=<class '_ast.Add'>)\n"
     ]
    }
   ],
   "source": [
    "while targets:\n",
    "    print(targets.pop())"
   ]
  },
  {
   "cell_type": "code",
   "execution_count": 23,
   "metadata": {},
   "outputs": [
    {
     "data": {
      "text/plain": [
       "True"
      ]
     },
     "execution_count": 23,
     "metadata": {},
     "output_type": "execute_result"
    }
   ],
   "source": [
    "t1.op_type in binop_types"
   ]
  },
  {
   "cell_type": "code",
   "execution_count": 29,
   "metadata": {},
   "outputs": [],
   "source": [
    "tops = binop_types.copy()"
   ]
  },
  {
   "cell_type": "code",
   "execution_count": 31,
   "metadata": {},
   "outputs": [],
   "source": [
    "tops.remove(t1.op_type)"
   ]
  },
  {
   "cell_type": "code",
   "execution_count": 32,
   "metadata": {},
   "outputs": [
    {
     "data": {
      "text/plain": [
       "{_ast.Div, _ast.Mult, _ast.Sub}"
      ]
     },
     "execution_count": 32,
     "metadata": {},
     "output_type": "execute_result"
    }
   ],
   "source": [
    "tops"
   ]
  },
  {
   "cell_type": "code",
   "execution_count": null,
   "metadata": {},
   "outputs": [],
   "source": [
    "class RewriteAddSub(ast.NodeTransformer):\n",
    "    \n",
    "    def __init__(self, readonly):\n",
    "        self.readonly = readonly\n",
    "        self.locs = []\n",
    "        super()\n",
    "        \n",
    "    def visit_BinOp(self, node):\n",
    "        self.generic_visit(node)\n",
    "        \n",
    "        self.locs.append(node.lineno)\n",
    "        if self.readonly:\n",
    "            print(\"Read only\", node.lineno, node.col_offset, node.op)    \n",
    "            self.locs.append(node.op)\n",
    "            return node\n",
    "        \n",
    "        else:\n",
    "            print(\"Transform to sub\")\n",
    "            return ast.copy_location(\n",
    "                ast.BinOp(left=node.left,\n",
    "                          op=ast.Sub(),\n",
    "                          right=node.right),\n",
    "                node)"
   ]
  },
  {
   "cell_type": "code",
   "execution_count": null,
   "metadata": {},
   "outputs": [],
   "source": [
    "ronly = RewriteAddSub(readonly=True)"
   ]
  },
  {
   "cell_type": "code",
   "execution_count": null,
   "metadata": {},
   "outputs": [],
   "source": [
    "t2 = ronly.visit(tree)"
   ]
  },
  {
   "cell_type": "code",
   "execution_count": null,
   "metadata": {},
   "outputs": [],
   "source": [
    "ronly.locs"
   ]
  },
  {
   "cell_type": "code",
   "execution_count": null,
   "metadata": {},
   "outputs": [],
   "source": [
    "type(ronly.locs[1])"
   ]
  },
  {
   "cell_type": "code",
   "execution_count": null,
   "metadata": {},
   "outputs": [],
   "source": [
    "isinstance(ronly.locs[1], type(ronly.locs[1]))"
   ]
  },
  {
   "cell_type": "code",
   "execution_count": null,
   "metadata": {},
   "outputs": [],
   "source": [
    "repr(type(ronly.locs[1]))"
   ]
  },
  {
   "cell_type": "code",
   "execution_count": null,
   "metadata": {},
   "outputs": [],
   "source": []
  }
 ],
 "metadata": {
  "kernelspec": {
   "display_name": "Python 3",
   "language": "python",
   "name": "python3"
  },
  "language_info": {
   "codemirror_mode": {
    "name": "ipython",
    "version": 3
   },
   "file_extension": ".py",
   "mimetype": "text/x-python",
   "name": "python",
   "nbconvert_exporter": "python",
   "pygments_lexer": "ipython3",
   "version": "3.7.1"
  }
 },
 "nbformat": 4,
 "nbformat_minor": 2
}
