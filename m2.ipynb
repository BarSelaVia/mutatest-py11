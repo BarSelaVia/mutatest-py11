{
 "cells": [
  {
   "cell_type": "code",
   "execution_count": 5,
   "metadata": {},
   "outputs": [],
   "source": [
    "import ast\n",
    "import sys\n",
    "from pprint import pprint"
   ]
  },
  {
   "cell_type": "code",
   "execution_count": 7,
   "metadata": {},
   "outputs": [
    {
     "data": {
      "text/plain": [
       "{'sys': <module 'sys' (built-in)>,\n",
       " 'builtins': <module 'builtins' (built-in)>,\n",
       " '_frozen_importlib': <module 'importlib._bootstrap' (frozen)>,\n",
       " '_imp': <module '_imp' (built-in)>,\n",
       " '_thread': <module '_thread' (built-in)>,\n",
       " '_warnings': <module '_warnings' (built-in)>,\n",
       " '_weakref': <module '_weakref' (built-in)>,\n",
       " 'zipimport': <module 'zipimport' (built-in)>,\n",
       " '_frozen_importlib_external': <module 'importlib._bootstrap_external' (frozen)>,\n",
       " '_io': <module 'io' (built-in)>,\n",
       " 'marshal': <module 'marshal' (built-in)>,\n",
       " 'posix': <module 'posix' (built-in)>,\n",
       " 'encodings': <module 'encodings' from '/home/zassoc/anaconda3/envs/m/lib/python3.7/encodings/__init__.py'>,\n",
       " 'codecs': <module 'codecs' from '/home/zassoc/anaconda3/envs/m/lib/python3.7/codecs.py'>,\n",
       " '_codecs': <module '_codecs' (built-in)>,\n",
       " 'encodings.aliases': <module 'encodings.aliases' from '/home/zassoc/anaconda3/envs/m/lib/python3.7/encodings/aliases.py'>,\n",
       " 'encodings.utf_8': <module 'encodings.utf_8' from '/home/zassoc/anaconda3/envs/m/lib/python3.7/encodings/utf_8.py'>,\n",
       " '_signal': <module '_signal' (built-in)>,\n",
       " '__main__': <module '__main__'>,\n",
       " 'encodings.latin_1': <module 'encodings.latin_1' from '/home/zassoc/anaconda3/envs/m/lib/python3.7/encodings/latin_1.py'>,\n",
       " 'io': <module 'io' from '/home/zassoc/anaconda3/envs/m/lib/python3.7/io.py'>,\n",
       " 'abc': <module 'abc' from '/home/zassoc/anaconda3/envs/m/lib/python3.7/abc.py'>,\n",
       " '_abc': <module '_abc' (built-in)>,\n",
       " '_bootlocale': <module '_bootlocale' from '/home/zassoc/anaconda3/envs/m/lib/python3.7/_bootlocale.py'>,\n",
       " '_locale': <module '_locale' (built-in)>,\n",
       " 'site': <module 'site' from '/home/zassoc/anaconda3/envs/m/lib/python3.7/site.py'>,\n",
       " 'os': <module 'os' from '/home/zassoc/anaconda3/envs/m/lib/python3.7/os.py'>,\n",
       " 'stat': <module 'stat' from '/home/zassoc/anaconda3/envs/m/lib/python3.7/stat.py'>,\n",
       " '_stat': <module '_stat' (built-in)>,\n",
       " 'posixpath': <module 'posixpath' from '/home/zassoc/anaconda3/envs/m/lib/python3.7/posixpath.py'>,\n",
       " 'genericpath': <module 'genericpath' from '/home/zassoc/anaconda3/envs/m/lib/python3.7/genericpath.py'>,\n",
       " 'os.path': <module 'posixpath' from '/home/zassoc/anaconda3/envs/m/lib/python3.7/posixpath.py'>,\n",
       " '_collections_abc': <module '_collections_abc' from '/home/zassoc/anaconda3/envs/m/lib/python3.7/_collections_abc.py'>,\n",
       " '_sitebuiltins': <module '_sitebuiltins' from '/home/zassoc/anaconda3/envs/m/lib/python3.7/_sitebuiltins.py'>,\n",
       " 'runpy': <module 'runpy' from '/home/zassoc/anaconda3/envs/m/lib/python3.7/runpy.py'>,\n",
       " 'importlib': <module 'importlib' from '/home/zassoc/anaconda3/envs/m/lib/python3.7/importlib/__init__.py'>,\n",
       " 'importlib._bootstrap': <module 'importlib._bootstrap' (frozen)>,\n",
       " 'importlib._bootstrap_external': <module 'importlib._bootstrap_external' (frozen)>,\n",
       " 'types': <module 'types' from '/home/zassoc/anaconda3/envs/m/lib/python3.7/types.py'>,\n",
       " 'warnings': <module 'warnings' from '/home/zassoc/anaconda3/envs/m/lib/python3.7/warnings.py'>,\n",
       " 'importlib.machinery': <module 'importlib.machinery' from '/home/zassoc/anaconda3/envs/m/lib/python3.7/importlib/machinery.py'>,\n",
       " 'importlib.util': <module 'importlib.util' from '/home/zassoc/anaconda3/envs/m/lib/python3.7/importlib/util.py'>,\n",
       " 'importlib.abc': <module 'importlib.abc' from '/home/zassoc/anaconda3/envs/m/lib/python3.7/importlib/abc.py'>,\n",
       " 'contextlib': <module 'contextlib' from '/home/zassoc/anaconda3/envs/m/lib/python3.7/contextlib.py'>,\n",
       " 'collections': <module 'collections' from '/home/zassoc/anaconda3/envs/m/lib/python3.7/collections/__init__.py'>,\n",
       " 'operator': <module 'operator' from '/home/zassoc/anaconda3/envs/m/lib/python3.7/operator.py'>,\n",
       " '_operator': <module '_operator' (built-in)>,\n",
       " 'keyword': <module 'keyword' from '/home/zassoc/anaconda3/envs/m/lib/python3.7/keyword.py'>,\n",
       " 'heapq': <module 'heapq' from '/home/zassoc/anaconda3/envs/m/lib/python3.7/heapq.py'>,\n",
       " '_heapq': <module '_heapq' from '/home/zassoc/anaconda3/envs/m/lib/python3.7/lib-dynload/_heapq.cpython-37m-x86_64-linux-gnu.so'>,\n",
       " 'itertools': <module 'itertools' (built-in)>,\n",
       " 'reprlib': <module 'reprlib' from '/home/zassoc/anaconda3/envs/m/lib/python3.7/reprlib.py'>,\n",
       " '_collections': <module '_collections' (built-in)>,\n",
       " 'functools': <module 'functools' from '/home/zassoc/anaconda3/envs/m/lib/python3.7/functools.py'>,\n",
       " '_functools': <module '_functools' (built-in)>,\n",
       " 'pkgutil': <module 'pkgutil' from '/home/zassoc/anaconda3/envs/m/lib/python3.7/pkgutil.py'>,\n",
       " 'weakref': <module 'weakref' from '/home/zassoc/anaconda3/envs/m/lib/python3.7/weakref.py'>,\n",
       " '_weakrefset': <module '_weakrefset' from '/home/zassoc/anaconda3/envs/m/lib/python3.7/_weakrefset.py'>,\n",
       " 'ipykernel': <module 'ipykernel' from '/home/zassoc/anaconda3/envs/m/lib/python3.7/site-packages/ipykernel/__init__.py'>,\n",
       " 'ipykernel._version': <module 'ipykernel._version' from '/home/zassoc/anaconda3/envs/m/lib/python3.7/site-packages/ipykernel/_version.py'>,\n",
       " 'ipykernel.connect': <module 'ipykernel.connect' from '/home/zassoc/anaconda3/envs/m/lib/python3.7/site-packages/ipykernel/connect.py'>,\n",
       " '__future__': <module '__future__' from '/home/zassoc/anaconda3/envs/m/lib/python3.7/__future__.py'>,\n",
       " 'json': <module 'json' from '/home/zassoc/anaconda3/envs/m/lib/python3.7/json/__init__.py'>,\n",
       " 'json.decoder': <module 'json.decoder' from '/home/zassoc/anaconda3/envs/m/lib/python3.7/json/decoder.py'>,\n",
       " 're': <module 're' from '/home/zassoc/anaconda3/envs/m/lib/python3.7/re.py'>,\n",
       " 'enum': <module 'enum' from '/home/zassoc/anaconda3/envs/m/lib/python3.7/enum.py'>,\n",
       " 'sre_compile': <module 'sre_compile' from '/home/zassoc/anaconda3/envs/m/lib/python3.7/sre_compile.py'>,\n",
       " '_sre': <module '_sre' (built-in)>,\n",
       " 'sre_parse': <module 'sre_parse' from '/home/zassoc/anaconda3/envs/m/lib/python3.7/sre_parse.py'>,\n",
       " 'sre_constants': <module 'sre_constants' from '/home/zassoc/anaconda3/envs/m/lib/python3.7/sre_constants.py'>,\n",
       " 'copyreg': <module 'copyreg' from '/home/zassoc/anaconda3/envs/m/lib/python3.7/copyreg.py'>,\n",
       " 'json.scanner': <module 'json.scanner' from '/home/zassoc/anaconda3/envs/m/lib/python3.7/json/scanner.py'>,\n",
       " '_json': <module '_json' from '/home/zassoc/anaconda3/envs/m/lib/python3.7/lib-dynload/_json.cpython-37m-x86_64-linux-gnu.so'>,\n",
       " 'json.encoder': <module 'json.encoder' from '/home/zassoc/anaconda3/envs/m/lib/python3.7/json/encoder.py'>,\n",
       " 'subprocess': <module 'subprocess' from '/home/zassoc/anaconda3/envs/m/lib/python3.7/subprocess.py'>,\n",
       " 'time': <module 'time' (built-in)>,\n",
       " 'signal': <module 'signal' from '/home/zassoc/anaconda3/envs/m/lib/python3.7/signal.py'>,\n",
       " 'errno': <module 'errno' (built-in)>,\n",
       " '_posixsubprocess': <module '_posixsubprocess' from '/home/zassoc/anaconda3/envs/m/lib/python3.7/lib-dynload/_posixsubprocess.cpython-37m-x86_64-linux-gnu.so'>,\n",
       " 'select': <module 'select' from '/home/zassoc/anaconda3/envs/m/lib/python3.7/lib-dynload/select.cpython-37m-x86_64-linux-gnu.so'>,\n",
       " 'selectors': <module 'selectors' from '/home/zassoc/anaconda3/envs/m/lib/python3.7/selectors.py'>,\n",
       " 'collections.abc': <module 'collections.abc' from '/home/zassoc/anaconda3/envs/m/lib/python3.7/collections/abc.py'>,\n",
       " 'math': <module 'math' from '/home/zassoc/anaconda3/envs/m/lib/python3.7/lib-dynload/math.cpython-37m-x86_64-linux-gnu.so'>,\n",
       " 'threading': <module 'threading' from '/home/zassoc/anaconda3/envs/m/lib/python3.7/threading.py'>,\n",
       " 'traceback': <module 'traceback' from '/home/zassoc/anaconda3/envs/m/lib/python3.7/traceback.py'>,\n",
       " 'linecache': <module 'linecache' from '/home/zassoc/anaconda3/envs/m/lib/python3.7/linecache.py'>,\n",
       " 'tokenize': <module 'tokenize' from '/home/zassoc/anaconda3/envs/m/lib/python3.7/tokenize.py'>,\n",
       " 'token': <module 'token' from '/home/zassoc/anaconda3/envs/m/lib/python3.7/token.py'>,\n",
       " 'IPython': <module 'IPython' from '/home/zassoc/anaconda3/envs/m/lib/python3.7/site-packages/IPython/__init__.py'>,\n",
       " 'IPython.core': <module 'IPython.core' from '/home/zassoc/anaconda3/envs/m/lib/python3.7/site-packages/IPython/core/__init__.py'>,\n",
       " 'IPython.core.getipython': <module 'IPython.core.getipython' from '/home/zassoc/anaconda3/envs/m/lib/python3.7/site-packages/IPython/core/getipython.py'>,\n",
       " 'IPython.core.release': <module 'IPython.core.release' from '/home/zassoc/anaconda3/envs/m/lib/python3.7/site-packages/IPython/core/release.py'>,\n",
       " 'IPython.core.application': <module 'IPython.core.application' from '/home/zassoc/anaconda3/envs/m/lib/python3.7/site-packages/IPython/core/application.py'>,\n",
       " 'atexit': <module 'atexit' (built-in)>,\n",
       " 'copy': <module 'copy' from '/home/zassoc/anaconda3/envs/m/lib/python3.7/copy.py'>,\n",
       " 'glob': <module 'glob' from '/home/zassoc/anaconda3/envs/m/lib/python3.7/glob.py'>,\n",
       " 'fnmatch': <module 'fnmatch' from '/home/zassoc/anaconda3/envs/m/lib/python3.7/fnmatch.py'>,\n",
       " 'logging': <module 'logging' from '/home/zassoc/anaconda3/envs/m/lib/python3.7/logging/__init__.py'>,\n",
       " 'string': <module 'string' from '/home/zassoc/anaconda3/envs/m/lib/python3.7/string.py'>,\n",
       " '_string': <module '_string' (built-in)>,\n",
       " 'shutil': <module 'shutil' from '/home/zassoc/anaconda3/envs/m/lib/python3.7/shutil.py'>,\n",
       " 'zlib': <module 'zlib' from '/home/zassoc/anaconda3/envs/m/lib/python3.7/lib-dynload/zlib.cpython-37m-x86_64-linux-gnu.so'>,\n",
       " 'bz2': <module 'bz2' from '/home/zassoc/anaconda3/envs/m/lib/python3.7/bz2.py'>,\n",
       " '_compression': <module '_compression' from '/home/zassoc/anaconda3/envs/m/lib/python3.7/_compression.py'>,\n",
       " '_bz2': <module '_bz2' from '/home/zassoc/anaconda3/envs/m/lib/python3.7/lib-dynload/_bz2.cpython-37m-x86_64-linux-gnu.so'>,\n",
       " 'lzma': <module 'lzma' from '/home/zassoc/anaconda3/envs/m/lib/python3.7/lzma.py'>,\n",
       " '_lzma': <module '_lzma' from '/home/zassoc/anaconda3/envs/m/lib/python3.7/lib-dynload/_lzma.cpython-37m-x86_64-linux-gnu.so'>,\n",
       " 'pwd': <module 'pwd' (built-in)>,\n",
       " 'grp': <module 'grp' from '/home/zassoc/anaconda3/envs/m/lib/python3.7/lib-dynload/grp.cpython-37m-x86_64-linux-gnu.so'>,\n",
       " 'traitlets': <module 'traitlets' from '/home/zassoc/anaconda3/envs/m/lib/python3.7/site-packages/traitlets/__init__.py'>,\n",
       " 'traitlets.traitlets': <module 'traitlets.traitlets' from '/home/zassoc/anaconda3/envs/m/lib/python3.7/site-packages/traitlets/traitlets.py'>,\n",
       " 'inspect': <module 'inspect' from '/home/zassoc/anaconda3/envs/m/lib/python3.7/inspect.py'>,\n",
       " 'dis': <module 'dis' from '/home/zassoc/anaconda3/envs/m/lib/python3.7/dis.py'>,\n",
       " 'opcode': <module 'opcode' from '/home/zassoc/anaconda3/envs/m/lib/python3.7/opcode.py'>,\n",
       " '_opcode': <module '_opcode' from '/home/zassoc/anaconda3/envs/m/lib/python3.7/lib-dynload/_opcode.cpython-37m-x86_64-linux-gnu.so'>,\n",
       " 'six': <module 'six' from '/home/zassoc/anaconda3/envs/m/lib/python3.7/site-packages/six.py'>,\n",
       " 'struct': <module 'struct' from '/home/zassoc/anaconda3/envs/m/lib/python3.7/struct.py'>,\n",
       " '_struct': <module '_struct' from '/home/zassoc/anaconda3/envs/m/lib/python3.7/lib-dynload/_struct.cpython-37m-x86_64-linux-gnu.so'>,\n",
       " 'traitlets.utils': <module 'traitlets.utils' from '/home/zassoc/anaconda3/envs/m/lib/python3.7/site-packages/traitlets/utils/__init__.py'>,\n",
       " 'traitlets.utils.getargspec': <module 'traitlets.utils.getargspec' from '/home/zassoc/anaconda3/envs/m/lib/python3.7/site-packages/traitlets/utils/getargspec.py'>,\n",
       " 'traitlets.utils.importstring': <module 'traitlets.utils.importstring' from '/home/zassoc/anaconda3/envs/m/lib/python3.7/site-packages/traitlets/utils/importstring.py'>,\n",
       " 'ipython_genutils': <module 'ipython_genutils' from '/home/zassoc/anaconda3/envs/m/lib/python3.7/site-packages/ipython_genutils/__init__.py'>,\n",
       " 'ipython_genutils._version': <module 'ipython_genutils._version' from '/home/zassoc/anaconda3/envs/m/lib/python3.7/site-packages/ipython_genutils/_version.py'>,\n",
       " 'ipython_genutils.py3compat': <module 'ipython_genutils.py3compat' from '/home/zassoc/anaconda3/envs/m/lib/python3.7/site-packages/ipython_genutils/py3compat.py'>,\n",
       " 'ipython_genutils.encoding': <module 'ipython_genutils.encoding' from '/home/zassoc/anaconda3/envs/m/lib/python3.7/site-packages/ipython_genutils/encoding.py'>,\n",
       " 'locale': <module 'locale' from '/home/zassoc/anaconda3/envs/m/lib/python3.7/locale.py'>,\n",
       " 'platform': <module 'platform' from '/home/zassoc/anaconda3/envs/m/lib/python3.7/platform.py'>,\n",
       " 'traitlets.utils.sentinel': <module 'traitlets.utils.sentinel' from '/home/zassoc/anaconda3/envs/m/lib/python3.7/site-packages/traitlets/utils/sentinel.py'>,\n",
       " 'traitlets.utils.bunch': <module 'traitlets.utils.bunch' from '/home/zassoc/anaconda3/envs/m/lib/python3.7/site-packages/traitlets/utils/bunch.py'>,\n",
       " 'traitlets._version': <module 'traitlets._version' from '/home/zassoc/anaconda3/envs/m/lib/python3.7/site-packages/traitlets/_version.py'>,\n",
       " 'traitlets.config': <module 'traitlets.config' from '/home/zassoc/anaconda3/envs/m/lib/python3.7/site-packages/traitlets/config/__init__.py'>,\n",
       " 'traitlets.config.application': <module 'traitlets.config.application' from '/home/zassoc/anaconda3/envs/m/lib/python3.7/site-packages/traitlets/config/application.py'>,\n",
       " 'decorator': <module 'decorator' from '/home/zassoc/anaconda3/envs/m/lib/python3.7/site-packages/decorator.py'>,\n",
       " 'traitlets.config.configurable': <module 'traitlets.config.configurable' from '/home/zassoc/anaconda3/envs/m/lib/python3.7/site-packages/traitlets/config/configurable.py'>,\n",
       " 'traitlets.config.loader': <module 'traitlets.config.loader' from '/home/zassoc/anaconda3/envs/m/lib/python3.7/site-packages/traitlets/config/loader.py'>,\n",
       " 'argparse': <module 'argparse' from '/home/zassoc/anaconda3/envs/m/lib/python3.7/argparse.py'>,\n",
       " 'gettext': <module 'gettext' from '/home/zassoc/anaconda3/envs/m/lib/python3.7/gettext.py'>,\n",
       " 'ast': <module 'ast' from '/home/zassoc/anaconda3/envs/m/lib/python3.7/ast.py'>,\n",
       " '_ast': <module '_ast' (built-in)>,\n",
       " 'ipython_genutils.path': <module 'ipython_genutils.path' from '/home/zassoc/anaconda3/envs/m/lib/python3.7/site-packages/ipython_genutils/path.py'>,\n",
       " 'random': <module 'random' from '/home/zassoc/anaconda3/envs/m/lib/python3.7/random.py'>,\n",
       " 'hashlib': <module 'hashlib' from '/home/zassoc/anaconda3/envs/m/lib/python3.7/hashlib.py'>,\n",
       " '_hashlib': <module '_hashlib' from '/home/zassoc/anaconda3/envs/m/lib/python3.7/lib-dynload/_hashlib.cpython-37m-x86_64-linux-gnu.so'>,\n",
       " '_blake2': <module '_blake2' from '/home/zassoc/anaconda3/envs/m/lib/python3.7/lib-dynload/_blake2.cpython-37m-x86_64-linux-gnu.so'>,\n",
       " '_sha3': <module '_sha3' from '/home/zassoc/anaconda3/envs/m/lib/python3.7/lib-dynload/_sha3.cpython-37m-x86_64-linux-gnu.so'>,\n",
       " 'bisect': <module 'bisect' from '/home/zassoc/anaconda3/envs/m/lib/python3.7/bisect.py'>,\n",
       " '_bisect': <module '_bisect' from '/home/zassoc/anaconda3/envs/m/lib/python3.7/lib-dynload/_bisect.cpython-37m-x86_64-linux-gnu.so'>,\n",
       " '_random': <module '_random' from '/home/zassoc/anaconda3/envs/m/lib/python3.7/lib-dynload/_random.cpython-37m-x86_64-linux-gnu.so'>,\n",
       " 'ipython_genutils.text': <module 'ipython_genutils.text' from '/home/zassoc/anaconda3/envs/m/lib/python3.7/site-packages/ipython_genutils/text.py'>,\n",
       " 'textwrap': <module 'textwrap' from '/home/zassoc/anaconda3/envs/m/lib/python3.7/textwrap.py'>,\n",
       " 'ipython_genutils.importstring': <module 'ipython_genutils.importstring' from '/home/zassoc/anaconda3/envs/m/lib/python3.7/site-packages/ipython_genutils/importstring.py'>,\n",
       " 'IPython.core.crashhandler': <module 'IPython.core.crashhandler' from '/home/zassoc/anaconda3/envs/m/lib/python3.7/site-packages/IPython/core/crashhandler.py'>,\n",
       " 'pprint': <module 'pprint' from '/home/zassoc/anaconda3/envs/m/lib/python3.7/pprint.py'>,\n",
       " 'IPython.core.ultratb': <module 'IPython.core.ultratb' from '/home/zassoc/anaconda3/envs/m/lib/python3.7/site-packages/IPython/core/ultratb.py'>,\n",
       " 'pydoc': <module 'pydoc' from '/home/zassoc/anaconda3/envs/m/lib/python3.7/pydoc.py'>,\n",
       " 'urllib': <module 'urllib' from '/home/zassoc/anaconda3/envs/m/lib/python3.7/urllib/__init__.py'>,\n",
       " 'urllib.parse': <module 'urllib.parse' from '/home/zassoc/anaconda3/envs/m/lib/python3.7/urllib/parse.py'>,\n",
       " 'IPython.core.debugger': <module 'IPython.core.debugger' from '/home/zassoc/anaconda3/envs/m/lib/python3.7/site-packages/IPython/core/debugger.py'>,\n",
       " 'bdb': <module 'bdb' from '/home/zassoc/anaconda3/envs/m/lib/python3.7/bdb.py'>,\n",
       " 'IPython.utils': <module 'IPython.utils' from '/home/zassoc/anaconda3/envs/m/lib/python3.7/site-packages/IPython/utils/__init__.py'>,\n",
       " 'IPython.utils.PyColorize': <module 'IPython.utils.PyColorize' from '/home/zassoc/anaconda3/envs/m/lib/python3.7/site-packages/IPython/utils/PyColorize.py'>,\n",
       " 'IPython.utils.coloransi': <module 'IPython.utils.coloransi' from '/home/zassoc/anaconda3/envs/m/lib/python3.7/site-packages/IPython/utils/coloransi.py'>,\n",
       " 'IPython.utils.ipstruct': <module 'IPython.utils.ipstruct' from '/home/zassoc/anaconda3/envs/m/lib/python3.7/site-packages/IPython/utils/ipstruct.py'>,\n",
       " 'IPython.utils.colorable': <module 'IPython.utils.colorable' from '/home/zassoc/anaconda3/envs/m/lib/python3.7/site-packages/IPython/utils/colorable.py'>,\n",
       " 'pygments': <module 'pygments' from '/home/zassoc/anaconda3/envs/m/lib/python3.7/site-packages/pygments/__init__.py'>,\n",
       " 'pygments.util': <module 'pygments.util' from '/home/zassoc/anaconda3/envs/m/lib/python3.7/site-packages/pygments/util.py'>,\n",
       " 'IPython.utils.py3compat': <module 'IPython.utils.py3compat' from '/home/zassoc/anaconda3/envs/m/lib/python3.7/site-packages/IPython/utils/py3compat.py'>,\n",
       " 'IPython.utils.encoding': <module 'IPython.utils.encoding' from '/home/zassoc/anaconda3/envs/m/lib/python3.7/site-packages/IPython/utils/encoding.py'>,\n",
       " 'IPython.core.excolors': <module 'IPython.core.excolors' from '/home/zassoc/anaconda3/envs/m/lib/python3.7/site-packages/IPython/core/excolors.py'>,\n",
       " 'IPython.testing': <module 'IPython.testing' from '/home/zassoc/anaconda3/envs/m/lib/python3.7/site-packages/IPython/testing/__init__.py'>,\n",
       " 'IPython.testing.skipdoctest': <module 'IPython.testing.skipdoctest' from '/home/zassoc/anaconda3/envs/m/lib/python3.7/site-packages/IPython/testing/skipdoctest.py'>,\n",
       " 'pdb': <module 'pdb' from '/home/zassoc/anaconda3/envs/m/lib/python3.7/pdb.py'>,\n",
       " 'cmd': <module 'cmd' from '/home/zassoc/anaconda3/envs/m/lib/python3.7/cmd.py'>,\n",
       " 'code': <module 'code' from '/home/zassoc/anaconda3/envs/m/lib/python3.7/code.py'>,\n",
       " 'codeop': <module 'codeop' from '/home/zassoc/anaconda3/envs/m/lib/python3.7/codeop.py'>,\n",
       " 'IPython.core.display_trap': <module 'IPython.core.display_trap' from '/home/zassoc/anaconda3/envs/m/lib/python3.7/site-packages/IPython/core/display_trap.py'>,\n",
       " 'IPython.utils.path': <module 'IPython.utils.path' from '/home/zassoc/anaconda3/envs/m/lib/python3.7/site-packages/IPython/utils/path.py'>,\n",
       " 'IPython.utils.process': <module 'IPython.utils.process' from '/home/zassoc/anaconda3/envs/m/lib/python3.7/site-packages/IPython/utils/process.py'>,\n",
       " 'IPython.utils._process_posix': <module 'IPython.utils._process_posix' from '/home/zassoc/anaconda3/envs/m/lib/python3.7/site-packages/IPython/utils/_process_posix.py'>,\n",
       " 'pexpect': <module 'pexpect' from '/home/zassoc/anaconda3/envs/m/lib/python3.7/site-packages/pexpect/__init__.py'>,\n",
       " 'pexpect.exceptions': <module 'pexpect.exceptions' from '/home/zassoc/anaconda3/envs/m/lib/python3.7/site-packages/pexpect/exceptions.py'>,\n",
       " 'pexpect.utils': <module 'pexpect.utils' from '/home/zassoc/anaconda3/envs/m/lib/python3.7/site-packages/pexpect/utils.py'>,\n",
       " 'pexpect.expect': <module 'pexpect.expect' from '/home/zassoc/anaconda3/envs/m/lib/python3.7/site-packages/pexpect/expect.py'>,\n",
       " 'pexpect.pty_spawn': <module 'pexpect.pty_spawn' from '/home/zassoc/anaconda3/envs/m/lib/python3.7/site-packages/pexpect/pty_spawn.py'>,\n",
       " 'pty': <module 'pty' from '/home/zassoc/anaconda3/envs/m/lib/python3.7/pty.py'>,\n",
       " 'tty': <module 'tty' from '/home/zassoc/anaconda3/envs/m/lib/python3.7/tty.py'>,\n",
       " 'termios': <module 'termios' from '/home/zassoc/anaconda3/envs/m/lib/python3.7/lib-dynload/termios.cpython-37m-x86_64-linux-gnu.so'>,\n",
       " 'ptyprocess': <module 'ptyprocess' from '/home/zassoc/anaconda3/envs/m/lib/python3.7/site-packages/ptyprocess/__init__.py'>,\n",
       " 'ptyprocess.ptyprocess': <module 'ptyprocess.ptyprocess' from '/home/zassoc/anaconda3/envs/m/lib/python3.7/site-packages/ptyprocess/ptyprocess.py'>,\n",
       " 'fcntl': <module 'fcntl' from '/home/zassoc/anaconda3/envs/m/lib/python3.7/lib-dynload/fcntl.cpython-37m-x86_64-linux-gnu.so'>,\n",
       " 'resource': <module 'resource' from '/home/zassoc/anaconda3/envs/m/lib/python3.7/lib-dynload/resource.cpython-37m-x86_64-linux-gnu.so'>,\n",
       " 'ptyprocess.util': <module 'ptyprocess.util' from '/home/zassoc/anaconda3/envs/m/lib/python3.7/site-packages/ptyprocess/util.py'>,\n",
       " 'pexpect.spawnbase': <module 'pexpect.spawnbase' from '/home/zassoc/anaconda3/envs/m/lib/python3.7/site-packages/pexpect/spawnbase.py'>,\n",
       " 'pexpect.run': <module 'pexpect.run' from '/home/zassoc/anaconda3/envs/m/lib/python3.7/site-packages/pexpect/run.py'>,\n",
       " 'IPython.utils._process_common': <module 'IPython.utils._process_common' from '/home/zassoc/anaconda3/envs/m/lib/python3.7/site-packages/IPython/utils/_process_common.py'>,\n",
       " 'shlex': <module 'shlex' from '/home/zassoc/anaconda3/envs/m/lib/python3.7/shlex.py'>,\n",
       " 'IPython.utils.decorators': <module 'IPython.utils.decorators' from '/home/zassoc/anaconda3/envs/m/lib/python3.7/site-packages/IPython/utils/decorators.py'>,\n",
       " 'IPython.utils.data': <module 'IPython.utils.data' from '/home/zassoc/anaconda3/envs/m/lib/python3.7/site-packages/IPython/utils/data.py'>,\n",
       " 'IPython.utils.terminal': <module 'IPython.utils.terminal' from '/home/zassoc/anaconda3/envs/m/lib/python3.7/site-packages/IPython/utils/terminal.py'>,\n",
       " 'IPython.utils.sysinfo': <module 'IPython.utils.sysinfo' from '/home/zassoc/anaconda3/envs/m/lib/python3.7/site-packages/IPython/utils/sysinfo.py'>,\n",
       " 'IPython.utils._sysinfo': <module 'IPython.utils._sysinfo' from '/home/zassoc/anaconda3/envs/m/lib/python3.7/site-packages/IPython/utils/_sysinfo.py'>,\n",
       " 'IPython.core.profiledir': <module 'IPython.core.profiledir' from '/home/zassoc/anaconda3/envs/m/lib/python3.7/site-packages/IPython/core/profiledir.py'>,\n",
       " 'IPython.paths': <module 'IPython.paths' from '/home/zassoc/anaconda3/envs/m/lib/python3.7/site-packages/IPython/paths.py'>,\n",
       " 'tempfile': <module 'tempfile' from '/home/zassoc/anaconda3/envs/m/lib/python3.7/tempfile.py'>,\n",
       " 'IPython.utils.importstring': <module 'IPython.utils.importstring' from '/home/zassoc/anaconda3/envs/m/lib/python3.7/site-packages/IPython/utils/importstring.py'>,\n",
       " 'IPython.terminal': <module 'IPython.terminal' from '/home/zassoc/anaconda3/envs/m/lib/python3.7/site-packages/IPython/terminal/__init__.py'>,\n",
       " 'IPython.terminal.embed': <module 'IPython.terminal.embed' from '/home/zassoc/anaconda3/envs/m/lib/python3.7/site-packages/IPython/terminal/embed.py'>,\n",
       " 'IPython.core.compilerop': <module 'IPython.core.compilerop' from '/home/zassoc/anaconda3/envs/m/lib/python3.7/site-packages/IPython/core/compilerop.py'>,\n",
       " 'IPython.core.magic_arguments': <module 'IPython.core.magic_arguments' from '/home/zassoc/anaconda3/envs/m/lib/python3.7/site-packages/IPython/core/magic_arguments.py'>,\n",
       " 'IPython.core.error': <module 'IPython.core.error' from '/home/zassoc/anaconda3/envs/m/lib/python3.7/site-packages/IPython/core/error.py'>,\n",
       " 'IPython.utils.text': <module 'IPython.utils.text' from '/home/zassoc/anaconda3/envs/m/lib/python3.7/site-packages/IPython/utils/text.py'>,\n",
       " 'pathlib': <module 'pathlib' from '/home/zassoc/anaconda3/envs/m/lib/python3.7/pathlib.py'>,\n",
       " 'ntpath': <module 'ntpath' from '/home/zassoc/anaconda3/envs/m/lib/python3.7/ntpath.py'>,\n",
       " 'IPython.core.magic': <module 'IPython.core.magic' from '/home/zassoc/anaconda3/envs/m/lib/python3.7/site-packages/IPython/core/magic.py'>,\n",
       " 'getopt': <module 'getopt' from '/home/zassoc/anaconda3/envs/m/lib/python3.7/getopt.py'>,\n",
       " 'IPython.core.oinspect': <module 'IPython.core.oinspect' from '/home/zassoc/anaconda3/envs/m/lib/python3.7/site-packages/IPython/core/oinspect.py'>,\n",
       " 'IPython.core.page': <module 'IPython.core.page' from '/home/zassoc/anaconda3/envs/m/lib/python3.7/site-packages/IPython/core/page.py'>,\n",
       " 'IPython.core.display': <module 'IPython.core.display' from '/home/zassoc/anaconda3/envs/m/lib/python3.7/site-packages/IPython/core/display.py'>,\n",
       " 'binascii': <module 'binascii' from '/home/zassoc/anaconda3/envs/m/lib/python3.7/lib-dynload/binascii.cpython-37m-x86_64-linux-gnu.so'>,\n",
       " 'mimetypes': <module 'mimetypes' from '/home/zassoc/anaconda3/envs/m/lib/python3.7/mimetypes.py'>,\n",
       " 'IPython.lib': <module 'IPython.lib' from '/home/zassoc/anaconda3/envs/m/lib/python3.7/site-packages/IPython/lib/__init__.py'>,\n",
       " 'IPython.lib.security': <module 'IPython.lib.security' from '/home/zassoc/anaconda3/envs/m/lib/python3.7/site-packages/IPython/lib/security.py'>,\n",
       " 'getpass': <module 'getpass' from '/home/zassoc/anaconda3/envs/m/lib/python3.7/getpass.py'>,\n",
       " 'IPython.lib.pretty': <module 'IPython.lib.pretty' from '/home/zassoc/anaconda3/envs/m/lib/python3.7/site-packages/IPython/lib/pretty.py'>,\n",
       " 'datetime': <module 'datetime' from '/home/zassoc/anaconda3/envs/m/lib/python3.7/datetime.py'>,\n",
       " '_datetime': <module '_datetime' from '/home/zassoc/anaconda3/envs/m/lib/python3.7/lib-dynload/_datetime.cpython-37m-x86_64-linux-gnu.so'>,\n",
       " 'IPython.utils.openpy': <module 'IPython.utils.openpy' from '/home/zassoc/anaconda3/envs/m/lib/python3.7/site-packages/IPython/utils/openpy.py'>,\n",
       " 'IPython.utils.dir2': <module 'IPython.utils.dir2' from '/home/zassoc/anaconda3/envs/m/lib/python3.7/site-packages/IPython/utils/dir2.py'>,\n",
       " 'IPython.utils.wildcard': <module 'IPython.utils.wildcard' from '/home/zassoc/anaconda3/envs/m/lib/python3.7/site-packages/IPython/utils/wildcard.py'>,\n",
       " 'pygments.lexers': <module 'pygments.lexers' from '/home/zassoc/anaconda3/envs/m/lib/python3.7/site-packages/pygments/lexers/__init__.py'>,\n",
       " 'pygments.lexers._mapping': <module 'pygments.lexers._mapping' from '/home/zassoc/anaconda3/envs/m/lib/python3.7/site-packages/pygments/lexers/_mapping.py'>,\n",
       " 'pygments.modeline': <module 'pygments.modeline' from '/home/zassoc/anaconda3/envs/m/lib/python3.7/site-packages/pygments/modeline.py'>,\n",
       " 'pygments.plugin': <module 'pygments.plugin' from '/home/zassoc/anaconda3/envs/m/lib/python3.7/site-packages/pygments/plugin.py'>,\n",
       " 'pygments.lexers.python': <module 'pygments.lexers.python' from '/home/zassoc/anaconda3/envs/m/lib/python3.7/site-packages/pygments/lexers/python.py'>,\n",
       " 'pygments.lexer': <module 'pygments.lexer' from '/home/zassoc/anaconda3/envs/m/lib/python3.7/site-packages/pygments/lexer.py'>,\n",
       " 'pygments.filter': <module 'pygments.filter' from '/home/zassoc/anaconda3/envs/m/lib/python3.7/site-packages/pygments/filter.py'>,\n",
       " 'pygments.filters': <module 'pygments.filters' from '/home/zassoc/anaconda3/envs/m/lib/python3.7/site-packages/pygments/filters/__init__.py'>,\n",
       " 'pygments.token': <module 'pygments.token' from '/home/zassoc/anaconda3/envs/m/lib/python3.7/site-packages/pygments/token.py'>,\n",
       " 'pygments.regexopt': <module 'pygments.regexopt' from '/home/zassoc/anaconda3/envs/m/lib/python3.7/site-packages/pygments/regexopt.py'>,\n",
       " 'pygments.unistring': <module 'pygments.unistring' from '/home/zassoc/anaconda3/envs/m/lib/python3.7/site-packages/pygments/unistring.py'>,\n",
       " 'pygments.formatters': <module 'pygments.formatters' from '/home/zassoc/anaconda3/envs/m/lib/python3.7/site-packages/pygments/formatters/__init__.py'>,\n",
       " 'pygments.formatters._mapping': <module 'pygments.formatters._mapping' from '/home/zassoc/anaconda3/envs/m/lib/python3.7/site-packages/pygments/formatters/_mapping.py'>,\n",
       " 'pygments.formatters.html': <module 'pygments.formatters.html' from '/home/zassoc/anaconda3/envs/m/lib/python3.7/site-packages/pygments/formatters/html.py'>,\n",
       " 'pygments.formatter': <module 'pygments.formatter' from '/home/zassoc/anaconda3/envs/m/lib/python3.7/site-packages/pygments/formatter.py'>,\n",
       " 'pygments.styles': <module 'pygments.styles' from '/home/zassoc/anaconda3/envs/m/lib/python3.7/site-packages/pygments/styles/__init__.py'>,\n",
       " 'IPython.core.inputtransformer2': <module 'IPython.core.inputtransformer2' from '/home/zassoc/anaconda3/envs/m/lib/python3.7/site-packages/IPython/core/inputtransformer2.py'>,\n",
       " 'typing': <module 'typing' from '/home/zassoc/anaconda3/envs/m/lib/python3.7/typing.py'>,\n",
       " 'typing.io': typing.io,\n",
       " 'typing.re': typing.re,\n",
       " 'IPython.core.interactiveshell': <module 'IPython.core.interactiveshell' from '/home/zassoc/anaconda3/envs/m/lib/python3.7/site-packages/IPython/core/interactiveshell.py'>,\n",
       " 'asyncio': <module 'asyncio' from '/home/zassoc/anaconda3/envs/m/lib/python3.7/asyncio/__init__.py'>,\n",
       " 'asyncio.base_events': <module 'asyncio.base_events' from '/home/zassoc/anaconda3/envs/m/lib/python3.7/asyncio/base_events.py'>,\n",
       " 'concurrent': <module 'concurrent' from '/home/zassoc/anaconda3/envs/m/lib/python3.7/concurrent/__init__.py'>,\n",
       " 'concurrent.futures': <module 'concurrent.futures' from '/home/zassoc/anaconda3/envs/m/lib/python3.7/concurrent/futures/__init__.py'>,\n",
       " 'concurrent.futures._base': <module 'concurrent.futures._base' from '/home/zassoc/anaconda3/envs/m/lib/python3.7/concurrent/futures/_base.py'>,\n",
       " 'socket': <module 'socket' from '/home/zassoc/anaconda3/envs/m/lib/python3.7/socket.py'>,\n",
       " '_socket': <module '_socket' from '/home/zassoc/anaconda3/envs/m/lib/python3.7/lib-dynload/_socket.cpython-37m-x86_64-linux-gnu.so'>,\n",
       " 'ssl': <module 'ssl' from '/home/zassoc/anaconda3/envs/m/lib/python3.7/ssl.py'>,\n",
       " '_ssl': <module '_ssl' from '/home/zassoc/anaconda3/envs/m/lib/python3.7/lib-dynload/_ssl.cpython-37m-x86_64-linux-gnu.so'>,\n",
       " 'base64': <module 'base64' from '/home/zassoc/anaconda3/envs/m/lib/python3.7/base64.py'>,\n",
       " 'asyncio.constants': <module 'asyncio.constants' from '/home/zassoc/anaconda3/envs/m/lib/python3.7/asyncio/constants.py'>,\n",
       " 'asyncio.coroutines': <module 'asyncio.coroutines' from '/home/zassoc/anaconda3/envs/m/lib/python3.7/asyncio/coroutines.py'>,\n",
       " 'asyncio.base_futures': <module 'asyncio.base_futures' from '/home/zassoc/anaconda3/envs/m/lib/python3.7/asyncio/base_futures.py'>,\n",
       " 'asyncio.format_helpers': <module 'asyncio.format_helpers' from '/home/zassoc/anaconda3/envs/m/lib/python3.7/asyncio/format_helpers.py'>,\n",
       " 'asyncio.log': <module 'asyncio.log' from '/home/zassoc/anaconda3/envs/m/lib/python3.7/asyncio/log.py'>,\n",
       " 'asyncio.events': <module 'asyncio.events' from '/home/zassoc/anaconda3/envs/m/lib/python3.7/asyncio/events.py'>,\n",
       " 'contextvars': <module 'contextvars' from '/home/zassoc/anaconda3/envs/m/lib/python3.7/contextvars.py'>,\n",
       " '_contextvars': <module '_contextvars' from '/home/zassoc/anaconda3/envs/m/lib/python3.7/lib-dynload/_contextvars.cpython-37m-x86_64-linux-gnu.so'>,\n",
       " 'asyncio.base_tasks': <module 'asyncio.base_tasks' from '/home/zassoc/anaconda3/envs/m/lib/python3.7/asyncio/base_tasks.py'>,\n",
       " '_asyncio': <module '_asyncio' from '/home/zassoc/anaconda3/envs/m/lib/python3.7/lib-dynload/_asyncio.cpython-37m-x86_64-linux-gnu.so'>,\n",
       " 'asyncio.futures': <module 'asyncio.futures' from '/home/zassoc/anaconda3/envs/m/lib/python3.7/asyncio/futures.py'>,\n",
       " 'asyncio.protocols': <module 'asyncio.protocols' from '/home/zassoc/anaconda3/envs/m/lib/python3.7/asyncio/protocols.py'>,\n",
       " 'asyncio.sslproto': <module 'asyncio.sslproto' from '/home/zassoc/anaconda3/envs/m/lib/python3.7/asyncio/sslproto.py'>,\n",
       " 'asyncio.transports': <module 'asyncio.transports' from '/home/zassoc/anaconda3/envs/m/lib/python3.7/asyncio/transports.py'>,\n",
       " 'asyncio.tasks': <module 'asyncio.tasks' from '/home/zassoc/anaconda3/envs/m/lib/python3.7/asyncio/tasks.py'>,\n",
       " 'asyncio.locks': <module 'asyncio.locks' from '/home/zassoc/anaconda3/envs/m/lib/python3.7/asyncio/locks.py'>,\n",
       " 'asyncio.runners': <module 'asyncio.runners' from '/home/zassoc/anaconda3/envs/m/lib/python3.7/asyncio/runners.py'>,\n",
       " 'asyncio.queues': <module 'asyncio.queues' from '/home/zassoc/anaconda3/envs/m/lib/python3.7/asyncio/queues.py'>,\n",
       " 'asyncio.streams': <module 'asyncio.streams' from '/home/zassoc/anaconda3/envs/m/lib/python3.7/asyncio/streams.py'>,\n",
       " 'asyncio.subprocess': <module 'asyncio.subprocess' from '/home/zassoc/anaconda3/envs/m/lib/python3.7/asyncio/subprocess.py'>,\n",
       " 'asyncio.unix_events': <module 'asyncio.unix_events' from '/home/zassoc/anaconda3/envs/m/lib/python3.7/asyncio/unix_events.py'>,\n",
       " 'asyncio.base_subprocess': <module 'asyncio.base_subprocess' from '/home/zassoc/anaconda3/envs/m/lib/python3.7/asyncio/base_subprocess.py'>,\n",
       " 'asyncio.selector_events': <module 'asyncio.selector_events' from '/home/zassoc/anaconda3/envs/m/lib/python3.7/asyncio/selector_events.py'>,\n",
       " 'pickleshare': <module 'pickleshare' from '/home/zassoc/anaconda3/envs/m/lib/python3.7/site-packages/pickleshare.py'>,\n",
       " 'pickle': <module 'pickle' from '/home/zassoc/anaconda3/envs/m/lib/python3.7/pickle.py'>,\n",
       " '_compat_pickle': <module '_compat_pickle' from '/home/zassoc/anaconda3/envs/m/lib/python3.7/_compat_pickle.py'>,\n",
       " '_pickle': <module '_pickle' from '/home/zassoc/anaconda3/envs/m/lib/python3.7/lib-dynload/_pickle.cpython-37m-x86_64-linux-gnu.so'>,\n",
       " 'IPython.core.prefilter': <module 'IPython.core.prefilter' from '/home/zassoc/anaconda3/envs/m/lib/python3.7/site-packages/IPython/core/prefilter.py'>,\n",
       " 'IPython.core.autocall': <module 'IPython.core.autocall' from '/home/zassoc/anaconda3/envs/m/lib/python3.7/site-packages/IPython/core/autocall.py'>,\n",
       " 'IPython.core.macro': <module 'IPython.core.macro' from '/home/zassoc/anaconda3/envs/m/lib/python3.7/site-packages/IPython/core/macro.py'>,\n",
       " 'IPython.core.splitinput': <module 'IPython.core.splitinput' from '/home/zassoc/anaconda3/envs/m/lib/python3.7/site-packages/IPython/core/splitinput.py'>,\n",
       " 'IPython.core.alias': <module 'IPython.core.alias' from '/home/zassoc/anaconda3/envs/m/lib/python3.7/site-packages/IPython/core/alias.py'>,\n",
       " 'IPython.core.builtin_trap': <module 'IPython.core.builtin_trap' from '/home/zassoc/anaconda3/envs/m/lib/python3.7/site-packages/IPython/core/builtin_trap.py'>,\n",
       " 'IPython.core.events': <module 'IPython.core.events' from '/home/zassoc/anaconda3/envs/m/lib/python3.7/site-packages/IPython/core/events.py'>,\n",
       " 'backcall': <module 'backcall' from '/home/zassoc/anaconda3/envs/m/lib/python3.7/site-packages/backcall/__init__.py'>,\n",
       " 'backcall.backcall': <module 'backcall.backcall' from '/home/zassoc/anaconda3/envs/m/lib/python3.7/site-packages/backcall/backcall.py'>,\n",
       " 'IPython.core.displayhook': <module 'IPython.core.displayhook' from '/home/zassoc/anaconda3/envs/m/lib/python3.7/site-packages/IPython/core/displayhook.py'>,\n",
       " 'IPython.core.displaypub': <module 'IPython.core.displaypub' from '/home/zassoc/anaconda3/envs/m/lib/python3.7/site-packages/IPython/core/displaypub.py'>,\n",
       " 'IPython.core.extensions': <module 'IPython.core.extensions' from '/home/zassoc/anaconda3/envs/m/lib/python3.7/site-packages/IPython/core/extensions.py'>,\n",
       " 'IPython.core.formatters': <module 'IPython.core.formatters' from '/home/zassoc/anaconda3/envs/m/lib/python3.7/site-packages/IPython/core/formatters.py'>,\n",
       " 'IPython.utils.sentinel': <module 'IPython.utils.sentinel' from '/home/zassoc/anaconda3/envs/m/lib/python3.7/site-packages/IPython/utils/sentinel.py'>,\n",
       " 'IPython.core.history': <module 'IPython.core.history' from '/home/zassoc/anaconda3/envs/m/lib/python3.7/site-packages/IPython/core/history.py'>,\n",
       " 'sqlite3': <module 'sqlite3' from '/home/zassoc/anaconda3/envs/m/lib/python3.7/sqlite3/__init__.py'>,\n",
       " 'sqlite3.dbapi2': <module 'sqlite3.dbapi2' from '/home/zassoc/anaconda3/envs/m/lib/python3.7/sqlite3/dbapi2.py'>,\n",
       " '_sqlite3': <module '_sqlite3' from '/home/zassoc/anaconda3/envs/m/lib/python3.7/lib-dynload/_sqlite3.cpython-37m-x86_64-linux-gnu.so'>,\n",
       " 'IPython.core.logger': <module 'IPython.core.logger' from '/home/zassoc/anaconda3/envs/m/lib/python3.7/site-packages/IPython/core/logger.py'>,\n",
       " 'IPython.core.payload': <module 'IPython.core.payload' from '/home/zassoc/anaconda3/envs/m/lib/python3.7/site-packages/IPython/core/payload.py'>,\n",
       " 'IPython.core.usage': <module 'IPython.core.usage' from '/home/zassoc/anaconda3/envs/m/lib/python3.7/site-packages/IPython/core/usage.py'>,\n",
       " 'IPython.display': <module 'IPython.display' from '/home/zassoc/anaconda3/envs/m/lib/python3.7/site-packages/IPython/display.py'>,\n",
       " 'IPython.lib.display': <module 'IPython.lib.display' from '/home/zassoc/anaconda3/envs/m/lib/python3.7/site-packages/IPython/lib/display.py'>,\n",
       " 'html': <module 'html' from '/home/zassoc/anaconda3/envs/m/lib/python3.7/html/__init__.py'>,\n",
       " 'html.entities': <module 'html.entities' from '/home/zassoc/anaconda3/envs/m/lib/python3.7/html/entities.py'>,\n",
       " 'IPython.utils.io': <module 'IPython.utils.io' from '/home/zassoc/anaconda3/envs/m/lib/python3.7/site-packages/IPython/utils/io.py'>,\n",
       " 'IPython.utils.capture': <module 'IPython.utils.capture' from '/home/zassoc/anaconda3/envs/m/lib/python3.7/site-packages/IPython/utils/capture.py'>,\n",
       " 'IPython.utils.strdispatch': <module 'IPython.utils.strdispatch' from '/home/zassoc/anaconda3/envs/m/lib/python3.7/site-packages/IPython/utils/strdispatch.py'>,\n",
       " 'IPython.core.hooks': <module 'IPython.core.hooks' from '/home/zassoc/anaconda3/envs/m/lib/python3.7/site-packages/IPython/core/hooks.py'>,\n",
       " 'IPython.utils.syspathcontext': <module 'IPython.utils.syspathcontext' from '/home/zassoc/anaconda3/envs/m/lib/python3.7/site-packages/IPython/utils/syspathcontext.py'>,\n",
       " 'IPython.utils.tempdir': <module 'IPython.utils.tempdir' from '/home/zassoc/anaconda3/envs/m/lib/python3.7/site-packages/IPython/utils/tempdir.py'>,\n",
       " 'IPython.utils.contexts': <module 'IPython.utils.contexts' from '/home/zassoc/anaconda3/envs/m/lib/python3.7/site-packages/IPython/utils/contexts.py'>,\n",
       " 'IPython.core.async_helpers': <module 'IPython.core.async_helpers' from '/home/zassoc/anaconda3/envs/m/lib/python3.7/site-packages/IPython/core/async_helpers.py'>,\n",
       " 'IPython.terminal.interactiveshell': <module 'IPython.terminal.interactiveshell' from '/home/zassoc/anaconda3/envs/m/lib/python3.7/site-packages/IPython/terminal/interactiveshell.py'>,\n",
       " 'prompt_toolkit': <module 'prompt_toolkit' from '/home/zassoc/anaconda3/envs/m/lib/python3.7/site-packages/prompt_toolkit/__init__.py'>,\n",
       " 'prompt_toolkit.application': <module 'prompt_toolkit.application' from '/home/zassoc/anaconda3/envs/m/lib/python3.7/site-packages/prompt_toolkit/application/__init__.py'>,\n",
       " 'prompt_toolkit.application.application': <module 'prompt_toolkit.application.application' from '/home/zassoc/anaconda3/envs/m/lib/python3.7/site-packages/prompt_toolkit/application/application.py'>,\n",
       " 'prompt_toolkit.buffer': <module 'prompt_toolkit.buffer' from '/home/zassoc/anaconda3/envs/m/lib/python3.7/site-packages/prompt_toolkit/buffer.py'>,\n",
       " 'prompt_toolkit.application.current': <module 'prompt_toolkit.application.current' from '/home/zassoc/anaconda3/envs/m/lib/python3.7/site-packages/prompt_toolkit/application/current.py'>,\n",
       " 'prompt_toolkit.eventloop': <module 'prompt_toolkit.eventloop' from '/home/zassoc/anaconda3/envs/m/lib/python3.7/site-packages/prompt_toolkit/eventloop/__init__.py'>,\n",
       " 'prompt_toolkit.eventloop.base': <module 'prompt_toolkit.eventloop.base' from '/home/zassoc/anaconda3/envs/m/lib/python3.7/site-packages/prompt_toolkit/eventloop/base.py'>,\n",
       " 'prompt_toolkit.log': <module 'prompt_toolkit.log' from '/home/zassoc/anaconda3/envs/m/lib/python3.7/site-packages/prompt_toolkit/log.py'>,\n",
       " 'prompt_toolkit.eventloop.coroutine': <module 'prompt_toolkit.eventloop.coroutine' from '/home/zassoc/anaconda3/envs/m/lib/python3.7/site-packages/prompt_toolkit/eventloop/coroutine.py'>,\n",
       " 'prompt_toolkit.eventloop.defaults': <module 'prompt_toolkit.eventloop.defaults' from '/home/zassoc/anaconda3/envs/m/lib/python3.7/site-packages/prompt_toolkit/eventloop/defaults.py'>,\n",
       " 'prompt_toolkit.utils': <module 'prompt_toolkit.utils' from '/home/zassoc/anaconda3/envs/m/lib/python3.7/site-packages/prompt_toolkit/utils.py'>,\n",
       " 'six.moves': <module 'six.moves' (<six._SixMetaPathImporter object at 0x7fa5b2b2c898>)>,\n",
       " 'wcwidth': <module 'wcwidth' from '/home/zassoc/anaconda3/envs/m/lib/python3.7/site-packages/wcwidth/__init__.py'>,\n",
       " 'wcwidth.wcwidth': <module 'wcwidth.wcwidth' from '/home/zassoc/anaconda3/envs/m/lib/python3.7/site-packages/wcwidth/wcwidth.py'>,\n",
       " 'wcwidth.table_wide': <module 'wcwidth.table_wide' from '/home/zassoc/anaconda3/envs/m/lib/python3.7/site-packages/wcwidth/table_wide.py'>,\n",
       " 'wcwidth.table_zero': <module 'wcwidth.table_zero' from '/home/zassoc/anaconda3/envs/m/lib/python3.7/site-packages/wcwidth/table_zero.py'>,\n",
       " 'prompt_toolkit.cache': <module 'prompt_toolkit.cache' from '/home/zassoc/anaconda3/envs/m/lib/python3.7/site-packages/prompt_toolkit/cache.py'>,\n",
       " 'prompt_toolkit.eventloop.future': <module 'prompt_toolkit.eventloop.future' from '/home/zassoc/anaconda3/envs/m/lib/python3.7/site-packages/prompt_toolkit/eventloop/future.py'>,\n",
       " 'prompt_toolkit.eventloop.context': <module 'prompt_toolkit.eventloop.context' from '/home/zassoc/anaconda3/envs/m/lib/python3.7/site-packages/prompt_toolkit/eventloop/context.py'>,\n",
       " 'prompt_toolkit.eventloop.async_generator': <module 'prompt_toolkit.eventloop.async_generator' from '/home/zassoc/anaconda3/envs/m/lib/python3.7/site-packages/prompt_toolkit/eventloop/async_generator.py'>,\n",
       " 'queue': <module 'queue' from '/home/zassoc/anaconda3/envs/m/lib/python3.7/queue.py'>,\n",
       " '_queue': <module '_queue' from '/home/zassoc/anaconda3/envs/m/lib/python3.7/lib-dynload/_queue.cpython-37m-x86_64-linux-gnu.so'>,\n",
       " 'six.moves.queue': <module 'queue' from '/home/zassoc/anaconda3/envs/m/lib/python3.7/queue.py'>,\n",
       " 'prompt_toolkit.eventloop.event': <module 'prompt_toolkit.eventloop.event' from '/home/zassoc/anaconda3/envs/m/lib/python3.7/site-packages/prompt_toolkit/eventloop/event.py'>,\n",
       " 'prompt_toolkit.application.run_in_terminal': <module 'prompt_toolkit.application.run_in_terminal' from '/home/zassoc/anaconda3/envs/m/lib/python3.7/site-packages/prompt_toolkit/application/run_in_terminal.py'>,\n",
       " 'prompt_toolkit.auto_suggest': <module 'prompt_toolkit.auto_suggest' from '/home/zassoc/anaconda3/envs/m/lib/python3.7/site-packages/prompt_toolkit/auto_suggest.py'>,\n",
       " 'prompt_toolkit.filters': <module 'prompt_toolkit.filters' from '/home/zassoc/anaconda3/envs/m/lib/python3.7/site-packages/prompt_toolkit/filters/__init__.py'>,\n",
       " 'prompt_toolkit.filters.base': <module 'prompt_toolkit.filters.base' from '/home/zassoc/anaconda3/envs/m/lib/python3.7/site-packages/prompt_toolkit/filters/base.py'>,\n",
       " 'prompt_toolkit.filters.app': <module 'prompt_toolkit.filters.app' from '/home/zassoc/anaconda3/envs/m/lib/python3.7/site-packages/prompt_toolkit/filters/app.py'>,\n",
       " 'prompt_toolkit.enums': <module 'prompt_toolkit.enums' from '/home/zassoc/anaconda3/envs/m/lib/python3.7/site-packages/prompt_toolkit/enums.py'>,\n",
       " 'prompt_toolkit.filters.utils': <module 'prompt_toolkit.filters.utils' from '/home/zassoc/anaconda3/envs/m/lib/python3.7/site-packages/prompt_toolkit/filters/utils.py'>,\n",
       " 'prompt_toolkit.filters.cli': <module 'prompt_toolkit.filters.cli' from '/home/zassoc/anaconda3/envs/m/lib/python3.7/site-packages/prompt_toolkit/filters/cli.py'>,\n",
       " 'prompt_toolkit.clipboard': <module 'prompt_toolkit.clipboard' from '/home/zassoc/anaconda3/envs/m/lib/python3.7/site-packages/prompt_toolkit/clipboard/__init__.py'>,\n",
       " 'prompt_toolkit.clipboard.base': <module 'prompt_toolkit.clipboard.base' from '/home/zassoc/anaconda3/envs/m/lib/python3.7/site-packages/prompt_toolkit/clipboard/base.py'>,\n",
       " 'prompt_toolkit.selection': <module 'prompt_toolkit.selection' from '/home/zassoc/anaconda3/envs/m/lib/python3.7/site-packages/prompt_toolkit/selection.py'>,\n",
       " 'prompt_toolkit.clipboard.in_memory': <module 'prompt_toolkit.clipboard.in_memory' from '/home/zassoc/anaconda3/envs/m/lib/python3.7/site-packages/prompt_toolkit/clipboard/in_memory.py'>,\n",
       " 'prompt_toolkit.completion': <module 'prompt_toolkit.completion' from '/home/zassoc/anaconda3/envs/m/lib/python3.7/site-packages/prompt_toolkit/completion/__init__.py'>,\n",
       " 'prompt_toolkit.completion.base': <module 'prompt_toolkit.completion.base' from '/home/zassoc/anaconda3/envs/m/lib/python3.7/site-packages/prompt_toolkit/completion/base.py'>,\n",
       " 'prompt_toolkit.completion.filesystem': <module 'prompt_toolkit.completion.filesystem' from '/home/zassoc/anaconda3/envs/m/lib/python3.7/site-packages/prompt_toolkit/completion/filesystem.py'>,\n",
       " 'prompt_toolkit.completion.word_completer': <module 'prompt_toolkit.completion.word_completer' from '/home/zassoc/anaconda3/envs/m/lib/python3.7/site-packages/prompt_toolkit/completion/word_completer.py'>,\n",
       " 'prompt_toolkit.document': <module 'prompt_toolkit.document' from '/home/zassoc/anaconda3/envs/m/lib/python3.7/site-packages/prompt_toolkit/document.py'>,\n",
       " 'prompt_toolkit.history': <module 'prompt_toolkit.history' from '/home/zassoc/anaconda3/envs/m/lib/python3.7/site-packages/prompt_toolkit/history.py'>,\n",
       " 'prompt_toolkit.search': <module 'prompt_toolkit.search' from '/home/zassoc/anaconda3/envs/m/lib/python3.7/site-packages/prompt_toolkit/search.py'>,\n",
       " 'prompt_toolkit.key_binding': <module 'prompt_toolkit.key_binding' from '/home/zassoc/anaconda3/envs/m/lib/python3.7/site-packages/prompt_toolkit/key_binding/__init__.py'>,\n",
       " 'prompt_toolkit.key_binding.key_bindings': <module 'prompt_toolkit.key_binding.key_bindings' from '/home/zassoc/anaconda3/envs/m/lib/python3.7/site-packages/prompt_toolkit/key_binding/key_bindings.py'>,\n",
       " 'prompt_toolkit.keys': <module 'prompt_toolkit.keys' from '/home/zassoc/anaconda3/envs/m/lib/python3.7/site-packages/prompt_toolkit/keys.py'>,\n",
       " 'prompt_toolkit.key_binding.vi_state': <module 'prompt_toolkit.key_binding.vi_state' from '/home/zassoc/anaconda3/envs/m/lib/python3.7/site-packages/prompt_toolkit/key_binding/vi_state.py'>,\n",
       " 'prompt_toolkit.validation': <module 'prompt_toolkit.validation' from '/home/zassoc/anaconda3/envs/m/lib/python3.7/site-packages/prompt_toolkit/validation.py'>,\n",
       " 'prompt_toolkit.input': <module 'prompt_toolkit.input' from '/home/zassoc/anaconda3/envs/m/lib/python3.7/site-packages/prompt_toolkit/input/__init__.py'>,\n",
       " 'prompt_toolkit.input.base': <module 'prompt_toolkit.input.base' from '/home/zassoc/anaconda3/envs/m/lib/python3.7/site-packages/prompt_toolkit/input/base.py'>,\n",
       " 'prompt_toolkit.input.defaults': <module 'prompt_toolkit.input.defaults' from '/home/zassoc/anaconda3/envs/m/lib/python3.7/site-packages/prompt_toolkit/input/defaults.py'>,\n",
       " 'prompt_toolkit.input.typeahead': <module 'prompt_toolkit.input.typeahead' from '/home/zassoc/anaconda3/envs/m/lib/python3.7/site-packages/prompt_toolkit/input/typeahead.py'>,\n",
       " 'prompt_toolkit.key_binding.bindings': <module 'prompt_toolkit.key_binding.bindings' from '/home/zassoc/anaconda3/envs/m/lib/python3.7/site-packages/prompt_toolkit/key_binding/bindings/__init__.py'>,\n",
       " 'prompt_toolkit.key_binding.bindings.page_navigation': <module 'prompt_toolkit.key_binding.bindings.page_navigation' from '/home/zassoc/anaconda3/envs/m/lib/python3.7/site-packages/prompt_toolkit/key_binding/bindings/page_navigation.py'>,\n",
       " 'prompt_toolkit.key_binding.bindings.scroll': <module 'prompt_toolkit.key_binding.bindings.scroll' from '/home/zassoc/anaconda3/envs/m/lib/python3.7/site-packages/prompt_toolkit/key_binding/bindings/scroll.py'>,\n",
       " 'prompt_toolkit.key_binding.defaults': <module 'prompt_toolkit.key_binding.defaults' from '/home/zassoc/anaconda3/envs/m/lib/python3.7/site-packages/prompt_toolkit/key_binding/defaults.py'>,\n",
       " 'prompt_toolkit.key_binding.bindings.basic': <module 'prompt_toolkit.key_binding.bindings.basic' from '/home/zassoc/anaconda3/envs/m/lib/python3.7/site-packages/prompt_toolkit/key_binding/bindings/basic.py'>,\n",
       " 'prompt_toolkit.key_binding.key_processor': <module 'prompt_toolkit.key_binding.key_processor' from '/home/zassoc/anaconda3/envs/m/lib/python3.7/site-packages/prompt_toolkit/key_binding/key_processor.py'>,\n",
       " 'prompt_toolkit.key_binding.bindings.named_commands': <module 'prompt_toolkit.key_binding.bindings.named_commands' from '/home/zassoc/anaconda3/envs/m/lib/python3.7/site-packages/prompt_toolkit/key_binding/bindings/named_commands.py'>,\n",
       " 'prompt_toolkit.key_binding.bindings.completion': <module 'prompt_toolkit.key_binding.bindings.completion' from '/home/zassoc/anaconda3/envs/m/lib/python3.7/site-packages/prompt_toolkit/key_binding/bindings/completion.py'>,\n",
       " 'prompt_toolkit.key_binding.bindings.emacs': <module 'prompt_toolkit.key_binding.bindings.emacs' from '/home/zassoc/anaconda3/envs/m/lib/python3.7/site-packages/prompt_toolkit/key_binding/bindings/emacs.py'>,\n",
       " 'prompt_toolkit.key_binding.bindings.vi': <module 'prompt_toolkit.key_binding.bindings.vi' from '/home/zassoc/anaconda3/envs/m/lib/python3.7/site-packages/prompt_toolkit/key_binding/bindings/vi.py'>,\n",
       " 'prompt_toolkit.input.vt100_parser': <module 'prompt_toolkit.input.vt100_parser' from '/home/zassoc/anaconda3/envs/m/lib/python3.7/site-packages/prompt_toolkit/input/vt100_parser.py'>,\n",
       " 'prompt_toolkit.input.ansi_escape_sequences': <module 'prompt_toolkit.input.ansi_escape_sequences' from '/home/zassoc/anaconda3/envs/m/lib/python3.7/site-packages/prompt_toolkit/input/ansi_escape_sequences.py'>,\n",
       " 'prompt_toolkit.key_binding.digraphs': <module 'prompt_toolkit.key_binding.digraphs' from '/home/zassoc/anaconda3/envs/m/lib/python3.7/site-packages/prompt_toolkit/key_binding/digraphs.py'>,\n",
       " 'prompt_toolkit.key_binding.bindings.mouse': <module 'prompt_toolkit.key_binding.bindings.mouse' from '/home/zassoc/anaconda3/envs/m/lib/python3.7/site-packages/prompt_toolkit/key_binding/bindings/mouse.py'>,\n",
       " 'prompt_toolkit.layout': <module 'prompt_toolkit.layout' from '/home/zassoc/anaconda3/envs/m/lib/python3.7/site-packages/prompt_toolkit/layout/__init__.py'>,\n",
       " 'prompt_toolkit.layout.containers': <module 'prompt_toolkit.layout.containers' from '/home/zassoc/anaconda3/envs/m/lib/python3.7/site-packages/prompt_toolkit/layout/containers.py'>,\n",
       " 'prompt_toolkit.layout.controls': <module 'prompt_toolkit.layout.controls' from '/home/zassoc/anaconda3/envs/m/lib/python3.7/site-packages/prompt_toolkit/layout/controls.py'>,\n",
       " 'prompt_toolkit.formatted_text': <module 'prompt_toolkit.formatted_text' from '/home/zassoc/anaconda3/envs/m/lib/python3.7/site-packages/prompt_toolkit/formatted_text/__init__.py'>,\n",
       " 'prompt_toolkit.formatted_text.base': <module 'prompt_toolkit.formatted_text.base' from '/home/zassoc/anaconda3/envs/m/lib/python3.7/site-packages/prompt_toolkit/formatted_text/base.py'>,\n",
       " 'prompt_toolkit.formatted_text.html': <module 'prompt_toolkit.formatted_text.html' from '/home/zassoc/anaconda3/envs/m/lib/python3.7/site-packages/prompt_toolkit/formatted_text/html.py'>,\n",
       " 'xml': <module 'xml' from '/home/zassoc/anaconda3/envs/m/lib/python3.7/xml/__init__.py'>,\n",
       " 'xml.dom': <module 'xml.dom' from '/home/zassoc/anaconda3/envs/m/lib/python3.7/xml/dom/__init__.py'>,\n",
       " 'xml.dom.domreg': <module 'xml.dom.domreg' from '/home/zassoc/anaconda3/envs/m/lib/python3.7/xml/dom/domreg.py'>,\n",
       " 'xml.dom.minidom': <module 'xml.dom.minidom' from '/home/zassoc/anaconda3/envs/m/lib/python3.7/xml/dom/minidom.py'>,\n",
       " 'xml.dom.minicompat': <module 'xml.dom.minicompat' from '/home/zassoc/anaconda3/envs/m/lib/python3.7/xml/dom/minicompat.py'>,\n",
       " 'xml.dom.xmlbuilder': <module 'xml.dom.xmlbuilder' from '/home/zassoc/anaconda3/envs/m/lib/python3.7/xml/dom/xmlbuilder.py'>,\n",
       " 'xml.dom.NodeFilter': <module 'xml.dom.NodeFilter' from '/home/zassoc/anaconda3/envs/m/lib/python3.7/xml/dom/NodeFilter.py'>,\n",
       " 'prompt_toolkit.formatted_text.ansi': <module 'prompt_toolkit.formatted_text.ansi' from '/home/zassoc/anaconda3/envs/m/lib/python3.7/site-packages/prompt_toolkit/formatted_text/ansi.py'>,\n",
       " 'prompt_toolkit.output': <module 'prompt_toolkit.output' from '/home/zassoc/anaconda3/envs/m/lib/python3.7/site-packages/prompt_toolkit/output/__init__.py'>,\n",
       " 'prompt_toolkit.output.base': <module 'prompt_toolkit.output.base' from '/home/zassoc/anaconda3/envs/m/lib/python3.7/site-packages/prompt_toolkit/output/base.py'>,\n",
       " 'prompt_toolkit.layout.screen': <module 'prompt_toolkit.layout.screen' from '/home/zassoc/anaconda3/envs/m/lib/python3.7/site-packages/prompt_toolkit/layout/screen.py'>,\n",
       " 'prompt_toolkit.output.defaults': <module 'prompt_toolkit.output.defaults' from '/home/zassoc/anaconda3/envs/m/lib/python3.7/site-packages/prompt_toolkit/output/defaults.py'>,\n",
       " 'prompt_toolkit.output.color_depth': <module 'prompt_toolkit.output.color_depth' from '/home/zassoc/anaconda3/envs/m/lib/python3.7/site-packages/prompt_toolkit/output/color_depth.py'>,\n",
       " 'prompt_toolkit.output.vt100': <module 'prompt_toolkit.output.vt100' from '/home/zassoc/anaconda3/envs/m/lib/python3.7/site-packages/prompt_toolkit/output/vt100.py'>,\n",
       " 'prompt_toolkit.styles': <module 'prompt_toolkit.styles' from '/home/zassoc/anaconda3/envs/m/lib/python3.7/site-packages/prompt_toolkit/styles/__init__.py'>,\n",
       " 'prompt_toolkit.styles.base': <module 'prompt_toolkit.styles.base' from '/home/zassoc/anaconda3/envs/m/lib/python3.7/site-packages/prompt_toolkit/styles/base.py'>,\n",
       " 'prompt_toolkit.styles.defaults': <module 'prompt_toolkit.styles.defaults' from '/home/zassoc/anaconda3/envs/m/lib/python3.7/site-packages/prompt_toolkit/styles/defaults.py'>,\n",
       " 'prompt_toolkit.styles.style': <module 'prompt_toolkit.styles.style' from '/home/zassoc/anaconda3/envs/m/lib/python3.7/site-packages/prompt_toolkit/styles/style.py'>,\n",
       " 'prompt_toolkit.styles.named_colors': <module 'prompt_toolkit.styles.named_colors' from '/home/zassoc/anaconda3/envs/m/lib/python3.7/site-packages/prompt_toolkit/styles/named_colors.py'>,\n",
       " 'prompt_toolkit.styles.pygments': <module 'prompt_toolkit.styles.pygments' from '/home/zassoc/anaconda3/envs/m/lib/python3.7/site-packages/prompt_toolkit/styles/pygments.py'>,\n",
       " 'prompt_toolkit.styles.style_transformation': <module 'prompt_toolkit.styles.style_transformation' from '/home/zassoc/anaconda3/envs/m/lib/python3.7/site-packages/prompt_toolkit/styles/style_transformation.py'>,\n",
       " 'colorsys': <module 'colorsys' from '/home/zassoc/anaconda3/envs/m/lib/python3.7/colorsys.py'>,\n",
       " 'array': <module 'array' from '/home/zassoc/anaconda3/envs/m/lib/python3.7/lib-dynload/array.cpython-37m-x86_64-linux-gnu.so'>,\n",
       " 'prompt_toolkit.formatted_text.pygments': <module 'prompt_toolkit.formatted_text.pygments' from '/home/zassoc/anaconda3/envs/m/lib/python3.7/site-packages/prompt_toolkit/formatted_text/pygments.py'>,\n",
       " 'prompt_toolkit.formatted_text.utils': <module 'prompt_toolkit.formatted_text.utils' from '/home/zassoc/anaconda3/envs/m/lib/python3.7/site-packages/prompt_toolkit/formatted_text/utils.py'>,\n",
       " 'prompt_toolkit.lexers': <module 'prompt_toolkit.lexers' from '/home/zassoc/anaconda3/envs/m/lib/python3.7/site-packages/prompt_toolkit/lexers/__init__.py'>,\n",
       " 'prompt_toolkit.lexers.base': <module 'prompt_toolkit.lexers.base' from '/home/zassoc/anaconda3/envs/m/lib/python3.7/site-packages/prompt_toolkit/lexers/base.py'>,\n",
       " 'prompt_toolkit.lexers.pygments': <module 'prompt_toolkit.lexers.pygments' from '/home/zassoc/anaconda3/envs/m/lib/python3.7/site-packages/prompt_toolkit/lexers/pygments.py'>,\n",
       " 'prompt_toolkit.mouse_events': <module 'prompt_toolkit.mouse_events' from '/home/zassoc/anaconda3/envs/m/lib/python3.7/site-packages/prompt_toolkit/mouse_events.py'>,\n",
       " 'prompt_toolkit.layout.processors': <module 'prompt_toolkit.layout.processors' from '/home/zassoc/anaconda3/envs/m/lib/python3.7/site-packages/prompt_toolkit/layout/processors.py'>,\n",
       " 'prompt_toolkit.layout.utils': <module 'prompt_toolkit.layout.utils' from '/home/zassoc/anaconda3/envs/m/lib/python3.7/site-packages/prompt_toolkit/layout/utils.py'>,\n",
       " 'prompt_toolkit.layout.dimension': <module 'prompt_toolkit.layout.dimension' from '/home/zassoc/anaconda3/envs/m/lib/python3.7/site-packages/prompt_toolkit/layout/dimension.py'>,\n",
       " 'prompt_toolkit.layout.margins': <module 'prompt_toolkit.layout.margins' from '/home/zassoc/anaconda3/envs/m/lib/python3.7/site-packages/prompt_toolkit/layout/margins.py'>,\n",
       " 'prompt_toolkit.layout.layout': <module 'prompt_toolkit.layout.layout' from '/home/zassoc/anaconda3/envs/m/lib/python3.7/site-packages/prompt_toolkit/layout/layout.py'>,\n",
       " 'prompt_toolkit.layout.menus': <module 'prompt_toolkit.layout.menus' from '/home/zassoc/anaconda3/envs/m/lib/python3.7/site-packages/prompt_toolkit/layout/menus.py'>,\n",
       " 'prompt_toolkit.renderer': <module 'prompt_toolkit.renderer' from '/home/zassoc/anaconda3/envs/m/lib/python3.7/site-packages/prompt_toolkit/renderer.py'>,\n",
       " 'prompt_toolkit.layout.mouse_handlers': <module 'prompt_toolkit.layout.mouse_handlers' from '/home/zassoc/anaconda3/envs/m/lib/python3.7/site-packages/prompt_toolkit/layout/mouse_handlers.py'>,\n",
       " 'prompt_toolkit.key_binding.bindings.cpr': <module 'prompt_toolkit.key_binding.bindings.cpr' from '/home/zassoc/anaconda3/envs/m/lib/python3.7/site-packages/prompt_toolkit/key_binding/bindings/cpr.py'>,\n",
       " 'prompt_toolkit.key_binding.emacs_state': <module 'prompt_toolkit.key_binding.emacs_state' from '/home/zassoc/anaconda3/envs/m/lib/python3.7/site-packages/prompt_toolkit/key_binding/emacs_state.py'>,\n",
       " 'prompt_toolkit.layout.dummy': <module 'prompt_toolkit.layout.dummy' from '/home/zassoc/anaconda3/envs/m/lib/python3.7/site-packages/prompt_toolkit/layout/dummy.py'>,\n",
       " 'prompt_toolkit.application.dummy': <module 'prompt_toolkit.application.dummy' from '/home/zassoc/anaconda3/envs/m/lib/python3.7/site-packages/prompt_toolkit/application/dummy.py'>,\n",
       " 'prompt_toolkit.shortcuts': <module 'prompt_toolkit.shortcuts' from '/home/zassoc/anaconda3/envs/m/lib/python3.7/site-packages/prompt_toolkit/shortcuts/__init__.py'>,\n",
       " 'prompt_toolkit.shortcuts.dialogs': <module 'prompt_toolkit.shortcuts.dialogs' from '/home/zassoc/anaconda3/envs/m/lib/python3.7/site-packages/prompt_toolkit/shortcuts/dialogs.py'>,\n",
       " 'prompt_toolkit.key_binding.bindings.focus': <module 'prompt_toolkit.key_binding.bindings.focus' from '/home/zassoc/anaconda3/envs/m/lib/python3.7/site-packages/prompt_toolkit/key_binding/bindings/focus.py'>,\n",
       " 'prompt_toolkit.widgets': <module 'prompt_toolkit.widgets' from '/home/zassoc/anaconda3/envs/m/lib/python3.7/site-packages/prompt_toolkit/widgets/__init__.py'>,\n",
       " 'prompt_toolkit.widgets.base': <module 'prompt_toolkit.widgets.base' from '/home/zassoc/anaconda3/envs/m/lib/python3.7/site-packages/prompt_toolkit/widgets/base.py'>,\n",
       " 'prompt_toolkit.widgets.toolbars': <module 'prompt_toolkit.widgets.toolbars' from '/home/zassoc/anaconda3/envs/m/lib/python3.7/site-packages/prompt_toolkit/widgets/toolbars.py'>,\n",
       " 'prompt_toolkit.widgets.dialogs': <module 'prompt_toolkit.widgets.dialogs' from '/home/zassoc/anaconda3/envs/m/lib/python3.7/site-packages/prompt_toolkit/widgets/dialogs.py'>,\n",
       " 'prompt_toolkit.widgets.menus': <module 'prompt_toolkit.widgets.menus' from '/home/zassoc/anaconda3/envs/m/lib/python3.7/site-packages/prompt_toolkit/widgets/menus.py'>,\n",
       " 'prompt_toolkit.shortcuts.prompt': <module 'prompt_toolkit.shortcuts.prompt' from '/home/zassoc/anaconda3/envs/m/lib/python3.7/site-packages/prompt_toolkit/shortcuts/prompt.py'>,\n",
       " 'prompt_toolkit.key_binding.bindings.auto_suggest': <module 'prompt_toolkit.key_binding.bindings.auto_suggest' from '/home/zassoc/anaconda3/envs/m/lib/python3.7/site-packages/prompt_toolkit/key_binding/bindings/auto_suggest.py'>,\n",
       " 'prompt_toolkit.key_binding.bindings.open_in_editor': <module 'prompt_toolkit.key_binding.bindings.open_in_editor' from '/home/zassoc/anaconda3/envs/m/lib/python3.7/site-packages/prompt_toolkit/key_binding/bindings/open_in_editor.py'>,\n",
       " 'prompt_toolkit.shortcuts.utils': <module 'prompt_toolkit.shortcuts.utils' from '/home/zassoc/anaconda3/envs/m/lib/python3.7/site-packages/prompt_toolkit/shortcuts/utils.py'>,\n",
       " 'prompt_toolkit.shortcuts.progress_bar': <module 'prompt_toolkit.shortcuts.progress_bar' from '/home/zassoc/anaconda3/envs/m/lib/python3.7/site-packages/prompt_toolkit/shortcuts/progress_bar/__init__.py'>,\n",
       " 'prompt_toolkit.shortcuts.progress_bar.base': <module 'prompt_toolkit.shortcuts.progress_bar.base' from '/home/zassoc/anaconda3/envs/m/lib/python3.7/site-packages/prompt_toolkit/shortcuts/progress_bar/base.py'>,\n",
       " 'prompt_toolkit.shortcuts.progress_bar.formatters': <module 'prompt_toolkit.shortcuts.progress_bar.formatters' from '/home/zassoc/anaconda3/envs/m/lib/python3.7/site-packages/prompt_toolkit/shortcuts/progress_bar/formatters.py'>,\n",
       " 'prompt_toolkit.patch_stdout': <module 'prompt_toolkit.patch_stdout' from '/home/zassoc/anaconda3/envs/m/lib/python3.7/site-packages/prompt_toolkit/patch_stdout.py'>,\n",
       " 'pygments.style': <module 'pygments.style' from '/home/zassoc/anaconda3/envs/m/lib/python3.7/site-packages/pygments/style.py'>,\n",
       " 'IPython.terminal.debugger': <module 'IPython.terminal.debugger' from '/home/zassoc/anaconda3/envs/m/lib/python3.7/site-packages/IPython/terminal/debugger.py'>,\n",
       " 'IPython.core.completer': <module 'IPython.core.completer' from '/home/zassoc/anaconda3/envs/m/lib/python3.7/site-packages/IPython/core/completer.py'>,\n",
       " 'unicodedata': <module 'unicodedata' from '/home/zassoc/anaconda3/envs/m/lib/python3.7/lib-dynload/unicodedata.cpython-37m-x86_64-linux-gnu.so'>,\n",
       " 'IPython.core.latex_symbols': <module 'IPython.core.latex_symbols' from '/home/zassoc/anaconda3/envs/m/lib/python3.7/site-packages/IPython/core/latex_symbols.py'>,\n",
       " 'IPython.utils.generics': <module 'IPython.utils.generics' from '/home/zassoc/anaconda3/envs/m/lib/python3.7/site-packages/IPython/utils/generics.py'>,\n",
       " 'jedi': <module 'jedi' from '/home/zassoc/anaconda3/envs/m/lib/python3.7/site-packages/jedi/__init__.py'>,\n",
       " 'jedi.api': <module 'jedi.api' from '/home/zassoc/anaconda3/envs/m/lib/python3.7/site-packages/jedi/api/__init__.py'>,\n",
       " 'parso': <module 'parso' from '/home/zassoc/anaconda3/envs/m/lib/python3.7/site-packages/parso/__init__.py'>,\n",
       " 'parso.parser': <module 'parso.parser' from '/home/zassoc/anaconda3/envs/m/lib/python3.7/site-packages/parso/parser.py'>,\n",
       " 'parso.tree': <module 'parso.tree' from '/home/zassoc/anaconda3/envs/m/lib/python3.7/site-packages/parso/tree.py'>,\n",
       " 'parso._compatibility': <module 'parso._compatibility' from '/home/zassoc/anaconda3/envs/m/lib/python3.7/site-packages/parso/_compatibility.py'>,\n",
       " 'parso.pgen2': <module 'parso.pgen2' from '/home/zassoc/anaconda3/envs/m/lib/python3.7/site-packages/parso/pgen2/__init__.py'>,\n",
       " 'parso.pgen2.generator': <module 'parso.pgen2.generator' from '/home/zassoc/anaconda3/envs/m/lib/python3.7/site-packages/parso/pgen2/generator.py'>,\n",
       " 'parso.pgen2.grammar_parser': <module 'parso.pgen2.grammar_parser' from '/home/zassoc/anaconda3/envs/m/lib/python3.7/site-packages/parso/pgen2/grammar_parser.py'>,\n",
       " 'parso.python': <module 'parso.python' from '/home/zassoc/anaconda3/envs/m/lib/python3.7/site-packages/parso/python/__init__.py'>,\n",
       " 'parso.python.tokenize': <module 'parso.python.tokenize' from '/home/zassoc/anaconda3/envs/m/lib/python3.7/site-packages/parso/python/tokenize.py'>,\n",
       " 'parso.python.token': <module 'parso.python.token' from '/home/zassoc/anaconda3/envs/m/lib/python3.7/site-packages/parso/python/token.py'>,\n",
       " 'parso.utils': <module 'parso.utils' from '/home/zassoc/anaconda3/envs/m/lib/python3.7/site-packages/parso/utils.py'>,\n",
       " 'parso.grammar': <module 'parso.grammar' from '/home/zassoc/anaconda3/envs/m/lib/python3.7/site-packages/parso/grammar.py'>,\n",
       " 'parso.python.diff': <module 'parso.python.diff' from '/home/zassoc/anaconda3/envs/m/lib/python3.7/site-packages/parso/python/diff.py'>,\n",
       " 'difflib': <module 'difflib' from '/home/zassoc/anaconda3/envs/m/lib/python3.7/difflib.py'>,\n",
       " 'parso.python.parser': <module 'parso.python.parser' from '/home/zassoc/anaconda3/envs/m/lib/python3.7/site-packages/parso/python/parser.py'>,\n",
       " 'parso.python.tree': <module 'parso.python.tree' from '/home/zassoc/anaconda3/envs/m/lib/python3.7/site-packages/parso/python/tree.py'>,\n",
       " 'parso.python.prefix': <module 'parso.python.prefix' from '/home/zassoc/anaconda3/envs/m/lib/python3.7/site-packages/parso/python/prefix.py'>,\n",
       " 'parso.cache': <module 'parso.cache' from '/home/zassoc/anaconda3/envs/m/lib/python3.7/site-packages/parso/cache.py'>,\n",
       " 'gc': <module 'gc' (built-in)>,\n",
       " 'parso.python.errors': <module 'parso.python.errors' from '/home/zassoc/anaconda3/envs/m/lib/python3.7/site-packages/parso/python/errors.py'>,\n",
       " 'parso.normalizer': <module 'parso.normalizer' from '/home/zassoc/anaconda3/envs/m/lib/python3.7/site-packages/parso/normalizer.py'>,\n",
       " 'parso.python.pep8': <module 'parso.python.pep8' from '/home/zassoc/anaconda3/envs/m/lib/python3.7/site-packages/parso/python/pep8.py'>,\n",
       " 'jedi._compatibility': <module 'jedi._compatibility' from '/home/zassoc/anaconda3/envs/m/lib/python3.7/site-packages/jedi/_compatibility.py'>,\n",
       " 'jedi.parser_utils': <module 'jedi.parser_utils' from '/home/zassoc/anaconda3/envs/m/lib/python3.7/site-packages/jedi/parser_utils.py'>,\n",
       " 'jedi.debug': <module 'jedi.debug' from '/home/zassoc/anaconda3/envs/m/lib/python3.7/site-packages/jedi/debug.py'>,\n",
       " 'jedi.settings': <module 'jedi.settings' from '/home/zassoc/anaconda3/envs/m/lib/python3.7/site-packages/jedi/settings.py'>,\n",
       " 'jedi.cache': <module 'jedi.cache' from '/home/zassoc/anaconda3/envs/m/lib/python3.7/site-packages/jedi/cache.py'>,\n",
       " 'jedi.api.classes': <module 'jedi.api.classes' from '/home/zassoc/anaconda3/envs/m/lib/python3.7/site-packages/jedi/api/classes.py'>,\n",
       " 'jedi.evaluate': <module 'jedi.evaluate' from '/home/zassoc/anaconda3/envs/m/lib/python3.7/site-packages/jedi/evaluate/__init__.py'>,\n",
       " 'jedi.evaluate.utils': <module 'jedi.evaluate.utils' from '/home/zassoc/anaconda3/envs/m/lib/python3.7/site-packages/jedi/evaluate/utils.py'>,\n",
       " 'jedi.evaluate.imports': <module 'jedi.evaluate.imports' from '/home/zassoc/anaconda3/envs/m/lib/python3.7/site-packages/jedi/evaluate/imports.py'>,\n",
       " 'jedi.evaluate.sys_path': <module 'jedi.evaluate.sys_path' from '/home/zassoc/anaconda3/envs/m/lib/python3.7/site-packages/jedi/evaluate/sys_path.py'>,\n",
       " 'jedi.evaluate.cache': <module 'jedi.evaluate.cache' from '/home/zassoc/anaconda3/envs/m/lib/python3.7/site-packages/jedi/evaluate/cache.py'>,\n",
       " 'jedi.evaluate.base_context': <module 'jedi.evaluate.base_context' from '/home/zassoc/anaconda3/envs/m/lib/python3.7/site-packages/jedi/evaluate/base_context.py'>,\n",
       " 'jedi.common': <module 'jedi.common' from '/home/zassoc/anaconda3/envs/m/lib/python3.7/site-packages/jedi/common/__init__.py'>,\n",
       " 'jedi.common.context': <module 'jedi.common.context' from '/home/zassoc/anaconda3/envs/m/lib/python3.7/site-packages/jedi/common/context.py'>,\n",
       " 'jedi.evaluate.helpers': <module 'jedi.evaluate.helpers' from '/home/zassoc/anaconda3/envs/m/lib/python3.7/site-packages/jedi/evaluate/helpers.py'>,\n",
       " 'jedi.common.utils': <module 'jedi.common.utils' from '/home/zassoc/anaconda3/envs/m/lib/python3.7/site-packages/jedi/common/utils.py'>,\n",
       " 'jedi.evaluate.compiled': <module 'jedi.evaluate.compiled' from '/home/zassoc/anaconda3/envs/m/lib/python3.7/site-packages/jedi/evaluate/compiled/__init__.py'>,\n",
       " 'jedi.evaluate.compiled.context': <module 'jedi.evaluate.compiled.context' from '/home/zassoc/anaconda3/envs/m/lib/python3.7/site-packages/jedi/evaluate/compiled/context.py'>,\n",
       " 'jedi.evaluate.filters': <module 'jedi.evaluate.filters' from '/home/zassoc/anaconda3/envs/m/lib/python3.7/site-packages/jedi/evaluate/filters.py'>,\n",
       " 'jedi.evaluate.flow_analysis': <module 'jedi.evaluate.flow_analysis' from '/home/zassoc/anaconda3/envs/m/lib/python3.7/site-packages/jedi/evaluate/flow_analysis.py'>,\n",
       " 'jedi.evaluate.recursion': <module 'jedi.evaluate.recursion' from '/home/zassoc/anaconda3/envs/m/lib/python3.7/site-packages/jedi/evaluate/recursion.py'>,\n",
       " 'jedi.evaluate.lazy_context': <module 'jedi.evaluate.lazy_context' from '/home/zassoc/anaconda3/envs/m/lib/python3.7/site-packages/jedi/evaluate/lazy_context.py'>,\n",
       " 'jedi.evaluate.compiled.access': <module 'jedi.evaluate.compiled.access' from '/home/zassoc/anaconda3/envs/m/lib/python3.7/site-packages/jedi/evaluate/compiled/access.py'>,\n",
       " 'jedi.evaluate.compiled.getattr_static': <module 'jedi.evaluate.compiled.getattr_static' from '/home/zassoc/anaconda3/envs/m/lib/python3.7/site-packages/jedi/evaluate/compiled/getattr_static.py'>,\n",
       " 'jedi.evaluate.compiled.fake': <module 'jedi.evaluate.compiled.fake' from '/home/zassoc/anaconda3/envs/m/lib/python3.7/site-packages/jedi/evaluate/compiled/fake.py'>,\n",
       " 'jedi.evaluate.analysis': <module 'jedi.evaluate.analysis' from '/home/zassoc/anaconda3/envs/m/lib/python3.7/site-packages/jedi/evaluate/analysis.py'>,\n",
       " 'jedi.evaluate.context': <module 'jedi.evaluate.context' from '/home/zassoc/anaconda3/envs/m/lib/python3.7/site-packages/jedi/evaluate/context/__init__.py'>,\n",
       " 'jedi.evaluate.context.module': <module 'jedi.evaluate.context.module' from '/home/zassoc/anaconda3/envs/m/lib/python3.7/site-packages/jedi/evaluate/context/module.py'>,\n",
       " 'jedi.evaluate.context.klass': <module 'jedi.evaluate.context.klass' from '/home/zassoc/anaconda3/envs/m/lib/python3.7/site-packages/jedi/evaluate/context/klass.py'>,\n",
       " 'jedi.evaluate.context.function': <module 'jedi.evaluate.context.function' from '/home/zassoc/anaconda3/envs/m/lib/python3.7/site-packages/jedi/evaluate/context/function.py'>,\n",
       " 'jedi.evaluate.docstrings': <module 'jedi.evaluate.docstrings' from '/home/zassoc/anaconda3/envs/m/lib/python3.7/site-packages/jedi/evaluate/docstrings.py'>,\n",
       " 'jedi.evaluate.pep0484': <module 'jedi.evaluate.pep0484' from '/home/zassoc/anaconda3/envs/m/lib/python3.7/site-packages/jedi/evaluate/pep0484.py'>,\n",
       " 'jedi.evaluate.arguments': <module 'jedi.evaluate.arguments' from '/home/zassoc/anaconda3/envs/m/lib/python3.7/site-packages/jedi/evaluate/arguments.py'>,\n",
       " 'jedi.evaluate.context.iterable': <module 'jedi.evaluate.context.iterable' from '/home/zassoc/anaconda3/envs/m/lib/python3.7/site-packages/jedi/evaluate/context/iterable.py'>,\n",
       " 'jedi.evaluate.param': <module 'jedi.evaluate.param' from '/home/zassoc/anaconda3/envs/m/lib/python3.7/site-packages/jedi/evaluate/param.py'>,\n",
       " 'jedi.evaluate.context.asynchronous': <module 'jedi.evaluate.context.asynchronous' from '/home/zassoc/anaconda3/envs/m/lib/python3.7/site-packages/jedi/evaluate/context/asynchronous.py'>,\n",
       " 'jedi.evaluate.parser_cache': <module 'jedi.evaluate.parser_cache' from '/home/zassoc/anaconda3/envs/m/lib/python3.7/site-packages/jedi/evaluate/parser_cache.py'>,\n",
       " 'jedi.evaluate.context.instance': <module 'jedi.evaluate.context.instance' from '/home/zassoc/anaconda3/envs/m/lib/python3.7/site-packages/jedi/evaluate/context/instance.py'>,\n",
       " 'jedi.evaluate.syntax_tree': <module 'jedi.evaluate.syntax_tree' from '/home/zassoc/anaconda3/envs/m/lib/python3.7/site-packages/jedi/evaluate/syntax_tree.py'>,\n",
       " 'jedi.evaluate.finder': <module 'jedi.evaluate.finder' from '/home/zassoc/anaconda3/envs/m/lib/python3.7/site-packages/jedi/evaluate/finder.py'>,\n",
       " 'jedi.api.keywords': <module 'jedi.api.keywords' from '/home/zassoc/anaconda3/envs/m/lib/python3.7/site-packages/jedi/api/keywords.py'>,\n",
       " 'pydoc_data': <module 'pydoc_data' from '/home/zassoc/anaconda3/envs/m/lib/python3.7/pydoc_data/__init__.py'>,\n",
       " 'pydoc_data.topics': <module 'pydoc_data.topics' from '/home/zassoc/anaconda3/envs/m/lib/python3.7/pydoc_data/topics.py'>,\n",
       " 'jedi.api.interpreter': <module 'jedi.api.interpreter' from '/home/zassoc/anaconda3/envs/m/lib/python3.7/site-packages/jedi/api/interpreter.py'>,\n",
       " 'jedi.evaluate.compiled.mixed': <module 'jedi.evaluate.compiled.mixed' from '/home/zassoc/anaconda3/envs/m/lib/python3.7/site-packages/jedi/evaluate/compiled/mixed.py'>,\n",
       " 'jedi.api.helpers': <module 'jedi.api.helpers' from '/home/zassoc/anaconda3/envs/m/lib/python3.7/site-packages/jedi/api/helpers.py'>,\n",
       " 'jedi.api.completion': <module 'jedi.api.completion' from '/home/zassoc/anaconda3/envs/m/lib/python3.7/site-packages/jedi/api/completion.py'>,\n",
       " 'jedi.api.environment': <module 'jedi.api.environment' from '/home/zassoc/anaconda3/envs/m/lib/python3.7/site-packages/jedi/api/environment.py'>,\n",
       " 'filecmp': <module 'filecmp' from '/home/zassoc/anaconda3/envs/m/lib/python3.7/filecmp.py'>,\n",
       " 'jedi.evaluate.compiled.subprocess': <module 'jedi.evaluate.compiled.subprocess' from '/home/zassoc/anaconda3/envs/m/lib/python3.7/site-packages/jedi/evaluate/compiled/subprocess/__init__.py'>,\n",
       " 'jedi.evaluate.compiled.subprocess.functions': <module 'jedi.evaluate.compiled.subprocess.functions' from '/home/zassoc/anaconda3/envs/m/lib/python3.7/site-packages/jedi/evaluate/compiled/subprocess/functions.py'>,\n",
       " 'jedi.api.exceptions': <module 'jedi.api.exceptions' from '/home/zassoc/anaconda3/envs/m/lib/python3.7/site-packages/jedi/api/exceptions.py'>,\n",
       " 'jedi.api.project': <module 'jedi.api.project' from '/home/zassoc/anaconda3/envs/m/lib/python3.7/site-packages/jedi/api/project.py'>,\n",
       " 'jedi.evaluate.usages': <module 'jedi.evaluate.usages' from '/home/zassoc/anaconda3/envs/m/lib/python3.7/site-packages/jedi/evaluate/usages.py'>,\n",
       " 'IPython.terminal.ptutils': <module 'IPython.terminal.ptutils' from '/home/zassoc/anaconda3/envs/m/lib/python3.7/site-packages/IPython/terminal/ptutils.py'>,\n",
       " 'IPython.terminal.shortcuts': <module 'IPython.terminal.shortcuts' from '/home/zassoc/anaconda3/envs/m/lib/python3.7/site-packages/IPython/terminal/shortcuts.py'>,\n",
       " 'IPython.terminal.magics': <module 'IPython.terminal.magics' from '/home/zassoc/anaconda3/envs/m/lib/python3.7/site-packages/IPython/terminal/magics.py'>,\n",
       " 'IPython.lib.clipboard': <module 'IPython.lib.clipboard' from '/home/zassoc/anaconda3/envs/m/lib/python3.7/site-packages/IPython/lib/clipboard.py'>,\n",
       " 'IPython.terminal.pt_inputhooks': <module 'IPython.terminal.pt_inputhooks' from '/home/zassoc/anaconda3/envs/m/lib/python3.7/site-packages/IPython/terminal/pt_inputhooks/__init__.py'>,\n",
       " 'IPython.terminal.prompts': <module 'IPython.terminal.prompts' from '/home/zassoc/anaconda3/envs/m/lib/python3.7/site-packages/IPython/terminal/prompts.py'>,\n",
       " 'IPython.terminal.ipapp': <module 'IPython.terminal.ipapp' from '/home/zassoc/anaconda3/envs/m/lib/python3.7/site-packages/IPython/terminal/ipapp.py'>,\n",
       " 'IPython.core.magics': <module 'IPython.core.magics' from '/home/zassoc/anaconda3/envs/m/lib/python3.7/site-packages/IPython/core/magics/__init__.py'>,\n",
       " 'IPython.core.magics.auto': <module 'IPython.core.magics.auto' from '/home/zassoc/anaconda3/envs/m/lib/python3.7/site-packages/IPython/core/magics/auto.py'>,\n",
       " 'IPython.core.magics.basic': <module 'IPython.core.magics.basic' from '/home/zassoc/anaconda3/envs/m/lib/python3.7/site-packages/IPython/core/magics/basic.py'>,\n",
       " 'IPython.core.magics.code': <module 'IPython.core.magics.code' from '/home/zassoc/anaconda3/envs/m/lib/python3.7/site-packages/IPython/core/magics/code.py'>,\n",
       " 'urllib.request': <module 'urllib.request' from '/home/zassoc/anaconda3/envs/m/lib/python3.7/urllib/request.py'>,\n",
       " 'email': <module 'email' from '/home/zassoc/anaconda3/envs/m/lib/python3.7/email/__init__.py'>,\n",
       " 'http': <module 'http' from '/home/zassoc/anaconda3/envs/m/lib/python3.7/http/__init__.py'>,\n",
       " 'http.client': <module 'http.client' from '/home/zassoc/anaconda3/envs/m/lib/python3.7/http/client.py'>,\n",
       " 'email.parser': <module 'email.parser' from '/home/zassoc/anaconda3/envs/m/lib/python3.7/email/parser.py'>,\n",
       " 'email.feedparser': <module 'email.feedparser' from '/home/zassoc/anaconda3/envs/m/lib/python3.7/email/feedparser.py'>,\n",
       " 'email.errors': <module 'email.errors' from '/home/zassoc/anaconda3/envs/m/lib/python3.7/email/errors.py'>,\n",
       " 'email._policybase': <module 'email._policybase' from '/home/zassoc/anaconda3/envs/m/lib/python3.7/email/_policybase.py'>,\n",
       " 'email.header': <module 'email.header' from '/home/zassoc/anaconda3/envs/m/lib/python3.7/email/header.py'>,\n",
       " 'email.quoprimime': <module 'email.quoprimime' from '/home/zassoc/anaconda3/envs/m/lib/python3.7/email/quoprimime.py'>,\n",
       " 'email.base64mime': <module 'email.base64mime' from '/home/zassoc/anaconda3/envs/m/lib/python3.7/email/base64mime.py'>,\n",
       " 'email.charset': <module 'email.charset' from '/home/zassoc/anaconda3/envs/m/lib/python3.7/email/charset.py'>,\n",
       " 'email.encoders': <module 'email.encoders' from '/home/zassoc/anaconda3/envs/m/lib/python3.7/email/encoders.py'>,\n",
       " 'quopri': <module 'quopri' from '/home/zassoc/anaconda3/envs/m/lib/python3.7/quopri.py'>,\n",
       " 'email.utils': <module 'email.utils' from '/home/zassoc/anaconda3/envs/m/lib/python3.7/email/utils.py'>,\n",
       " 'email._parseaddr': <module 'email._parseaddr' from '/home/zassoc/anaconda3/envs/m/lib/python3.7/email/_parseaddr.py'>,\n",
       " 'calendar': <module 'calendar' from '/home/zassoc/anaconda3/envs/m/lib/python3.7/calendar.py'>,\n",
       " 'email.message': <module 'email.message' from '/home/zassoc/anaconda3/envs/m/lib/python3.7/email/message.py'>,\n",
       " 'uu': <module 'uu' from '/home/zassoc/anaconda3/envs/m/lib/python3.7/uu.py'>,\n",
       " 'email._encoded_words': <module 'email._encoded_words' from '/home/zassoc/anaconda3/envs/m/lib/python3.7/email/_encoded_words.py'>,\n",
       " 'email.iterators': <module 'email.iterators' from '/home/zassoc/anaconda3/envs/m/lib/python3.7/email/iterators.py'>,\n",
       " 'urllib.error': <module 'urllib.error' from '/home/zassoc/anaconda3/envs/m/lib/python3.7/urllib/error.py'>,\n",
       " 'urllib.response': <module 'urllib.response' from '/home/zassoc/anaconda3/envs/m/lib/python3.7/urllib/response.py'>,\n",
       " 'IPython.core.magics.config': <module 'IPython.core.magics.config' from '/home/zassoc/anaconda3/envs/m/lib/python3.7/site-packages/IPython/core/magics/config.py'>,\n",
       " 'IPython.core.magics.display': <module 'IPython.core.magics.display' from '/home/zassoc/anaconda3/envs/m/lib/python3.7/site-packages/IPython/core/magics/display.py'>,\n",
       " 'IPython.core.magics.execution': <module 'IPython.core.magics.execution' from '/home/zassoc/anaconda3/envs/m/lib/python3.7/site-packages/IPython/core/magics/execution.py'>,\n",
       " 'timeit': <module 'timeit' from '/home/zassoc/anaconda3/envs/m/lib/python3.7/timeit.py'>,\n",
       " 'cProfile': <module 'cProfile' from '/home/zassoc/anaconda3/envs/m/lib/python3.7/cProfile.py'>,\n",
       " '_lsprof': <module '_lsprof' from '/home/zassoc/anaconda3/envs/m/lib/python3.7/lib-dynload/_lsprof.cpython-37m-x86_64-linux-gnu.so'>,\n",
       " 'profile': <module 'profile' from '/home/zassoc/anaconda3/envs/m/lib/python3.7/profile.py'>,\n",
       " 'pstats': <module 'pstats' from '/home/zassoc/anaconda3/envs/m/lib/python3.7/pstats.py'>,\n",
       " 'IPython.utils.module_paths': <module 'IPython.utils.module_paths' from '/home/zassoc/anaconda3/envs/m/lib/python3.7/site-packages/IPython/utils/module_paths.py'>,\n",
       " 'IPython.utils.timing': <module 'IPython.utils.timing' from '/home/zassoc/anaconda3/envs/m/lib/python3.7/site-packages/IPython/utils/timing.py'>,\n",
       " 'IPython.core.magics.extension': <module 'IPython.core.magics.extension' from '/home/zassoc/anaconda3/envs/m/lib/python3.7/site-packages/IPython/core/magics/extension.py'>,\n",
       " 'IPython.core.magics.history': <module 'IPython.core.magics.history' from '/home/zassoc/anaconda3/envs/m/lib/python3.7/site-packages/IPython/core/magics/history.py'>,\n",
       " 'IPython.core.magics.logging': <module 'IPython.core.magics.logging' from '/home/zassoc/anaconda3/envs/m/lib/python3.7/site-packages/IPython/core/magics/logging.py'>,\n",
       " 'IPython.core.magics.namespace': <module 'IPython.core.magics.namespace' from '/home/zassoc/anaconda3/envs/m/lib/python3.7/site-packages/IPython/core/magics/namespace.py'>,\n",
       " 'IPython.core.magics.osm': <module 'IPython.core.magics.osm' from '/home/zassoc/anaconda3/envs/m/lib/python3.7/site-packages/IPython/core/magics/osm.py'>,\n",
       " 'IPython.core.magics.pylab': <module 'IPython.core.magics.pylab' from '/home/zassoc/anaconda3/envs/m/lib/python3.7/site-packages/IPython/core/magics/pylab.py'>,\n",
       " 'IPython.core.pylabtools': <module 'IPython.core.pylabtools' from '/home/zassoc/anaconda3/envs/m/lib/python3.7/site-packages/IPython/core/pylabtools.py'>,\n",
       " 'IPython.core.magics.script': <module 'IPython.core.magics.script' from '/home/zassoc/anaconda3/envs/m/lib/python3.7/site-packages/IPython/core/magics/script.py'>,\n",
       " 'IPython.lib.backgroundjobs': <module 'IPython.lib.backgroundjobs' from '/home/zassoc/anaconda3/envs/m/lib/python3.7/site-packages/IPython/lib/backgroundjobs.py'>,\n",
       " 'IPython.core.shellapp': <module 'IPython.core.shellapp' from '/home/zassoc/anaconda3/envs/m/lib/python3.7/site-packages/IPython/core/shellapp.py'>,\n",
       " 'IPython.extensions': <module 'IPython.extensions' from '/home/zassoc/anaconda3/envs/m/lib/python3.7/site-packages/IPython/extensions/__init__.py'>,\n",
       " 'IPython.extensions.storemagic': <module 'IPython.extensions.storemagic' from '/home/zassoc/anaconda3/envs/m/lib/python3.7/site-packages/IPython/extensions/storemagic.py'>,\n",
       " 'IPython.utils.frame': <module 'IPython.utils.frame' from '/home/zassoc/anaconda3/envs/m/lib/python3.7/site-packages/IPython/utils/frame.py'>,\n",
       " 'jupyter_client': <module 'jupyter_client' from '/home/zassoc/anaconda3/envs/m/lib/python3.7/site-packages/jupyter_client/__init__.py'>,\n",
       " 'jupyter_client._version': <module 'jupyter_client._version' from '/home/zassoc/anaconda3/envs/m/lib/python3.7/site-packages/jupyter_client/_version.py'>,\n",
       " 'jupyter_client.connect': <module 'jupyter_client.connect' from '/home/zassoc/anaconda3/envs/m/lib/python3.7/site-packages/jupyter_client/connect.py'>,\n",
       " 'zmq': <module 'zmq' from '/home/zassoc/anaconda3/envs/m/lib/python3.7/site-packages/zmq/__init__.py'>,\n",
       " 'ctypes': <module 'ctypes' from '/home/zassoc/anaconda3/envs/m/lib/python3.7/ctypes/__init__.py'>,\n",
       " '_ctypes': <module '_ctypes' from '/home/zassoc/anaconda3/envs/m/lib/python3.7/lib-dynload/_ctypes.cpython-37m-x86_64-linux-gnu.so'>,\n",
       " 'ctypes._endian': <module 'ctypes._endian' from '/home/zassoc/anaconda3/envs/m/lib/python3.7/ctypes/_endian.py'>,\n",
       " 'zmq.backend': <module 'zmq.backend' from '/home/zassoc/anaconda3/envs/m/lib/python3.7/site-packages/zmq/backend/__init__.py'>,\n",
       " 'zmq.backend.select': <module 'zmq.backend.select' from '/home/zassoc/anaconda3/envs/m/lib/python3.7/site-packages/zmq/backend/select.py'>,\n",
       " 'zmq.backend.cython': <module 'zmq.backend.cython' from '/home/zassoc/anaconda3/envs/m/lib/python3.7/site-packages/zmq/backend/cython/__init__.py'>,\n",
       " 'cython_runtime': <module 'cython_runtime'>,\n",
       " 'zmq.backend.cython.constants': <module 'zmq.backend.cython.constants' from '/home/zassoc/anaconda3/envs/m/lib/python3.7/site-packages/zmq/backend/cython/constants.cpython-37m-x86_64-linux-gnu.so'>,\n",
       " '_cython_0_28_5': <module '_cython_0_28_5'>,\n",
       " 'zmq.backend.cython.error': <module 'zmq.backend.cython.error' from '/home/zassoc/anaconda3/envs/m/lib/python3.7/site-packages/zmq/backend/cython/error.cpython-37m-x86_64-linux-gnu.so'>,\n",
       " 'zmq.backend.cython.message': <module 'zmq.backend.cython.message' from '/home/zassoc/anaconda3/envs/m/lib/python3.7/site-packages/zmq/backend/cython/message.cpython-37m-x86_64-linux-gnu.so'>,\n",
       " 'zmq.error': <module 'zmq.error' from '/home/zassoc/anaconda3/envs/m/lib/python3.7/site-packages/zmq/error.py'>,\n",
       " 'zmq.backend.cython.context': <module 'zmq.backend.cython.context' from '/home/zassoc/anaconda3/envs/m/lib/python3.7/site-packages/zmq/backend/cython/context.cpython-37m-x86_64-linux-gnu.so'>,\n",
       " 'zmq.backend.cython.socket': <module 'zmq.backend.cython.socket' from '/home/zassoc/anaconda3/envs/m/lib/python3.7/site-packages/zmq/backend/cython/socket.cpython-37m-x86_64-linux-gnu.so'>,\n",
       " 'zmq.backend.cython.utils': <module 'zmq.backend.cython.utils' from '/home/zassoc/anaconda3/envs/m/lib/python3.7/site-packages/zmq/backend/cython/utils.cpython-37m-x86_64-linux-gnu.so'>,\n",
       " 'zmq.backend.cython._poll': <module 'zmq.backend.cython._poll' from '/home/zassoc/anaconda3/envs/m/lib/python3.7/site-packages/zmq/backend/cython/_poll.cpython-37m-x86_64-linux-gnu.so'>,\n",
       " 'zmq.backend.cython._version': <module 'zmq.backend.cython._version' from '/home/zassoc/anaconda3/envs/m/lib/python3.7/site-packages/zmq/backend/cython/_version.cpython-37m-x86_64-linux-gnu.so'>,\n",
       " 'zmq.backend.cython._device': <module 'zmq.backend.cython._device' from '/home/zassoc/anaconda3/envs/m/lib/python3.7/site-packages/zmq/backend/cython/_device.cpython-37m-x86_64-linux-gnu.so'>,\n",
       " 'zmq.sugar': <module 'zmq.sugar' from '/home/zassoc/anaconda3/envs/m/lib/python3.7/site-packages/zmq/sugar/__init__.py'>,\n",
       " 'zmq.sugar.constants': <module 'zmq.sugar.constants' from '/home/zassoc/anaconda3/envs/m/lib/python3.7/site-packages/zmq/sugar/constants.py'>,\n",
       " 'zmq.utils': <module 'zmq.utils' from '/home/zassoc/anaconda3/envs/m/lib/python3.7/site-packages/zmq/utils/__init__.py'>,\n",
       " 'zmq.utils.constant_names': <module 'zmq.utils.constant_names' from '/home/zassoc/anaconda3/envs/m/lib/python3.7/site-packages/zmq/utils/constant_names.py'>,\n",
       " 'zmq.sugar.context': <module 'zmq.sugar.context' from '/home/zassoc/anaconda3/envs/m/lib/python3.7/site-packages/zmq/sugar/context.py'>,\n",
       " 'zmq.sugar.attrsettr': <module 'zmq.sugar.attrsettr' from '/home/zassoc/anaconda3/envs/m/lib/python3.7/site-packages/zmq/sugar/attrsettr.py'>,\n",
       " 'zmq.sugar.socket': <module 'zmq.sugar.socket' from '/home/zassoc/anaconda3/envs/m/lib/python3.7/site-packages/zmq/sugar/socket.py'>,\n",
       " 'zmq.sugar.poll': <module 'zmq.sugar.poll' from '/home/zassoc/anaconda3/envs/m/lib/python3.7/site-packages/zmq/sugar/poll.py'>,\n",
       " 'zmq.utils.jsonapi': <module 'zmq.utils.jsonapi' from '/home/zassoc/anaconda3/envs/m/lib/python3.7/site-packages/zmq/utils/jsonapi.py'>,\n",
       " 'zmq.utils.strtypes': <module 'zmq.utils.strtypes' from '/home/zassoc/anaconda3/envs/m/lib/python3.7/site-packages/zmq/utils/strtypes.py'>,\n",
       " 'zmq.sugar.frame': <module 'zmq.sugar.frame' from '/home/zassoc/anaconda3/envs/m/lib/python3.7/site-packages/zmq/sugar/frame.py'>,\n",
       " 'zmq.sugar.tracker': <module 'zmq.sugar.tracker' from '/home/zassoc/anaconda3/envs/m/lib/python3.7/site-packages/zmq/sugar/tracker.py'>,\n",
       " 'zmq.sugar.version': <module 'zmq.sugar.version' from '/home/zassoc/anaconda3/envs/m/lib/python3.7/site-packages/zmq/sugar/version.py'>,\n",
       " 'zmq.sugar.stopwatch': <module 'zmq.sugar.stopwatch' from '/home/zassoc/anaconda3/envs/m/lib/python3.7/site-packages/zmq/sugar/stopwatch.py'>,\n",
       " 'jupyter_client.localinterfaces': <module 'jupyter_client.localinterfaces' from '/home/zassoc/anaconda3/envs/m/lib/python3.7/site-packages/jupyter_client/localinterfaces.py'>,\n",
       " 'jupyter_core': <module 'jupyter_core' from '/home/zassoc/anaconda3/envs/m/lib/python3.7/site-packages/jupyter_core/__init__.py'>,\n",
       " 'jupyter_core.version': <module 'jupyter_core.version' from '/home/zassoc/anaconda3/envs/m/lib/python3.7/site-packages/jupyter_core/version.py'>,\n",
       " 'jupyter_core.paths': <module 'jupyter_core.paths' from '/home/zassoc/anaconda3/envs/m/lib/python3.7/site-packages/jupyter_core/paths.py'>,\n",
       " 'jupyter_client.launcher': <module 'jupyter_client.launcher' from '/home/zassoc/anaconda3/envs/m/lib/python3.7/site-packages/jupyter_client/launcher.py'>,\n",
       " 'traitlets.log': <module 'traitlets.log' from '/home/zassoc/anaconda3/envs/m/lib/python3.7/site-packages/traitlets/log.py'>,\n",
       " 'jupyter_client.client': <module 'jupyter_client.client' from '/home/zassoc/anaconda3/envs/m/lib/python3.7/site-packages/jupyter_client/client.py'>,\n",
       " 'jupyter_client.channels': <module 'jupyter_client.channels' from '/home/zassoc/anaconda3/envs/m/lib/python3.7/site-packages/jupyter_client/channels.py'>,\n",
       " 'jupyter_client.channelsabc': <module 'jupyter_client.channelsabc' from '/home/zassoc/anaconda3/envs/m/lib/python3.7/site-packages/jupyter_client/channelsabc.py'>,\n",
       " 'jupyter_client.clientabc': <module 'jupyter_client.clientabc' from '/home/zassoc/anaconda3/envs/m/lib/python3.7/site-packages/jupyter_client/clientabc.py'>,\n",
       " 'jupyter_client.manager': <module 'jupyter_client.manager' from '/home/zassoc/anaconda3/envs/m/lib/python3.7/site-packages/jupyter_client/manager.py'>,\n",
       " 'jupyter_client.kernelspec': <module 'jupyter_client.kernelspec' from '/home/zassoc/anaconda3/envs/m/lib/python3.7/site-packages/jupyter_client/kernelspec.py'>,\n",
       " 'jupyter_client.managerabc': <module 'jupyter_client.managerabc' from '/home/zassoc/anaconda3/envs/m/lib/python3.7/site-packages/jupyter_client/managerabc.py'>,\n",
       " 'jupyter_client.blocking': <module 'jupyter_client.blocking' from '/home/zassoc/anaconda3/envs/m/lib/python3.7/site-packages/jupyter_client/blocking/__init__.py'>,\n",
       " 'jupyter_client.blocking.client': <module 'jupyter_client.blocking.client' from '/home/zassoc/anaconda3/envs/m/lib/python3.7/site-packages/jupyter_client/blocking/client.py'>,\n",
       " 'jupyter_client.blocking.channels': <module 'jupyter_client.blocking.channels' from '/home/zassoc/anaconda3/envs/m/lib/python3.7/site-packages/jupyter_client/blocking/channels.py'>,\n",
       " 'jupyter_client.multikernelmanager': <module 'jupyter_client.multikernelmanager' from '/home/zassoc/anaconda3/envs/m/lib/python3.7/site-packages/jupyter_client/multikernelmanager.py'>,\n",
       " 'uuid': <module 'uuid' from '/home/zassoc/anaconda3/envs/m/lib/python3.7/uuid.py'>,\n",
       " 'ipykernel.kernelapp': <module 'ipykernel.kernelapp' from '/home/zassoc/anaconda3/envs/m/lib/python3.7/site-packages/ipykernel/kernelapp.py'>,\n",
       " 'tornado': <module 'tornado' from '/home/zassoc/anaconda3/envs/m/lib/python3.7/site-packages/tornado/__init__.py'>,\n",
       " 'tornado.ioloop': <module 'tornado.ioloop' from '/home/zassoc/anaconda3/envs/m/lib/python3.7/site-packages/tornado/ioloop.py'>,\n",
       " 'numbers': <module 'numbers' from '/home/zassoc/anaconda3/envs/m/lib/python3.7/numbers.py'>,\n",
       " 'tornado.concurrent': <module 'tornado.concurrent' from '/home/zassoc/anaconda3/envs/m/lib/python3.7/site-packages/tornado/concurrent.py'>,\n",
       " 'tornado.log': <module 'tornado.log' from '/home/zassoc/anaconda3/envs/m/lib/python3.7/site-packages/tornado/log.py'>,\n",
       " 'logging.handlers': <module 'logging.handlers' from '/home/zassoc/anaconda3/envs/m/lib/python3.7/logging/handlers.py'>,\n",
       " 'tornado.escape': <module 'tornado.escape' from '/home/zassoc/anaconda3/envs/m/lib/python3.7/site-packages/tornado/escape.py'>,\n",
       " 'tornado.util': <module 'tornado.util' from '/home/zassoc/anaconda3/envs/m/lib/python3.7/site-packages/tornado/util.py'>,\n",
       " 'tornado.speedups': <module 'tornado.speedups' from '/home/zassoc/anaconda3/envs/m/lib/python3.7/site-packages/tornado/speedups.cpython-37m-x86_64-linux-gnu.so'>,\n",
       " 'curses': <module 'curses' from '/home/zassoc/anaconda3/envs/m/lib/python3.7/curses/__init__.py'>,\n",
       " '_curses': <module '_curses' from '/home/zassoc/anaconda3/envs/m/lib/python3.7/lib-dynload/_curses.cpython-37m-x86_64-linux-gnu.so'>,\n",
       " 'tornado.stack_context': <module 'tornado.stack_context' from '/home/zassoc/anaconda3/envs/m/lib/python3.7/site-packages/tornado/stack_context.py'>,\n",
       " 'tornado.platform': <module 'tornado.platform' from '/home/zassoc/anaconda3/envs/m/lib/python3.7/site-packages/tornado/platform/__init__.py'>,\n",
       " 'tornado.platform.auto': <module 'tornado.platform.auto' from '/home/zassoc/anaconda3/envs/m/lib/python3.7/site-packages/tornado/platform/auto.py'>,\n",
       " 'tornado.platform.posix': <module 'tornado.platform.posix' from '/home/zassoc/anaconda3/envs/m/lib/python3.7/site-packages/tornado/platform/posix.py'>,\n",
       " 'tornado.platform.common': <module 'tornado.platform.common' from '/home/zassoc/anaconda3/envs/m/lib/python3.7/site-packages/tornado/platform/common.py'>,\n",
       " 'tornado.platform.interface': <module 'tornado.platform.interface' from '/home/zassoc/anaconda3/envs/m/lib/python3.7/site-packages/tornado/platform/interface.py'>,\n",
       " 'concurrent.futures.thread': <module 'concurrent.futures.thread' from '/home/zassoc/anaconda3/envs/m/lib/python3.7/concurrent/futures/thread.py'>,\n",
       " 'zmq.eventloop': <module 'zmq.eventloop' from '/home/zassoc/anaconda3/envs/m/lib/python3.7/site-packages/zmq/eventloop/__init__.py'>,\n",
       " 'zmq.eventloop.ioloop': <module 'zmq.eventloop.ioloop' from '/home/zassoc/anaconda3/envs/m/lib/python3.7/site-packages/zmq/eventloop/ioloop.py'>,\n",
       " 'tornado.platform.asyncio': <module 'tornado.platform.asyncio' from '/home/zassoc/anaconda3/envs/m/lib/python3.7/site-packages/tornado/platform/asyncio.py'>,\n",
       " 'tornado.gen': <module 'tornado.gen' from '/home/zassoc/anaconda3/envs/m/lib/python3.7/site-packages/tornado/gen.py'>,\n",
       " 'zmq.eventloop.zmqstream': <module 'zmq.eventloop.zmqstream' from '/home/zassoc/anaconda3/envs/m/lib/python3.7/site-packages/zmq/eventloop/zmqstream.py'>,\n",
       " 'ipykernel.iostream': <module 'ipykernel.iostream' from '/home/zassoc/anaconda3/envs/m/lib/python3.7/site-packages/ipykernel/iostream.py'>,\n",
       " 'imp': <module 'imp' from '/home/zassoc/anaconda3/envs/m/lib/python3.7/imp.py'>,\n",
       " 'jupyter_client.session': <module 'jupyter_client.session' from '/home/zassoc/anaconda3/envs/m/lib/python3.7/site-packages/jupyter_client/session.py'>,\n",
       " 'hmac': <module 'hmac' from '/home/zassoc/anaconda3/envs/m/lib/python3.7/hmac.py'>,\n",
       " 'jupyter_client.jsonutil': <module 'jupyter_client.jsonutil' from '/home/zassoc/anaconda3/envs/m/lib/python3.7/site-packages/jupyter_client/jsonutil.py'>,\n",
       " 'dateutil': <module 'dateutil' from '/home/zassoc/anaconda3/envs/m/lib/python3.7/site-packages/dateutil/__init__.py'>,\n",
       " 'dateutil._version': <module 'dateutil._version' from '/home/zassoc/anaconda3/envs/m/lib/python3.7/site-packages/dateutil/_version.py'>,\n",
       " 'dateutil.parser': <module 'dateutil.parser' from '/home/zassoc/anaconda3/envs/m/lib/python3.7/site-packages/dateutil/parser/__init__.py'>,\n",
       " 'dateutil.parser._parser': <module 'dateutil.parser._parser' from '/home/zassoc/anaconda3/envs/m/lib/python3.7/site-packages/dateutil/parser/_parser.py'>,\n",
       " 'decimal': <module 'decimal' from '/home/zassoc/anaconda3/envs/m/lib/python3.7/decimal.py'>,\n",
       " '_decimal': <module '_decimal' from '/home/zassoc/anaconda3/envs/m/lib/python3.7/lib-dynload/_decimal.cpython-37m-x86_64-linux-gnu.so'>,\n",
       " 'dateutil.relativedelta': <module 'dateutil.relativedelta' from '/home/zassoc/anaconda3/envs/m/lib/python3.7/site-packages/dateutil/relativedelta.py'>,\n",
       " 'dateutil._common': <module 'dateutil._common' from '/home/zassoc/anaconda3/envs/m/lib/python3.7/site-packages/dateutil/_common.py'>,\n",
       " 'dateutil.tz': <module 'dateutil.tz' from '/home/zassoc/anaconda3/envs/m/lib/python3.7/site-packages/dateutil/tz/__init__.py'>,\n",
       " 'dateutil.tz.tz': <module 'dateutil.tz.tz' from '/home/zassoc/anaconda3/envs/m/lib/python3.7/site-packages/dateutil/tz/tz.py'>,\n",
       " 'dateutil.tz._common': <module 'dateutil.tz._common' from '/home/zassoc/anaconda3/envs/m/lib/python3.7/site-packages/dateutil/tz/_common.py'>,\n",
       " 'dateutil.tz._factories': <module 'dateutil.tz._factories' from '/home/zassoc/anaconda3/envs/m/lib/python3.7/site-packages/dateutil/tz/_factories.py'>,\n",
       " 'dateutil.parser.isoparser': <module 'dateutil.parser.isoparser' from '/home/zassoc/anaconda3/envs/m/lib/python3.7/site-packages/dateutil/parser/isoparser.py'>,\n",
       " '_strptime': <module '_strptime' from '/home/zassoc/anaconda3/envs/m/lib/python3.7/_strptime.py'>,\n",
       " 'jupyter_client.adapter': <module 'jupyter_client.adapter' from '/home/zassoc/anaconda3/envs/m/lib/python3.7/site-packages/jupyter_client/adapter.py'>,\n",
       " 'ipykernel.heartbeat': <module 'ipykernel.heartbeat' from '/home/zassoc/anaconda3/envs/m/lib/python3.7/site-packages/ipykernel/heartbeat.py'>,\n",
       " 'ipykernel.ipkernel': <module 'ipykernel.ipkernel' from '/home/zassoc/anaconda3/envs/m/lib/python3.7/site-packages/ipykernel/ipkernel.py'>,\n",
       " 'IPython.utils.tokenutil': <module 'IPython.utils.tokenutil' from '/home/zassoc/anaconda3/envs/m/lib/python3.7/site-packages/IPython/utils/tokenutil.py'>,\n",
       " 'ipykernel.comm': <module 'ipykernel.comm' from '/home/zassoc/anaconda3/envs/m/lib/python3.7/site-packages/ipykernel/comm/__init__.py'>,\n",
       " 'ipykernel.comm.manager': <module 'ipykernel.comm.manager' from '/home/zassoc/anaconda3/envs/m/lib/python3.7/site-packages/ipykernel/comm/manager.py'>,\n",
       " 'ipykernel.comm.comm': <module 'ipykernel.comm.comm' from '/home/zassoc/anaconda3/envs/m/lib/python3.7/site-packages/ipykernel/comm/comm.py'>,\n",
       " 'ipykernel.kernelbase': <module 'ipykernel.kernelbase' from '/home/zassoc/anaconda3/envs/m/lib/python3.7/site-packages/ipykernel/kernelbase.py'>,\n",
       " 'tornado.queues': <module 'tornado.queues' from '/home/zassoc/anaconda3/envs/m/lib/python3.7/site-packages/tornado/queues.py'>,\n",
       " 'tornado.locks': <module 'tornado.locks' from '/home/zassoc/anaconda3/envs/m/lib/python3.7/site-packages/tornado/locks.py'>,\n",
       " 'ipykernel.jsonutil': <module 'ipykernel.jsonutil' from '/home/zassoc/anaconda3/envs/m/lib/python3.7/site-packages/ipykernel/jsonutil.py'>,\n",
       " 'ipykernel.zmqshell': <module 'ipykernel.zmqshell' from '/home/zassoc/anaconda3/envs/m/lib/python3.7/site-packages/ipykernel/zmqshell.py'>,\n",
       " 'IPython.core.payloadpage': <module 'IPython.core.payloadpage' from '/home/zassoc/anaconda3/envs/m/lib/python3.7/site-packages/IPython/core/payloadpage.py'>,\n",
       " 'ipykernel.displayhook': <module 'ipykernel.displayhook' from '/home/zassoc/anaconda3/envs/m/lib/python3.7/site-packages/ipykernel/displayhook.py'>,\n",
       " 'ipykernel.parentpoller': <module 'ipykernel.parentpoller' from '/home/zassoc/anaconda3/envs/m/lib/python3.7/site-packages/ipykernel/parentpoller.py'>,\n",
       " 'faulthandler': <module 'faulthandler' (built-in)>,\n",
       " 'ipykernel.datapub': <module 'ipykernel.datapub' from '/home/zassoc/anaconda3/envs/m/lib/python3.7/site-packages/ipykernel/datapub.py'>,\n",
       " 'ipykernel.serialize': <module 'ipykernel.serialize' from '/home/zassoc/anaconda3/envs/m/lib/python3.7/site-packages/ipykernel/serialize.py'>,\n",
       " 'ipykernel.pickleutil': <module 'ipykernel.pickleutil' from '/home/zassoc/anaconda3/envs/m/lib/python3.7/site-packages/ipykernel/pickleutil.py'>,\n",
       " 'ipykernel.codeutil': <module 'ipykernel.codeutil' from '/home/zassoc/anaconda3/envs/m/lib/python3.7/site-packages/ipykernel/codeutil.py'>,\n",
       " 'IPython.core.completerlib': <module 'IPython.core.completerlib' from '/home/zassoc/anaconda3/envs/m/lib/python3.7/site-packages/IPython/core/completerlib.py'>,\n",
       " 'storemagic': <module 'storemagic' from '/home/zassoc/anaconda3/envs/m/lib/python3.7/site-packages/IPython/extensions/storemagic.py'>,\n",
       " 'ipywidgets': <module 'ipywidgets' from '/home/zassoc/anaconda3/envs/m/lib/python3.7/site-packages/ipywidgets/__init__.py'>,\n",
       " 'ipywidgets._version': <module 'ipywidgets._version' from '/home/zassoc/anaconda3/envs/m/lib/python3.7/site-packages/ipywidgets/_version.py'>,\n",
       " 'ipywidgets.widgets': <module 'ipywidgets.widgets' from '/home/zassoc/anaconda3/envs/m/lib/python3.7/site-packages/ipywidgets/widgets/__init__.py'>,\n",
       " 'ipywidgets.widgets.widget': <module 'ipywidgets.widgets.widget' from '/home/zassoc/anaconda3/envs/m/lib/python3.7/site-packages/ipywidgets/widgets/widget.py'>,\n",
       " 'ipywidgets.widgets.domwidget': <module 'ipywidgets.widgets.domwidget' from '/home/zassoc/anaconda3/envs/m/lib/python3.7/site-packages/ipywidgets/widgets/domwidget.py'>,\n",
       " 'ipywidgets.widgets.trait_types': <module 'ipywidgets.widgets.trait_types' from '/home/zassoc/anaconda3/envs/m/lib/python3.7/site-packages/ipywidgets/widgets/trait_types.py'>,\n",
       " 'ipywidgets.widgets.widget_layout': <module 'ipywidgets.widgets.widget_layout' from '/home/zassoc/anaconda3/envs/m/lib/python3.7/site-packages/ipywidgets/widgets/widget_layout.py'>,\n",
       " 'ipywidgets.widgets.widget_style': <module 'ipywidgets.widgets.widget_style' from '/home/zassoc/anaconda3/envs/m/lib/python3.7/site-packages/ipywidgets/widgets/widget_style.py'>,\n",
       " 'ipywidgets.widgets.valuewidget': <module 'ipywidgets.widgets.valuewidget' from '/home/zassoc/anaconda3/envs/m/lib/python3.7/site-packages/ipywidgets/widgets/valuewidget.py'>,\n",
       " 'ipywidgets.widgets.widget_core': <module 'ipywidgets.widgets.widget_core' from '/home/zassoc/anaconda3/envs/m/lib/python3.7/site-packages/ipywidgets/widgets/widget_core.py'>,\n",
       " 'ipywidgets.widgets.widget_bool': <module 'ipywidgets.widgets.widget_bool' from '/home/zassoc/anaconda3/envs/m/lib/python3.7/site-packages/ipywidgets/widgets/widget_bool.py'>,\n",
       " 'ipywidgets.widgets.widget_description': <module 'ipywidgets.widgets.widget_description' from '/home/zassoc/anaconda3/envs/m/lib/python3.7/site-packages/ipywidgets/widgets/widget_description.py'>,\n",
       " 'ipywidgets.widgets.widget_button': <module 'ipywidgets.widgets.widget_button' from '/home/zassoc/anaconda3/envs/m/lib/python3.7/site-packages/ipywidgets/widgets/widget_button.py'>,\n",
       " 'ipywidgets.widgets.widget_box': <module 'ipywidgets.widgets.widget_box' from '/home/zassoc/anaconda3/envs/m/lib/python3.7/site-packages/ipywidgets/widgets/widget_box.py'>,\n",
       " 'ipywidgets.widgets.docutils': <module 'ipywidgets.widgets.docutils' from '/home/zassoc/anaconda3/envs/m/lib/python3.7/site-packages/ipywidgets/widgets/docutils.py'>,\n",
       " 'ipywidgets.widgets.widget_float': <module 'ipywidgets.widgets.widget_float' from '/home/zassoc/anaconda3/envs/m/lib/python3.7/site-packages/ipywidgets/widgets/widget_float.py'>,\n",
       " 'ipywidgets.widgets.widget_int': <module 'ipywidgets.widgets.widget_int' from '/home/zassoc/anaconda3/envs/m/lib/python3.7/site-packages/ipywidgets/widgets/widget_int.py'>,\n",
       " 'ipywidgets.widgets.widget_color': <module 'ipywidgets.widgets.widget_color' from '/home/zassoc/anaconda3/envs/m/lib/python3.7/site-packages/ipywidgets/widgets/widget_color.py'>,\n",
       " 'ipywidgets.widgets.widget_date': <module 'ipywidgets.widgets.widget_date' from '/home/zassoc/anaconda3/envs/m/lib/python3.7/site-packages/ipywidgets/widgets/widget_date.py'>,\n",
       " 'ipywidgets.widgets.widget_output': <module 'ipywidgets.widgets.widget_output' from '/home/zassoc/anaconda3/envs/m/lib/python3.7/site-packages/ipywidgets/widgets/widget_output.py'>,\n",
       " 'ipywidgets.widgets.widget_selection': <module 'ipywidgets.widgets.widget_selection' from '/home/zassoc/anaconda3/envs/m/lib/python3.7/site-packages/ipywidgets/widgets/widget_selection.py'>,\n",
       " 'ipywidgets.widgets.widget_selectioncontainer': <module 'ipywidgets.widgets.widget_selectioncontainer' from '/home/zassoc/anaconda3/envs/m/lib/python3.7/site-packages/ipywidgets/widgets/widget_selectioncontainer.py'>,\n",
       " 'ipywidgets.widgets.widget_string': <module 'ipywidgets.widgets.widget_string' from '/home/zassoc/anaconda3/envs/m/lib/python3.7/site-packages/ipywidgets/widgets/widget_string.py'>,\n",
       " 'ipywidgets.widgets.widget_controller': <module 'ipywidgets.widgets.widget_controller' from '/home/zassoc/anaconda3/envs/m/lib/python3.7/site-packages/ipywidgets/widgets/widget_controller.py'>,\n",
       " 'ipywidgets.widgets.interaction': <module 'ipywidgets.widgets.interaction' from '/home/zassoc/anaconda3/envs/m/lib/python3.7/site-packages/ipywidgets/widgets/interaction.py'>,\n",
       " 'ipywidgets.widgets.widget_link': <module 'ipywidgets.widgets.widget_link' from '/home/zassoc/anaconda3/envs/m/lib/python3.7/site-packages/ipywidgets/widgets/widget_link.py'>,\n",
       " 'ipywidgets.widgets.widget_media': <module 'ipywidgets.widgets.widget_media' from '/home/zassoc/anaconda3/envs/m/lib/python3.7/site-packages/ipywidgets/widgets/widget_media.py'>,\n",
       " 'zmq.utils.garbage': <module 'zmq.utils.garbage' from '/home/zassoc/anaconda3/envs/m/lib/python3.7/site-packages/zmq/utils/garbage.py'>}"
      ]
     },
     "execution_count": 7,
     "metadata": {},
     "output_type": "execute_result"
    }
   ],
   "source": [
    "sys.modules"
   ]
  },
  {
   "cell_type": "code",
   "execution_count": 9,
   "metadata": {},
   "outputs": [],
   "source": [
    "from firstmodule import run"
   ]
  },
  {
   "cell_type": "code",
   "execution_count": 13,
   "metadata": {},
   "outputs": [],
   "source": [
    "fmr = sys.modules['firstmodule.run']"
   ]
  },
  {
   "cell_type": "code",
   "execution_count": 15,
   "metadata": {},
   "outputs": [
    {
     "data": {
      "text/plain": [
       "<module 'firstmodule.run' from '/home/zassoc/Github/m/firstmodule/run.py'>"
      ]
     },
     "execution_count": 15,
     "metadata": {},
     "output_type": "execute_result"
    }
   ],
   "source": [
    "fmr"
   ]
  },
  {
   "cell_type": "code",
   "execution_count": 16,
   "metadata": {},
   "outputs": [
    {
     "data": {
      "text/plain": [
       "[zipimport.zipimporter,\n",
       " <function _frozen_importlib_external.FileFinder.path_hook.<locals>.path_hook_for_FileFinder(path)>]"
      ]
     },
     "execution_count": 16,
     "metadata": {},
     "output_type": "execute_result"
    }
   ],
   "source": [
    "sys.path_hooks"
   ]
  },
  {
   "cell_type": "code",
   "execution_count": 17,
   "metadata": {},
   "outputs": [
    {
     "data": {
      "text/plain": [
       "[_frozen_importlib.BuiltinImporter,\n",
       " _frozen_importlib.FrozenImporter,\n",
       " _frozen_importlib_external.PathFinder,\n",
       " <six._SixMetaPathImporter at 0x7fa5b2b2c898>]"
      ]
     },
     "execution_count": 17,
     "metadata": {},
     "output_type": "execute_result"
    }
   ],
   "source": [
    "sys.meta_path"
   ]
  },
  {
   "cell_type": "code",
   "execution_count": 18,
   "metadata": {},
   "outputs": [
    {
     "name": "stdout",
     "output_type": "stream",
     "text": [
      "Help on module firstmodule.run in firstmodule:\n",
      "\n",
      "NAME\n",
      "    firstmodule.run\n",
      "\n",
      "FUNCTIONS\n",
      "    myfunc(a)\n",
      "    \n",
      "    otherfunc(b)\n",
      "\n",
      "FILE\n",
      "    /home/zassoc/Github/m/firstmodule/run.py\n",
      "\n",
      "\n"
     ]
    }
   ],
   "source": [
    "help(fmr)"
   ]
  },
  {
   "cell_type": "code",
   "execution_count": 20,
   "metadata": {},
   "outputs": [
    {
     "data": {
      "text/plain": [
       "'/home/zassoc/Github/m/firstmodule/run.py'"
      ]
     },
     "execution_count": 20,
     "metadata": {},
     "output_type": "execute_result"
    }
   ],
   "source": [
    "fmr.__file__"
   ]
  },
  {
   "cell_type": "code",
   "execution_count": 208,
   "metadata": {},
   "outputs": [],
   "source": [
    "from pathlib import Path\n",
    "with open(Path(fmr.__file__), \"rb\") as srcfile:\n",
    "    x = srcfile.read()"
   ]
  },
  {
   "cell_type": "code",
   "execution_count": 209,
   "metadata": {},
   "outputs": [],
   "source": [
    "tree = ast.parse(x)"
   ]
  },
  {
   "cell_type": "code",
   "execution_count": 210,
   "metadata": {},
   "outputs": [
    {
     "data": {
      "text/plain": [
       "_ast.Module"
      ]
     },
     "execution_count": 210,
     "metadata": {},
     "output_type": "execute_result"
    }
   ],
   "source": [
    "type(tree)"
   ]
  },
  {
   "cell_type": "code",
   "execution_count": 212,
   "metadata": {},
   "outputs": [
    {
     "data": {
      "text/plain": [
       "\"Module(body=[FunctionDef(name='myfunc', args=arguments(args=[arg(arg='a', annotation=None)], vararg=None, kwonlyargs=[], kw_defaults=[], kwarg=None, defaults=[]), body=[Expr(value=Call(func=Name(id='print', ctx=Load()), args=[Str(s='hello'), Name(id='a', ctx=Load())], keywords=[]))], decorator_list=[], returns=None), FunctionDef(name='otherfunc', args=arguments(args=[arg(arg='b', annotation=None)], vararg=None, kwonlyargs=[], kw_defaults=[], kwarg=None, defaults=[]), body=[Return(value=BinOp(left=Name(id='b', ctx=Load()), op=Add(), right=Num(n=10)))], decorator_list=[], returns=None), Expr(value=Call(func=Name(id='myfunc', ctx=Load()), args=[Str(s='there')], keywords=[])), Expr(value=Call(func=Name(id='print', ctx=Load()), args=[Call(func=Name(id='otherfunc', ctx=Load()), args=[Num(n=10)], keywords=[])], keywords=[]))])\""
      ]
     },
     "execution_count": 212,
     "metadata": {},
     "output_type": "execute_result"
    }
   ],
   "source": [
    "ast.dump(tree)"
   ]
  },
  {
   "cell_type": "code",
   "execution_count": 28,
   "metadata": {},
   "outputs": [
    {
     "name": "stdout",
     "output_type": "stream",
     "text": [
      "myfunc\n",
      "otherfunc\n"
     ]
    }
   ],
   "source": [
    "class FuncLister(ast.NodeVisitor):\n",
    "    def visit_FunctionDef(self, node):\n",
    "        print(node.name)\n",
    "        self.generic_visit(node)\n",
    "\n",
    "FuncLister().visit(tree)"
   ]
  },
  {
   "cell_type": "code",
   "execution_count": 29,
   "metadata": {},
   "outputs": [],
   "source": [
    "class RewriteAddSub(ast.NodeTransformer):\n",
    "\n",
    "    def visit_BinOp(self, node):\n",
    "        return ast.copy_location(\n",
    "            ast.BinOp(left=node.left,\n",
    "                      op=ast.Sub(),\n",
    "                      right=node.right),\n",
    "            node)"
   ]
  },
  {
   "cell_type": "code",
   "execution_count": 30,
   "metadata": {},
   "outputs": [],
   "source": [
    "tree2 = RewriteAddSub().visit(tree)"
   ]
  },
  {
   "cell_type": "code",
   "execution_count": 33,
   "metadata": {},
   "outputs": [],
   "source": [
    "co = compile(tree2, '<string>', \"exec\")"
   ]
  },
  {
   "cell_type": "code",
   "execution_count": 62,
   "metadata": {},
   "outputs": [
    {
     "data": {
      "text/plain": [
       "<code object <module> at 0x7fa5ac5e49c0, file \"<string>\", line 1>"
      ]
     },
     "execution_count": 62,
     "metadata": {},
     "output_type": "execute_result"
    }
   ],
   "source": [
    "co"
   ]
  },
  {
   "cell_type": "code",
   "execution_count": 70,
   "metadata": {},
   "outputs": [],
   "source": [
    "import importlib\n",
    "import struct\n",
    "import time\n",
    "import marshal"
   ]
  },
  {
   "cell_type": "code",
   "execution_count": 67,
   "metadata": {},
   "outputs": [
    {
     "data": {
      "text/plain": [
       "b'B\\r\\r\\n'"
      ]
     },
     "execution_count": 67,
     "metadata": {},
     "output_type": "execute_result"
    }
   ],
   "source": [
    "importlib.util.MAGIC_NUMBER"
   ]
  },
  {
   "cell_type": "code",
   "execution_count": 69,
   "metadata": {},
   "outputs": [
    {
     "data": {
      "text/plain": [
       "1545523687"
      ]
     },
     "execution_count": 69,
     "metadata": {},
     "output_type": "execute_result"
    }
   ],
   "source": [
    "int(time.time())"
   ]
  },
  {
   "cell_type": "code",
   "execution_count": 63,
   "metadata": {},
   "outputs": [
    {
     "data": {
      "text/plain": [
       "\"Module(body=[FunctionDef(name='myfunc', args=arguments(args=[arg(arg='a', annotation=None)], vararg=None, kwonlyargs=[], kw_defaults=[], kwarg=None, defaults=[]), body=[Expr(value=Call(func=Name(id='print', ctx=Load()), args=[Str(s='hello'), Name(id='a', ctx=Load())], keywords=[]))], decorator_list=[], returns=None), FunctionDef(name='otherfunc', args=arguments(args=[arg(arg='b', annotation=None)], vararg=None, kwonlyargs=[], kw_defaults=[], kwarg=None, defaults=[]), body=[Return(value=BinOp(left=Name(id='b', ctx=Load()), op=Sub(), right=Num(n=10)))], decorator_list=[], returns=None), Expr(value=Call(func=Name(id='myfunc', ctx=Load()), args=[Str(s='there')], keywords=[])), Expr(value=Call(func=Name(id='print', ctx=Load()), args=[Call(func=Name(id='otherfunc', ctx=Load()), args=[Num(n=10)], keywords=[])], keywords=[]))])\""
      ]
     },
     "execution_count": 63,
     "metadata": {},
     "output_type": "execute_result"
    }
   ],
   "source": [
    "ast.dump(tree2)"
   ]
  },
  {
   "cell_type": "code",
   "execution_count": 38,
   "metadata": {},
   "outputs": [],
   "source": []
  },
  {
   "cell_type": "code",
   "execution_count": 40,
   "metadata": {},
   "outputs": [
    {
     "data": {
      "text/plain": [
       "ModuleSpec(name='firstmodule', loader=<_frozen_importlib_external.SourceFileLoader object at 0x7fa5b4370b70>, origin='/home/zassoc/Github/m/firstmodule/__init__.py', submodule_search_locations=['/home/zassoc/Github/m/firstmodule'])"
      ]
     },
     "execution_count": 40,
     "metadata": {},
     "output_type": "execute_result"
    }
   ],
   "source": [
    "importlib.util.find_spec('firstmodule')"
   ]
  },
  {
   "cell_type": "code",
   "execution_count": 41,
   "metadata": {},
   "outputs": [
    {
     "data": {
      "text/plain": [
       "[_frozen_importlib.BuiltinImporter,\n",
       " _frozen_importlib.FrozenImporter,\n",
       " _frozen_importlib_external.PathFinder,\n",
       " <six._SixMetaPathImporter at 0x7fa5b2b2c898>]"
      ]
     },
     "execution_count": 41,
     "metadata": {},
     "output_type": "execute_result"
    }
   ],
   "source": [
    "sys.meta_path"
   ]
  },
  {
   "cell_type": "code",
   "execution_count": 42,
   "metadata": {},
   "outputs": [],
   "source": [
    "importlib.invalidate_caches()"
   ]
  },
  {
   "cell_type": "code",
   "execution_count": 43,
   "metadata": {},
   "outputs": [
    {
     "data": {
      "text/plain": [
       "[_frozen_importlib.BuiltinImporter,\n",
       " _frozen_importlib.FrozenImporter,\n",
       " _frozen_importlib_external.PathFinder,\n",
       " <six._SixMetaPathImporter at 0x7fa5b2b2c898>]"
      ]
     },
     "execution_count": 43,
     "metadata": {},
     "output_type": "execute_result"
    }
   ],
   "source": [
    "sys.meta_path"
   ]
  },
  {
   "cell_type": "code",
   "execution_count": 48,
   "metadata": {},
   "outputs": [
    {
     "data": {
      "text/plain": [
       "'/home/zassoc/Github/m/firstmodule/__pycache__/run.cpython-37.pyc'"
      ]
     },
     "execution_count": 48,
     "metadata": {},
     "output_type": "execute_result"
    }
   ],
   "source": [
    "importlib.util.cache_from_source(fmr.__file__)"
   ]
  },
  {
   "cell_type": "code",
   "execution_count": 90,
   "metadata": {},
   "outputs": [],
   "source": [
    "import py_compile\n",
    "import atomicwrites"
   ]
  },
  {
   "cell_type": "code",
   "execution_count": 76,
   "metadata": {},
   "outputs": [],
   "source": [
    "import os\n",
    "sres = os.stat(fmr.__file__)"
   ]
  },
  {
   "cell_type": "code",
   "execution_count": 77,
   "metadata": {},
   "outputs": [
    {
     "data": {
      "text/plain": [
       "os.stat_result(st_mode=33204, st_ino=11405256, st_dev=54, st_nlink=1, st_uid=1000, st_gid=1000, st_size=114, st_atime=1545518591, st_mtime=1545518591, st_ctime=1545518591)"
      ]
     },
     "execution_count": 77,
     "metadata": {},
     "output_type": "execute_result"
    }
   ],
   "source": [
    "sres"
   ]
  },
  {
   "cell_type": "code",
   "execution_count": 79,
   "metadata": {},
   "outputs": [
    {
     "data": {
      "text/plain": [
       "114"
      ]
     },
     "execution_count": 79,
     "metadata": {},
     "output_type": "execute_result"
    }
   ],
   "source": [
    "sres.st_size"
   ]
  },
  {
   "cell_type": "code",
   "execution_count": 117,
   "metadata": {},
   "outputs": [],
   "source": [
    "from pathlib import Path\n",
    "\n",
    "pyc = Path(\"firstmodule/__pycache__/run.cpython-37.pyc\")\n",
    "\n",
    "with atomicwrites.atomic_write(pyc, mode=\"wb\", overwrite=True) as fp:\n",
    "    fp.write(importlib.util.MAGIC_NUMBER)\n",
    "    mtime = int(sres.st_mtime)\n",
    "    size = sres.st_size & 0xFFFFFFFF\n",
    "    fp.write(struct.pack(\"<ll\", mtime, size))\n",
    "    fp.write(marshal.dumps(co))"
   ]
  },
  {
   "cell_type": "code",
   "execution_count": 119,
   "metadata": {},
   "outputs": [],
   "source": [
    "import firstmodule"
   ]
  },
  {
   "cell_type": "code",
   "execution_count": 122,
   "metadata": {},
   "outputs": [
    {
     "data": {
      "text/plain": [
       "<module 'firstmodule' from '/home/zassoc/Github/m/firstmodule/__init__.py'>"
      ]
     },
     "execution_count": 122,
     "metadata": {},
     "output_type": "execute_result"
    }
   ],
   "source": [
    "importlib.reload(firstmodule)"
   ]
  },
  {
   "cell_type": "code",
   "execution_count": 124,
   "metadata": {},
   "outputs": [
    {
     "data": {
      "text/plain": [
       "'/home/zassoc/Github/m/firstmodule/__pycache__/run.cpython-37.pyc'"
      ]
     },
     "execution_count": 124,
     "metadata": {},
     "output_type": "execute_result"
    }
   ],
   "source": [
    "importlib.util.cache_from_source(firstmodule.run.__file__)"
   ]
  },
  {
   "cell_type": "code",
   "execution_count": 126,
   "metadata": {},
   "outputs": [
    {
     "name": "stdout",
     "output_type": "stream",
     "text": [
      "hello hey\n"
     ]
    }
   ],
   "source": [
    "run.myfunc(\"hey\")"
   ]
  },
  {
   "cell_type": "code",
   "execution_count": 129,
   "metadata": {},
   "outputs": [
    {
     "data": {
      "text/plain": [
       "30"
      ]
     },
     "execution_count": 129,
     "metadata": {},
     "output_type": "execute_result"
    }
   ],
   "source": [
    "run.otherfunc(20)"
   ]
  },
  {
   "cell_type": "code",
   "execution_count": 130,
   "metadata": {},
   "outputs": [
    {
     "data": {
      "text/plain": [
       "'/home/zassoc/Github/m/firstmodule/run.py'"
      ]
     },
     "execution_count": 130,
     "metadata": {},
     "output_type": "execute_result"
    }
   ],
   "source": [
    "run.__file__"
   ]
  },
  {
   "cell_type": "code",
   "execution_count": 131,
   "metadata": {},
   "outputs": [],
   "source": [
    "with open(run.__file__, \"rb\") as srcfile:\n",
    "    x = srcfile.read()"
   ]
  },
  {
   "cell_type": "code",
   "execution_count": 132,
   "metadata": {},
   "outputs": [],
   "source": [
    "tree = ast.parse(x)"
   ]
  },
  {
   "cell_type": "code",
   "execution_count": 133,
   "metadata": {},
   "outputs": [
    {
     "data": {
      "text/plain": [
       "\"Module(body=[FunctionDef(name='myfunc', args=arguments(args=[arg(arg='a', annotation=None)], vararg=None, kwonlyargs=[], kw_defaults=[], kwarg=None, defaults=[]), body=[Expr(value=Call(func=Name(id='print', ctx=Load()), args=[Str(s='hello'), Name(id='a', ctx=Load())], keywords=[]))], decorator_list=[], returns=None), FunctionDef(name='otherfunc', args=arguments(args=[arg(arg='b', annotation=None)], vararg=None, kwonlyargs=[], kw_defaults=[], kwarg=None, defaults=[]), body=[Return(value=BinOp(left=Name(id='b', ctx=Load()), op=Add(), right=Num(n=10)))], decorator_list=[], returns=None), Expr(value=Call(func=Name(id='myfunc', ctx=Load()), args=[Str(s='there')], keywords=[])), Expr(value=Call(func=Name(id='print', ctx=Load()), args=[Call(func=Name(id='otherfunc', ctx=Load()), args=[Num(n=10)], keywords=[])], keywords=[]))])\""
      ]
     },
     "execution_count": 133,
     "metadata": {},
     "output_type": "execute_result"
    }
   ],
   "source": [
    "ast.dump(tree)"
   ]
  },
  {
   "cell_type": "code",
   "execution_count": 134,
   "metadata": {},
   "outputs": [],
   "source": [
    "tree2 = RewriteAddSub().visit(tree)"
   ]
  },
  {
   "cell_type": "code",
   "execution_count": 135,
   "metadata": {
    "scrolled": true
   },
   "outputs": [
    {
     "data": {
      "text/plain": [
       "\"Module(body=[FunctionDef(name='myfunc', args=arguments(args=[arg(arg='a', annotation=None)], vararg=None, kwonlyargs=[], kw_defaults=[], kwarg=None, defaults=[]), body=[Expr(value=Call(func=Name(id='print', ctx=Load()), args=[Str(s='hello'), Name(id='a', ctx=Load())], keywords=[]))], decorator_list=[], returns=None), FunctionDef(name='otherfunc', args=arguments(args=[arg(arg='b', annotation=None)], vararg=None, kwonlyargs=[], kw_defaults=[], kwarg=None, defaults=[]), body=[Return(value=BinOp(left=Name(id='b', ctx=Load()), op=Sub(), right=Num(n=10)))], decorator_list=[], returns=None), Expr(value=Call(func=Name(id='myfunc', ctx=Load()), args=[Str(s='there')], keywords=[])), Expr(value=Call(func=Name(id='print', ctx=Load()), args=[Call(func=Name(id='otherfunc', ctx=Load()), args=[Num(n=10)], keywords=[])], keywords=[]))])\""
      ]
     },
     "execution_count": 135,
     "metadata": {},
     "output_type": "execute_result"
    }
   ],
   "source": [
    "ast.dump(tree2)"
   ]
  },
  {
   "cell_type": "code",
   "execution_count": 143,
   "metadata": {},
   "outputs": [],
   "source": [
    "pyc = Path(\"firstmodule/__pycache__/run.cpython-37.pyc\")\n",
    "sres = os.stat(run.__file__)\n",
    "scac = os.stat(pyc)"
   ]
  },
  {
   "cell_type": "code",
   "execution_count": 137,
   "metadata": {},
   "outputs": [
    {
     "data": {
      "text/plain": [
       "os.stat_result(st_mode=33204, st_ino=11405256, st_dev=54, st_nlink=1, st_uid=1000, st_gid=1000, st_size=114, st_atime=1545518591, st_mtime=1545518591, st_ctime=1545518591)"
      ]
     },
     "execution_count": 137,
     "metadata": {},
     "output_type": "execute_result"
    }
   ],
   "source": [
    "sres"
   ]
  },
  {
   "cell_type": "code",
   "execution_count": 138,
   "metadata": {},
   "outputs": [
    {
     "data": {
      "text/plain": [
       "os.stat_result(st_mode=33152, st_ino=11405270, st_dev=54, st_nlink=1, st_uid=1000, st_gid=1000, st_size=354, st_atime=1545525161, st_mtime=1545525161, st_ctime=1545525161)"
      ]
     },
     "execution_count": 138,
     "metadata": {},
     "output_type": "execute_result"
    }
   ],
   "source": [
    "scac"
   ]
  },
  {
   "cell_type": "code",
   "execution_count": 139,
   "metadata": {},
   "outputs": [],
   "source": [
    "co = compile(tree2, run.__file__, \"exec\")"
   ]
  },
  {
   "cell_type": "code",
   "execution_count": 140,
   "metadata": {},
   "outputs": [
    {
     "data": {
      "text/plain": [
       "<code object <module> at 0x7fa5ac5b31e0, file \"/home/zassoc/Github/m/firstmodule/run.py\", line 1>"
      ]
     },
     "execution_count": 140,
     "metadata": {},
     "output_type": "execute_result"
    }
   ],
   "source": [
    "co"
   ]
  },
  {
   "cell_type": "code",
   "execution_count": 170,
   "metadata": {},
   "outputs": [],
   "source": [
    "mut = Path(\"firstmodule/__pycache__/run.cpython-37.pyc\")\n",
    "\n",
    "with atomicwrites.atomic_write(mut, mode=\"wb\", overwrite=True) as fp:\n",
    "    fp.write(importlib.util.MAGIC_NUMBER)\n",
    "    mtime = int(time.time())\n",
    "    size = sres.st_size & 0xFFFFFFFF\n",
    "    fp.write(struct.pack(\"<ll\", mtime, size))\n",
    "    fp.write(marshal.dumps(co))\n",
    "\n",
    "os.chmod(mut, 0o644)"
   ]
  },
  {
   "cell_type": "code",
   "execution_count": 162,
   "metadata": {},
   "outputs": [
    {
     "name": "stdout",
     "output_type": "stream",
     "text": [
      "hello there\n",
      "0\n"
     ]
    }
   ],
   "source": [
    "exec(co)"
   ]
  },
  {
   "cell_type": "code",
   "execution_count": 213,
   "metadata": {},
   "outputs": [
    {
     "data": {
      "text/plain": [
       "code"
      ]
     },
     "execution_count": 213,
     "metadata": {},
     "output_type": "execute_result"
    }
   ],
   "source": [
    "type(co)"
   ]
  },
  {
   "cell_type": "code",
   "execution_count": 163,
   "metadata": {},
   "outputs": [
    {
     "data": {
      "text/plain": [
       "<module 'firstmodule' from '/home/zassoc/Github/m/firstmodule/__init__.py'>"
      ]
     },
     "execution_count": 163,
     "metadata": {},
     "output_type": "execute_result"
    }
   ],
   "source": [
    "importlib.reload(firstmodule)"
   ]
  },
  {
   "cell_type": "code",
   "execution_count": 164,
   "metadata": {},
   "outputs": [],
   "source": [
    "from firstmodule import run"
   ]
  },
  {
   "cell_type": "code",
   "execution_count": 165,
   "metadata": {},
   "outputs": [
    {
     "data": {
      "text/plain": [
       "20"
      ]
     },
     "execution_count": 165,
     "metadata": {},
     "output_type": "execute_result"
    }
   ],
   "source": [
    "run.otherfunc(10)"
   ]
  },
  {
   "cell_type": "code",
   "execution_count": 173,
   "metadata": {},
   "outputs": [],
   "source": [
    "f = run.__file__"
   ]
  },
  {
   "cell_type": "code",
   "execution_count": 174,
   "metadata": {},
   "outputs": [
    {
     "data": {
      "text/plain": [
       "'/home/zassoc/Github/m/firstmodule/__pycache__/run.cpython-37.pyc'"
      ]
     },
     "execution_count": 174,
     "metadata": {},
     "output_type": "execute_result"
    }
   ],
   "source": [
    "importlib.util.cache_from_source(f)"
   ]
  },
  {
   "cell_type": "code",
   "execution_count": 175,
   "metadata": {},
   "outputs": [],
   "source": [
    "loader = importlib.machinery.SourceFileLoader('<py_compile>', f)"
   ]
  },
  {
   "cell_type": "code",
   "execution_count": 177,
   "metadata": {},
   "outputs": [],
   "source": [
    "sb = loader.get_data(f)"
   ]
  },
  {
   "cell_type": "code",
   "execution_count": 178,
   "metadata": {},
   "outputs": [
    {
     "data": {
      "text/plain": [
       "b\"def myfunc(a):\\n    print('hello', a)\\n\\n\\ndef otherfunc(b):\\n    return b + 10\\n\\n\\nmyfunc('there')\\nprint(otherfunc(10))\\n\""
      ]
     },
     "execution_count": 178,
     "metadata": {},
     "output_type": "execute_result"
    }
   ],
   "source": [
    "sb"
   ]
  },
  {
   "cell_type": "code",
   "execution_count": 179,
   "metadata": {},
   "outputs": [],
   "source": [
    "code = loader.source_to_code(sb, f)"
   ]
  },
  {
   "cell_type": "code",
   "execution_count": 180,
   "metadata": {},
   "outputs": [
    {
     "data": {
      "text/plain": [
       "<code object <module> at 0x7fa5ac6a3db0, file \"/home/zassoc/Github/m/firstmodule/run.py\", line 1>"
      ]
     },
     "execution_count": 180,
     "metadata": {},
     "output_type": "execute_result"
    }
   ],
   "source": [
    "code"
   ]
  },
  {
   "cell_type": "code",
   "execution_count": 181,
   "metadata": {},
   "outputs": [
    {
     "data": {
      "text/plain": [
       "<code object <module> at 0x7fa5ac5b31e0, file \"/home/zassoc/Github/m/firstmodule/run.py\", line 1>"
      ]
     },
     "execution_count": 181,
     "metadata": {},
     "output_type": "execute_result"
    }
   ],
   "source": [
    "co"
   ]
  },
  {
   "cell_type": "code",
   "execution_count": 182,
   "metadata": {},
   "outputs": [],
   "source": [
    "source_stats = loader.path_stats(f)"
   ]
  },
  {
   "cell_type": "code",
   "execution_count": 183,
   "metadata": {},
   "outputs": [
    {
     "data": {
      "text/plain": [
       "{'mtime': 1545518591.166841, 'size': 114}"
      ]
     },
     "execution_count": 183,
     "metadata": {},
     "output_type": "execute_result"
    }
   ],
   "source": [
    "source_stats"
   ]
  },
  {
   "cell_type": "code",
   "execution_count": 204,
   "metadata": {},
   "outputs": [],
   "source": [
    "# https://github.com/python/cpython/blob/master/Lib/py_compile.py#L79\n",
    "import enum\n",
    "\n",
    "class PycInvalidationMode(enum.Enum):\n",
    "    TIMESTAMP = 1\n",
    "    CHECKED_HASH = 2\n",
    "    UNCHECKED_HASH = 3\n",
    "\n",
    "\n",
    "def _get_default_invalidation_mode():\n",
    "    if os.environ.get('SOURCE_DATE_EPOCH'):\n",
    "        return PycInvalidationMode.CHECKED_HASH\n",
    "    else:\n",
    "        return PycInvalidationMode.TIMESTAMP"
   ]
  },
  {
   "cell_type": "code",
   "execution_count": 189,
   "metadata": {},
   "outputs": [],
   "source": [
    "invalidation_mode = _get_default_invalidation_mode()"
   ]
  },
  {
   "cell_type": "code",
   "execution_count": 190,
   "metadata": {},
   "outputs": [
    {
     "data": {
      "text/plain": [
       "<PycInvalidationMode.TIMESTAMP: 1>"
      ]
     },
     "execution_count": 190,
     "metadata": {},
     "output_type": "execute_result"
    }
   ],
   "source": [
    "invalidation_mode"
   ]
  },
  {
   "cell_type": "code",
   "execution_count": 194,
   "metadata": {},
   "outputs": [],
   "source": [
    "cfile = importlib.util.cache_from_source(f)"
   ]
  },
  {
   "cell_type": "code",
   "execution_count": 195,
   "metadata": {},
   "outputs": [
    {
     "data": {
      "text/plain": [
       "'/home/zassoc/Github/m/firstmodule/__pycache__/run.cpython-37.pyc'"
      ]
     },
     "execution_count": 195,
     "metadata": {},
     "output_type": "execute_result"
    }
   ],
   "source": [
    "cfile"
   ]
  },
  {
   "cell_type": "code",
   "execution_count": 197,
   "metadata": {},
   "outputs": [],
   "source": [
    "if invalidation_mode == PycInvalidationMode.TIMESTAMP:\n",
    "    source_stats = loader.path_stats(f)\n",
    "    bytecode = importlib._bootstrap_external._code_to_timestamp_pyc(\n",
    "        co, source_stats['mtime'], source_stats['size'])\n",
    "else:\n",
    "    source_hash = importlib.util.source_hash(source_bytes)\n",
    "    bytecode = importlib._bootstrap_external._code_to_hash_pyc(\n",
    "        co,\n",
    "        source_hash,\n",
    "        (invalidation_mode == PycInvalidationMode.CHECKED_HASH),\n",
    "    )\n",
    "mode = importlib._bootstrap_external._calc_mode(f)"
   ]
  },
  {
   "cell_type": "code",
   "execution_count": 198,
   "metadata": {},
   "outputs": [
    {
     "data": {
      "text/plain": [
       "33204"
      ]
     },
     "execution_count": 198,
     "metadata": {},
     "output_type": "execute_result"
    }
   ],
   "source": [
    "mode"
   ]
  },
  {
   "cell_type": "code",
   "execution_count": 199,
   "metadata": {},
   "outputs": [],
   "source": [
    "importlib._bootstrap_external._write_atomic(cfile, bytecode, mode)"
   ]
  },
  {
   "cell_type": "code",
   "execution_count": 200,
   "metadata": {},
   "outputs": [
    {
     "name": "stdout",
     "output_type": "stream",
     "text": [
      "hello there\n",
      "0\n"
     ]
    }
   ],
   "source": [
    "exec(co)"
   ]
  },
  {
   "cell_type": "code",
   "execution_count": 201,
   "metadata": {},
   "outputs": [
    {
     "name": "stdout",
     "output_type": "stream",
     "text": [
      "hello there\n",
      "20\n"
     ]
    }
   ],
   "source": [
    "exec(code)"
   ]
  }
 ],
 "metadata": {
  "kernelspec": {
   "display_name": "Python 3",
   "language": "python",
   "name": "python3"
  },
  "language_info": {
   "codemirror_mode": {
    "name": "ipython",
    "version": 3
   },
   "file_extension": ".py",
   "mimetype": "text/x-python",
   "name": "python",
   "nbconvert_exporter": "python",
   "pygments_lexer": "ipython3",
   "version": "3.7.1"
  }
 },
 "nbformat": 4,
 "nbformat_minor": 2
}
