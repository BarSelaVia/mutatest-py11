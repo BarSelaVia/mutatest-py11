{
 "cells": [
  {
   "cell_type": "code",
   "execution_count": 1,
   "metadata": {},
   "outputs": [],
   "source": [
    "from mutation import controller"
   ]
  },
  {
   "cell_type": "code",
   "execution_count": 2,
   "metadata": {
    "scrolled": false
   },
   "outputs": [
    {
     "name": "stdout",
     "output_type": "stream",
     "text": [
      "2018-12-26 21:50:44,788 - mutation.controller - INFO - Creating AST from: /home/zassoc/Github/m/firstmodule/__init__.py\n",
      "2018-12-26 21:50:44,789 - mutation.controller - INFO - Get mutation targets from AST.\n",
      "2018-12-26 21:50:44,790 - mutation.controller - INFO - Creating AST from: /home/zassoc/Github/m/firstmodule/run.py\n",
      "2018-12-26 21:50:44,791 - mutation.controller - INFO - Get mutation targets from AST.\n",
      "2018-12-26 21:50:44,792 - mutation.controller - INFO - LocIndex(ast_class='BinOp', lineno=6, col_offset=18, op_type=<class '_ast.Sub'>)\n",
      "2018-12-26 21:50:45,014 - mutation.controller - INFO - Test suite status: 1, on mutation: <class '_ast.Add'>\n",
      "2018-12-26 21:50:45,248 - mutation.controller - INFO - Test suite status: 1, on mutation: <class '_ast.Pow'>\n",
      "2018-12-26 21:50:45,474 - mutation.controller - INFO - Test suite status: 1, on mutation: <class '_ast.FloorDiv'>\n",
      "2018-12-26 21:50:45,701 - mutation.controller - INFO - Test suite status: 1, on mutation: <class '_ast.Mult'>\n",
      "2018-12-26 21:50:45,922 - mutation.controller - INFO - Test suite status: 1, on mutation: <class '_ast.Mod'>\n",
      "2018-12-26 21:50:46,141 - mutation.controller - INFO - Test suite status: 1, on mutation: <class '_ast.Div'>\n",
      "2018-12-26 21:50:46,142 - mutation.controller - INFO - LocIndex(ast_class='BinOp', lineno=6, col_offset=11, op_type=<class '_ast.Add'>)\n",
      "2018-12-26 21:50:46,368 - mutation.controller - INFO - Test suite status: 1, on mutation: <class '_ast.Pow'>\n",
      "2018-12-26 21:50:46,591 - mutation.controller - INFO - Test suite status: 1, on mutation: <class '_ast.FloorDiv'>\n",
      "2018-12-26 21:50:46,812 - mutation.controller - INFO - Test suite status: 1, on mutation: <class '_ast.Mult'>\n",
      "2018-12-26 21:50:47,030 - mutation.controller - INFO - Test suite status: 1, on mutation: <class '_ast.Mod'>\n",
      "2018-12-26 21:50:47,250 - mutation.controller - INFO - Test suite status: 1, on mutation: <class '_ast.Sub'>\n",
      "2018-12-26 21:50:47,470 - mutation.controller - INFO - Test suite status: 1, on mutation: <class '_ast.Div'>\n",
      "2018-12-26 21:50:47,471 - mutation.controller - INFO - LocIndex(ast_class='BinOp', lineno=15, col_offset=11, op_type=<class '_ast.Div'>)\n",
      "2018-12-26 21:50:47,677 - mutation.controller - INFO - Test suite status: 0, on mutation: <class '_ast.Add'>\n",
      "2018-12-26 21:50:47,902 - mutation.controller - INFO - Test suite status: 0, on mutation: <class '_ast.Pow'>\n",
      "2018-12-26 21:50:48,133 - mutation.controller - INFO - Test suite status: 0, on mutation: <class '_ast.FloorDiv'>\n",
      "2018-12-26 21:50:48,369 - mutation.controller - INFO - Test suite status: 0, on mutation: <class '_ast.Mult'>\n",
      "2018-12-26 21:50:48,586 - mutation.controller - INFO - Test suite status: 0, on mutation: <class '_ast.Mod'>\n",
      "2018-12-26 21:50:48,786 - mutation.controller - INFO - Test suite status: 0, on mutation: <class '_ast.Sub'>\n",
      "2018-12-26 21:50:48,787 - mutation.controller - INFO - LocIndex(ast_class='BinOp', lineno=10, col_offset=11, op_type=<class '_ast.Add'>)\n",
      "2018-12-26 21:50:49,008 - mutation.controller - INFO - Test suite status: 1, on mutation: <class '_ast.Pow'>\n",
      "2018-12-26 21:50:49,224 - mutation.controller - INFO - Test suite status: 1, on mutation: <class '_ast.FloorDiv'>\n",
      "2018-12-26 21:50:49,441 - mutation.controller - INFO - Test suite status: 1, on mutation: <class '_ast.Mult'>\n",
      "2018-12-26 21:50:49,658 - mutation.controller - INFO - Test suite status: 1, on mutation: <class '_ast.Mod'>\n",
      "2018-12-26 21:50:49,872 - mutation.controller - INFO - Test suite status: 1, on mutation: <class '_ast.Sub'>\n",
      "2018-12-26 21:50:50,086 - mutation.controller - INFO - Test suite status: 1, on mutation: <class '_ast.Div'>\n",
      "2018-12-26 21:50:50,286 - mutation.controller - INFO - Mutations Detected / Trials: 18 / 24\n",
      "2018-12-26 21:50:50,287 - mutation.controller - INFO - Surviving mutations: 6\n",
      "2018-12-26 21:50:50,288 - mutation.controller - INFO - Survivor:\n",
      "\tFile: /home/zassoc/Github/m/firstmodule/run.py\n",
      "\tIndex: LocIndex(ast_class='BinOp', lineno=15, col_offset=11, op_type=<class '_ast.Div'>)\n",
      "\tMutation: <class '_ast.Add'>\n",
      "2018-12-26 21:50:50,288 - mutation.controller - INFO - Survivor:\n",
      "\tFile: /home/zassoc/Github/m/firstmodule/run.py\n",
      "\tIndex: LocIndex(ast_class='BinOp', lineno=15, col_offset=11, op_type=<class '_ast.Div'>)\n",
      "\tMutation: <class '_ast.Pow'>\n",
      "2018-12-26 21:50:50,289 - mutation.controller - INFO - Survivor:\n",
      "\tFile: /home/zassoc/Github/m/firstmodule/run.py\n",
      "\tIndex: LocIndex(ast_class='BinOp', lineno=15, col_offset=11, op_type=<class '_ast.Div'>)\n",
      "\tMutation: <class '_ast.FloorDiv'>\n",
      "2018-12-26 21:50:50,289 - mutation.controller - INFO - Survivor:\n",
      "\tFile: /home/zassoc/Github/m/firstmodule/run.py\n",
      "\tIndex: LocIndex(ast_class='BinOp', lineno=15, col_offset=11, op_type=<class '_ast.Div'>)\n",
      "\tMutation: <class '_ast.Mult'>\n",
      "2018-12-26 21:50:50,290 - mutation.controller - INFO - Survivor:\n",
      "\tFile: /home/zassoc/Github/m/firstmodule/run.py\n",
      "\tIndex: LocIndex(ast_class='BinOp', lineno=15, col_offset=11, op_type=<class '_ast.Div'>)\n",
      "\tMutation: <class '_ast.Mod'>\n",
      "2018-12-26 21:50:50,290 - mutation.controller - INFO - Survivor:\n",
      "\tFile: /home/zassoc/Github/m/firstmodule/run.py\n",
      "\tIndex: LocIndex(ast_class='BinOp', lineno=15, col_offset=11, op_type=<class '_ast.Div'>)\n",
      "\tMutation: <class '_ast.Sub'>\n"
     ]
    }
   ],
   "source": [
    "mutants = controller.run_trials(pkg_dir=\"firstmodule\", test_cmds=[\"pytest\", \"-vv\"])"
   ]
  },
  {
   "cell_type": "code",
   "execution_count": 3,
   "metadata": {},
   "outputs": [
    {
     "name": "stdout",
     "output_type": "stream",
     "text": [
      "Mutant(mutant_code=<code object <module> at 0x7f19dc384d20, file \"/home/zassoc/Github/m/firstmodule/run.py\", line 1>, src_file=PosixPath('/home/zassoc/Github/m/firstmodule/run.py'), cfile=PosixPath('/home/zassoc/Github/m/firstmodule/__pycache__/run.cpython-37.pyc'), loader=<_frozen_importlib_external.SourceFileLoader object at 0x7f19dc326940>, source_stats={'mtime': 1545871277.0279188, 'size': 234}, mode=33188, src_idx=LocIndex(ast_class='BinOp', lineno=6, col_offset=18, op_type=<class '_ast.Sub'>), mutation=<class '_ast.Add'>)\n",
      "\n",
      "Mutant(mutant_code=<code object <module> at 0x7f19dc3a2030, file \"/home/zassoc/Github/m/firstmodule/run.py\", line 1>, src_file=PosixPath('/home/zassoc/Github/m/firstmodule/run.py'), cfile=PosixPath('/home/zassoc/Github/m/firstmodule/__pycache__/run.cpython-37.pyc'), loader=<_frozen_importlib_external.SourceFileLoader object at 0x7f19dc326ac8>, source_stats={'mtime': 1545871277.0279188, 'size': 234}, mode=33188, src_idx=LocIndex(ast_class='BinOp', lineno=6, col_offset=18, op_type=<class '_ast.Sub'>), mutation=<class '_ast.Pow'>)\n",
      "\n",
      "Mutant(mutant_code=<code object <module> at 0x7f19dc3a2300, file \"/home/zassoc/Github/m/firstmodule/run.py\", line 1>, src_file=PosixPath('/home/zassoc/Github/m/firstmodule/run.py'), cfile=PosixPath('/home/zassoc/Github/m/firstmodule/__pycache__/run.cpython-37.pyc'), loader=<_frozen_importlib_external.SourceFileLoader object at 0x7f19dc326b70>, source_stats={'mtime': 1545871277.0279188, 'size': 234}, mode=33188, src_idx=LocIndex(ast_class='BinOp', lineno=6, col_offset=18, op_type=<class '_ast.Sub'>), mutation=<class '_ast.FloorDiv'>)\n",
      "\n",
      "Mutant(mutant_code=<code object <module> at 0x7f19dc3a25d0, file \"/home/zassoc/Github/m/firstmodule/run.py\", line 1>, src_file=PosixPath('/home/zassoc/Github/m/firstmodule/run.py'), cfile=PosixPath('/home/zassoc/Github/m/firstmodule/__pycache__/run.cpython-37.pyc'), loader=<_frozen_importlib_external.SourceFileLoader object at 0x7f19dc326dd8>, source_stats={'mtime': 1545871277.0279188, 'size': 234}, mode=33188, src_idx=LocIndex(ast_class='BinOp', lineno=6, col_offset=18, op_type=<class '_ast.Sub'>), mutation=<class '_ast.Mult'>)\n",
      "\n",
      "Mutant(mutant_code=<code object <module> at 0x7f19dc3a28a0, file \"/home/zassoc/Github/m/firstmodule/run.py\", line 1>, src_file=PosixPath('/home/zassoc/Github/m/firstmodule/run.py'), cfile=PosixPath('/home/zassoc/Github/m/firstmodule/__pycache__/run.cpython-37.pyc'), loader=<_frozen_importlib_external.SourceFileLoader object at 0x7f19dc326e48>, source_stats={'mtime': 1545871277.0279188, 'size': 234}, mode=33188, src_idx=LocIndex(ast_class='BinOp', lineno=6, col_offset=18, op_type=<class '_ast.Sub'>), mutation=<class '_ast.Mod'>)\n",
      "\n",
      "Mutant(mutant_code=<code object <module> at 0x7f19dc3a2b70, file \"/home/zassoc/Github/m/firstmodule/run.py\", line 1>, src_file=PosixPath('/home/zassoc/Github/m/firstmodule/run.py'), cfile=PosixPath('/home/zassoc/Github/m/firstmodule/__pycache__/run.cpython-37.pyc'), loader=<_frozen_importlib_external.SourceFileLoader object at 0x7f19dc326b38>, source_stats={'mtime': 1545871277.0279188, 'size': 234}, mode=33188, src_idx=LocIndex(ast_class='BinOp', lineno=6, col_offset=18, op_type=<class '_ast.Sub'>), mutation=<class '_ast.Div'>)\n",
      "\n",
      "Mutant(mutant_code=<code object <module> at 0x7f19dc3a2e40, file \"/home/zassoc/Github/m/firstmodule/run.py\", line 1>, src_file=PosixPath('/home/zassoc/Github/m/firstmodule/run.py'), cfile=PosixPath('/home/zassoc/Github/m/firstmodule/__pycache__/run.cpython-37.pyc'), loader=<_frozen_importlib_external.SourceFileLoader object at 0x7f19dc32f2b0>, source_stats={'mtime': 1545871277.0279188, 'size': 234}, mode=33188, src_idx=LocIndex(ast_class='BinOp', lineno=6, col_offset=11, op_type=<class '_ast.Add'>), mutation=<class '_ast.Pow'>)\n",
      "\n",
      "Mutant(mutant_code=<code object <module> at 0x7f19dc332150, file \"/home/zassoc/Github/m/firstmodule/run.py\", line 1>, src_file=PosixPath('/home/zassoc/Github/m/firstmodule/run.py'), cfile=PosixPath('/home/zassoc/Github/m/firstmodule/__pycache__/run.cpython-37.pyc'), loader=<_frozen_importlib_external.SourceFileLoader object at 0x7f19dc32f358>, source_stats={'mtime': 1545871277.0279188, 'size': 234}, mode=33188, src_idx=LocIndex(ast_class='BinOp', lineno=6, col_offset=11, op_type=<class '_ast.Add'>), mutation=<class '_ast.FloorDiv'>)\n",
      "\n",
      "Mutant(mutant_code=<code object <module> at 0x7f19dc332420, file \"/home/zassoc/Github/m/firstmodule/run.py\", line 1>, src_file=PosixPath('/home/zassoc/Github/m/firstmodule/run.py'), cfile=PosixPath('/home/zassoc/Github/m/firstmodule/__pycache__/run.cpython-37.pyc'), loader=<_frozen_importlib_external.SourceFileLoader object at 0x7f19dc32f6d8>, source_stats={'mtime': 1545871277.0279188, 'size': 234}, mode=33188, src_idx=LocIndex(ast_class='BinOp', lineno=6, col_offset=11, op_type=<class '_ast.Add'>), mutation=<class '_ast.Mult'>)\n",
      "\n",
      "Mutant(mutant_code=<code object <module> at 0x7f19dc3326f0, file \"/home/zassoc/Github/m/firstmodule/run.py\", line 1>, src_file=PosixPath('/home/zassoc/Github/m/firstmodule/run.py'), cfile=PosixPath('/home/zassoc/Github/m/firstmodule/__pycache__/run.cpython-37.pyc'), loader=<_frozen_importlib_external.SourceFileLoader object at 0x7f19dc32f588>, source_stats={'mtime': 1545871277.0279188, 'size': 234}, mode=33188, src_idx=LocIndex(ast_class='BinOp', lineno=6, col_offset=11, op_type=<class '_ast.Add'>), mutation=<class '_ast.Mod'>)\n",
      "\n",
      "Mutant(mutant_code=<code object <module> at 0x7f19dc3329c0, file \"/home/zassoc/Github/m/firstmodule/run.py\", line 1>, src_file=PosixPath('/home/zassoc/Github/m/firstmodule/run.py'), cfile=PosixPath('/home/zassoc/Github/m/firstmodule/__pycache__/run.cpython-37.pyc'), loader=<_frozen_importlib_external.SourceFileLoader object at 0x7f19dc32f208>, source_stats={'mtime': 1545871277.0279188, 'size': 234}, mode=33188, src_idx=LocIndex(ast_class='BinOp', lineno=6, col_offset=11, op_type=<class '_ast.Add'>), mutation=<class '_ast.Sub'>)\n",
      "\n",
      "Mutant(mutant_code=<code object <module> at 0x7f19dc332c90, file \"/home/zassoc/Github/m/firstmodule/run.py\", line 1>, src_file=PosixPath('/home/zassoc/Github/m/firstmodule/run.py'), cfile=PosixPath('/home/zassoc/Github/m/firstmodule/__pycache__/run.cpython-37.pyc'), loader=<_frozen_importlib_external.SourceFileLoader object at 0x7f19dc32fa90>, source_stats={'mtime': 1545871277.0279188, 'size': 234}, mode=33188, src_idx=LocIndex(ast_class='BinOp', lineno=6, col_offset=11, op_type=<class '_ast.Add'>), mutation=<class '_ast.Div'>)\n",
      "\n",
      "Mutant(mutant_code=<code object <module> at 0x7f19dc332f60, file \"/home/zassoc/Github/m/firstmodule/run.py\", line 1>, src_file=PosixPath('/home/zassoc/Github/m/firstmodule/run.py'), cfile=PosixPath('/home/zassoc/Github/m/firstmodule/__pycache__/run.cpython-37.pyc'), loader=<_frozen_importlib_external.SourceFileLoader object at 0x7f19dc32fcf8>, source_stats={'mtime': 1545871277.0279188, 'size': 234}, mode=33188, src_idx=LocIndex(ast_class='BinOp', lineno=15, col_offset=11, op_type=<class '_ast.Div'>), mutation=<class '_ast.Add'>)\n",
      "\n",
      "Mutant(mutant_code=<code object <module> at 0x7f19dc330270, file \"/home/zassoc/Github/m/firstmodule/run.py\", line 1>, src_file=PosixPath('/home/zassoc/Github/m/firstmodule/run.py'), cfile=PosixPath('/home/zassoc/Github/m/firstmodule/__pycache__/run.cpython-37.pyc'), loader=<_frozen_importlib_external.SourceFileLoader object at 0x7f19dc32ff60>, source_stats={'mtime': 1545871277.0279188, 'size': 234}, mode=33188, src_idx=LocIndex(ast_class='BinOp', lineno=15, col_offset=11, op_type=<class '_ast.Div'>), mutation=<class '_ast.Pow'>)\n",
      "\n",
      "Mutant(mutant_code=<code object <module> at 0x7f19dc330540, file \"/home/zassoc/Github/m/firstmodule/run.py\", line 1>, src_file=PosixPath('/home/zassoc/Github/m/firstmodule/run.py'), cfile=PosixPath('/home/zassoc/Github/m/firstmodule/__pycache__/run.cpython-37.pyc'), loader=<_frozen_importlib_external.SourceFileLoader object at 0x7f19dc398f98>, source_stats={'mtime': 1545871277.0279188, 'size': 234}, mode=33188, src_idx=LocIndex(ast_class='BinOp', lineno=15, col_offset=11, op_type=<class '_ast.Div'>), mutation=<class '_ast.FloorDiv'>)\n",
      "\n",
      "Mutant(mutant_code=<code object <module> at 0x7f19dc330810, file \"/home/zassoc/Github/m/firstmodule/run.py\", line 1>, src_file=PosixPath('/home/zassoc/Github/m/firstmodule/run.py'), cfile=PosixPath('/home/zassoc/Github/m/firstmodule/__pycache__/run.cpython-37.pyc'), loader=<_frozen_importlib_external.SourceFileLoader object at 0x7f19dc337048>, source_stats={'mtime': 1545871277.0279188, 'size': 234}, mode=33188, src_idx=LocIndex(ast_class='BinOp', lineno=15, col_offset=11, op_type=<class '_ast.Div'>), mutation=<class '_ast.Mult'>)\n",
      "\n",
      "Mutant(mutant_code=<code object <module> at 0x7f19dc330ae0, file \"/home/zassoc/Github/m/firstmodule/run.py\", line 1>, src_file=PosixPath('/home/zassoc/Github/m/firstmodule/run.py'), cfile=PosixPath('/home/zassoc/Github/m/firstmodule/__pycache__/run.cpython-37.pyc'), loader=<_frozen_importlib_external.SourceFileLoader object at 0x7f19dc3262b0>, source_stats={'mtime': 1545871277.0279188, 'size': 234}, mode=33188, src_idx=LocIndex(ast_class='BinOp', lineno=15, col_offset=11, op_type=<class '_ast.Div'>), mutation=<class '_ast.Mod'>)\n",
      "\n",
      "Mutant(mutant_code=<code object <module> at 0x7f19dc330db0, file \"/home/zassoc/Github/m/firstmodule/run.py\", line 1>, src_file=PosixPath('/home/zassoc/Github/m/firstmodule/run.py'), cfile=PosixPath('/home/zassoc/Github/m/firstmodule/__pycache__/run.cpython-37.pyc'), loader=<_frozen_importlib_external.SourceFileLoader object at 0x7f19dc3374a8>, source_stats={'mtime': 1545871277.0279188, 'size': 234}, mode=33188, src_idx=LocIndex(ast_class='BinOp', lineno=15, col_offset=11, op_type=<class '_ast.Div'>), mutation=<class '_ast.Sub'>)\n",
      "\n",
      "Mutant(mutant_code=<code object <module> at 0x7f19dc33b0c0, file \"/home/zassoc/Github/m/firstmodule/run.py\", line 1>, src_file=PosixPath('/home/zassoc/Github/m/firstmodule/run.py'), cfile=PosixPath('/home/zassoc/Github/m/firstmodule/__pycache__/run.cpython-37.pyc'), loader=<_frozen_importlib_external.SourceFileLoader object at 0x7f19dc337908>, source_stats={'mtime': 1545871277.0279188, 'size': 234}, mode=33188, src_idx=LocIndex(ast_class='BinOp', lineno=10, col_offset=11, op_type=<class '_ast.Add'>), mutation=<class '_ast.Pow'>)\n",
      "\n",
      "Mutant(mutant_code=<code object <module> at 0x7f19dc33b390, file \"/home/zassoc/Github/m/firstmodule/run.py\", line 1>, src_file=PosixPath('/home/zassoc/Github/m/firstmodule/run.py'), cfile=PosixPath('/home/zassoc/Github/m/firstmodule/__pycache__/run.cpython-37.pyc'), loader=<_frozen_importlib_external.SourceFileLoader object at 0x7f19dc337a90>, source_stats={'mtime': 1545871277.0279188, 'size': 234}, mode=33188, src_idx=LocIndex(ast_class='BinOp', lineno=10, col_offset=11, op_type=<class '_ast.Add'>), mutation=<class '_ast.FloorDiv'>)\n",
      "\n",
      "Mutant(mutant_code=<code object <module> at 0x7f19dc33b660, file \"/home/zassoc/Github/m/firstmodule/run.py\", line 1>, src_file=PosixPath('/home/zassoc/Github/m/firstmodule/run.py'), cfile=PosixPath('/home/zassoc/Github/m/firstmodule/__pycache__/run.cpython-37.pyc'), loader=<_frozen_importlib_external.SourceFileLoader object at 0x7f19dc337c50>, source_stats={'mtime': 1545871277.0279188, 'size': 234}, mode=33188, src_idx=LocIndex(ast_class='BinOp', lineno=10, col_offset=11, op_type=<class '_ast.Add'>), mutation=<class '_ast.Mult'>)\n",
      "\n",
      "Mutant(mutant_code=<code object <module> at 0x7f19dc33b930, file \"/home/zassoc/Github/m/firstmodule/run.py\", line 1>, src_file=PosixPath('/home/zassoc/Github/m/firstmodule/run.py'), cfile=PosixPath('/home/zassoc/Github/m/firstmodule/__pycache__/run.cpython-37.pyc'), loader=<_frozen_importlib_external.SourceFileLoader object at 0x7f19dc337d30>, source_stats={'mtime': 1545871277.0279188, 'size': 234}, mode=33188, src_idx=LocIndex(ast_class='BinOp', lineno=10, col_offset=11, op_type=<class '_ast.Add'>), mutation=<class '_ast.Mod'>)\n",
      "\n",
      "Mutant(mutant_code=<code object <module> at 0x7f19dc33bc00, file \"/home/zassoc/Github/m/firstmodule/run.py\", line 1>, src_file=PosixPath('/home/zassoc/Github/m/firstmodule/run.py'), cfile=PosixPath('/home/zassoc/Github/m/firstmodule/__pycache__/run.cpython-37.pyc'), loader=<_frozen_importlib_external.SourceFileLoader object at 0x7f19dc337ef0>, source_stats={'mtime': 1545871277.0279188, 'size': 234}, mode=33188, src_idx=LocIndex(ast_class='BinOp', lineno=10, col_offset=11, op_type=<class '_ast.Add'>), mutation=<class '_ast.Sub'>)\n",
      "\n",
      "Mutant(mutant_code=<code object <module> at 0x7f19dc33bed0, file \"/home/zassoc/Github/m/firstmodule/run.py\", line 1>, src_file=PosixPath('/home/zassoc/Github/m/firstmodule/run.py'), cfile=PosixPath('/home/zassoc/Github/m/firstmodule/__pycache__/run.cpython-37.pyc'), loader=<_frozen_importlib_external.SourceFileLoader object at 0x7f19dc3341d0>, source_stats={'mtime': 1545871277.0279188, 'size': 234}, mode=33188, src_idx=LocIndex(ast_class='BinOp', lineno=10, col_offset=11, op_type=<class '_ast.Add'>), mutation=<class '_ast.Div'>)\n"
     ]
    }
   ],
   "source": [
    "print(*mutants, sep=\"\\n\\n\")"
   ]
  },
  {
   "cell_type": "code",
   "execution_count": 4,
   "metadata": {},
   "outputs": [],
   "source": [
    "m = mutants[0]"
   ]
  },
  {
   "cell_type": "code",
   "execution_count": 5,
   "metadata": {},
   "outputs": [],
   "source": [
    "from pprint import pprint"
   ]
  },
  {
   "cell_type": "code",
   "execution_count": 6,
   "metadata": {},
   "outputs": [
    {
     "name": "stdout",
     "output_type": "stream",
     "text": [
      "Mutant(mutant_code=<code object <module> at 0x7f19dc384d20, file \"/home/zassoc/Github/m/firstmodule/run.py\", line 1>, src_file=PosixPath('/home/zassoc/Github/m/firstmodule/run.py'), cfile=PosixPath('/home/zassoc/Github/m/firstmodule/__pycache__/run.cpython-37.pyc'), loader=<_frozen_importlib_external.SourceFileLoader object at 0x7f19dc326940>, source_stats={'mtime': 1545871277.0279188, 'size': 234}, mode=33188, src_idx=LocIndex(ast_class='BinOp', lineno=6, col_offset=18, op_type=<class '_ast.Sub'>), mutation=<class '_ast.Add'>)\n"
     ]
    }
   ],
   "source": [
    "pprint(m)"
   ]
  },
  {
   "cell_type": "code",
   "execution_count": 7,
   "metadata": {},
   "outputs": [
    {
     "data": {
      "text/plain": [
       "<code object <module> at 0x7f19dc384d20, file \"/home/zassoc/Github/m/firstmodule/run.py\", line 1>"
      ]
     },
     "execution_count": 7,
     "metadata": {},
     "output_type": "execute_result"
    }
   ],
   "source": [
    "m.mutant_code"
   ]
  },
  {
   "cell_type": "code",
   "execution_count": 8,
   "metadata": {},
   "outputs": [
    {
     "data": {
      "text/plain": [
       "PosixPath('/home/zassoc/Github/m/firstmodule/run.py')"
      ]
     },
     "execution_count": 8,
     "metadata": {},
     "output_type": "execute_result"
    }
   ],
   "source": [
    "m.src_file"
   ]
  },
  {
   "cell_type": "code",
   "execution_count": 9,
   "metadata": {},
   "outputs": [
    {
     "data": {
      "text/plain": [
       "PosixPath('/home/zassoc/Github/m/firstmodule/__pycache__/run.cpython-37.pyc')"
      ]
     },
     "execution_count": 9,
     "metadata": {},
     "output_type": "execute_result"
    }
   ],
   "source": [
    "m.cfile"
   ]
  },
  {
   "cell_type": "code",
   "execution_count": 10,
   "metadata": {},
   "outputs": [
    {
     "data": {
      "text/plain": [
       "<_frozen_importlib_external.SourceFileLoader at 0x7f19dc326940>"
      ]
     },
     "execution_count": 10,
     "metadata": {},
     "output_type": "execute_result"
    }
   ],
   "source": [
    "m.loader"
   ]
  },
  {
   "cell_type": "code",
   "execution_count": 11,
   "metadata": {},
   "outputs": [
    {
     "data": {
      "text/plain": [
       "{'mtime': 1545871277.0279188, 'size': 234}"
      ]
     },
     "execution_count": 11,
     "metadata": {},
     "output_type": "execute_result"
    }
   ],
   "source": [
    "m.source_stats"
   ]
  },
  {
   "cell_type": "code",
   "execution_count": 12,
   "metadata": {},
   "outputs": [
    {
     "data": {
      "text/plain": [
       "33188"
      ]
     },
     "execution_count": 12,
     "metadata": {},
     "output_type": "execute_result"
    }
   ],
   "source": [
    "m.mode"
   ]
  },
  {
   "cell_type": "code",
   "execution_count": 13,
   "metadata": {},
   "outputs": [
    {
     "data": {
      "text/plain": [
       "LocIndex(ast_class='BinOp', lineno=6, col_offset=18, op_type=<class '_ast.Sub'>)"
      ]
     },
     "execution_count": 13,
     "metadata": {},
     "output_type": "execute_result"
    }
   ],
   "source": [
    "m.src_idx"
   ]
  },
  {
   "cell_type": "code",
   "execution_count": 14,
   "metadata": {},
   "outputs": [
    {
     "data": {
      "text/plain": [
       "_ast.Add"
      ]
     },
     "execution_count": 14,
     "metadata": {},
     "output_type": "execute_result"
    }
   ],
   "source": [
    "m.mutation"
   ]
  },
  {
   "cell_type": "code",
   "execution_count": 15,
   "metadata": {},
   "outputs": [
    {
     "name": "stdout",
     "output_type": "stream",
     "text": [
      "OrderedDict([('mutant_code',\n",
      "              <code object <module> at 0x7f19dc384d20, file \"/home/zassoc/Github/m/firstmodule/run.py\", line 1>),\n",
      "             ('src_file',\n",
      "              PosixPath('/home/zassoc/Github/m/firstmodule/run.py')),\n",
      "             ('cfile',\n",
      "              PosixPath('/home/zassoc/Github/m/firstmodule/__pycache__/run.cpython-37.pyc')),\n",
      "             ('loader',\n",
      "              <_frozen_importlib_external.SourceFileLoader object at 0x7f19dc326940>),\n",
      "             ('source_stats', {'mtime': 1545871277.0279188, 'size': 234}),\n",
      "             ('mode', 33188),\n",
      "             ('src_idx',\n",
      "              LocIndex(ast_class='BinOp', lineno=6, col_offset=18, op_type=<class '_ast.Sub'>)),\n",
      "             ('mutation', <class '_ast.Add'>)])\n"
     ]
    }
   ],
   "source": [
    "pprint(m._asdict())"
   ]
  },
  {
   "cell_type": "code",
   "execution_count": null,
   "metadata": {},
   "outputs": [],
   "source": []
  }
 ],
 "metadata": {
  "kernelspec": {
   "display_name": "Python 3",
   "language": "python",
   "name": "python3"
  },
  "language_info": {
   "codemirror_mode": {
    "name": "ipython",
    "version": 3
   },
   "file_extension": ".py",
   "mimetype": "text/x-python",
   "name": "python",
   "nbconvert_exporter": "python",
   "pygments_lexer": "ipython3",
   "version": "3.7.1"
  }
 },
 "nbformat": 4,
 "nbformat_minor": 2
}
