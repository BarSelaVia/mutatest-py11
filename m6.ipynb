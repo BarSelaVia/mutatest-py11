{
 "cells": [
  {
   "cell_type": "code",
   "execution_count": 1,
   "metadata": {},
   "outputs": [],
   "source": [
    "from mutation import controller"
   ]
  },
  {
   "cell_type": "code",
   "execution_count": 2,
   "metadata": {
    "scrolled": false
   },
   "outputs": [
    {
     "name": "stdout",
     "output_type": "stream",
     "text": [
      "2018-12-26 10:59:12,038 - mutation.controller - INFO - Creating AST from: /home/zassoc/Github/m/firstmodule/__init__.py\n",
      "2018-12-26 10:59:12,039 - mutation.controller - INFO - Get mutation targets from AST.\n",
      "2018-12-26 10:59:12,040 - mutation.controller - INFO - Creating AST from: /home/zassoc/Github/m/firstmodule/run.py\n",
      "2018-12-26 10:59:12,041 - mutation.controller - INFO - Get mutation targets from AST.\n",
      "2018-12-26 10:59:12,042 - mutation.controller - INFO - LocIndex(ast_class='BinOp', lineno=10, col_offset=11, op_type=<class '_ast.Add'>)\n",
      "2018-12-26 10:59:12,264 - mutation.controller - INFO - Test suite status: 1, on mutation: <class '_ast.Pow'>\n",
      "2018-12-26 10:59:12,499 - mutation.controller - INFO - Test suite status: 1, on mutation: <class '_ast.Mult'>\n",
      "2018-12-26 10:59:12,716 - mutation.controller - INFO - Test suite status: 1, on mutation: <class '_ast.Sub'>\n",
      "2018-12-26 10:59:12,936 - mutation.controller - INFO - Test suite status: 1, on mutation: <class '_ast.Div'>\n",
      "2018-12-26 10:59:12,937 - mutation.controller - INFO - LocIndex(ast_class='BinOp', lineno=6, col_offset=11, op_type=<class '_ast.Add'>)\n",
      "2018-12-26 10:59:13,158 - mutation.controller - INFO - Test suite status: 1, on mutation: <class '_ast.Pow'>\n",
      "2018-12-26 10:59:13,375 - mutation.controller - INFO - Test suite status: 1, on mutation: <class '_ast.Mult'>\n",
      "2018-12-26 10:59:13,593 - mutation.controller - INFO - Test suite status: 1, on mutation: <class '_ast.Sub'>\n",
      "2018-12-26 10:59:13,808 - mutation.controller - INFO - Test suite status: 1, on mutation: <class '_ast.Div'>\n",
      "2018-12-26 10:59:14,007 - mutation.controller - INFO - Mutations Detected / Trials: 8 / 8\n"
     ]
    }
   ],
   "source": [
    "mutants = controller.run_trials()"
   ]
  },
  {
   "cell_type": "code",
   "execution_count": 3,
   "metadata": {},
   "outputs": [
    {
     "name": "stdout",
     "output_type": "stream",
     "text": [
      "Mutant(mutant_code=<code object <module> at 0x7f0e10483780, file \"/home/zassoc/Github/m/firstmodule/run.py\", line 1>, src_file=PosixPath('/home/zassoc/Github/m/firstmodule/run.py'), cfile=PosixPath('/home/zassoc/Github/m/firstmodule/__pycache__/run.cpython-37.pyc'), loader=<_frozen_importlib_external.SourceFileLoader object at 0x7f0e1049bb00>, source_stats={'mtime': 1545535274.6873496, 'size': 165}, mode=33204, src_idx=LocIndex(ast_class='BinOp', lineno=10, col_offset=11, op_type=<class '_ast.Add'>), mutation=<class '_ast.Pow'>)\n",
      "\n",
      "Mutant(mutant_code=<code object <module> at 0x7f0e10483d20, file \"/home/zassoc/Github/m/firstmodule/run.py\", line 1>, src_file=PosixPath('/home/zassoc/Github/m/firstmodule/run.py'), cfile=PosixPath('/home/zassoc/Github/m/firstmodule/__pycache__/run.cpython-37.pyc'), loader=<_frozen_importlib_external.SourceFileLoader object at 0x7f0e1049b9b0>, source_stats={'mtime': 1545535274.6873496, 'size': 165}, mode=33204, src_idx=LocIndex(ast_class='BinOp', lineno=10, col_offset=11, op_type=<class '_ast.Add'>), mutation=<class '_ast.Mult'>)\n",
      "\n",
      "Mutant(mutant_code=<code object <module> at 0x7f0e10483f60, file \"/home/zassoc/Github/m/firstmodule/run.py\", line 1>, src_file=PosixPath('/home/zassoc/Github/m/firstmodule/run.py'), cfile=PosixPath('/home/zassoc/Github/m/firstmodule/__pycache__/run.cpython-37.pyc'), loader=<_frozen_importlib_external.SourceFileLoader object at 0x7f0e1049bd30>, source_stats={'mtime': 1545535274.6873496, 'size': 165}, mode=33204, src_idx=LocIndex(ast_class='BinOp', lineno=10, col_offset=11, op_type=<class '_ast.Add'>), mutation=<class '_ast.Sub'>)\n",
      "\n",
      "Mutant(mutant_code=<code object <module> at 0x7f0e104231e0, file \"/home/zassoc/Github/m/firstmodule/run.py\", line 1>, src_file=PosixPath('/home/zassoc/Github/m/firstmodule/run.py'), cfile=PosixPath('/home/zassoc/Github/m/firstmodule/__pycache__/run.cpython-37.pyc'), loader=<_frozen_importlib_external.SourceFileLoader object at 0x7f0e1049bbe0>, source_stats={'mtime': 1545535274.6873496, 'size': 165}, mode=33204, src_idx=LocIndex(ast_class='BinOp', lineno=10, col_offset=11, op_type=<class '_ast.Add'>), mutation=<class '_ast.Div'>)\n",
      "\n",
      "Mutant(mutant_code=<code object <module> at 0x7f0e10423420, file \"/home/zassoc/Github/m/firstmodule/run.py\", line 1>, src_file=PosixPath('/home/zassoc/Github/m/firstmodule/run.py'), cfile=PosixPath('/home/zassoc/Github/m/firstmodule/__pycache__/run.cpython-37.pyc'), loader=<_frozen_importlib_external.SourceFileLoader object at 0x7f0e1049bef0>, source_stats={'mtime': 1545535274.6873496, 'size': 165}, mode=33204, src_idx=LocIndex(ast_class='BinOp', lineno=6, col_offset=11, op_type=<class '_ast.Add'>), mutation=<class '_ast.Pow'>)\n",
      "\n",
      "Mutant(mutant_code=<code object <module> at 0x7f0e10423660, file \"/home/zassoc/Github/m/firstmodule/run.py\", line 1>, src_file=PosixPath('/home/zassoc/Github/m/firstmodule/run.py'), cfile=PosixPath('/home/zassoc/Github/m/firstmodule/__pycache__/run.cpython-37.pyc'), loader=<_frozen_importlib_external.SourceFileLoader object at 0x7f0e1049bcf8>, source_stats={'mtime': 1545535274.6873496, 'size': 165}, mode=33204, src_idx=LocIndex(ast_class='BinOp', lineno=6, col_offset=11, op_type=<class '_ast.Add'>), mutation=<class '_ast.Mult'>)\n",
      "\n",
      "Mutant(mutant_code=<code object <module> at 0x7f0e104238a0, file \"/home/zassoc/Github/m/firstmodule/run.py\", line 1>, src_file=PosixPath('/home/zassoc/Github/m/firstmodule/run.py'), cfile=PosixPath('/home/zassoc/Github/m/firstmodule/__pycache__/run.cpython-37.pyc'), loader=<_frozen_importlib_external.SourceFileLoader object at 0x7f0e104272b0>, source_stats={'mtime': 1545535274.6873496, 'size': 165}, mode=33204, src_idx=LocIndex(ast_class='BinOp', lineno=6, col_offset=11, op_type=<class '_ast.Add'>), mutation=<class '_ast.Sub'>)\n",
      "\n",
      "Mutant(mutant_code=<code object <module> at 0x7f0e10423ae0, file \"/home/zassoc/Github/m/firstmodule/run.py\", line 1>, src_file=PosixPath('/home/zassoc/Github/m/firstmodule/run.py'), cfile=PosixPath('/home/zassoc/Github/m/firstmodule/__pycache__/run.cpython-37.pyc'), loader=<_frozen_importlib_external.SourceFileLoader object at 0x7f0e10427400>, source_stats={'mtime': 1545535274.6873496, 'size': 165}, mode=33204, src_idx=LocIndex(ast_class='BinOp', lineno=6, col_offset=11, op_type=<class '_ast.Add'>), mutation=<class '_ast.Div'>)\n"
     ]
    }
   ],
   "source": [
    "print(*mutants, sep=\"\\n\\n\")"
   ]
  },
  {
   "cell_type": "code",
   "execution_count": 4,
   "metadata": {},
   "outputs": [],
   "source": [
    "m = mutants[0]"
   ]
  },
  {
   "cell_type": "code",
   "execution_count": 5,
   "metadata": {},
   "outputs": [],
   "source": [
    "from pprint import pprint"
   ]
  },
  {
   "cell_type": "code",
   "execution_count": 6,
   "metadata": {},
   "outputs": [
    {
     "name": "stdout",
     "output_type": "stream",
     "text": [
      "Mutant(mutant_code=<code object <module> at 0x7f0e10483780, file \"/home/zassoc/Github/m/firstmodule/run.py\", line 1>, src_file=PosixPath('/home/zassoc/Github/m/firstmodule/run.py'), cfile=PosixPath('/home/zassoc/Github/m/firstmodule/__pycache__/run.cpython-37.pyc'), loader=<_frozen_importlib_external.SourceFileLoader object at 0x7f0e1049bb00>, source_stats={'mtime': 1545535274.6873496, 'size': 165}, mode=33204, src_idx=LocIndex(ast_class='BinOp', lineno=10, col_offset=11, op_type=<class '_ast.Add'>), mutation=<class '_ast.Pow'>)\n"
     ]
    }
   ],
   "source": [
    "pprint(m)"
   ]
  },
  {
   "cell_type": "code",
   "execution_count": 7,
   "metadata": {},
   "outputs": [
    {
     "data": {
      "text/plain": [
       "<code object <module> at 0x7f0e10483780, file \"/home/zassoc/Github/m/firstmodule/run.py\", line 1>"
      ]
     },
     "execution_count": 7,
     "metadata": {},
     "output_type": "execute_result"
    }
   ],
   "source": [
    "m.mutant_code"
   ]
  },
  {
   "cell_type": "code",
   "execution_count": 8,
   "metadata": {},
   "outputs": [
    {
     "data": {
      "text/plain": [
       "PosixPath('/home/zassoc/Github/m/firstmodule/run.py')"
      ]
     },
     "execution_count": 8,
     "metadata": {},
     "output_type": "execute_result"
    }
   ],
   "source": [
    "m.src_file"
   ]
  },
  {
   "cell_type": "code",
   "execution_count": 9,
   "metadata": {},
   "outputs": [
    {
     "data": {
      "text/plain": [
       "PosixPath('/home/zassoc/Github/m/firstmodule/__pycache__/run.cpython-37.pyc')"
      ]
     },
     "execution_count": 9,
     "metadata": {},
     "output_type": "execute_result"
    }
   ],
   "source": [
    "m.cfile"
   ]
  },
  {
   "cell_type": "code",
   "execution_count": 10,
   "metadata": {},
   "outputs": [
    {
     "data": {
      "text/plain": [
       "<_frozen_importlib_external.SourceFileLoader at 0x7f0e1049bb00>"
      ]
     },
     "execution_count": 10,
     "metadata": {},
     "output_type": "execute_result"
    }
   ],
   "source": [
    "m.loader"
   ]
  },
  {
   "cell_type": "code",
   "execution_count": 11,
   "metadata": {},
   "outputs": [
    {
     "data": {
      "text/plain": [
       "{'mtime': 1545535274.6873496, 'size': 165}"
      ]
     },
     "execution_count": 11,
     "metadata": {},
     "output_type": "execute_result"
    }
   ],
   "source": [
    "m.source_stats"
   ]
  },
  {
   "cell_type": "code",
   "execution_count": 12,
   "metadata": {},
   "outputs": [
    {
     "data": {
      "text/plain": [
       "33204"
      ]
     },
     "execution_count": 12,
     "metadata": {},
     "output_type": "execute_result"
    }
   ],
   "source": [
    "m.mode"
   ]
  },
  {
   "cell_type": "code",
   "execution_count": 13,
   "metadata": {},
   "outputs": [
    {
     "data": {
      "text/plain": [
       "LocIndex(ast_class='BinOp', lineno=10, col_offset=11, op_type=<class '_ast.Add'>)"
      ]
     },
     "execution_count": 13,
     "metadata": {},
     "output_type": "execute_result"
    }
   ],
   "source": [
    "m.src_idx"
   ]
  },
  {
   "cell_type": "code",
   "execution_count": 14,
   "metadata": {},
   "outputs": [
    {
     "data": {
      "text/plain": [
       "_ast.Pow"
      ]
     },
     "execution_count": 14,
     "metadata": {},
     "output_type": "execute_result"
    }
   ],
   "source": [
    "m.mutation"
   ]
  },
  {
   "cell_type": "code",
   "execution_count": 15,
   "metadata": {},
   "outputs": [
    {
     "name": "stdout",
     "output_type": "stream",
     "text": [
      "OrderedDict([('mutant_code',\n",
      "              <code object <module> at 0x7f0e10483780, file \"/home/zassoc/Github/m/firstmodule/run.py\", line 1>),\n",
      "             ('src_file',\n",
      "              PosixPath('/home/zassoc/Github/m/firstmodule/run.py')),\n",
      "             ('cfile',\n",
      "              PosixPath('/home/zassoc/Github/m/firstmodule/__pycache__/run.cpython-37.pyc')),\n",
      "             ('loader',\n",
      "              <_frozen_importlib_external.SourceFileLoader object at 0x7f0e1049bb00>),\n",
      "             ('source_stats', {'mtime': 1545535274.6873496, 'size': 165}),\n",
      "             ('mode', 33204),\n",
      "             ('src_idx',\n",
      "              LocIndex(ast_class='BinOp', lineno=10, col_offset=11, op_type=<class '_ast.Add'>)),\n",
      "             ('mutation', <class '_ast.Pow'>)])\n"
     ]
    }
   ],
   "source": [
    "pprint(m._asdict())"
   ]
  },
  {
   "cell_type": "code",
   "execution_count": null,
   "metadata": {},
   "outputs": [],
   "source": []
  }
 ],
 "metadata": {
  "kernelspec": {
   "display_name": "Python 3",
   "language": "python",
   "name": "python3"
  },
  "language_info": {
   "codemirror_mode": {
    "name": "ipython",
    "version": 3
   },
   "file_extension": ".py",
   "mimetype": "text/x-python",
   "name": "python",
   "nbconvert_exporter": "python",
   "pygments_lexer": "ipython3",
   "version": "3.7.1"
  }
 },
 "nbformat": 4,
 "nbformat_minor": 2
}
