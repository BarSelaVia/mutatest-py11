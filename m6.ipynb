{
 "cells": [
  {
   "cell_type": "code",
   "execution_count": 1,
   "metadata": {},
   "outputs": [],
   "source": [
    "from mutation import controller"
   ]
  },
  {
   "cell_type": "code",
   "execution_count": 2,
   "metadata": {
    "scrolled": false
   },
   "outputs": [
    {
     "name": "stdout",
     "output_type": "stream",
     "text": [
      "2018-12-26 20:58:20,453 - mutation.controller - INFO - Creating AST from: /home/zassoc/Github/m/firstmodule/__init__.py\n",
      "2018-12-26 20:58:20,454 - mutation.controller - INFO - Get mutation targets from AST.\n",
      "2018-12-26 20:58:20,454 - mutation.controller - INFO - Creating AST from: /home/zassoc/Github/m/firstmodule/run.py\n",
      "2018-12-26 20:58:20,455 - mutation.controller - INFO - Get mutation targets from AST.\n",
      "2018-12-26 20:58:20,459 - mutation.controller - INFO - LocIndex(ast_class='BinOp', lineno=10, col_offset=11, op_type=<class '_ast.Add'>)\n",
      "2018-12-26 20:58:20,678 - mutation.controller - INFO - Test suite status: 1, on mutation: <class '_ast.Pow'>\n",
      "2018-12-26 20:58:20,906 - mutation.controller - INFO - Test suite status: 1, on mutation: <class '_ast.Mult'>\n",
      "2018-12-26 20:58:21,124 - mutation.controller - INFO - Test suite status: 1, on mutation: <class '_ast.Sub'>\n",
      "2018-12-26 20:58:21,342 - mutation.controller - INFO - Test suite status: 1, on mutation: <class '_ast.Div'>\n",
      "2018-12-26 20:58:21,343 - mutation.controller - INFO - LocIndex(ast_class='BinOp', lineno=6, col_offset=18, op_type=<class '_ast.Sub'>)\n",
      "2018-12-26 20:58:21,574 - mutation.controller - INFO - Test suite status: 1, on mutation: <class '_ast.Add'>\n",
      "2018-12-26 20:58:21,794 - mutation.controller - INFO - Test suite status: 1, on mutation: <class '_ast.Pow'>\n",
      "2018-12-26 20:58:22,015 - mutation.controller - INFO - Test suite status: 1, on mutation: <class '_ast.Mult'>\n",
      "2018-12-26 20:58:22,235 - mutation.controller - INFO - Test suite status: 1, on mutation: <class '_ast.Div'>\n",
      "2018-12-26 20:58:22,236 - mutation.controller - INFO - LocIndex(ast_class='BinOp', lineno=15, col_offset=11, op_type=<class '_ast.Div'>)\n",
      "2018-12-26 20:58:22,442 - mutation.controller - INFO - Test suite status: 0, on mutation: <class '_ast.Add'>\n",
      "2018-12-26 20:58:22,645 - mutation.controller - INFO - Test suite status: 0, on mutation: <class '_ast.Pow'>\n",
      "2018-12-26 20:58:22,847 - mutation.controller - INFO - Test suite status: 0, on mutation: <class '_ast.Mult'>\n",
      "2018-12-26 20:58:23,050 - mutation.controller - INFO - Test suite status: 0, on mutation: <class '_ast.Sub'>\n",
      "2018-12-26 20:58:23,051 - mutation.controller - INFO - LocIndex(ast_class='BinOp', lineno=6, col_offset=11, op_type=<class '_ast.Add'>)\n",
      "2018-12-26 20:58:23,272 - mutation.controller - INFO - Test suite status: 1, on mutation: <class '_ast.Pow'>\n",
      "2018-12-26 20:58:23,490 - mutation.controller - INFO - Test suite status: 1, on mutation: <class '_ast.Mult'>\n",
      "2018-12-26 20:58:23,708 - mutation.controller - INFO - Test suite status: 1, on mutation: <class '_ast.Sub'>\n",
      "2018-12-26 20:58:23,927 - mutation.controller - INFO - Test suite status: 1, on mutation: <class '_ast.Div'>\n",
      "2018-12-26 20:58:24,126 - mutation.controller - INFO - Mutations Detected / Trials: 12 / 16\n",
      "2018-12-26 20:58:24,127 - mutation.controller - INFO - Surviving mutations: 4\n",
      "2018-12-26 20:58:24,127 - mutation.controller - INFO - Survivor:\n",
      "\tFile: /home/zassoc/Github/m/firstmodule/run.py\n",
      "\tIndex: LocIndex(ast_class='BinOp', lineno=15, col_offset=11, op_type=<class '_ast.Div'>)\n",
      "\tMutation: <class '_ast.Add'>\n",
      "2018-12-26 20:58:24,127 - mutation.controller - INFO - Survivor:\n",
      "\tFile: /home/zassoc/Github/m/firstmodule/run.py\n",
      "\tIndex: LocIndex(ast_class='BinOp', lineno=15, col_offset=11, op_type=<class '_ast.Div'>)\n",
      "\tMutation: <class '_ast.Pow'>\n",
      "2018-12-26 20:58:24,128 - mutation.controller - INFO - Survivor:\n",
      "\tFile: /home/zassoc/Github/m/firstmodule/run.py\n",
      "\tIndex: LocIndex(ast_class='BinOp', lineno=15, col_offset=11, op_type=<class '_ast.Div'>)\n",
      "\tMutation: <class '_ast.Mult'>\n",
      "2018-12-26 20:58:24,128 - mutation.controller - INFO - Survivor:\n",
      "\tFile: /home/zassoc/Github/m/firstmodule/run.py\n",
      "\tIndex: LocIndex(ast_class='BinOp', lineno=15, col_offset=11, op_type=<class '_ast.Div'>)\n",
      "\tMutation: <class '_ast.Sub'>\n"
     ]
    }
   ],
   "source": [
    "mutants = controller.run_trials(pkg_dir=\"firstmodule\", test_cmds=[\"pytest\", \"-vv\"])"
   ]
  },
  {
   "cell_type": "code",
   "execution_count": 3,
   "metadata": {},
   "outputs": [
    {
     "name": "stdout",
     "output_type": "stream",
     "text": [
      "Mutant(mutant_code=<code object <module> at 0x7f84c4246c90, file \"/home/zassoc/Github/m/firstmodule/run.py\", line 1>, src_file=PosixPath('/home/zassoc/Github/m/firstmodule/run.py'), cfile=PosixPath('/home/zassoc/Github/m/firstmodule/__pycache__/run.cpython-37.pyc'), loader=<_frozen_importlib_external.SourceFileLoader object at 0x7f84c4264d30>, source_stats={'mtime': 1545871277.0279188, 'size': 234}, mode=33188, src_idx=LocIndex(ast_class='BinOp', lineno=10, col_offset=11, op_type=<class '_ast.Add'>), mutation=<class '_ast.Pow'>)\n",
      "\n",
      "Mutant(mutant_code=<code object <module> at 0x7f84c4246f60, file \"/home/zassoc/Github/m/firstmodule/run.py\", line 1>, src_file=PosixPath('/home/zassoc/Github/m/firstmodule/run.py'), cfile=PosixPath('/home/zassoc/Github/m/firstmodule/__pycache__/run.cpython-37.pyc'), loader=<_frozen_importlib_external.SourceFileLoader object at 0x7f84c4264160>, source_stats={'mtime': 1545871277.0279188, 'size': 234}, mode=33188, src_idx=LocIndex(ast_class='BinOp', lineno=10, col_offset=11, op_type=<class '_ast.Add'>), mutation=<class '_ast.Mult'>)\n",
      "\n",
      "Mutant(mutant_code=<code object <module> at 0x7f84c41e9270, file \"/home/zassoc/Github/m/firstmodule/run.py\", line 1>, src_file=PosixPath('/home/zassoc/Github/m/firstmodule/run.py'), cfile=PosixPath('/home/zassoc/Github/m/firstmodule/__pycache__/run.cpython-37.pyc'), loader=<_frozen_importlib_external.SourceFileLoader object at 0x7f84c4264048>, source_stats={'mtime': 1545871277.0279188, 'size': 234}, mode=33188, src_idx=LocIndex(ast_class='BinOp', lineno=10, col_offset=11, op_type=<class '_ast.Add'>), mutation=<class '_ast.Sub'>)\n",
      "\n",
      "Mutant(mutant_code=<code object <module> at 0x7f84c41e9540, file \"/home/zassoc/Github/m/firstmodule/run.py\", line 1>, src_file=PosixPath('/home/zassoc/Github/m/firstmodule/run.py'), cfile=PosixPath('/home/zassoc/Github/m/firstmodule/__pycache__/run.cpython-37.pyc'), loader=<_frozen_importlib_external.SourceFileLoader object at 0x7f84c4264208>, source_stats={'mtime': 1545871277.0279188, 'size': 234}, mode=33188, src_idx=LocIndex(ast_class='BinOp', lineno=10, col_offset=11, op_type=<class '_ast.Add'>), mutation=<class '_ast.Div'>)\n",
      "\n",
      "Mutant(mutant_code=<code object <module> at 0x7f84c41e9810, file \"/home/zassoc/Github/m/firstmodule/run.py\", line 1>, src_file=PosixPath('/home/zassoc/Github/m/firstmodule/run.py'), cfile=PosixPath('/home/zassoc/Github/m/firstmodule/__pycache__/run.cpython-37.pyc'), loader=<_frozen_importlib_external.SourceFileLoader object at 0x7f84c4264ef0>, source_stats={'mtime': 1545871277.0279188, 'size': 234}, mode=33188, src_idx=LocIndex(ast_class='BinOp', lineno=6, col_offset=18, op_type=<class '_ast.Sub'>), mutation=<class '_ast.Add'>)\n",
      "\n",
      "Mutant(mutant_code=<code object <module> at 0x7f84c41e9ae0, file \"/home/zassoc/Github/m/firstmodule/run.py\", line 1>, src_file=PosixPath('/home/zassoc/Github/m/firstmodule/run.py'), cfile=PosixPath('/home/zassoc/Github/m/firstmodule/__pycache__/run.cpython-37.pyc'), loader=<_frozen_importlib_external.SourceFileLoader object at 0x7f84c42642e8>, source_stats={'mtime': 1545871277.0279188, 'size': 234}, mode=33188, src_idx=LocIndex(ast_class='BinOp', lineno=6, col_offset=18, op_type=<class '_ast.Sub'>), mutation=<class '_ast.Pow'>)\n",
      "\n",
      "Mutant(mutant_code=<code object <module> at 0x7f84c41e9db0, file \"/home/zassoc/Github/m/firstmodule/run.py\", line 1>, src_file=PosixPath('/home/zassoc/Github/m/firstmodule/run.py'), cfile=PosixPath('/home/zassoc/Github/m/firstmodule/__pycache__/run.cpython-37.pyc'), loader=<_frozen_importlib_external.SourceFileLoader object at 0x7f84c41ea400>, source_stats={'mtime': 1545871277.0279188, 'size': 234}, mode=33188, src_idx=LocIndex(ast_class='BinOp', lineno=6, col_offset=18, op_type=<class '_ast.Sub'>), mutation=<class '_ast.Mult'>)\n",
      "\n",
      "Mutant(mutant_code=<code object <module> at 0x7f84c41ee0c0, file \"/home/zassoc/Github/m/firstmodule/run.py\", line 1>, src_file=PosixPath('/home/zassoc/Github/m/firstmodule/run.py'), cfile=PosixPath('/home/zassoc/Github/m/firstmodule/__pycache__/run.cpython-37.pyc'), loader=<_frozen_importlib_external.SourceFileLoader object at 0x7f84c4264320>, source_stats={'mtime': 1545871277.0279188, 'size': 234}, mode=33188, src_idx=LocIndex(ast_class='BinOp', lineno=6, col_offset=18, op_type=<class '_ast.Sub'>), mutation=<class '_ast.Div'>)\n",
      "\n",
      "Mutant(mutant_code=<code object <module> at 0x7f84c41ee390, file \"/home/zassoc/Github/m/firstmodule/run.py\", line 1>, src_file=PosixPath('/home/zassoc/Github/m/firstmodule/run.py'), cfile=PosixPath('/home/zassoc/Github/m/firstmodule/__pycache__/run.cpython-37.pyc'), loader=<_frozen_importlib_external.SourceFileLoader object at 0x7f84c42647b8>, source_stats={'mtime': 1545871277.0279188, 'size': 234}, mode=33188, src_idx=LocIndex(ast_class='BinOp', lineno=15, col_offset=11, op_type=<class '_ast.Div'>), mutation=<class '_ast.Add'>)\n",
      "\n",
      "Mutant(mutant_code=<code object <module> at 0x7f84c41ee660, file \"/home/zassoc/Github/m/firstmodule/run.py\", line 1>, src_file=PosixPath('/home/zassoc/Github/m/firstmodule/run.py'), cfile=PosixPath('/home/zassoc/Github/m/firstmodule/__pycache__/run.cpython-37.pyc'), loader=<_frozen_importlib_external.SourceFileLoader object at 0x7f84c4264940>, source_stats={'mtime': 1545871277.0279188, 'size': 234}, mode=33188, src_idx=LocIndex(ast_class='BinOp', lineno=15, col_offset=11, op_type=<class '_ast.Div'>), mutation=<class '_ast.Pow'>)\n",
      "\n",
      "Mutant(mutant_code=<code object <module> at 0x7f84c41ee930, file \"/home/zassoc/Github/m/firstmodule/run.py\", line 1>, src_file=PosixPath('/home/zassoc/Github/m/firstmodule/run.py'), cfile=PosixPath('/home/zassoc/Github/m/firstmodule/__pycache__/run.cpython-37.pyc'), loader=<_frozen_importlib_external.SourceFileLoader object at 0x7f84c4264400>, source_stats={'mtime': 1545871277.0279188, 'size': 234}, mode=33188, src_idx=LocIndex(ast_class='BinOp', lineno=15, col_offset=11, op_type=<class '_ast.Div'>), mutation=<class '_ast.Mult'>)\n",
      "\n",
      "Mutant(mutant_code=<code object <module> at 0x7f84c41eec00, file \"/home/zassoc/Github/m/firstmodule/run.py\", line 1>, src_file=PosixPath('/home/zassoc/Github/m/firstmodule/run.py'), cfile=PosixPath('/home/zassoc/Github/m/firstmodule/__pycache__/run.cpython-37.pyc'), loader=<_frozen_importlib_external.SourceFileLoader object at 0x7f84c41eacc0>, source_stats={'mtime': 1545871277.0279188, 'size': 234}, mode=33188, src_idx=LocIndex(ast_class='BinOp', lineno=15, col_offset=11, op_type=<class '_ast.Div'>), mutation=<class '_ast.Sub'>)\n",
      "\n",
      "Mutant(mutant_code=<code object <module> at 0x7f84c41eeed0, file \"/home/zassoc/Github/m/firstmodule/run.py\", line 1>, src_file=PosixPath('/home/zassoc/Github/m/firstmodule/run.py'), cfile=PosixPath('/home/zassoc/Github/m/firstmodule/__pycache__/run.cpython-37.pyc'), loader=<_frozen_importlib_external.SourceFileLoader object at 0x7f84c4264eb8>, source_stats={'mtime': 1545871277.0279188, 'size': 234}, mode=33188, src_idx=LocIndex(ast_class='BinOp', lineno=6, col_offset=11, op_type=<class '_ast.Add'>), mutation=<class '_ast.Pow'>)\n",
      "\n",
      "Mutant(mutant_code=<code object <module> at 0x7f84c41f31e0, file \"/home/zassoc/Github/m/firstmodule/run.py\", line 1>, src_file=PosixPath('/home/zassoc/Github/m/firstmodule/run.py'), cfile=PosixPath('/home/zassoc/Github/m/firstmodule/__pycache__/run.cpython-37.pyc'), loader=<_frozen_importlib_external.SourceFileLoader object at 0x7f84c41ea860>, source_stats={'mtime': 1545871277.0279188, 'size': 234}, mode=33188, src_idx=LocIndex(ast_class='BinOp', lineno=6, col_offset=11, op_type=<class '_ast.Add'>), mutation=<class '_ast.Mult'>)\n",
      "\n",
      "Mutant(mutant_code=<code object <module> at 0x7f84c41f34b0, file \"/home/zassoc/Github/m/firstmodule/run.py\", line 1>, src_file=PosixPath('/home/zassoc/Github/m/firstmodule/run.py'), cfile=PosixPath('/home/zassoc/Github/m/firstmodule/__pycache__/run.cpython-37.pyc'), loader=<_frozen_importlib_external.SourceFileLoader object at 0x7f84c41eaf60>, source_stats={'mtime': 1545871277.0279188, 'size': 234}, mode=33188, src_idx=LocIndex(ast_class='BinOp', lineno=6, col_offset=11, op_type=<class '_ast.Add'>), mutation=<class '_ast.Sub'>)\n",
      "\n",
      "Mutant(mutant_code=<code object <module> at 0x7f84c41f3780, file \"/home/zassoc/Github/m/firstmodule/run.py\", line 1>, src_file=PosixPath('/home/zassoc/Github/m/firstmodule/run.py'), cfile=PosixPath('/home/zassoc/Github/m/firstmodule/__pycache__/run.cpython-37.pyc'), loader=<_frozen_importlib_external.SourceFileLoader object at 0x7f84c41f2438>, source_stats={'mtime': 1545871277.0279188, 'size': 234}, mode=33188, src_idx=LocIndex(ast_class='BinOp', lineno=6, col_offset=11, op_type=<class '_ast.Add'>), mutation=<class '_ast.Div'>)\n"
     ]
    }
   ],
   "source": [
    "print(*mutants, sep=\"\\n\\n\")"
   ]
  },
  {
   "cell_type": "code",
   "execution_count": 4,
   "metadata": {},
   "outputs": [],
   "source": [
    "m = mutants[0]"
   ]
  },
  {
   "cell_type": "code",
   "execution_count": 5,
   "metadata": {},
   "outputs": [],
   "source": [
    "from pprint import pprint"
   ]
  },
  {
   "cell_type": "code",
   "execution_count": 6,
   "metadata": {},
   "outputs": [
    {
     "name": "stdout",
     "output_type": "stream",
     "text": [
      "Mutant(mutant_code=<code object <module> at 0x7f84c4246c90, file \"/home/zassoc/Github/m/firstmodule/run.py\", line 1>, src_file=PosixPath('/home/zassoc/Github/m/firstmodule/run.py'), cfile=PosixPath('/home/zassoc/Github/m/firstmodule/__pycache__/run.cpython-37.pyc'), loader=<_frozen_importlib_external.SourceFileLoader object at 0x7f84c4264d30>, source_stats={'mtime': 1545871277.0279188, 'size': 234}, mode=33188, src_idx=LocIndex(ast_class='BinOp', lineno=10, col_offset=11, op_type=<class '_ast.Add'>), mutation=<class '_ast.Pow'>)\n"
     ]
    }
   ],
   "source": [
    "pprint(m)"
   ]
  },
  {
   "cell_type": "code",
   "execution_count": 7,
   "metadata": {},
   "outputs": [
    {
     "data": {
      "text/plain": [
       "<code object <module> at 0x7f84c4246c90, file \"/home/zassoc/Github/m/firstmodule/run.py\", line 1>"
      ]
     },
     "execution_count": 7,
     "metadata": {},
     "output_type": "execute_result"
    }
   ],
   "source": [
    "m.mutant_code"
   ]
  },
  {
   "cell_type": "code",
   "execution_count": 8,
   "metadata": {},
   "outputs": [
    {
     "data": {
      "text/plain": [
       "PosixPath('/home/zassoc/Github/m/firstmodule/run.py')"
      ]
     },
     "execution_count": 8,
     "metadata": {},
     "output_type": "execute_result"
    }
   ],
   "source": [
    "m.src_file"
   ]
  },
  {
   "cell_type": "code",
   "execution_count": 9,
   "metadata": {},
   "outputs": [
    {
     "data": {
      "text/plain": [
       "PosixPath('/home/zassoc/Github/m/firstmodule/__pycache__/run.cpython-37.pyc')"
      ]
     },
     "execution_count": 9,
     "metadata": {},
     "output_type": "execute_result"
    }
   ],
   "source": [
    "m.cfile"
   ]
  },
  {
   "cell_type": "code",
   "execution_count": 10,
   "metadata": {},
   "outputs": [
    {
     "data": {
      "text/plain": [
       "<_frozen_importlib_external.SourceFileLoader at 0x7f84c4264d30>"
      ]
     },
     "execution_count": 10,
     "metadata": {},
     "output_type": "execute_result"
    }
   ],
   "source": [
    "m.loader"
   ]
  },
  {
   "cell_type": "code",
   "execution_count": 11,
   "metadata": {},
   "outputs": [
    {
     "data": {
      "text/plain": [
       "{'mtime': 1545871277.0279188, 'size': 234}"
      ]
     },
     "execution_count": 11,
     "metadata": {},
     "output_type": "execute_result"
    }
   ],
   "source": [
    "m.source_stats"
   ]
  },
  {
   "cell_type": "code",
   "execution_count": 12,
   "metadata": {},
   "outputs": [
    {
     "data": {
      "text/plain": [
       "33188"
      ]
     },
     "execution_count": 12,
     "metadata": {},
     "output_type": "execute_result"
    }
   ],
   "source": [
    "m.mode"
   ]
  },
  {
   "cell_type": "code",
   "execution_count": 13,
   "metadata": {},
   "outputs": [
    {
     "data": {
      "text/plain": [
       "LocIndex(ast_class='BinOp', lineno=10, col_offset=11, op_type=<class '_ast.Add'>)"
      ]
     },
     "execution_count": 13,
     "metadata": {},
     "output_type": "execute_result"
    }
   ],
   "source": [
    "m.src_idx"
   ]
  },
  {
   "cell_type": "code",
   "execution_count": 14,
   "metadata": {},
   "outputs": [
    {
     "data": {
      "text/plain": [
       "_ast.Pow"
      ]
     },
     "execution_count": 14,
     "metadata": {},
     "output_type": "execute_result"
    }
   ],
   "source": [
    "m.mutation"
   ]
  },
  {
   "cell_type": "code",
   "execution_count": 15,
   "metadata": {},
   "outputs": [
    {
     "name": "stdout",
     "output_type": "stream",
     "text": [
      "OrderedDict([('mutant_code',\n",
      "              <code object <module> at 0x7f84c4246c90, file \"/home/zassoc/Github/m/firstmodule/run.py\", line 1>),\n",
      "             ('src_file',\n",
      "              PosixPath('/home/zassoc/Github/m/firstmodule/run.py')),\n",
      "             ('cfile',\n",
      "              PosixPath('/home/zassoc/Github/m/firstmodule/__pycache__/run.cpython-37.pyc')),\n",
      "             ('loader',\n",
      "              <_frozen_importlib_external.SourceFileLoader object at 0x7f84c4264d30>),\n",
      "             ('source_stats', {'mtime': 1545871277.0279188, 'size': 234}),\n",
      "             ('mode', 33188),\n",
      "             ('src_idx',\n",
      "              LocIndex(ast_class='BinOp', lineno=10, col_offset=11, op_type=<class '_ast.Add'>)),\n",
      "             ('mutation', <class '_ast.Pow'>)])\n"
     ]
    }
   ],
   "source": [
    "pprint(m._asdict())"
   ]
  },
  {
   "cell_type": "code",
   "execution_count": null,
   "metadata": {},
   "outputs": [],
   "source": []
  }
 ],
 "metadata": {
  "kernelspec": {
   "display_name": "Python 3",
   "language": "python",
   "name": "python3"
  },
  "language_info": {
   "codemirror_mode": {
    "name": "ipython",
    "version": 3
   },
   "file_extension": ".py",
   "mimetype": "text/x-python",
   "name": "python",
   "nbconvert_exporter": "python",
   "pygments_lexer": "ipython3",
   "version": "3.7.1"
  }
 },
 "nbformat": 4,
 "nbformat_minor": 2
}
