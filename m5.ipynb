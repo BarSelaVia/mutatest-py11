{
 "cells": [
  {
   "cell_type": "code",
   "execution_count": 1,
   "metadata": {},
   "outputs": [],
   "source": [
    "from mutation.controller import run_trials"
   ]
  },
  {
   "cell_type": "code",
   "execution_count": 2,
   "metadata": {},
   "outputs": [
    {
     "name": "stdout",
     "output_type": "stream",
     "text": [
      "2018-12-23 10:59:33,527 - mutation.controller - DEBUG - Removing cache file: /home/zassoc/Github/m/firstmodule/__pycache__/__init__.cpython-37.pyc\n",
      "2018-12-23 10:59:33,528 - mutation.controller - DEBUG - Removing cache file: /home/zassoc/Github/m/firstmodule/__pycache__/run.cpython-37.pyc\n",
      "2018-12-23 10:59:33,530 - mutation.controller - DEBUG - Running clean trial\n",
      "2018-12-23 10:59:33,733 - mutation.transformers - DEBUG - Mutating binOp with Sub\n",
      "2018-12-23 10:59:33,733 - mutation.transformers - DEBUG - Mutating binOp with Sub\n",
      "2018-12-23 10:59:33,947 - mutation.controller - DEBUG - Removing cache file: /home/zassoc/Github/m/firstmodule/__pycache__/__init__.cpython-37.pyc\n",
      "2018-12-23 10:59:33,948 - mutation.controller - DEBUG - Removing cache file: /home/zassoc/Github/m/firstmodule/__pycache__/test_run.cpython-37.pyc\n",
      "2018-12-23 10:59:33,949 - mutation.controller - DEBUG - Removing cache file: /home/zassoc/Github/m/firstmodule/__pycache__/run.cpython-37.pyc\n",
      "2018-12-23 10:59:33,949 - mutation.controller - DEBUG - Running clean trial\n",
      "2018-12-23 10:59:34,167 - mutation.controller - INFO - Mutation failures: 1\n"
     ]
    }
   ],
   "source": [
    "run_trials()"
   ]
  },
  {
   "cell_type": "code",
   "execution_count": null,
   "metadata": {},
   "outputs": [],
   "source": []
  }
 ],
 "metadata": {
  "kernelspec": {
   "display_name": "Python 3",
   "language": "python",
   "name": "python3"
  },
  "language_info": {
   "codemirror_mode": {
    "name": "ipython",
    "version": 3
   },
   "file_extension": ".py",
   "mimetype": "text/x-python",
   "name": "python",
   "nbconvert_exporter": "python",
   "pygments_lexer": "ipython3",
   "version": "3.7.1"
  }
 },
 "nbformat": 4,
 "nbformat_minor": 2
}
