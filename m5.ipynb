{
 "cells": [
  {
   "cell_type": "code",
   "execution_count": 18,
   "metadata": {},
   "outputs": [],
   "source": [
    "from mutation.controller import run_trials\n",
    "\n",
    "from mutation import controller\n",
    "from mutation import maker\n",
    "from mutation import transformers\n",
    "\n",
    "from pathlib import Path\n",
    "import ast"
   ]
  },
  {
   "cell_type": "code",
   "execution_count": 65,
   "metadata": {},
   "outputs": [],
   "source": [
    "pkg_dir = Path(\"firstmodule\")"
   ]
  },
  {
   "cell_type": "code",
   "execution_count": 66,
   "metadata": {},
   "outputs": [
    {
     "name": "stdout",
     "output_type": "stream",
     "text": [
      "2018-12-26 10:30:19,343 - mutation.cache - DEBUG - Removing cache file: /home/zassoc/Github/m/firstmodule/__pycache__/__init__.cpython-37.pyc\n",
      "2018-12-26 10:30:19,344 - mutation.cache - DEBUG - Removing cache file: /home/zassoc/Github/m/firstmodule/__pycache__/run.cpython-37.pyc\n",
      "2018-12-26 10:30:19,345 - mutation.controller - DEBUG - Running clean trial\n"
     ]
    }
   ],
   "source": [
    "controller.clean_trial(pkg_dir)"
   ]
  },
  {
   "cell_type": "code",
   "execution_count": 67,
   "metadata": {},
   "outputs": [
    {
     "name": "stdout",
     "output_type": "stream",
     "text": [
      "2018-12-26 10:30:19,827 - mutation.controller - INFO - Creating AST from: /home/zassoc/Github/m/firstmodule/__init__.py\n",
      "2018-12-26 10:30:19,829 - mutation.controller - INFO - Get mutation targets from AST.\n",
      "2018-12-26 10:30:19,831 - mutation.controller - INFO - Creating AST from: /home/zassoc/Github/m/firstmodule/run.py\n",
      "2018-12-26 10:30:19,834 - mutation.controller - INFO - Get mutation targets from AST.\n",
      "2018-12-26 10:30:19,835 - mutation.transformers - INFO - NODE\n",
      "2018-12-26 10:30:19,837 - mutation.transformers - INFO - BinOp(left=Name(id='b', ctx=Load()), op=Add(), right=Num(n=10))\n",
      "2018-12-26 10:30:19,838 - mutation.transformers - INFO - IDX VALUE:\n",
      "2018-12-26 10:30:19,840 - mutation.transformers - INFO - LocIndex(ast_class='BinOp', lineno=6, col_offset=11, op_type=<class '_ast.Add'>)\n",
      "2018-12-26 10:30:19,841 - mutation.transformers - INFO - NODE\n",
      "2018-12-26 10:30:19,842 - mutation.transformers - INFO - BinOp(left=Name(id='b', ctx=Load()), op=Add(), right=Num(n=5))\n",
      "2018-12-26 10:30:19,843 - mutation.transformers - INFO - IDX VALUE:\n",
      "2018-12-26 10:30:19,844 - mutation.transformers - INFO - LocIndex(ast_class='BinOp', lineno=10, col_offset=11, op_type=<class '_ast.Add'>)\n"
     ]
    }
   ],
   "source": [
    "src_trees, src_targets = controller.build_src_trees_and_targets(pkg_dir)\n",
    "sample_space = controller.get_sample_space(src_targets)"
   ]
  },
  {
   "cell_type": "code",
   "execution_count": 68,
   "metadata": {},
   "outputs": [
    {
     "data": {
      "text/plain": [
       "{'/home/zassoc/Github/m/firstmodule/run.py': <_ast.Module at 0x7f03c9684400>}"
      ]
     },
     "execution_count": 68,
     "metadata": {},
     "output_type": "execute_result"
    }
   ],
   "source": [
    "src_trees"
   ]
  },
  {
   "cell_type": "code",
   "execution_count": 69,
   "metadata": {},
   "outputs": [
    {
     "data": {
      "text/plain": [
       "{'/home/zassoc/Github/m/firstmodule/run.py': [LocIndex(ast_class='BinOp', lineno=6, col_offset=11, op_type=<class '_ast.Add'>),\n",
       "  LocIndex(ast_class='BinOp', lineno=10, col_offset=11, op_type=<class '_ast.Add'>)]}"
      ]
     },
     "execution_count": 69,
     "metadata": {},
     "output_type": "execute_result"
    }
   ],
   "source": [
    "src_targets"
   ]
  },
  {
   "cell_type": "code",
   "execution_count": 70,
   "metadata": {},
   "outputs": [
    {
     "data": {
      "text/plain": [
       "[('/home/zassoc/Github/m/firstmodule/run.py',\n",
       "  LocIndex(ast_class='BinOp', lineno=6, col_offset=11, op_type=<class '_ast.Add'>)),\n",
       " ('/home/zassoc/Github/m/firstmodule/run.py',\n",
       "  LocIndex(ast_class='BinOp', lineno=10, col_offset=11, op_type=<class '_ast.Add'>))]"
      ]
     },
     "execution_count": 70,
     "metadata": {},
     "output_type": "execute_result"
    }
   ],
   "source": [
    "sample_space"
   ]
  },
  {
   "cell_type": "code",
   "execution_count": 71,
   "metadata": {},
   "outputs": [],
   "source": [
    "src, tgt = sample_space[0]"
   ]
  },
  {
   "cell_type": "code",
   "execution_count": 72,
   "metadata": {},
   "outputs": [
    {
     "data": {
      "text/plain": [
       "'/home/zassoc/Github/m/firstmodule/run.py'"
      ]
     },
     "execution_count": 72,
     "metadata": {},
     "output_type": "execute_result"
    }
   ],
   "source": [
    "src"
   ]
  },
  {
   "cell_type": "code",
   "execution_count": 73,
   "metadata": {},
   "outputs": [
    {
     "data": {
      "text/plain": [
       "LocIndex(ast_class='BinOp', lineno=6, col_offset=11, op_type=<class '_ast.Add'>)"
      ]
     },
     "execution_count": 73,
     "metadata": {},
     "output_type": "execute_result"
    }
   ],
   "source": [
    "tgt"
   ]
  },
  {
   "cell_type": "code",
   "execution_count": 74,
   "metadata": {},
   "outputs": [],
   "source": [
    "src_tree = src_trees[src]"
   ]
  },
  {
   "cell_type": "code",
   "execution_count": 75,
   "metadata": {},
   "outputs": [
    {
     "data": {
      "text/plain": [
       "\"Module(body=[FunctionDef(name='myfunc', args=arguments(args=[arg(arg='a', annotation=None)], vararg=None, kwonlyargs=[], kw_defaults=[], kwarg=None, defaults=[]), body=[Expr(value=Call(func=Name(id='print', ctx=Load()), args=[Str(s='hello'), Name(id='a', ctx=Load())], keywords=[]))], decorator_list=[], returns=None), FunctionDef(name='add_ten', args=arguments(args=[arg(arg='b', annotation=None)], vararg=None, kwonlyargs=[], kw_defaults=[], kwarg=None, defaults=[]), body=[Return(value=BinOp(left=Name(id='b', ctx=Load()), op=Add(), right=Num(n=10)))], decorator_list=[], returns=None), FunctionDef(name='add_five', args=arguments(args=[arg(arg='b', annotation=None)], vararg=None, kwonlyargs=[], kw_defaults=[], kwarg=None, defaults=[]), body=[Return(value=BinOp(left=Name(id='b', ctx=Load()), op=Add(), right=Num(n=5)))], decorator_list=[], returns=None), Expr(value=Call(func=Name(id='myfunc', ctx=Load()), args=[Str(s='there')], keywords=[])), Expr(value=Call(func=Name(id='print', ctx=Load()), args=[Call(func=Name(id='add_ten', ctx=Load()), args=[Num(n=10)], keywords=[])], keywords=[])), Expr(value=Call(func=Name(id='print', ctx=Load()), args=[Call(func=Name(id='add_five', ctx=Load()), args=[Num(n=10)], keywords=[])], keywords=[]))])\""
      ]
     },
     "execution_count": 75,
     "metadata": {},
     "output_type": "execute_result"
    }
   ],
   "source": [
    "ast.dump(src_tree)"
   ]
  },
  {
   "cell_type": "code",
   "execution_count": 76,
   "metadata": {},
   "outputs": [
    {
     "name": "stdout",
     "output_type": "stream",
     "text": [
      "2018-12-26 10:30:33,108 - mutation.transformers - DEBUG - Potential mutation operations found for target: <class '_ast.Add'>\n"
     ]
    }
   ],
   "source": [
    "mutant_ops = transformers.get_mutations_for_target(tgt)"
   ]
  },
  {
   "cell_type": "code",
   "execution_count": 77,
   "metadata": {},
   "outputs": [
    {
     "data": {
      "text/plain": [
       "{_ast.Div, _ast.Mult, _ast.Sub}"
      ]
     },
     "execution_count": 77,
     "metadata": {},
     "output_type": "execute_result"
    }
   ],
   "source": [
    "mutant_ops"
   ]
  },
  {
   "cell_type": "code",
   "execution_count": 61,
   "metadata": {},
   "outputs": [],
   "source": [
    "from typing import NamedTuple\n",
    "\n",
    "class LocIndex(NamedTuple):\n",
    "    ast_class: str\n",
    "    lineno: int\n",
    "    col_offset:int\n",
    "    op_type: type\n",
    "\n",
    "class MutateAST(ast.NodeTransformer):\n",
    "\n",
    "    def __init__(self, readonly=False, target_idx=None, mutation=None):\n",
    "        self.readonly = readonly\n",
    "        self.locs = set()\n",
    "        self.target_idx = target_idx\n",
    "        self.mutation = mutation\n",
    "\n",
    "\n",
    "    def visit_BinOp(self, node):\n",
    "\n",
    "        self.generic_visit(node)\n",
    "\n",
    "        idx = LocIndex(\"BinOp\", node.lineno, node.col_offset, type(node.op))\n",
    "        self.locs.add(idx)\n",
    "\n",
    "        if self.readonly:\n",
    "            print(\"READ ONLY NODE\")\n",
    "            return node\n",
    "\n",
    "        else:\n",
    "            print(\"ELSE STATEMENT\")\n",
    "            if idx == self.target_idx and self.mutation:\n",
    "                print(\"ELSE MUTATION CONDITION\")\n",
    "                print(self.mutation, \"\\n\\n\")\n",
    "                return ast.copy_location(\n",
    "                    #ast.BinOp(left=node.left, op=ast.Sub(), right=node.right),\n",
    "                    ast.BinOp(left=node.left, op=self.mutation(), right=node.right),\n",
    "                    node)\n",
    "            else:\n",
    "                print(\"ELSE RETURN NODE\")\n",
    "                return node"
   ]
  },
  {
   "cell_type": "code",
   "execution_count": 78,
   "metadata": {},
   "outputs": [
    {
     "name": "stdout",
     "output_type": "stream",
     "text": [
      "2018-12-26 10:31:24,005 - mutation.transformers - DEBUG - Potential mutation operations found for target: <class '_ast.Add'>\n",
      "<class '_ast.Sub'> \n",
      "\n",
      "False\n",
      "ELSE STATEMENT\n",
      "ELSE MUTATION CONDITION\n",
      "<class '_ast.Sub'> \n",
      "\n",
      "\n",
      "ELSE STATEMENT\n",
      "ELSE RETURN NODE\n",
      "Module(body=[FunctionDef(name='myfunc', args=arguments(args=[arg(arg='a', annotation=None)], vararg=None, kwonlyargs=[], kw_defaults=[], kwarg=None, defaults=[]), body=[Expr(value=Call(func=Name(id='print', ctx=Load()), args=[Str(s='hello'), Name(id='a', ctx=Load())], keywords=[]))], decorator_list=[], returns=None), FunctionDef(name='add_ten', args=arguments(args=[arg(arg='b', annotation=None)], vararg=None, kwonlyargs=[], kw_defaults=[], kwarg=None, defaults=[]), body=[Return(value=BinOp(left=Name(id='b', ctx=Load()), op=Sub(), right=Num(n=10)))], decorator_list=[], returns=None), FunctionDef(name='add_five', args=arguments(args=[arg(arg='b', annotation=None)], vararg=None, kwonlyargs=[], kw_defaults=[], kwarg=None, defaults=[]), body=[Return(value=BinOp(left=Name(id='b', ctx=Load()), op=Add(), right=Num(n=5)))], decorator_list=[], returns=None), Expr(value=Call(func=Name(id='myfunc', ctx=Load()), args=[Str(s='there')], keywords=[])), Expr(value=Call(func=Name(id='print', ctx=Load()), args=[Call(func=Name(id='add_ten', ctx=Load()), args=[Num(n=10)], keywords=[])], keywords=[])), Expr(value=Call(func=Name(id='print', ctx=Load()), args=[Call(func=Name(id='add_five', ctx=Load()), args=[Num(n=10)], keywords=[])], keywords=[]))])\n",
      "\n",
      "\n",
      "\n",
      "<class '_ast.Div'> \n",
      "\n",
      "False\n",
      "ELSE STATEMENT\n",
      "ELSE MUTATION CONDITION\n",
      "<class '_ast.Div'> \n",
      "\n",
      "\n",
      "ELSE STATEMENT\n",
      "ELSE RETURN NODE\n",
      "Module(body=[FunctionDef(name='myfunc', args=arguments(args=[arg(arg='a', annotation=None)], vararg=None, kwonlyargs=[], kw_defaults=[], kwarg=None, defaults=[]), body=[Expr(value=Call(func=Name(id='print', ctx=Load()), args=[Str(s='hello'), Name(id='a', ctx=Load())], keywords=[]))], decorator_list=[], returns=None), FunctionDef(name='add_ten', args=arguments(args=[arg(arg='b', annotation=None)], vararg=None, kwonlyargs=[], kw_defaults=[], kwarg=None, defaults=[]), body=[Return(value=BinOp(left=Name(id='b', ctx=Load()), op=Div(), right=Num(n=10)))], decorator_list=[], returns=None), FunctionDef(name='add_five', args=arguments(args=[arg(arg='b', annotation=None)], vararg=None, kwonlyargs=[], kw_defaults=[], kwarg=None, defaults=[]), body=[Return(value=BinOp(left=Name(id='b', ctx=Load()), op=Add(), right=Num(n=5)))], decorator_list=[], returns=None), Expr(value=Call(func=Name(id='myfunc', ctx=Load()), args=[Str(s='there')], keywords=[])), Expr(value=Call(func=Name(id='print', ctx=Load()), args=[Call(func=Name(id='add_ten', ctx=Load()), args=[Num(n=10)], keywords=[])], keywords=[])), Expr(value=Call(func=Name(id='print', ctx=Load()), args=[Call(func=Name(id='add_five', ctx=Load()), args=[Num(n=10)], keywords=[])], keywords=[]))])\n",
      "\n",
      "\n",
      "\n",
      "<class '_ast.Mult'> \n",
      "\n",
      "False\n",
      "ELSE STATEMENT\n",
      "ELSE MUTATION CONDITION\n",
      "<class '_ast.Mult'> \n",
      "\n",
      "\n",
      "ELSE STATEMENT\n",
      "ELSE RETURN NODE\n",
      "Module(body=[FunctionDef(name='myfunc', args=arguments(args=[arg(arg='a', annotation=None)], vararg=None, kwonlyargs=[], kw_defaults=[], kwarg=None, defaults=[]), body=[Expr(value=Call(func=Name(id='print', ctx=Load()), args=[Str(s='hello'), Name(id='a', ctx=Load())], keywords=[]))], decorator_list=[], returns=None), FunctionDef(name='add_ten', args=arguments(args=[arg(arg='b', annotation=None)], vararg=None, kwonlyargs=[], kw_defaults=[], kwarg=None, defaults=[]), body=[Return(value=BinOp(left=Name(id='b', ctx=Load()), op=Mult(), right=Num(n=10)))], decorator_list=[], returns=None), FunctionDef(name='add_five', args=arguments(args=[arg(arg='b', annotation=None)], vararg=None, kwonlyargs=[], kw_defaults=[], kwarg=None, defaults=[]), body=[Return(value=BinOp(left=Name(id='b', ctx=Load()), op=Add(), right=Num(n=5)))], decorator_list=[], returns=None), Expr(value=Call(func=Name(id='myfunc', ctx=Load()), args=[Str(s='there')], keywords=[])), Expr(value=Call(func=Name(id='print', ctx=Load()), args=[Call(func=Name(id='add_ten', ctx=Load()), args=[Num(n=10)], keywords=[])], keywords=[])), Expr(value=Call(func=Name(id='print', ctx=Load()), args=[Call(func=Name(id='add_five', ctx=Load()), args=[Num(n=10)], keywords=[])], keywords=[]))])\n",
      "\n",
      "\n",
      "\n"
     ]
    }
   ],
   "source": [
    "from copy import deepcopy\n",
    "\n",
    "mutant_ops = transformers.get_mutations_for_target(tgt)\n",
    "\n",
    "while mutant_ops:\n",
    "    mutation_tree = deepcopy(src_tree)\n",
    "    op = mutant_ops.pop()\n",
    "    print(op, \"\\n\")\n",
    "    print(mutation_tree == src_tree)\n",
    "    tree2 = MutateAST(readonly=False, target_idx=tgt, mutation=op).visit(mutation_tree)\n",
    "    print(ast.dump(tree2) + \"\\n\\n\\n\")"
   ]
  },
  {
   "cell_type": "code",
   "execution_count": 79,
   "metadata": {},
   "outputs": [
    {
     "data": {
      "text/plain": [
       "[<_ast.FunctionDef at 0x7f03c969a198>,\n",
       " <_ast.FunctionDef at 0x7f03c969a160>,\n",
       " <_ast.FunctionDef at 0x7f03c969a7f0>,\n",
       " <_ast.Expr at 0x7f03c969a978>,\n",
       " <_ast.Expr at 0x7f03c969a9e8>,\n",
       " <_ast.Expr at 0x7f03c969abe0>]"
      ]
     },
     "execution_count": 79,
     "metadata": {},
     "output_type": "execute_result"
    }
   ],
   "source": [
    "tree2.body"
   ]
  },
  {
   "cell_type": "code",
   "execution_count": 51,
   "metadata": {},
   "outputs": [
    {
     "data": {
      "text/plain": [
       "\"Module(body=[FunctionDef(name='myfunc', args=arguments(args=[arg(arg='a', annotation=None)], vararg=None, kwonlyargs=[], kw_defaults=[], kwarg=None, defaults=[]), body=[Expr(value=Call(func=Name(id='print', ctx=Load()), args=[Str(s='hello'), Name(id='a', ctx=Load())], keywords=[]))], decorator_list=[], returns=None), FunctionDef(name='add_ten', args=arguments(args=[arg(arg='b', annotation=None)], vararg=None, kwonlyargs=[], kw_defaults=[], kwarg=None, defaults=[]), body=[Return(value=BinOp(left=Name(id='b', ctx=Load()), op=Sub(), right=Num(n=10)))], decorator_list=[], returns=None), FunctionDef(name='add_five', args=arguments(args=[arg(arg='b', annotation=None)], vararg=None, kwonlyargs=[], kw_defaults=[], kwarg=None, defaults=[]), body=[Return(value=BinOp(left=Name(id='b', ctx=Load()), op=Add(), right=Num(n=5)))], decorator_list=[], returns=None), Expr(value=Call(func=Name(id='myfunc', ctx=Load()), args=[Str(s='there')], keywords=[])), Expr(value=Call(func=Name(id='print', ctx=Load()), args=[Call(func=Name(id='add_ten', ctx=Load()), args=[Num(n=10)], keywords=[])], keywords=[])), Expr(value=Call(func=Name(id='print', ctx=Load()), args=[Call(func=Name(id='add_five', ctx=Load()), args=[Num(n=10)], keywords=[])], keywords=[]))])\""
      ]
     },
     "execution_count": 51,
     "metadata": {},
     "output_type": "execute_result"
    }
   ],
   "source": [
    "ast.dump(tree2)"
   ]
  },
  {
   "cell_type": "code",
   "execution_count": null,
   "metadata": {},
   "outputs": [],
   "source": []
  }
 ],
 "metadata": {
  "kernelspec": {
   "display_name": "Python 3",
   "language": "python",
   "name": "python3"
  },
  "language_info": {
   "codemirror_mode": {
    "name": "ipython",
    "version": 3
   },
   "file_extension": ".py",
   "mimetype": "text/x-python",
   "name": "python",
   "nbconvert_exporter": "python",
   "pygments_lexer": "ipython3",
   "version": "3.7.1"
  }
 },
 "nbformat": 4,
 "nbformat_minor": 2
}
