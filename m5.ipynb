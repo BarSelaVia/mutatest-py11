{
 "cells": [
  {
   "cell_type": "code",
   "execution_count": 1,
   "metadata": {},
   "outputs": [],
   "source": [
    "from mutation.controller import run_trials"
   ]
  },
  {
   "cell_type": "code",
   "execution_count": 2,
   "metadata": {},
   "outputs": [
    {
     "name": "stdout",
     "output_type": "stream",
     "text": [
      "2018-12-26 09:28:25,933 - mutation.controller - INFO - START CLEAN TRIAL\n",
      "2018-12-26 09:28:25,934 - mutation.cache - DEBUG - Removing cache file: /home/zassoc/Github/m/firstmodule/__pycache__/__init__.cpython-37.pyc\n",
      "2018-12-26 09:28:25,935 - mutation.cache - DEBUG - Removing cache file: /home/zassoc/Github/m/firstmodule/__pycache__/run.cpython-37.pyc\n",
      "2018-12-26 09:28:25,936 - mutation.controller - DEBUG - Running clean trial\n",
      "2018-12-26 09:28:26,134 - mutation.controller - INFO - BUILD SAMPLE SPACE\n",
      "2018-12-26 09:28:26,135 - mutation.controller - INFO - Creating AST from: /home/zassoc/Github/m/firstmodule/__init__.py\n",
      "2018-12-26 09:28:26,136 - mutation.controller - INFO - Get mutation targets from AST.\n",
      "2018-12-26 09:28:26,136 - mutation.controller - INFO - Creating AST from: /home/zassoc/Github/m/firstmodule/run.py\n",
      "2018-12-26 09:28:26,137 - mutation.controller - INFO - Get mutation targets from AST.\n",
      "2018-12-26 09:28:26,138 - mutation.transformers - INFO - NODE\n",
      "2018-12-26 09:28:26,141 - mutation.transformers - INFO - BinOp(left=Name(id='b', ctx=Load()), op=Add(), right=Num(n=10))\n",
      "2018-12-26 09:28:26,142 - mutation.transformers - INFO - IDX VALUE:\n",
      "2018-12-26 09:28:26,143 - mutation.transformers - INFO - LocIndex(ast_class='BinOp', lineno=6, col_offset=11, op_type=<class '_ast.Add'>)\n",
      "2018-12-26 09:28:26,143 - mutation.transformers - INFO - NODE\n",
      "2018-12-26 09:28:26,144 - mutation.transformers - INFO - BinOp(left=Name(id='b', ctx=Load()), op=Add(), right=Num(n=5))\n",
      "2018-12-26 09:28:26,145 - mutation.transformers - INFO - IDX VALUE:\n",
      "2018-12-26 09:28:26,146 - mutation.transformers - INFO - LocIndex(ast_class='BinOp', lineno=10, col_offset=11, op_type=<class '_ast.Add'>)\n",
      "2018-12-26 09:28:26,147 - mutation.controller - INFO - ITERATIE MUTATIONS\n",
      "2018-12-26 09:28:26,148 - mutation.transformers - DEBUG - Potential mutation operations found for target: <class '_ast.Add'>\n",
      "2018-12-26 09:28:26,148 - mutation.controller - INFO - ITERATE OPERATIONS\n",
      "2018-12-26 09:28:26,149 - mutation.controller - INFO - {<class '_ast.Pow'>, <class '_ast.Mult'>, <class '_ast.Sub'>, <class '_ast.Div'>}\n",
      "2018-12-26 09:28:26,150 - mutation.controller - INFO - REMAINING OPERATIONS\n",
      "2018-12-26 09:28:26,151 - mutation.controller - INFO - {<class '_ast.Mult'>, <class '_ast.Sub'>, <class '_ast.Div'>}\n",
      "2018-12-26 09:28:26,151 - mutation.controller - DEBUG - Mutation creation for <class '_ast.Pow'>\n"
     ]
    },
    {
     "ename": "AttributeError",
     "evalue": "'str' object has no attribute '_fields'",
     "output_type": "error",
     "traceback": [
      "\u001b[0;31m---------------------------------------------------------------------------\u001b[0m",
      "\u001b[0;31mAttributeError\u001b[0m                            Traceback (most recent call last)",
      "\u001b[0;32m<ipython-input-2-02bb71f69ea1>\u001b[0m in \u001b[0;36m<module>\u001b[0;34m\u001b[0m\n\u001b[0;32m----> 1\u001b[0;31m \u001b[0mrun_trials\u001b[0m\u001b[0;34m(\u001b[0m\u001b[0;34m)\u001b[0m\u001b[0;34m\u001b[0m\u001b[0;34m\u001b[0m\u001b[0m\n\u001b[0m",
      "\u001b[0;32m~/Github/m/mutation/controller.py\u001b[0m in \u001b[0;36mrun_trials\u001b[0;34m()\u001b[0m\n\u001b[1;32m    125\u001b[0m \u001b[0;34m\u001b[0m\u001b[0m\n\u001b[1;32m    126\u001b[0m             \u001b[0mLOGGER\u001b[0m\u001b[0;34m.\u001b[0m\u001b[0mdebug\u001b[0m\u001b[0;34m(\u001b[0m\u001b[0;34m\"Mutation creation for %s\"\u001b[0m\u001b[0;34m,\u001b[0m \u001b[0mcurrent_mutation\u001b[0m\u001b[0;34m)\u001b[0m\u001b[0;34m\u001b[0m\u001b[0;34m\u001b[0m\u001b[0m\n\u001b[0;32m--> 127\u001b[0;31m             \u001b[0mcreate_mutant\u001b[0m\u001b[0;34m(\u001b[0m\u001b[0msample_src\u001b[0m\u001b[0;34m,\u001b[0m \u001b[0msrc_tree\u001b[0m\u001b[0;34m,\u001b[0m \u001b[0msample_idx\u001b[0m\u001b[0;34m,\u001b[0m \u001b[0mcurrent_mutation\u001b[0m\u001b[0;34m)\u001b[0m\u001b[0;34m\u001b[0m\u001b[0;34m\u001b[0m\u001b[0m\n\u001b[0m\u001b[1;32m    128\u001b[0m \u001b[0;34m\u001b[0m\u001b[0m\n\u001b[1;32m    129\u001b[0m             \u001b[0mLOGGER\u001b[0m\u001b[0;34m.\u001b[0m\u001b[0minfo\u001b[0m\u001b[0;34m(\u001b[0m\u001b[0;34m\"Running test suite\"\u001b[0m\u001b[0;34m)\u001b[0m\u001b[0;34m\u001b[0m\u001b[0;34m\u001b[0m\u001b[0m\n",
      "\u001b[0;32m~/Github/m/mutation/maker.py\u001b[0m in \u001b[0;36mcreate_mutant\u001b[0;34m(tree, src_file, sample_idx, mutation_op)\u001b[0m\n\u001b[1;32m     34\u001b[0m     mutant_ast = MutateAST(readonly=False,\n\u001b[1;32m     35\u001b[0m                            \u001b[0mtarget_idx\u001b[0m\u001b[0;34m=\u001b[0m\u001b[0msample_idx\u001b[0m\u001b[0;34m,\u001b[0m\u001b[0;34m\u001b[0m\u001b[0;34m\u001b[0m\u001b[0m\n\u001b[0;32m---> 36\u001b[0;31m                            mutation=mutation_op).visit(tree)\n\u001b[0m\u001b[1;32m     37\u001b[0m \u001b[0;34m\u001b[0m\u001b[0m\n\u001b[1;32m     38\u001b[0m     \u001b[0mmutant_code\u001b[0m \u001b[0;34m=\u001b[0m \u001b[0mcompile\u001b[0m\u001b[0;34m(\u001b[0m\u001b[0mmutant_ast\u001b[0m\u001b[0;34m,\u001b[0m \u001b[0mstr\u001b[0m\u001b[0;34m(\u001b[0m\u001b[0msrc_file\u001b[0m\u001b[0;34m)\u001b[0m\u001b[0;34m,\u001b[0m \u001b[0;34m\"exec\"\u001b[0m\u001b[0;34m)\u001b[0m\u001b[0;34m\u001b[0m\u001b[0;34m\u001b[0m\u001b[0m\n",
      "\u001b[0;32m~/anaconda3/envs/m/lib/python3.7/ast.py\u001b[0m in \u001b[0;36mvisit\u001b[0;34m(self, node)\u001b[0m\n\u001b[1;32m    260\u001b[0m         \u001b[0mmethod\u001b[0m \u001b[0;34m=\u001b[0m \u001b[0;34m'visit_'\u001b[0m \u001b[0;34m+\u001b[0m \u001b[0mnode\u001b[0m\u001b[0;34m.\u001b[0m\u001b[0m__class__\u001b[0m\u001b[0;34m.\u001b[0m\u001b[0m__name__\u001b[0m\u001b[0;34m\u001b[0m\u001b[0;34m\u001b[0m\u001b[0m\n\u001b[1;32m    261\u001b[0m         \u001b[0mvisitor\u001b[0m \u001b[0;34m=\u001b[0m \u001b[0mgetattr\u001b[0m\u001b[0;34m(\u001b[0m\u001b[0mself\u001b[0m\u001b[0;34m,\u001b[0m \u001b[0mmethod\u001b[0m\u001b[0;34m,\u001b[0m \u001b[0mself\u001b[0m\u001b[0;34m.\u001b[0m\u001b[0mgeneric_visit\u001b[0m\u001b[0;34m)\u001b[0m\u001b[0;34m\u001b[0m\u001b[0;34m\u001b[0m\u001b[0m\n\u001b[0;32m--> 262\u001b[0;31m         \u001b[0;32mreturn\u001b[0m \u001b[0mvisitor\u001b[0m\u001b[0;34m(\u001b[0m\u001b[0mnode\u001b[0m\u001b[0;34m)\u001b[0m\u001b[0;34m\u001b[0m\u001b[0;34m\u001b[0m\u001b[0m\n\u001b[0m\u001b[1;32m    263\u001b[0m \u001b[0;34m\u001b[0m\u001b[0m\n\u001b[1;32m    264\u001b[0m     \u001b[0;32mdef\u001b[0m \u001b[0mgeneric_visit\u001b[0m\u001b[0;34m(\u001b[0m\u001b[0mself\u001b[0m\u001b[0;34m,\u001b[0m \u001b[0mnode\u001b[0m\u001b[0;34m)\u001b[0m\u001b[0;34m:\u001b[0m\u001b[0;34m\u001b[0m\u001b[0;34m\u001b[0m\u001b[0m\n",
      "\u001b[0;32m~/anaconda3/envs/m/lib/python3.7/ast.py\u001b[0m in \u001b[0;36mgeneric_visit\u001b[0;34m(self, node)\u001b[0m\n\u001b[1;32m    310\u001b[0m \u001b[0;34m\u001b[0m\u001b[0m\n\u001b[1;32m    311\u001b[0m     \u001b[0;32mdef\u001b[0m \u001b[0mgeneric_visit\u001b[0m\u001b[0;34m(\u001b[0m\u001b[0mself\u001b[0m\u001b[0;34m,\u001b[0m \u001b[0mnode\u001b[0m\u001b[0;34m)\u001b[0m\u001b[0;34m:\u001b[0m\u001b[0;34m\u001b[0m\u001b[0;34m\u001b[0m\u001b[0m\n\u001b[0;32m--> 312\u001b[0;31m         \u001b[0;32mfor\u001b[0m \u001b[0mfield\u001b[0m\u001b[0;34m,\u001b[0m \u001b[0mold_value\u001b[0m \u001b[0;32min\u001b[0m \u001b[0miter_fields\u001b[0m\u001b[0;34m(\u001b[0m\u001b[0mnode\u001b[0m\u001b[0;34m)\u001b[0m\u001b[0;34m:\u001b[0m\u001b[0;34m\u001b[0m\u001b[0;34m\u001b[0m\u001b[0m\n\u001b[0m\u001b[1;32m    313\u001b[0m             \u001b[0;32mif\u001b[0m \u001b[0misinstance\u001b[0m\u001b[0;34m(\u001b[0m\u001b[0mold_value\u001b[0m\u001b[0;34m,\u001b[0m \u001b[0mlist\u001b[0m\u001b[0;34m)\u001b[0m\u001b[0;34m:\u001b[0m\u001b[0;34m\u001b[0m\u001b[0;34m\u001b[0m\u001b[0m\n\u001b[1;32m    314\u001b[0m                 \u001b[0mnew_values\u001b[0m \u001b[0;34m=\u001b[0m \u001b[0;34m[\u001b[0m\u001b[0;34m]\u001b[0m\u001b[0;34m\u001b[0m\u001b[0;34m\u001b[0m\u001b[0m\n",
      "\u001b[0;32m~/anaconda3/envs/m/lib/python3.7/ast.py\u001b[0m in \u001b[0;36miter_fields\u001b[0;34m(node)\u001b[0m\n\u001b[1;32m    175\u001b[0m     \u001b[0mthat\u001b[0m \u001b[0;32mis\u001b[0m \u001b[0mpresent\u001b[0m \u001b[0mon\u001b[0m \u001b[0;34m*\u001b[0m\u001b[0mnode\u001b[0m\u001b[0;34m*\u001b[0m\u001b[0;34m.\u001b[0m\u001b[0;34m\u001b[0m\u001b[0;34m\u001b[0m\u001b[0m\n\u001b[1;32m    176\u001b[0m     \"\"\"\n\u001b[0;32m--> 177\u001b[0;31m     \u001b[0;32mfor\u001b[0m \u001b[0mfield\u001b[0m \u001b[0;32min\u001b[0m \u001b[0mnode\u001b[0m\u001b[0;34m.\u001b[0m\u001b[0m_fields\u001b[0m\u001b[0;34m:\u001b[0m\u001b[0;34m\u001b[0m\u001b[0;34m\u001b[0m\u001b[0m\n\u001b[0m\u001b[1;32m    178\u001b[0m         \u001b[0;32mtry\u001b[0m\u001b[0;34m:\u001b[0m\u001b[0;34m\u001b[0m\u001b[0;34m\u001b[0m\u001b[0m\n\u001b[1;32m    179\u001b[0m             \u001b[0;32myield\u001b[0m \u001b[0mfield\u001b[0m\u001b[0;34m,\u001b[0m \u001b[0mgetattr\u001b[0m\u001b[0;34m(\u001b[0m\u001b[0mnode\u001b[0m\u001b[0;34m,\u001b[0m \u001b[0mfield\u001b[0m\u001b[0;34m)\u001b[0m\u001b[0;34m\u001b[0m\u001b[0;34m\u001b[0m\u001b[0m\n",
      "\u001b[0;31mAttributeError\u001b[0m: 'str' object has no attribute '_fields'"
     ]
    }
   ],
   "source": [
    "run_trials()"
   ]
  },
  {
   "cell_type": "code",
   "execution_count": null,
   "metadata": {},
   "outputs": [],
   "source": []
  }
 ],
 "metadata": {
  "kernelspec": {
   "display_name": "Python 3",
   "language": "python",
   "name": "python3"
  },
  "language_info": {
   "codemirror_mode": {
    "name": "ipython",
    "version": 3
   },
   "file_extension": ".py",
   "mimetype": "text/x-python",
   "name": "python",
   "nbconvert_exporter": "python",
   "pygments_lexer": "ipython3",
   "version": "3.7.1"
  }
 },
 "nbformat": 4,
 "nbformat_minor": 2
}
