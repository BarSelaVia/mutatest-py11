{
 "cells": [
  {
   "cell_type": "code",
   "execution_count": 1,
   "metadata": {},
   "outputs": [],
   "source": [
    "from mutation.controller import run_trials"
   ]
  },
  {
   "cell_type": "code",
   "execution_count": 2,
   "metadata": {},
   "outputs": [
    {
     "name": "stdout",
     "output_type": "stream",
     "text": [
      "Removing: /home/zassoc/Github/m/firstmodule/__pycache__/__init__.cpython-37.pyc\n",
      "Removing: /home/zassoc/Github/m/firstmodule/__pycache__/test_run.cpython-37.pyc\n",
      "Removing: /home/zassoc/Github/m/firstmodule/__pycache__/test_run.cpython-37-PYTEST.pyc\n",
      "Removing: /home/zassoc/Github/m/firstmodule/__pycache__/run.cpython-37.pyc\n",
      "Removing: /home/zassoc/Github/m/firstmodule/__pycache__/__init__.cpython-37.pyc\n",
      "Removing: /home/zassoc/Github/m/firstmodule/__pycache__/test_run.cpython-37.pyc\n",
      "Removing: /home/zassoc/Github/m/firstmodule/__pycache__/test_run.cpython-37-PYTEST.pyc\n",
      "Removing: /home/zassoc/Github/m/firstmodule/__pycache__/run.cpython-37.pyc\n",
      "Mutation failures: 1\n"
     ]
    }
   ],
   "source": [
    "run_trials()"
   ]
  },
  {
   "cell_type": "code",
   "execution_count": null,
   "metadata": {},
   "outputs": [],
   "source": []
  }
 ],
 "metadata": {
  "kernelspec": {
   "display_name": "Python 3",
   "language": "python",
   "name": "python3"
  },
  "language_info": {
   "codemirror_mode": {
    "name": "ipython",
    "version": 3
   },
   "file_extension": ".py",
   "mimetype": "text/x-python",
   "name": "python",
   "nbconvert_exporter": "python",
   "pygments_lexer": "ipython3",
   "version": "3.7.1"
  }
 },
 "nbformat": 4,
 "nbformat_minor": 2
}
