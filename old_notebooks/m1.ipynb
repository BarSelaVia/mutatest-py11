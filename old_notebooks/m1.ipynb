{
 "cells": [
  {
   "cell_type": "code",
   "execution_count": 91,
   "metadata": {},
   "outputs": [],
   "source": [
    "import ast"
   ]
  },
  {
   "cell_type": "code",
   "execution_count": 33,
   "metadata": {},
   "outputs": [],
   "source": [
    "cmd = \"\"\"\n",
    "def myfunc(a):\n",
    "    print('hello', a)\n",
    "    \n",
    "def otherfunc(b):\n",
    "    return b + 10\n",
    "    \n",
    "myfunc('there')\n",
    "print(otherfunc(10))\n",
    "\"\"\""
   ]
  },
  {
   "cell_type": "code",
   "execution_count": 34,
   "metadata": {},
   "outputs": [],
   "source": [
    "tree = ast.parse(cmd)"
   ]
  },
  {
   "cell_type": "code",
   "execution_count": 35,
   "metadata": {},
   "outputs": [
    {
     "data": {
      "text/plain": [
       "<_ast.Module at 0x7f0577fb17f0>"
      ]
     },
     "execution_count": 35,
     "metadata": {},
     "output_type": "execute_result"
    }
   ],
   "source": [
    "tree"
   ]
  },
  {
   "cell_type": "code",
   "execution_count": 36,
   "metadata": {},
   "outputs": [
    {
     "name": "stdout",
     "output_type": "stream",
     "text": [
      "hello there\n",
      "20\n"
     ]
    }
   ],
   "source": [
    "exec(compile(tree, filename=\"<ast>\", mode=\"exec\"))"
   ]
  },
  {
   "cell_type": "code",
   "execution_count": 37,
   "metadata": {},
   "outputs": [
    {
     "data": {
      "text/plain": [
       "('body',)"
      ]
     },
     "execution_count": 37,
     "metadata": {},
     "output_type": "execute_result"
    }
   ],
   "source": [
    "tree._fields"
   ]
  },
  {
   "cell_type": "code",
   "execution_count": 38,
   "metadata": {},
   "outputs": [
    {
     "data": {
      "text/plain": [
       "()"
      ]
     },
     "execution_count": 38,
     "metadata": {},
     "output_type": "execute_result"
    }
   ],
   "source": [
    "tree._attributes"
   ]
  },
  {
   "cell_type": "code",
   "execution_count": 39,
   "metadata": {},
   "outputs": [
    {
     "data": {
      "text/plain": [
       "<_ast.Module at 0x7f0577fb17f0>"
      ]
     },
     "execution_count": 39,
     "metadata": {},
     "output_type": "execute_result"
    }
   ],
   "source": [
    "tree"
   ]
  },
  {
   "cell_type": "code",
   "execution_count": 40,
   "metadata": {},
   "outputs": [
    {
     "name": "stdout",
     "output_type": "stream",
     "text": [
      "myfunc\n",
      "otherfunc\n"
     ]
    }
   ],
   "source": [
    "class FuncLister(ast.NodeVisitor):\n",
    "    def visit_FunctionDef(self, node):\n",
    "        print(node.name)\n",
    "        self.generic_visit(node)\n",
    "\n",
    "FuncLister().visit(tree)"
   ]
  },
  {
   "cell_type": "code",
   "execution_count": 46,
   "metadata": {
    "scrolled": true
   },
   "outputs": [
    {
     "name": "stdout",
     "output_type": "stream",
     "text": [
      "Module(body=[FunctionDef(name='myfunc', args=arguments(args=[arg(arg='a', annotation=None)], vararg=None, kwonlyargs=[], kw_defaults=[], kwarg=None, defaults=[]), body=[Expr(value=Call(func=Name(id='print', ctx=Load()), args=[Str(s='hello'), Name(id='a', ctx=Load())], keywords=[]))], decorator_list=[], returns=None), FunctionDef(name='otherfunc', args=arguments(args=[arg(arg='b', annotation=None)], vararg=None, kwonlyargs=[], kw_defaults=[], kwarg=None, defaults=[]), body=[Return(value=BinOp(left=Name(id='b', ctx=Load()), op=Add(), right=Num(n=10)))], decorator_list=[], returns=None), Expr(value=Call(func=Name(id='myfunc', ctx=Load()), args=[Str(s='there')], keywords=[])), Expr(value=Call(func=Name(id='print', ctx=Load()), args=[Call(func=Name(id='otherfunc', ctx=Load()), args=[Num(n=10)], keywords=[])], keywords=[]))])\n",
      "\n",
      "\n",
      "FunctionDef(name='myfunc', args=arguments(args=[arg(arg='a', annotation=None)], vararg=None, kwonlyargs=[], kw_defaults=[], kwarg=None, defaults=[]), body=[Expr(value=Call(func=Name(id='print', ctx=Load()), args=[Str(s='hello'), Name(id='a', ctx=Load())], keywords=[]))], decorator_list=[], returns=None)\n",
      "\n",
      "\n",
      "FunctionDef(name='otherfunc', args=arguments(args=[arg(arg='b', annotation=None)], vararg=None, kwonlyargs=[], kw_defaults=[], kwarg=None, defaults=[]), body=[Return(value=BinOp(left=Name(id='b', ctx=Load()), op=Add(), right=Num(n=10)))], decorator_list=[], returns=None)\n",
      "\n",
      "\n",
      "Expr(value=Call(func=Name(id='myfunc', ctx=Load()), args=[Str(s='there')], keywords=[]))\n",
      "\n",
      "\n",
      "Expr(value=Call(func=Name(id='print', ctx=Load()), args=[Call(func=Name(id='otherfunc', ctx=Load()), args=[Num(n=10)], keywords=[])], keywords=[]))\n",
      "\n",
      "\n",
      "arguments(args=[arg(arg='a', annotation=None)], vararg=None, kwonlyargs=[], kw_defaults=[], kwarg=None, defaults=[])\n",
      "\n",
      "\n",
      "Expr(value=Call(func=Name(id='print', ctx=Load()), args=[Str(s='hello'), Name(id='a', ctx=Load())], keywords=[]))\n",
      "\n",
      "\n",
      "arguments(args=[arg(arg='b', annotation=None)], vararg=None, kwonlyargs=[], kw_defaults=[], kwarg=None, defaults=[])\n",
      "\n",
      "\n",
      "Return(value=BinOp(left=Name(id='b', ctx=Load()), op=Add(), right=Num(n=10)))\n",
      "\n",
      "\n",
      "Call(func=Name(id='myfunc', ctx=Load()), args=[Str(s='there')], keywords=[])\n",
      "\n",
      "\n",
      "Call(func=Name(id='print', ctx=Load()), args=[Call(func=Name(id='otherfunc', ctx=Load()), args=[Num(n=10)], keywords=[])], keywords=[])\n",
      "\n",
      "\n",
      "arg(arg='a', annotation=None)\n",
      "\n",
      "\n",
      "Call(func=Name(id='print', ctx=Load()), args=[Str(s='hello'), Name(id='a', ctx=Load())], keywords=[])\n",
      "\n",
      "\n",
      "arg(arg='b', annotation=None)\n",
      "\n",
      "\n",
      "BinOp(left=Name(id='b', ctx=Load()), op=Add(), right=Num(n=10))\n",
      "\n",
      "\n",
      "Name(id='myfunc', ctx=Load())\n",
      "\n",
      "\n",
      "Str(s='there')\n",
      "\n",
      "\n",
      "Name(id='print', ctx=Load())\n",
      "\n",
      "\n",
      "Call(func=Name(id='otherfunc', ctx=Load()), args=[Num(n=10)], keywords=[])\n",
      "\n",
      "\n",
      "Name(id='print', ctx=Load())\n",
      "\n",
      "\n",
      "Str(s='hello')\n",
      "\n",
      "\n",
      "Name(id='a', ctx=Load())\n",
      "\n",
      "\n",
      "Name(id='b', ctx=Load())\n",
      "\n",
      "\n",
      "Add()\n",
      "\n",
      "\n",
      "Num(n=10)\n",
      "\n",
      "\n",
      "Load()\n",
      "\n",
      "\n",
      "Load()\n",
      "\n",
      "\n",
      "Name(id='otherfunc', ctx=Load())\n",
      "\n",
      "\n",
      "Num(n=10)\n",
      "\n",
      "\n",
      "Load()\n",
      "\n",
      "\n",
      "Load()\n",
      "\n",
      "\n",
      "Load()\n",
      "\n",
      "\n",
      "Load()\n",
      "\n",
      "\n"
     ]
    }
   ],
   "source": [
    "for node in ast.walk(tree):\n",
    "    print(ast.dump(node) + \"\\n\\n\")"
   ]
  },
  {
   "cell_type": "code",
   "execution_count": 48,
   "metadata": {
    "scrolled": true
   },
   "outputs": [
    {
     "name": "stdout",
     "output_type": "stream",
     "text": [
      "BinOp(left=Name(id='b', ctx=Load()), op=Add(), right=Num(n=10))\n",
      "\n",
      "\n"
     ]
    }
   ],
   "source": [
    "x = None\n",
    "for node in ast.walk(tree):\n",
    "    if isinstance(node, ast.BinOp):\n",
    "        print(ast.dump(node) + \"\\n\\n\")\n",
    "        x = node"
   ]
  },
  {
   "cell_type": "code",
   "execution_count": 52,
   "metadata": {},
   "outputs": [
    {
     "data": {
      "text/plain": [
       "('lineno', 'col_offset')"
      ]
     },
     "execution_count": 52,
     "metadata": {},
     "output_type": "execute_result"
    }
   ],
   "source": [
    "x._attributes"
   ]
  },
  {
   "cell_type": "code",
   "execution_count": 57,
   "metadata": {},
   "outputs": [
    {
     "name": "stdout",
     "output_type": "stream",
     "text": [
      "Help on BinOp in module _ast object:\n",
      "\n",
      "class BinOp(expr)\n",
      " |  Method resolution order:\n",
      " |      BinOp\n",
      " |      expr\n",
      " |      AST\n",
      " |      builtins.object\n",
      " |  \n",
      " |  Data and other attributes defined here:\n",
      " |  \n",
      " |  _fields = ('left', 'op', 'right')\n",
      " |  \n",
      " |  ----------------------------------------------------------------------\n",
      " |  Data descriptors inherited from expr:\n",
      " |  \n",
      " |  __weakref__\n",
      " |      list of weak references to the object (if defined)\n",
      " |  \n",
      " |  ----------------------------------------------------------------------\n",
      " |  Data and other attributes inherited from expr:\n",
      " |  \n",
      " |  _attributes = ('lineno', 'col_offset')\n",
      " |  \n",
      " |  ----------------------------------------------------------------------\n",
      " |  Methods inherited from AST:\n",
      " |  \n",
      " |  __delattr__(self, name, /)\n",
      " |      Implement delattr(self, name).\n",
      " |  \n",
      " |  __getattribute__(self, name, /)\n",
      " |      Return getattr(self, name).\n",
      " |  \n",
      " |  __init__(self, /, *args, **kwargs)\n",
      " |      Initialize self.  See help(type(self)) for accurate signature.\n",
      " |  \n",
      " |  __reduce__(...)\n",
      " |      Helper for pickle.\n",
      " |  \n",
      " |  __setattr__(self, name, value, /)\n",
      " |      Implement setattr(self, name, value).\n",
      " |  \n",
      " |  ----------------------------------------------------------------------\n",
      " |  Static methods inherited from AST:\n",
      " |  \n",
      " |  __new__(*args, **kwargs) from builtins.type\n",
      " |      Create and return a new object.  See help(type) for accurate signature.\n",
      " |  \n",
      " |  ----------------------------------------------------------------------\n",
      " |  Data descriptors inherited from AST:\n",
      " |  \n",
      " |  __dict__\n",
      "\n"
     ]
    }
   ],
   "source": [
    "help(x)"
   ]
  },
  {
   "cell_type": "code",
   "execution_count": 58,
   "metadata": {},
   "outputs": [
    {
     "data": {
      "text/plain": [
       "{'left': <_ast.Name at 0x7f0577fb19e8>,\n",
       " 'op': <_ast.Add at 0x7f0593478780>,\n",
       " 'right': <_ast.Num at 0x7f0577fb1a20>,\n",
       " 'lineno': 6,\n",
       " 'col_offset': 11}"
      ]
     },
     "execution_count": 58,
     "metadata": {},
     "output_type": "execute_result"
    }
   ],
   "source": [
    "x.__dict__"
   ]
  },
  {
   "cell_type": "code",
   "execution_count": 59,
   "metadata": {},
   "outputs": [
    {
     "data": {
      "text/plain": [
       "6"
      ]
     },
     "execution_count": 59,
     "metadata": {},
     "output_type": "execute_result"
    }
   ],
   "source": [
    "x.lineno"
   ]
  },
  {
   "cell_type": "code",
   "execution_count": 60,
   "metadata": {},
   "outputs": [
    {
     "data": {
      "text/plain": [
       "11"
      ]
     },
     "execution_count": 60,
     "metadata": {},
     "output_type": "execute_result"
    }
   ],
   "source": [
    "x.col_offset"
   ]
  },
  {
   "cell_type": "code",
   "execution_count": 65,
   "metadata": {},
   "outputs": [
    {
     "data": {
      "text/plain": [
       "'b'"
      ]
     },
     "execution_count": 65,
     "metadata": {},
     "output_type": "execute_result"
    }
   ],
   "source": [
    "x.left.id"
   ]
  },
  {
   "cell_type": "code",
   "execution_count": 66,
   "metadata": {},
   "outputs": [
    {
     "data": {
      "text/plain": [
       "<_ast.Add at 0x7f0593478780>"
      ]
     },
     "execution_count": 66,
     "metadata": {},
     "output_type": "execute_result"
    }
   ],
   "source": [
    "x.op"
   ]
  },
  {
   "cell_type": "code",
   "execution_count": 67,
   "metadata": {},
   "outputs": [
    {
     "data": {
      "text/plain": [
       "True"
      ]
     },
     "execution_count": 67,
     "metadata": {},
     "output_type": "execute_result"
    }
   ],
   "source": [
    "isinstance(x.op, ast.Add)"
   ]
  },
  {
   "cell_type": "code",
   "execution_count": 72,
   "metadata": {},
   "outputs": [],
   "source": [
    "n1 = ast.BinOp(left=ast.Name(id='b', ctx=ast.Load()),\n",
    "               op=ast.Add(), right=ast.Num(n=10))"
   ]
  },
  {
   "cell_type": "code",
   "execution_count": 73,
   "metadata": {},
   "outputs": [
    {
     "data": {
      "text/plain": [
       "<_ast.BinOp at 0x7f0577f40908>"
      ]
     },
     "execution_count": 73,
     "metadata": {},
     "output_type": "execute_result"
    }
   ],
   "source": [
    "n1"
   ]
  },
  {
   "cell_type": "code",
   "execution_count": 74,
   "metadata": {},
   "outputs": [
    {
     "data": {
      "text/plain": [
       "<_ast.BinOp at 0x7f0577fb19b0>"
      ]
     },
     "execution_count": 74,
     "metadata": {},
     "output_type": "execute_result"
    }
   ],
   "source": [
    "x"
   ]
  },
  {
   "cell_type": "code",
   "execution_count": 82,
   "metadata": {},
   "outputs": [
    {
     "data": {
      "text/plain": [
       "{'left': <_ast.Name at 0x7f0577fb19e8>,\n",
       " 'op': <_ast.Add at 0x7f0593478780>,\n",
       " 'right': <_ast.Num at 0x7f0577fb1a20>,\n",
       " 'lineno': 6,\n",
       " 'col_offset': 11}"
      ]
     },
     "execution_count": 82,
     "metadata": {},
     "output_type": "execute_result"
    }
   ],
   "source": [
    "x.__dict__"
   ]
  },
  {
   "cell_type": "code",
   "execution_count": 83,
   "metadata": {},
   "outputs": [],
   "source": [
    "class RewriteAddSub(ast.NodeTransformer):\n",
    "\n",
    "    def visit_BinOp(self, node):\n",
    "        return ast.copy_location(\n",
    "            ast.BinOp(left=node.left,\n",
    "                      op=ast.Sub(),\n",
    "                      right=node.right),\n",
    "            node)\n"
   ]
  },
  {
   "cell_type": "code",
   "execution_count": 84,
   "metadata": {},
   "outputs": [],
   "source": [
    "tree2 = RewriteAddSub().visit(tree)"
   ]
  },
  {
   "cell_type": "code",
   "execution_count": 86,
   "metadata": {},
   "outputs": [
    {
     "data": {
      "text/plain": [
       "<_ast.Module at 0x7f0577fb17f0>"
      ]
     },
     "execution_count": 86,
     "metadata": {},
     "output_type": "execute_result"
    }
   ],
   "source": [
    "tree2"
   ]
  },
  {
   "cell_type": "code",
   "execution_count": 88,
   "metadata": {},
   "outputs": [
    {
     "data": {
      "text/plain": [
       "\"Module(body=[FunctionDef(name='myfunc', args=arguments(args=[arg(arg='a', annotation=None)], vararg=None, kwonlyargs=[], kw_defaults=[], kwarg=None, defaults=[]), body=[Expr(value=Call(func=Name(id='print', ctx=Load()), args=[Str(s='hello'), Name(id='a', ctx=Load())], keywords=[]))], decorator_list=[], returns=None), FunctionDef(name='otherfunc', args=arguments(args=[arg(arg='b', annotation=None)], vararg=None, kwonlyargs=[], kw_defaults=[], kwarg=None, defaults=[]), body=[Return(value=BinOp(left=Name(id='b', ctx=Load()), op=Sub(), right=Num(n=10)))], decorator_list=[], returns=None), Expr(value=Call(func=Name(id='myfunc', ctx=Load()), args=[Str(s='there')], keywords=[])), Expr(value=Call(func=Name(id='print', ctx=Load()), args=[Call(func=Name(id='otherfunc', ctx=Load()), args=[Num(n=10)], keywords=[])], keywords=[]))])\""
      ]
     },
     "execution_count": 88,
     "metadata": {},
     "output_type": "execute_result"
    }
   ],
   "source": [
    "ast.dump(tree2)"
   ]
  },
  {
   "cell_type": "code",
   "execution_count": 89,
   "metadata": {},
   "outputs": [
    {
     "name": "stdout",
     "output_type": "stream",
     "text": [
      "hello there\n",
      "0\n"
     ]
    }
   ],
   "source": [
    "exec(compile(tree2, filename=\"<ast>\", mode=\"exec\"))"
   ]
  },
  {
   "cell_type": "code",
   "execution_count": null,
   "metadata": {},
   "outputs": [],
   "source": []
  }
 ],
 "metadata": {
  "kernelspec": {
   "display_name": "Python 3",
   "language": "python",
   "name": "python3"
  },
  "language_info": {
   "codemirror_mode": {
    "name": "ipython",
    "version": 3
   },
   "file_extension": ".py",
   "mimetype": "text/x-python",
   "name": "python",
   "nbconvert_exporter": "python",
   "pygments_lexer": "ipython3",
   "version": "3.7.1"
  }
 },
 "nbformat": 4,
 "nbformat_minor": 2
}
