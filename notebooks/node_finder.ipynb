{
 "cells": [
  {
   "cell_type": "code",
   "execution_count": 103,
   "metadata": {},
   "outputs": [],
   "source": [
    "from mutatest import (\n",
    "    maker,\n",
    "    controller,\n",
    "    transformers,\n",
    "    cache\n",
    ")\n",
    "from mutatest._devtools import NodeLister\n",
    "from pathlib import Path\n",
    "import ast"
   ]
  },
  {
   "cell_type": "code",
   "execution_count": 104,
   "metadata": {},
   "outputs": [],
   "source": [
    "f = Path(\"simple_boolops/andor/run.py\")"
   ]
  },
  {
   "cell_type": "code",
   "execution_count": 105,
   "metadata": {},
   "outputs": [],
   "source": [
    "tree = transformers.get_ast_from_src(f)"
   ]
  },
  {
   "cell_type": "code",
   "execution_count": 106,
   "metadata": {},
   "outputs": [
    {
     "data": {
      "text/plain": [
       "\"Module(body=[Expr(value=Str(s='Simple And/Or.\\\\n')), FunctionDef(name='simple_and', args=arguments(args=[arg(arg='a', annotation=None), arg(arg='b', annotation=None)], vararg=None, kwonlyargs=[], kw_defaults=[], kwarg=None, defaults=[]), body=[Return(value=BoolOp(op=And(), values=[Name(id='a', ctx=Load()), Name(id='b', ctx=Load())]))], decorator_list=[], returns=None), FunctionDef(name='simple_bitshift', args=arguments(args=[], vararg=None, kwonlyargs=[], kw_defaults=[], kwarg=None, defaults=[]), body=[Return(value=BinOp(left=Num(n=1), op=LShift(), right=Num(n=2)))], decorator_list=[], returns=None), Expr(value=Call(func=Name(id='print', ctx=Load()), args=[Call(func=Name(id='simple_and', ctx=Load()), args=[NameConstant(value=True), NameConstant(value=True)], keywords=[])], keywords=[]))])\""
      ]
     },
     "execution_count": 106,
     "metadata": {},
     "output_type": "execute_result"
    }
   ],
   "source": [
    "ast.dump(tree)"
   ]
  },
  {
   "cell_type": "code",
   "execution_count": 107,
   "metadata": {
    "scrolled": true
   },
   "outputs": [
    {
     "data": {
      "text/plain": [
       "[<_ast.Expr at 0x7fcf58330d30>,\n",
       " <_ast.FunctionDef at 0x7fcf58330cc0>,\n",
       " <_ast.FunctionDef at 0x7fcf583380f0>,\n",
       " <_ast.Expr at 0x7fcf58338240>]"
      ]
     },
     "execution_count": 107,
     "metadata": {},
     "output_type": "execute_result"
    }
   ],
   "source": [
    "tree.body"
   ]
  },
  {
   "cell_type": "code",
   "execution_count": 108,
   "metadata": {},
   "outputs": [
    {
     "name": "stdout",
     "output_type": "stream",
     "text": [
      "Function: simple_and\n",
      "FunctionDef(name='simple_and', args=arguments(args=[arg(arg='a', annotation=None), arg(arg='b', annotation=None)], vararg=None, kwonlyargs=[], kw_defaults=[], kwarg=None, defaults=[]), body=[Return(value=BoolOp(op=And(), values=[Name(id='a', ctx=Load()), Name(id='b', ctx=Load())]))], decorator_list=[], returns=None)\n",
      "Bool: <_ast.BoolOp object at 0x7fcf58338048>\n",
      "BoolOp(op=And(), values=[Name(id='a', ctx=Load()), Name(id='b', ctx=Load())])\n",
      "Function: simple_bitshift\n",
      "FunctionDef(name='simple_bitshift', args=arguments(args=[], vararg=None, kwonlyargs=[], kw_defaults=[], kwarg=None, defaults=[]), body=[Return(value=BinOp(left=Num(n=1), op=LShift(), right=Num(n=2)))], decorator_list=[], returns=None)\n",
      "BinOP: <_ast.BinOp object at 0x7fcf58338198>\n",
      "BinOp(left=Num(n=1), op=LShift(), right=Num(n=2))\n"
     ]
    }
   ],
   "source": [
    "NodeLister().visit(tree)"
   ]
  },
  {
   "cell_type": "code",
   "execution_count": null,
   "metadata": {},
   "outputs": [],
   "source": []
  }
 ],
 "metadata": {
  "kernelspec": {
   "display_name": "Python 3",
   "language": "python",
   "name": "python3"
  },
  "language_info": {
   "codemirror_mode": {
    "name": "ipython",
    "version": 3
   },
   "file_extension": ".py",
   "mimetype": "text/x-python",
   "name": "python",
   "nbconvert_exporter": "python",
   "pygments_lexer": "ipython3",
   "version": "3.7.1"
  }
 },
 "nbformat": 4,
 "nbformat_minor": 2
}
