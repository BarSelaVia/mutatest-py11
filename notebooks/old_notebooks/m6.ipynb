{
 "cells": [
  {
   "cell_type": "code",
   "execution_count": 1,
   "metadata": {},
   "outputs": [],
   "source": [
    "from mutation import controller"
   ]
  },
  {
   "cell_type": "code",
   "execution_count": 2,
   "metadata": {
    "scrolled": false
   },
   "outputs": [
    {
     "name": "stdout",
     "output_type": "stream",
     "text": [
      "2018-12-27 13:56:52,503 - mutation.controller - INFO - Creating AST from: /home/zassoc/Github/m/firstmodule/__init__.py\n",
      "2018-12-27 13:56:52,504 - mutation.controller - INFO - Get mutation targets from AST.\n",
      "2018-12-27 13:56:52,505 - mutation.controller - INFO - Creating AST from: /home/zassoc/Github/m/firstmodule/run.py\n",
      "2018-12-27 13:56:52,506 - mutation.controller - INFO - Get mutation targets from AST.\n",
      "2018-12-27 13:56:52,506 - mutation.controller - INFO - LocIndex(ast_class='BinOp', lineno=6, col_offset=18, op_type=<class '_ast.Sub'>)\n",
      "2018-12-27 13:56:52,734 - mutation.controller - INFO - Test suite status: 1, on mutation: <class '_ast.Add'>\n",
      "2018-12-27 13:56:52,981 - mutation.controller - INFO - Test suite status: 1, on mutation: <class '_ast.Pow'>\n",
      "2018-12-27 13:56:53,203 - mutation.controller - INFO - Test suite status: 1, on mutation: <class '_ast.FloorDiv'>\n",
      "2018-12-27 13:56:53,429 - mutation.controller - INFO - Test suite status: 1, on mutation: <class '_ast.Mult'>\n",
      "2018-12-27 13:56:53,661 - mutation.controller - INFO - Test suite status: 1, on mutation: <class '_ast.Mod'>\n",
      "2018-12-27 13:56:53,882 - mutation.controller - INFO - Test suite status: 1, on mutation: <class '_ast.Div'>\n",
      "2018-12-27 13:56:53,883 - mutation.controller - INFO - LocIndex(ast_class='BinOp', lineno=6, col_offset=11, op_type=<class '_ast.Add'>)\n",
      "2018-12-27 13:56:54,109 - mutation.controller - INFO - Test suite status: 1, on mutation: <class '_ast.Pow'>\n",
      "2018-12-27 13:56:54,327 - mutation.controller - INFO - Test suite status: 1, on mutation: <class '_ast.FloorDiv'>\n",
      "2018-12-27 13:56:54,576 - mutation.controller - INFO - Test suite status: 1, on mutation: <class '_ast.Mult'>\n",
      "2018-12-27 13:56:54,807 - mutation.controller - INFO - Test suite status: 1, on mutation: <class '_ast.Mod'>\n",
      "2018-12-27 13:56:55,024 - mutation.controller - INFO - Test suite status: 1, on mutation: <class '_ast.Sub'>\n",
      "2018-12-27 13:56:55,243 - mutation.controller - INFO - Test suite status: 1, on mutation: <class '_ast.Div'>\n",
      "2018-12-27 13:56:55,244 - mutation.controller - INFO - LocIndex(ast_class='BinOp', lineno=15, col_offset=11, op_type=<class '_ast.Div'>)\n",
      "2018-12-27 13:56:55,454 - mutation.controller - INFO - Test suite status: 0, on mutation: <class '_ast.Add'>\n",
      "2018-12-27 13:56:55,656 - mutation.controller - INFO - Test suite status: 0, on mutation: <class '_ast.Pow'>\n",
      "2018-12-27 13:56:55,857 - mutation.controller - INFO - Test suite status: 0, on mutation: <class '_ast.FloorDiv'>\n",
      "2018-12-27 13:56:56,061 - mutation.controller - INFO - Test suite status: 0, on mutation: <class '_ast.Mult'>\n",
      "2018-12-27 13:56:56,264 - mutation.controller - INFO - Test suite status: 0, on mutation: <class '_ast.Mod'>\n",
      "2018-12-27 13:56:56,467 - mutation.controller - INFO - Test suite status: 0, on mutation: <class '_ast.Sub'>\n",
      "2018-12-27 13:56:56,468 - mutation.controller - INFO - LocIndex(ast_class='BinOp', lineno=10, col_offset=11, op_type=<class '_ast.Add'>)\n",
      "2018-12-27 13:56:56,689 - mutation.controller - INFO - Test suite status: 1, on mutation: <class '_ast.Pow'>\n",
      "2018-12-27 13:56:56,906 - mutation.controller - INFO - Test suite status: 1, on mutation: <class '_ast.FloorDiv'>\n",
      "2018-12-27 13:56:57,121 - mutation.controller - INFO - Test suite status: 1, on mutation: <class '_ast.Mult'>\n",
      "2018-12-27 13:56:57,343 - mutation.controller - INFO - Test suite status: 1, on mutation: <class '_ast.Mod'>\n",
      "2018-12-27 13:56:57,558 - mutation.controller - INFO - Test suite status: 1, on mutation: <class '_ast.Sub'>\n",
      "2018-12-27 13:56:57,780 - mutation.controller - INFO - Test suite status: 1, on mutation: <class '_ast.Div'>\n",
      "2018-12-27 13:56:57,994 - mutation.controller - INFO - Mutations Detected / Trials: 18 / 24\n",
      "2018-12-27 13:56:57,995 - mutation.controller - INFO - Mutations generating errors: 0\n",
      "2018-12-27 13:56:57,996 - mutation.controller - INFO - Surviving mutations: 6\n",
      "2018-12-27 13:56:57,996 - mutation.controller - INFO - Survivor:\n",
      "\tFile: /home/zassoc/Github/m/firstmodule/run.py\n",
      "\tIndex: LocIndex(ast_class='BinOp', lineno=15, col_offset=11, op_type=<class '_ast.Div'>)\n",
      "\tMutation: <class '_ast.Add'>\n",
      "2018-12-27 13:56:57,996 - mutation.controller - INFO - Survivor:\n",
      "\tFile: /home/zassoc/Github/m/firstmodule/run.py\n",
      "\tIndex: LocIndex(ast_class='BinOp', lineno=15, col_offset=11, op_type=<class '_ast.Div'>)\n",
      "\tMutation: <class '_ast.Pow'>\n",
      "2018-12-27 13:56:57,997 - mutation.controller - INFO - Survivor:\n",
      "\tFile: /home/zassoc/Github/m/firstmodule/run.py\n",
      "\tIndex: LocIndex(ast_class='BinOp', lineno=15, col_offset=11, op_type=<class '_ast.Div'>)\n",
      "\tMutation: <class '_ast.FloorDiv'>\n",
      "2018-12-27 13:56:57,997 - mutation.controller - INFO - Survivor:\n",
      "\tFile: /home/zassoc/Github/m/firstmodule/run.py\n",
      "\tIndex: LocIndex(ast_class='BinOp', lineno=15, col_offset=11, op_type=<class '_ast.Div'>)\n",
      "\tMutation: <class '_ast.Mult'>\n",
      "2018-12-27 13:56:57,998 - mutation.controller - INFO - Survivor:\n",
      "\tFile: /home/zassoc/Github/m/firstmodule/run.py\n",
      "\tIndex: LocIndex(ast_class='BinOp', lineno=15, col_offset=11, op_type=<class '_ast.Div'>)\n",
      "\tMutation: <class '_ast.Mod'>\n",
      "2018-12-27 13:56:57,998 - mutation.controller - INFO - Survivor:\n",
      "\tFile: /home/zassoc/Github/m/firstmodule/run.py\n",
      "\tIndex: LocIndex(ast_class='BinOp', lineno=15, col_offset=11, op_type=<class '_ast.Div'>)\n",
      "\tMutation: <class '_ast.Sub'>\n"
     ]
    }
   ],
   "source": [
    "mutants = controller.run_trials(pkg_dir=\"firstmodule\", test_cmds=[\"pytest\", \"-vv\"])"
   ]
  },
  {
   "cell_type": "code",
   "execution_count": 3,
   "metadata": {},
   "outputs": [
    {
     "name": "stdout",
     "output_type": "stream",
     "text": [
      "Mutant(mutant_code=<code object <module> at 0x7f183af60d20, file \"/home/zassoc/Github/m/firstmodule/run.py\", line 1>, src_file=PosixPath('/home/zassoc/Github/m/firstmodule/run.py'), cfile=PosixPath('/home/zassoc/Github/m/firstmodule/__pycache__/run.cpython-37.pyc'), loader=<_frozen_importlib_external.SourceFileLoader object at 0x7f183aefe8d0>, source_stats={'mtime': 1545937000.0097356, 'size': 234}, mode=33188, src_idx=LocIndex(ast_class='BinOp', lineno=6, col_offset=18, op_type=<class '_ast.Sub'>), mutation=<class '_ast.Add'>)\n",
      "\n",
      "Mutant(mutant_code=<code object <module> at 0x7f183af06030, file \"/home/zassoc/Github/m/firstmodule/run.py\", line 1>, src_file=PosixPath('/home/zassoc/Github/m/firstmodule/run.py'), cfile=PosixPath('/home/zassoc/Github/m/firstmodule/__pycache__/run.cpython-37.pyc'), loader=<_frozen_importlib_external.SourceFileLoader object at 0x7f183aefea58>, source_stats={'mtime': 1545937000.0097356, 'size': 234}, mode=33188, src_idx=LocIndex(ast_class='BinOp', lineno=6, col_offset=18, op_type=<class '_ast.Sub'>), mutation=<class '_ast.Pow'>)\n",
      "\n",
      "Mutant(mutant_code=<code object <module> at 0x7f183af06300, file \"/home/zassoc/Github/m/firstmodule/run.py\", line 1>, src_file=PosixPath('/home/zassoc/Github/m/firstmodule/run.py'), cfile=PosixPath('/home/zassoc/Github/m/firstmodule/__pycache__/run.cpython-37.pyc'), loader=<_frozen_importlib_external.SourceFileLoader object at 0x7f183aefe0f0>, source_stats={'mtime': 1545937000.0097356, 'size': 234}, mode=33188, src_idx=LocIndex(ast_class='BinOp', lineno=6, col_offset=18, op_type=<class '_ast.Sub'>), mutation=<class '_ast.FloorDiv'>)\n",
      "\n",
      "Mutant(mutant_code=<code object <module> at 0x7f183af065d0, file \"/home/zassoc/Github/m/firstmodule/run.py\", line 1>, src_file=PosixPath('/home/zassoc/Github/m/firstmodule/run.py'), cfile=PosixPath('/home/zassoc/Github/m/firstmodule/__pycache__/run.cpython-37.pyc'), loader=<_frozen_importlib_external.SourceFileLoader object at 0x7f183aefeeb8>, source_stats={'mtime': 1545937000.0097356, 'size': 234}, mode=33188, src_idx=LocIndex(ast_class='BinOp', lineno=6, col_offset=18, op_type=<class '_ast.Sub'>), mutation=<class '_ast.Mult'>)\n",
      "\n",
      "Mutant(mutant_code=<code object <module> at 0x7f183af068a0, file \"/home/zassoc/Github/m/firstmodule/run.py\", line 1>, src_file=PosixPath('/home/zassoc/Github/m/firstmodule/run.py'), cfile=PosixPath('/home/zassoc/Github/m/firstmodule/__pycache__/run.cpython-37.pyc'), loader=<_frozen_importlib_external.SourceFileLoader object at 0x7f183aefe0b8>, source_stats={'mtime': 1545937000.0097356, 'size': 234}, mode=33188, src_idx=LocIndex(ast_class='BinOp', lineno=6, col_offset=18, op_type=<class '_ast.Sub'>), mutation=<class '_ast.Mod'>)\n",
      "\n",
      "Mutant(mutant_code=<code object <module> at 0x7f183af06b70, file \"/home/zassoc/Github/m/firstmodule/run.py\", line 1>, src_file=PosixPath('/home/zassoc/Github/m/firstmodule/run.py'), cfile=PosixPath('/home/zassoc/Github/m/firstmodule/__pycache__/run.cpython-37.pyc'), loader=<_frozen_importlib_external.SourceFileLoader object at 0x7f183af0b278>, source_stats={'mtime': 1545937000.0097356, 'size': 234}, mode=33188, src_idx=LocIndex(ast_class='BinOp', lineno=6, col_offset=18, op_type=<class '_ast.Sub'>), mutation=<class '_ast.Div'>)\n",
      "\n",
      "Mutant(mutant_code=<code object <module> at 0x7f183af06e40, file \"/home/zassoc/Github/m/firstmodule/run.py\", line 1>, src_file=PosixPath('/home/zassoc/Github/m/firstmodule/run.py'), cfile=PosixPath('/home/zassoc/Github/m/firstmodule/__pycache__/run.cpython-37.pyc'), loader=<_frozen_importlib_external.SourceFileLoader object at 0x7f183af0b470>, source_stats={'mtime': 1545937000.0097356, 'size': 234}, mode=33188, src_idx=LocIndex(ast_class='BinOp', lineno=6, col_offset=11, op_type=<class '_ast.Add'>), mutation=<class '_ast.Pow'>)\n",
      "\n",
      "Mutant(mutant_code=<code object <module> at 0x7f183af07150, file \"/home/zassoc/Github/m/firstmodule/run.py\", line 1>, src_file=PosixPath('/home/zassoc/Github/m/firstmodule/run.py'), cfile=PosixPath('/home/zassoc/Github/m/firstmodule/__pycache__/run.cpython-37.pyc'), loader=<_frozen_importlib_external.SourceFileLoader object at 0x7f183af0b438>, source_stats={'mtime': 1545937000.0097356, 'size': 234}, mode=33188, src_idx=LocIndex(ast_class='BinOp', lineno=6, col_offset=11, op_type=<class '_ast.Add'>), mutation=<class '_ast.FloorDiv'>)\n",
      "\n",
      "Mutant(mutant_code=<code object <module> at 0x7f183af07420, file \"/home/zassoc/Github/m/firstmodule/run.py\", line 1>, src_file=PosixPath('/home/zassoc/Github/m/firstmodule/run.py'), cfile=PosixPath('/home/zassoc/Github/m/firstmodule/__pycache__/run.cpython-37.pyc'), loader=<_frozen_importlib_external.SourceFileLoader object at 0x7f183af0b7f0>, source_stats={'mtime': 1545937000.0097356, 'size': 234}, mode=33188, src_idx=LocIndex(ast_class='BinOp', lineno=6, col_offset=11, op_type=<class '_ast.Add'>), mutation=<class '_ast.Mult'>)\n",
      "\n",
      "Mutant(mutant_code=<code object <module> at 0x7f183af076f0, file \"/home/zassoc/Github/m/firstmodule/run.py\", line 1>, src_file=PosixPath('/home/zassoc/Github/m/firstmodule/run.py'), cfile=PosixPath('/home/zassoc/Github/m/firstmodule/__pycache__/run.cpython-37.pyc'), loader=<_frozen_importlib_external.SourceFileLoader object at 0x7f183af0b898>, source_stats={'mtime': 1545937000.0097356, 'size': 234}, mode=33188, src_idx=LocIndex(ast_class='BinOp', lineno=6, col_offset=11, op_type=<class '_ast.Add'>), mutation=<class '_ast.Mod'>)\n",
      "\n",
      "Mutant(mutant_code=<code object <module> at 0x7f183af079c0, file \"/home/zassoc/Github/m/firstmodule/run.py\", line 1>, src_file=PosixPath('/home/zassoc/Github/m/firstmodule/run.py'), cfile=PosixPath('/home/zassoc/Github/m/firstmodule/__pycache__/run.cpython-37.pyc'), loader=<_frozen_importlib_external.SourceFileLoader object at 0x7f183af0b940>, source_stats={'mtime': 1545937000.0097356, 'size': 234}, mode=33188, src_idx=LocIndex(ast_class='BinOp', lineno=6, col_offset=11, op_type=<class '_ast.Add'>), mutation=<class '_ast.Sub'>)\n",
      "\n",
      "Mutant(mutant_code=<code object <module> at 0x7f183af07c90, file \"/home/zassoc/Github/m/firstmodule/run.py\", line 1>, src_file=PosixPath('/home/zassoc/Github/m/firstmodule/run.py'), cfile=PosixPath('/home/zassoc/Github/m/firstmodule/__pycache__/run.cpython-37.pyc'), loader=<_frozen_importlib_external.SourceFileLoader object at 0x7f183af0bd30>, source_stats={'mtime': 1545937000.0097356, 'size': 234}, mode=33188, src_idx=LocIndex(ast_class='BinOp', lineno=6, col_offset=11, op_type=<class '_ast.Add'>), mutation=<class '_ast.Div'>)\n",
      "\n",
      "Mutant(mutant_code=<code object <module> at 0x7f183af07f60, file \"/home/zassoc/Github/m/firstmodule/run.py\", line 1>, src_file=PosixPath('/home/zassoc/Github/m/firstmodule/run.py'), cfile=PosixPath('/home/zassoc/Github/m/firstmodule/__pycache__/run.cpython-37.pyc'), loader=<_frozen_importlib_external.SourceFileLoader object at 0x7f183af0bef0>, source_stats={'mtime': 1545937000.0097356, 'size': 234}, mode=33188, src_idx=LocIndex(ast_class='BinOp', lineno=15, col_offset=11, op_type=<class '_ast.Div'>), mutation=<class '_ast.Add'>)\n",
      "\n",
      "Mutant(mutant_code=<code object <module> at 0x7f183af01270, file \"/home/zassoc/Github/m/firstmodule/run.py\", line 1>, src_file=PosixPath('/home/zassoc/Github/m/firstmodule/run.py'), cfile=PosixPath('/home/zassoc/Github/m/firstmodule/__pycache__/run.cpython-37.pyc'), loader=<_frozen_importlib_external.SourceFileLoader object at 0x7f183af0bf60>, source_stats={'mtime': 1545937000.0097356, 'size': 234}, mode=33188, src_idx=LocIndex(ast_class='BinOp', lineno=15, col_offset=11, op_type=<class '_ast.Div'>), mutation=<class '_ast.Pow'>)\n",
      "\n",
      "Mutant(mutant_code=<code object <module> at 0x7f183af01540, file \"/home/zassoc/Github/m/firstmodule/run.py\", line 1>, src_file=PosixPath('/home/zassoc/Github/m/firstmodule/run.py'), cfile=PosixPath('/home/zassoc/Github/m/firstmodule/__pycache__/run.cpython-37.pyc'), loader=<_frozen_importlib_external.SourceFileLoader object at 0x7f183af0e198>, source_stats={'mtime': 1545937000.0097356, 'size': 234}, mode=33188, src_idx=LocIndex(ast_class='BinOp', lineno=15, col_offset=11, op_type=<class '_ast.Div'>), mutation=<class '_ast.FloorDiv'>)\n",
      "\n",
      "Mutant(mutant_code=<code object <module> at 0x7f183af01810, file \"/home/zassoc/Github/m/firstmodule/run.py\", line 1>, src_file=PosixPath('/home/zassoc/Github/m/firstmodule/run.py'), cfile=PosixPath('/home/zassoc/Github/m/firstmodule/__pycache__/run.cpython-37.pyc'), loader=<_frozen_importlib_external.SourceFileLoader object at 0x7f183af0e438>, source_stats={'mtime': 1545937000.0097356, 'size': 234}, mode=33188, src_idx=LocIndex(ast_class='BinOp', lineno=15, col_offset=11, op_type=<class '_ast.Div'>), mutation=<class '_ast.Mult'>)\n",
      "\n",
      "Mutant(mutant_code=<code object <module> at 0x7f183af01ae0, file \"/home/zassoc/Github/m/firstmodule/run.py\", line 1>, src_file=PosixPath('/home/zassoc/Github/m/firstmodule/run.py'), cfile=PosixPath('/home/zassoc/Github/m/firstmodule/__pycache__/run.cpython-37.pyc'), loader=<_frozen_importlib_external.SourceFileLoader object at 0x7f183af0e4e0>, source_stats={'mtime': 1545937000.0097356, 'size': 234}, mode=33188, src_idx=LocIndex(ast_class='BinOp', lineno=15, col_offset=11, op_type=<class '_ast.Div'>), mutation=<class '_ast.Mod'>)\n",
      "\n",
      "Mutant(mutant_code=<code object <module> at 0x7f183af01db0, file \"/home/zassoc/Github/m/firstmodule/run.py\", line 1>, src_file=PosixPath('/home/zassoc/Github/m/firstmodule/run.py'), cfile=PosixPath('/home/zassoc/Github/m/firstmodule/__pycache__/run.cpython-37.pyc'), loader=<_frozen_importlib_external.SourceFileLoader object at 0x7f183af0e7b8>, source_stats={'mtime': 1545937000.0097356, 'size': 234}, mode=33188, src_idx=LocIndex(ast_class='BinOp', lineno=15, col_offset=11, op_type=<class '_ast.Div'>), mutation=<class '_ast.Sub'>)\n",
      "\n",
      "Mutant(mutant_code=<code object <module> at 0x7f183af130c0, file \"/home/zassoc/Github/m/firstmodule/run.py\", line 1>, src_file=PosixPath('/home/zassoc/Github/m/firstmodule/run.py'), cfile=PosixPath('/home/zassoc/Github/m/firstmodule/__pycache__/run.cpython-37.pyc'), loader=<_frozen_importlib_external.SourceFileLoader object at 0x7f183af0e7f0>, source_stats={'mtime': 1545937000.0097356, 'size': 234}, mode=33188, src_idx=LocIndex(ast_class='BinOp', lineno=10, col_offset=11, op_type=<class '_ast.Add'>), mutation=<class '_ast.Pow'>)\n",
      "\n",
      "Mutant(mutant_code=<code object <module> at 0x7f183af13390, file \"/home/zassoc/Github/m/firstmodule/run.py\", line 1>, src_file=PosixPath('/home/zassoc/Github/m/firstmodule/run.py'), cfile=PosixPath('/home/zassoc/Github/m/firstmodule/__pycache__/run.cpython-37.pyc'), loader=<_frozen_importlib_external.SourceFileLoader object at 0x7f183af0eb70>, source_stats={'mtime': 1545937000.0097356, 'size': 234}, mode=33188, src_idx=LocIndex(ast_class='BinOp', lineno=10, col_offset=11, op_type=<class '_ast.Add'>), mutation=<class '_ast.FloorDiv'>)\n",
      "\n",
      "Mutant(mutant_code=<code object <module> at 0x7f183af13660, file \"/home/zassoc/Github/m/firstmodule/run.py\", line 1>, src_file=PosixPath('/home/zassoc/Github/m/firstmodule/run.py'), cfile=PosixPath('/home/zassoc/Github/m/firstmodule/__pycache__/run.cpython-37.pyc'), loader=<_frozen_importlib_external.SourceFileLoader object at 0x7f183af0e898>, source_stats={'mtime': 1545937000.0097356, 'size': 234}, mode=33188, src_idx=LocIndex(ast_class='BinOp', lineno=10, col_offset=11, op_type=<class '_ast.Add'>), mutation=<class '_ast.Mult'>)\n",
      "\n",
      "Mutant(mutant_code=<code object <module> at 0x7f183af13930, file \"/home/zassoc/Github/m/firstmodule/run.py\", line 1>, src_file=PosixPath('/home/zassoc/Github/m/firstmodule/run.py'), cfile=PosixPath('/home/zassoc/Github/m/firstmodule/__pycache__/run.cpython-37.pyc'), loader=<_frozen_importlib_external.SourceFileLoader object at 0x7f183af0eda0>, source_stats={'mtime': 1545937000.0097356, 'size': 234}, mode=33188, src_idx=LocIndex(ast_class='BinOp', lineno=10, col_offset=11, op_type=<class '_ast.Add'>), mutation=<class '_ast.Mod'>)\n",
      "\n",
      "Mutant(mutant_code=<code object <module> at 0x7f183af13c00, file \"/home/zassoc/Github/m/firstmodule/run.py\", line 1>, src_file=PosixPath('/home/zassoc/Github/m/firstmodule/run.py'), cfile=PosixPath('/home/zassoc/Github/m/firstmodule/__pycache__/run.cpython-37.pyc'), loader=<_frozen_importlib_external.SourceFileLoader object at 0x7f183af0ecc0>, source_stats={'mtime': 1545937000.0097356, 'size': 234}, mode=33188, src_idx=LocIndex(ast_class='BinOp', lineno=10, col_offset=11, op_type=<class '_ast.Add'>), mutation=<class '_ast.Sub'>)\n",
      "\n",
      "Mutant(mutant_code=<code object <module> at 0x7f183af13ed0, file \"/home/zassoc/Github/m/firstmodule/run.py\", line 1>, src_file=PosixPath('/home/zassoc/Github/m/firstmodule/run.py'), cfile=PosixPath('/home/zassoc/Github/m/firstmodule/__pycache__/run.cpython-37.pyc'), loader=<_frozen_importlib_external.SourceFileLoader object at 0x7f183af0ee80>, source_stats={'mtime': 1545937000.0097356, 'size': 234}, mode=33188, src_idx=LocIndex(ast_class='BinOp', lineno=10, col_offset=11, op_type=<class '_ast.Add'>), mutation=<class '_ast.Div'>)\n"
     ]
    }
   ],
   "source": [
    "print(*mutants, sep=\"\\n\\n\")"
   ]
  },
  {
   "cell_type": "code",
   "execution_count": 4,
   "metadata": {},
   "outputs": [],
   "source": [
    "m = mutants[0]"
   ]
  },
  {
   "cell_type": "code",
   "execution_count": 5,
   "metadata": {},
   "outputs": [],
   "source": [
    "from pprint import pprint"
   ]
  },
  {
   "cell_type": "code",
   "execution_count": 6,
   "metadata": {},
   "outputs": [
    {
     "name": "stdout",
     "output_type": "stream",
     "text": [
      "Mutant(mutant_code=<code object <module> at 0x7f183af60d20, file \"/home/zassoc/Github/m/firstmodule/run.py\", line 1>, src_file=PosixPath('/home/zassoc/Github/m/firstmodule/run.py'), cfile=PosixPath('/home/zassoc/Github/m/firstmodule/__pycache__/run.cpython-37.pyc'), loader=<_frozen_importlib_external.SourceFileLoader object at 0x7f183aefe8d0>, source_stats={'mtime': 1545937000.0097356, 'size': 234}, mode=33188, src_idx=LocIndex(ast_class='BinOp', lineno=6, col_offset=18, op_type=<class '_ast.Sub'>), mutation=<class '_ast.Add'>)\n"
     ]
    }
   ],
   "source": [
    "pprint(m)"
   ]
  },
  {
   "cell_type": "code",
   "execution_count": 7,
   "metadata": {},
   "outputs": [
    {
     "data": {
      "text/plain": [
       "<code object <module> at 0x7f183af60d20, file \"/home/zassoc/Github/m/firstmodule/run.py\", line 1>"
      ]
     },
     "execution_count": 7,
     "metadata": {},
     "output_type": "execute_result"
    }
   ],
   "source": [
    "m.mutant_code"
   ]
  },
  {
   "cell_type": "code",
   "execution_count": 8,
   "metadata": {},
   "outputs": [
    {
     "data": {
      "text/plain": [
       "PosixPath('/home/zassoc/Github/m/firstmodule/run.py')"
      ]
     },
     "execution_count": 8,
     "metadata": {},
     "output_type": "execute_result"
    }
   ],
   "source": [
    "m.src_file"
   ]
  },
  {
   "cell_type": "code",
   "execution_count": 9,
   "metadata": {},
   "outputs": [
    {
     "data": {
      "text/plain": [
       "PosixPath('/home/zassoc/Github/m/firstmodule/__pycache__/run.cpython-37.pyc')"
      ]
     },
     "execution_count": 9,
     "metadata": {},
     "output_type": "execute_result"
    }
   ],
   "source": [
    "m.cfile"
   ]
  },
  {
   "cell_type": "code",
   "execution_count": 10,
   "metadata": {},
   "outputs": [
    {
     "data": {
      "text/plain": [
       "<_frozen_importlib_external.SourceFileLoader at 0x7f183aefe8d0>"
      ]
     },
     "execution_count": 10,
     "metadata": {},
     "output_type": "execute_result"
    }
   ],
   "source": [
    "m.loader"
   ]
  },
  {
   "cell_type": "code",
   "execution_count": 11,
   "metadata": {},
   "outputs": [
    {
     "data": {
      "text/plain": [
       "{'mtime': 1545937000.0097356, 'size': 234}"
      ]
     },
     "execution_count": 11,
     "metadata": {},
     "output_type": "execute_result"
    }
   ],
   "source": [
    "m.source_stats"
   ]
  },
  {
   "cell_type": "code",
   "execution_count": 12,
   "metadata": {},
   "outputs": [
    {
     "data": {
      "text/plain": [
       "33188"
      ]
     },
     "execution_count": 12,
     "metadata": {},
     "output_type": "execute_result"
    }
   ],
   "source": [
    "m.mode"
   ]
  },
  {
   "cell_type": "code",
   "execution_count": 13,
   "metadata": {},
   "outputs": [
    {
     "data": {
      "text/plain": [
       "LocIndex(ast_class='BinOp', lineno=6, col_offset=18, op_type=<class '_ast.Sub'>)"
      ]
     },
     "execution_count": 13,
     "metadata": {},
     "output_type": "execute_result"
    }
   ],
   "source": [
    "m.src_idx"
   ]
  },
  {
   "cell_type": "code",
   "execution_count": 14,
   "metadata": {},
   "outputs": [
    {
     "data": {
      "text/plain": [
       "_ast.Add"
      ]
     },
     "execution_count": 14,
     "metadata": {},
     "output_type": "execute_result"
    }
   ],
   "source": [
    "m.mutation"
   ]
  },
  {
   "cell_type": "code",
   "execution_count": 15,
   "metadata": {},
   "outputs": [
    {
     "name": "stdout",
     "output_type": "stream",
     "text": [
      "OrderedDict([('mutant_code',\n",
      "              <code object <module> at 0x7f183af60d20, file \"/home/zassoc/Github/m/firstmodule/run.py\", line 1>),\n",
      "             ('src_file',\n",
      "              PosixPath('/home/zassoc/Github/m/firstmodule/run.py')),\n",
      "             ('cfile',\n",
      "              PosixPath('/home/zassoc/Github/m/firstmodule/__pycache__/run.cpython-37.pyc')),\n",
      "             ('loader',\n",
      "              <_frozen_importlib_external.SourceFileLoader object at 0x7f183aefe8d0>),\n",
      "             ('source_stats', {'mtime': 1545937000.0097356, 'size': 234}),\n",
      "             ('mode', 33188),\n",
      "             ('src_idx',\n",
      "              LocIndex(ast_class='BinOp', lineno=6, col_offset=18, op_type=<class '_ast.Sub'>)),\n",
      "             ('mutation', <class '_ast.Add'>)])\n"
     ]
    }
   ],
   "source": [
    "pprint(m._asdict())"
   ]
  },
  {
   "cell_type": "code",
   "execution_count": null,
   "metadata": {},
   "outputs": [],
   "source": []
  }
 ],
 "metadata": {
  "kernelspec": {
   "display_name": "Python 3",
   "language": "python",
   "name": "python3"
  },
  "language_info": {
   "codemirror_mode": {
    "name": "ipython",
    "version": 3
   },
   "file_extension": ".py",
   "mimetype": "text/x-python",
   "name": "python",
   "nbconvert_exporter": "python",
   "pygments_lexer": "ipython3",
   "version": "3.7.1"
  }
 },
 "nbformat": 4,
 "nbformat_minor": 2
}
